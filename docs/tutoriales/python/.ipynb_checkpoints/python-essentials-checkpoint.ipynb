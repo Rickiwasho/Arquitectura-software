{
 "cells": [
  {
   "cell_type": "markdown",
   "metadata": {},
   "source": [
    "# Python essentials \n",
    "_made by: Ricardo Coronado_"
   ]
  },
  {
   "cell_type": "markdown",
   "metadata": {},
   "source": [
    "## 1. Python basics\n",
    "\n",
    "### 1.1 Functions  \n",
    "\n",
    "Functions are like a mini-program inside your program. The main point of functions is to get rid of duplicate code.  \n",
    "- The def statement defines a function.  \n",
    "- The input to functions are arguments.  \n",
    "- The output is the return value.  \n",
    "- The parameters are the variables in between the function's parentheses in the def statement.  \n",
    "- The return value is specified using the return statement.   \n",
    "\n",
    "Every function has a return value. If your function doesn't have a return statement, the default value is None.  \n",
    "Keyword arguments to functions are usually for optional arguments. The print() function has keyword arguments end and sep."
   ]
  },
  {
   "cell_type": "code",
   "execution_count": 1,
   "metadata": {},
   "outputs": [
    {
     "name": "stdout",
     "output_type": "stream",
     "text": [
      "the number is: 9\n"
     ]
    }
   ],
   "source": [
    "import random\n",
    "def randomGenerator():\n",
    "    x = random.randint(1, 10)\n",
    "    return x\n",
    "\n",
    "print(\"the number is: \" + str(randomGenerator()))"
   ]
  },
  {
   "cell_type": "markdown",
   "metadata": {},
   "source": [
    "### 1.2 Global and local scope  \n",
    "- A scope can be thought of as an area of the source code, and as a constainer of variables.  \n",
    "- The global scope is code outside of all functions.  Variables assigned here are global variables.  \n",
    "- Each function's code is in its own local scope. Variables assigned here are local variables.  \n",
    "- Code in the global scope cannot use any local variables.  \n",
    "- Code in a function's local scope cannot use variables in any another function's local scope.  \n",
    "- if there's an assignment statement for a variable in a function, that is a local variable. \n",
    "\n"
   ]
  },
  {
   "cell_type": "code",
   "execution_count": 2,
   "metadata": {},
   "outputs": [
    {
     "name": "stdout",
     "output_type": "stream",
     "text": [
      "10\n",
      "110\n"
     ]
    },
    {
     "ename": "NameError",
     "evalue": "name 'var2' is not defined",
     "output_type": "error",
     "traceback": [
      "\u001b[0;31m---------------------------------------------------------------------------\u001b[0m",
      "\u001b[0;31mNameError\u001b[0m                                 Traceback (most recent call last)",
      "\u001b[0;32m<ipython-input-2-90b290ad9a9a>\u001b[0m in \u001b[0;36m<module>\u001b[0;34m\u001b[0m\n\u001b[1;32m      8\u001b[0m \u001b[0mprint\u001b[0m\u001b[0;34m(\u001b[0m\u001b[0mvar1\u001b[0m\u001b[0;34m)\u001b[0m\u001b[0;34m\u001b[0m\u001b[0;34m\u001b[0m\u001b[0m\n\u001b[1;32m      9\u001b[0m \u001b[0mprint\u001b[0m\u001b[0;34m(\u001b[0m\u001b[0mvar1\u001b[0m\u001b[0;34m+\u001b[0m\u001b[0mvar3\u001b[0m\u001b[0;34m)\u001b[0m\u001b[0;34m\u001b[0m\u001b[0;34m\u001b[0m\u001b[0m\n\u001b[0;32m---> 10\u001b[0;31m \u001b[0mprint\u001b[0m\u001b[0;34m(\u001b[0m\u001b[0mvar2\u001b[0m\u001b[0;34m)\u001b[0m\u001b[0;34m\u001b[0m\u001b[0;34m\u001b[0m\u001b[0m\n\u001b[0m",
      "\u001b[0;31mNameError\u001b[0m: name 'var2' is not defined"
     ]
    }
   ],
   "source": [
    "var1 = 10 #global variable\n",
    "def funct():\n",
    "    var2 = 20 #local variable\n",
    "    global var3 \n",
    "    var3= 100\n",
    "    \n",
    "funct()\n",
    "print(var1)\n",
    "print(var1+var3)\n",
    "print(var2)"
   ]
  },
  {
   "cell_type": "markdown",
   "metadata": {},
   "source": [
    "### 1.3 Try and Except statements  \n",
    "- A divide-by-zero error happens when python divides a number by zero.  \n",
    "- Errors cause the program to crash.  \n",
    "- An error that happens inside a try block will cause code in the except block to execute. That code can handle the error or display a message to the user so that the program can keep going."
   ]
  },
  {
   "cell_type": "code",
   "execution_count": null,
   "metadata": {},
   "outputs": [],
   "source": [
    "def div42by(number):\n",
    "    try:\n",
    "        return 42/number\n",
    "    except:\n",
    "        print(\"ERROR: You tried to divide by zero. \")\n",
    "print(div42by(10))\n",
    "print(div42by(90))\n",
    "print(div42by(0))\n",
    "print(div42by(1))"
   ]
  },
  {
   "cell_type": "markdown",
   "metadata": {},
   "source": [
    "EXERCISE 1: Writing a 'Guess the number' program."
   ]
  },
  {
   "cell_type": "code",
   "execution_count": null,
   "metadata": {},
   "outputs": [],
   "source": [
    "# this is a comment section. Let's talk! okno. bye.\n",
    "import random\n",
    "num = input('Give me a number mayor than 0 and lower than 100: ')\n",
    "while not num.isdigit():\n",
    "    num = input('Error. Please input a valid number: ')\n",
    "randomize = random.randint(0, 100)\n",
    "question = True\n",
    "while(question):\n",
    "    question = input('Is ' + str(randomize) + ' your number?')\n",
    "    if(question == True):\n",
    "        print('I am always right :) ')\n",
    "    else:\n",
    "        whom = input('Ok.. Is lower or higher?')\n",
    "        if(whom == 'lower'):\n",
    "            randomize1 = random.randint(0, randomize-1)\n",
    "            q2 = input('Is ' + str(randomize1)+ ' your number?')\n",
    "            if(q2 != True):\n",
    "                print('I know. I am playing with you.')\n",
    "                print('is '+ str(num) + ' your number')\n",
    "                question = False\n",
    "print('I am the best, you know?')\n",
    "    "
   ]
  },
  {
   "cell_type": "markdown",
   "metadata": {},
   "source": [
    "### 1.4 List data type\n",
    "First at all, you need to know that Python does not have native array data structure, but it has the 'list' which is mutable, that means we can modify the content present within the list.  \n",
    "List can store data of heterogeneous datatypes. It's like a bag, inside of it you can store whatever you like.\n",
    "\n",
    "#### Most useful list methods  \n",
    "- **list1.insert(position, element)**,  insert an element in  position\n",
    "- **list1.append(element)**,  insert an element in the top of the list\n",
    "- **list1.remove(element)**, remove an element. if the element doesn't exist in list then return a ValueError. You MUST use try-except.\n",
    "- **list1.extends(lista2)**, insert in the top of the list1 all the elements of list2\n",
    "- **list1.count(element)**, return the number of appearances of the element in list\n",
    "- **list1.index(element)**, obtain the position of the element in list. if the element doesn't exist in list then return a ValueError(use try-except)\n",
    "- **list.copy()**, this make a copy of a list\n",
    "- **list.sort()**, this returns the sorted list data in ascending order\n",
    "- **list.reverse()**, reverse the items in any list. useful for sorting lit in descending order.\n",
    "- **list.clear()**, remove all elements in list. useful for re-assigning the values of a values of a list by removing the previous items \n",
    "\n",
    "\n"
   ]
  },
  {
   "cell_type": "code",
   "execution_count": null,
   "metadata": {},
   "outputs": [],
   "source": [
    "bag = ['apple', 1, True, \"LOL\",\"last_item\"]\n",
    "for x in range(0,len(bag)):\n",
    "    print(bag[x])\n",
    "print(bag[-1])\n",
    "print(bag[-2])"
   ]
  },
  {
   "cell_type": "markdown",
   "metadata": {},
   "source": [
    "### 1.5 Dictionary data type\n",
    "A dictionary is a collection of many values but unlike list indexes, dictionaries can use many different data types not just integers. Indexes for dictionaries are called keys and its associated to a value called key value. \n",
    "- Dictionaries are mutable. Variables hold references to dictionary values, not the dictionary value itself.  \n",
    "- Dictionaries are unordered. There is no \"first\" key-value pair in a dictionary.  \n",
    "- The keys(), values(), and items() methods will return list-like values of a dictionary's keys, vaues, and both keys and values, respectively.   \n",
    "The get() method can return a default value if a key doesn't exist.   \n",
    "The setdefault() method can set a value if a key doesn't exist.   \n",
    "The pprint module's pprint() \"pretty print\" function can display a dictionary value cleanly. The pformat() function returns a string value of this output. "
   ]
  },
  {
   "cell_type": "code",
   "execution_count": null,
   "metadata": {},
   "outputs": [],
   "source": [
    "myCat = {'size': 'small', 'color': 'black', 'disposition': 'loud'}\n",
    "print(myCat['color'])\n",
    "'color' in myCat\n",
    "#if('color' in myCat != False): print('My cat has the color:'+ myCat['color'])\n",
    "#if('color' not in myCat != True): print('wtf my cat does not have color')\n",
    "print(list(myCat.keys()))\n",
    "print(list(myCat.values()))\n",
    "print(list(myCat.items()))\n",
    "print('my cat color is: ' + myCat.get('color', 'does not have color :('))\n"
   ]
  },
  {
   "cell_type": "markdown",
   "metadata": {},
   "source": [
    "EXERCISE 2: counting the characters of string"
   ]
  },
  {
   "cell_type": "code",
   "execution_count": null,
   "metadata": {},
   "outputs": [],
   "source": [
    "import pprint\n",
    "longtext = 'holacomoestaijiji'\n",
    "count = {}\n",
    "for char in longtext.upper():\n",
    "    count.setdefault(char,0)\n",
    "    count[char] = count[char] + 1\n",
    "pprint.pprint(list(count.items()))\n",
    "    "
   ]
  },
  {
   "cell_type": "markdown",
   "metadata": {},
   "source": [
    "### 1.6 Strings\n",
    "Escape character:   \n",
    "- \\' = Single quote  \n",
    "- \\\" = Double quote  \n",
    "- \\t = tab  \n",
    "- \\n = Line break  \n",
    "- \\\\ = Backlash  \n",
    "\n",
    "\n",
    "     \n",
    "Also, \"\"\" any_text \"\"\" is useful.   "
   ]
  },
  {
   "cell_type": "code",
   "execution_count": null,
   "metadata": {},
   "outputs": [],
   "source": [
    "print(\"This is a text message: 'hello  \\\" wut \\\"'\")\n",
    "r\"That's not my cat\\'s' name\"\n",
    "print(\"\"\"h\n",
    "o\n",
    "l\n",
    "a\"\"\")"
   ]
  },
  {
   "cell_type": "markdown",
   "metadata": {},
   "source": [
    "##### Useful methods\n",
    "- text.upper() or text.lower() = all chars to upper or lower \n",
    "- text.isalpha() = letters only\n",
    "- text.isalnum() = letters and numbers only\n",
    "- text.isdecimal() = numbers only\n",
    "- text.isspace() = whitespace only\n",
    "- text.istitle() = string who begins with cap char and all other chars are noncap\n",
    "\n"
   ]
  },
  {
   "cell_type": "code",
   "execution_count": null,
   "metadata": {
    "scrolled": true
   },
   "outputs": [],
   "source": [
    "text = \"heLlO World\"\n",
    "print(text.upper())\n",
    "print(text.lower())\n",
    "us = ['cat','mouse','dog']\n",
    "print(' and '.join(us))"
   ]
  },
  {
   "cell_type": "markdown",
   "metadata": {},
   "source": [
    "String formatting"
   ]
  },
  {
   "cell_type": "code",
   "execution_count": null,
   "metadata": {
    "scrolled": true
   },
   "outputs": [],
   "source": [
    "name = 'John'\n",
    "place = 'St. Clement'\n",
    "time = '10'\n",
    "food = 'avocado'\n",
    "print('Hello %s, you are invited to a party in %s street at %s pm. Bring %s.' % (name,place, time, food))"
   ]
  },
  {
   "cell_type": "markdown",
   "metadata": {},
   "source": [
    "### 1.7 Regular Expressions\n",
    "\n",
    "- Regular expressions are mini-language for specifying text patters. Writing code to do pattern matching without regular expressions is a huge pain.\n",
    "- Regex strings often use \\ backslashes (like \\d), so they are often raw strings: r'\\d'.   \n",
    "- Import the re module first.   \n",
    "- Call the re.compile() function to create a regex object.   \n",
    "- Call the regex object's search() method to create a match object.   \n",
    "- Call the match object's group() method to get the matched string.   \n",
    "- \\d is the regex for a numeric digit character.   \n"
   ]
  },
  {
   "cell_type": "code",
   "execution_count": null,
   "metadata": {},
   "outputs": [],
   "source": [
    "# We want a code to identify if the text is a phone number\n",
    "def isPhoneNumber(text): #412-123-1231\n",
    "    if(len(text)!= 12): \n",
    "        return False\n",
    "    for i in range(0,3):\n",
    "        if not text[i].isdecimal(): \n",
    "            return False\n",
    "    if(text[3] != '-'): \n",
    "        return False\n",
    "    for i in range(4,7):\n",
    "        if not text[i].isdecimal():\n",
    "            return False\n",
    "    if(text[7]!= '-'):\n",
    "        return False\n",
    "    for i in range(8, 12):\n",
    "        if not text[i].isdecimal():\n",
    "            return False\n",
    "    return True\n",
    "\n",
    "number = '412-123-1231'\n",
    "if(isPhoneNumber(number) == True):\n",
    "    print('Wow. Thanks!')\n",
    "else: print('error')"
   ]
  },
  {
   "cell_type": "markdown",
   "metadata": {},
   "source": [
    "This is a lot of code. Here regular expressions can be useful."
   ]
  },
  {
   "cell_type": "code",
   "execution_count": null,
   "metadata": {},
   "outputs": [],
   "source": [
    "import re\n",
    "message = 'Call me 128-123-9999 tomorrow, or at 111-222-3333'\n",
    "phoneNumRegex = re.compile(r'\\d\\d\\d-\\d\\d\\d-\\d\\d\\d\\d')\n",
    "print(phoneNumRegex.findall(message))"
   ]
  },
  {
   "cell_type": "code",
   "execution_count": null,
   "metadata": {},
   "outputs": [],
   "source": []
  },
  {
   "cell_type": "markdown",
   "metadata": {},
   "source": [
    "libraries like: scipy, matplotlib, numpy, pandas, django?? then ML->DL\n"
   ]
  }
 ],
 "metadata": {
  "kernelspec": {
   "display_name": "Python 3",
   "language": "python",
   "name": "python3"
  },
  "language_info": {
   "codemirror_mode": {
    "name": "ipython",
    "version": 3
   },
   "file_extension": ".py",
   "mimetype": "text/x-python",
   "name": "python",
   "nbconvert_exporter": "python",
   "pygments_lexer": "ipython3",
   "version": "3.8.5"
  }
 },
 "nbformat": 4,
 "nbformat_minor": 4
}
