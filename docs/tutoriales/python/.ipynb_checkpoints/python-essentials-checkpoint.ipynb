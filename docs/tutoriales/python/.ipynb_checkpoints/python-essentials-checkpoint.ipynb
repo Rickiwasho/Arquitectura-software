{
 "cells": [
  {
   "cell_type": "markdown",
   "metadata": {},
   "source": [
    "# Python essentials \n"
   ]
  },
  {
   "cell_type": "markdown",
   "metadata": {},
   "source": [
    "## 1. Python\n",
    "\n",
    "### 1.1 Funciones  \n",
    "\n",
    "Las funciones son como mini programas dentro de un programa. Su objetivo es combatir la duplicación de código y granularlo en pequeñas porciones.\n",
    "\n",
    "- El string def define la función.\n",
    "- La entrada de las funciones son los argumentos.\n",
    "- La salida de una función son los valores de retorno.\n",
    "- Los parámetros son las variables dentro de los paréntesis en la declaración de la función.\n",
    "- El valor de retorno es especificado usando la sentencia return.\n",
    "\n",
    "Cada función tiene un valor de retorno. Si tu función no tiene una sentencia de retorno, el valor a retornar por defecto es None. "
   ]
  },
  {
   "cell_type": "code",
   "execution_count": 1,
   "metadata": {},
   "outputs": [
    {
     "name": "stdout",
     "output_type": "stream",
     "text": [
      "the number is: 3\n"
     ]
    }
   ],
   "source": [
    "import random\n",
    "def randomGenerator():\n",
    "    x = random.randint(1, 10)\n",
    "    return x\n",
    "\n",
    "print(\"the number is: \" + str(randomGenerator()))"
   ]
  },
  {
   "cell_type": "markdown",
   "metadata": {},
   "source": [
    "### 1.2 Alcance global y local  \n",
    "- El alcance puede entenderse como cierta área en el código que contiene variables.\n",
    "- El alcance global se entiende como el área fuera de las funciones. Las funciones asignadas en dicha área son llamadas variables globales. \n",
    "- Cada función tiene su propio alcance, a esto se entiende por alcance local. Las variables definidas dentro de las funciones se conocen como variables locales.\n",
    "- El código de alcance global **no** puede usar variables locales.\n",
    "- El código en una función con alcance local no puede usar variables de otra función con alcance local.\n",
    "- Si hay una sentencia de declaración para una variable en una función, esta siempre será de alcance local.\n",
    "\n"
   ]
  },
  {
   "cell_type": "code",
   "execution_count": 2,
   "metadata": {},
   "outputs": [
    {
     "name": "stdout",
     "output_type": "stream",
     "text": [
      "10\n",
      "110\n"
     ]
    }
   ],
   "source": [
    "var1 = 10 #global variable\n",
    "def funct():\n",
    "    var2 = 20 #local variable\n",
    "    global var3 \n",
    "    var3= 100\n",
    "    \n",
    "funct()\n",
    "print(var1)\n",
    "print(var1+var3)\n",
    "#print(var2) imprime error "
   ]
  },
  {
   "cell_type": "markdown",
   "metadata": {},
   "source": [
    "### 1.3 Sentencias Try y Except \n",
    "- El error divide-by-zero ocurre cuando python divide un número por cero.\n",
    "- Los errores hacen que el programa se caiga.\n",
    "- Un error que ocurre dentro de un bloque try causa que se ejecute el código en el bloque except. Ese código puede manejar el error o entregar un mensaje al usuario, de esta forma el programa puede seguir funcionando."
   ]
  },
  {
   "cell_type": "code",
   "execution_count": 3,
   "metadata": {},
   "outputs": [
    {
     "name": "stdout",
     "output_type": "stream",
     "text": [
      "4.2\n",
      "0.4666666666666667\n",
      "ERROR: You tried to divide by zero. \n",
      "None\n",
      "42.0\n"
     ]
    }
   ],
   "source": [
    "def div42by(number):\n",
    "    try:\n",
    "        return 42/number\n",
    "    except:\n",
    "        print(\"ERROR: You tried to divide by zero. \")\n",
    "print(div42by(10))\n",
    "print(div42by(90))\n",
    "print(div42by(0))\n",
    "print(div42by(1))"
   ]
  },
  {
   "cell_type": "markdown",
   "metadata": {},
   "source": [
    "Ejercicio: Escribir un programa 'Adivina el número'."
   ]
  },
  {
   "cell_type": "code",
   "execution_count": 14,
   "metadata": {},
   "outputs": [
    {
     "name": "stdout",
     "output_type": "stream",
     "text": [
      "Give me a number mayor than 0 and lower than 100: 5\n",
      "Is 97 your number?true\n",
      "Ok.. Is lower or higher?lower\n",
      "Is 28 your number?true\n",
      "I know. I am playing with you.\n",
      "is 5 your number\n",
      "im the best\n"
     ]
    }
   ],
   "source": [
    "# this is a comment section. Let's talk! okno. bye.\n",
    "import random\n",
    "num = input('Give me a number mayor than 0 and lower than 100: ')\n",
    "while not num.isdigit():\n",
    "    num = input('Error. Please input a valid number: ')\n",
    "randomize = random.randint(0, 100)\n",
    "question = True\n",
    "while(question):\n",
    "    question = input('Is ' + str(randomize) + ' your number?')\n",
    "    if(question == True):\n",
    "        print('I am always right :) ')\n",
    "    else:\n",
    "        whom = input('Ok.. Is lower or higher?')\n",
    "        if(whom == 'lower'):\n",
    "            randomize1 = random.randint(0, randomize-1)\n",
    "            q2 = input('Is ' + str(randomize1)+ ' your number?')\n",
    "            if(q2 != True):\n",
    "                print('I know. I am playing with you.')\n",
    "                print('is '+ str(num) + ' your number')\n",
    "                question = False\n",
    "print('im the best')\n",
    "    "
   ]
  },
  {
   "cell_type": "markdown",
   "metadata": {},
   "source": [
    "### 1.4 Tipo de dato: List\n",
    "Primero que todo, debes saber que en python los arreglos no son una estructura de datos nativa. Python posee 'list' o listas que son mutables, esto significa que son capaces de modificarse, cambiando el contenido que almacenan. \n",
    "Las listas pueden almacenar información de distinto tipo. Es como una mochila, dentro de esta puedes almacenar lo que quieras. \n",
    "\n",
    "#### los métodos más útiles para interactuar con listas: \n",
    "- **list1.insert(position, element)**,  insert an element in  position\n",
    "- **list1.append(element)**,  insert an element in the top of the list\n",
    "- **list1.remove(element)**, remove an element. if the element doesn't exist in list then return a ValueError. You MUST use try-except.\n",
    "- **list1.extends(lista2)**, insert in the top of the list1 all the elements of list2\n",
    "- **list1.count(element)**, return the number of appearances of the element in list\n",
    "- **list1.index(element)**, obtain the position of the element in list. if the element doesn't exist in list then return a ValueError(use try-except)\n",
    "- **list.copy()**, this make a copy of a list\n",
    "- **list.sort()**, this returns the sorted list data in ascending order\n",
    "- **list.reverse()**, reverse the items in any list. useful for sorting lit in descending order.\n",
    "- **list.clear()**, remove all elements in list. useful for re-assigning the values of a values of a list by removing the previous items \n",
    "\n",
    "\n"
   ]
  },
  {
   "cell_type": "code",
   "execution_count": 5,
   "metadata": {},
   "outputs": [
    {
     "name": "stdout",
     "output_type": "stream",
     "text": [
      "apple\n",
      "1\n",
      "True\n",
      "LOL\n",
      "last_item\n",
      "last_item\n",
      "LOL\n"
     ]
    }
   ],
   "source": [
    "bag = ['apple', 1, True, \"LOL\",\"last_item\"]\n",
    "for x in range(0,len(bag)):\n",
    "    print(bag[x])\n",
    "print(bag[-1])\n",
    "print(bag[-2])"
   ]
  },
  {
   "cell_type": "markdown",
   "metadata": {},
   "source": [
    "### 1.5 Tipo de dato: Diccionario\n",
    "Un diccionario es una colección de muchos valores, pero a diferencia de los índices de las listas, los diccionarios pueden usar distintos tipos de datos, no solo enteros. Los índices en los diccionarios son llamados llaves y están asociados a un valor llamado valor-clave.\n",
    "- Los diccionarios son mutables. Las variables tienen referencias a los valores de los diccionarios, no al valor del diccionario.\n",
    "- Los diccionarios no tienen orden, no tienen un primer valor-clave."
   ]
  },
  {
   "cell_type": "code",
   "execution_count": 6,
   "metadata": {},
   "outputs": [
    {
     "name": "stdout",
     "output_type": "stream",
     "text": [
      "black\n",
      "['size', 'color', 'disposition']\n",
      "['small', 'black', 'loud']\n",
      "[('size', 'small'), ('color', 'black'), ('disposition', 'loud')]\n",
      "my cat color is: black\n"
     ]
    }
   ],
   "source": [
    "myCat = {'size': 'small', 'color': 'black', 'disposition': 'loud'}\n",
    "print(myCat['color'])\n",
    "'color' in myCat\n",
    "#if('color' in myCat != False): print('My cat has the color:'+ myCat['color'])\n",
    "#if('color' not in myCat != True): print('wtf my cat does not have color')\n",
    "print(list(myCat.keys()))\n",
    "print(list(myCat.values()))\n",
    "print(list(myCat.items()))\n",
    "print('my cat color is: ' + myCat.get('color', 'does not have color :('))\n"
   ]
  },
  {
   "cell_type": "markdown",
   "metadata": {},
   "source": [
    "EXERCISE 2: counting the characters of string"
   ]
  },
  {
   "cell_type": "code",
   "execution_count": 7,
   "metadata": {},
   "outputs": [
    {
     "name": "stdout",
     "output_type": "stream",
     "text": [
      "[('H', 1),\n",
      " ('O', 3),\n",
      " ('L', 1),\n",
      " ('A', 2),\n",
      " ('C', 1),\n",
      " ('M', 1),\n",
      " ('E', 1),\n",
      " ('S', 1),\n",
      " ('T', 1),\n",
      " ('I', 3),\n",
      " ('J', 2)]\n"
     ]
    }
   ],
   "source": [
    "import pprint\n",
    "longtext = 'holacomoestaijiji'\n",
    "count = {}\n",
    "for char in longtext.upper():\n",
    "    count.setdefault(char,0)\n",
    "    count[char] = count[char] + 1\n",
    "pprint.pprint(list(count.items()))\n",
    "    "
   ]
  },
  {
   "cell_type": "markdown",
   "metadata": {},
   "source": [
    "The pprint module's pprint() \"pretty print\" function can display a dictionary value cleanly. The pformat() function returns a string value of this output. "
   ]
  },
  {
   "cell_type": "markdown",
   "metadata": {},
   "source": [
    "### 1.6 Strings\n",
    "Caracteres de escape:   \n",
    "- \\' = Single quote  \n",
    "- \\\" = Double quote  \n",
    "- \\t = tab  \n",
    "- \\n = Line break  \n",
    "- \\\\ = Backlash  \n",
    "\n",
    "\n",
    "     \n",
    "también, \"\"\" any_text \"\"\" es útil.   "
   ]
  },
  {
   "cell_type": "code",
   "execution_count": 8,
   "metadata": {},
   "outputs": [
    {
     "name": "stdout",
     "output_type": "stream",
     "text": [
      "This is a text message: 'hello  \" wut \"'\n",
      "h\n",
      "o\n",
      "l\n",
      "a\n"
     ]
    }
   ],
   "source": [
    "print(\"This is a text message: 'hello  \\\" wut \\\"'\")\n",
    "r\"That's not my cat\\'s' name\"\n",
    "print(\"\"\"h\n",
    "o\n",
    "l\n",
    "a\"\"\")"
   ]
  },
  {
   "cell_type": "markdown",
   "metadata": {},
   "source": [
    "##### Métodos útiles \n",
    "- text.upper() or text.lower() = todos los caracteres se transforman a mayús o minús \n",
    "- text.isalpha() = sólo letras\n",
    "- text.isalnum() = sólo números o letras\n",
    "- text.isdecimal() = sólo numeros\n",
    "- text.isspace() = sólo espacios\n",
    "- text.istitle() = string que comienzan con mayús y  el resto es minús\n",
    "\n"
   ]
  },
  {
   "cell_type": "code",
   "execution_count": 9,
   "metadata": {
    "scrolled": true
   },
   "outputs": [
    {
     "name": "stdout",
     "output_type": "stream",
     "text": [
      "HELLO WORLD\n",
      "hello world\n",
      "cat and mouse and dog\n"
     ]
    }
   ],
   "source": [
    "text = \"heLlO World\"\n",
    "print(text.upper())\n",
    "print(text.lower())\n",
    "us = ['cat','mouse','dog']\n",
    "print(' and '.join(us))"
   ]
  },
  {
   "cell_type": "markdown",
   "metadata": {},
   "source": [
    "String formatting"
   ]
  },
  {
   "cell_type": "code",
   "execution_count": 10,
   "metadata": {
    "scrolled": true
   },
   "outputs": [
    {
     "name": "stdout",
     "output_type": "stream",
     "text": [
      "Hello John, you are invited to a party in St. Clement street at 10 pm. Bring avocado.\n"
     ]
    }
   ],
   "source": [
    "name = 'John'\n",
    "place = 'St. Clement'\n",
    "time = '10'\n",
    "food = 'avocado'\n",
    "print('Hello %s, you are invited to a party in %s street at %s pm. Bring %s.' % (name,place, time, food))"
   ]
  },
  {
   "cell_type": "markdown",
   "metadata": {},
   "source": [
    "### 1.7 Expresiones regulares\n",
    "\n",
    "- Las expresiones regulares son como mini lengiajes para especificar patrones de texto. Escribir código para hacer reconocimento de patrones de texto puede resultar bastante tedioso.\n",
    "- Strings Regex usan \\ backlashes (e.g. \\d), \n",
    "- Regex strings often use \\ backslashes (like \\d), así que a menudo son strings del tipo: r'\\d'.   \n",
    "- Para emplear Regex, es necesario importar re.   \n",
    "- Debes llamar a la función re.compile() para crear un objeto regex.\n",
    "- \\d is the regex for a numeric digit character.   \n"
   ]
  },
  {
   "cell_type": "code",
   "execution_count": 11,
   "metadata": {},
   "outputs": [
    {
     "name": "stdout",
     "output_type": "stream",
     "text": [
      "Wow. Thanks!\n"
     ]
    }
   ],
   "source": [
    "# Queremos un código para identificar si el texto es un número de telefono\n",
    "def isPhoneNumber(text): #412-123-1231\n",
    "    if(len(text)!= 12): \n",
    "        return False\n",
    "    for i in range(0,3):\n",
    "        if not text[i].isdecimal(): \n",
    "            return False\n",
    "    if(text[3] != '-'): \n",
    "        return False\n",
    "    for i in range(4,7):\n",
    "        if not text[i].isdecimal():\n",
    "            return False\n",
    "    if(text[7]!= '-'):\n",
    "        return False\n",
    "    for i in range(8, 12):\n",
    "        if not text[i].isdecimal():\n",
    "            return False\n",
    "    return True\n",
    "\n",
    "number = '412-123-1231'\n",
    "if(isPhoneNumber(number) == True):\n",
    "    print('Wow. Thanks!')\n",
    "else: print('error')"
   ]
  },
  {
   "cell_type": "markdown",
   "metadata": {},
   "source": [
    "Esto es equivalente a:"
   ]
  },
  {
   "cell_type": "code",
   "execution_count": 12,
   "metadata": {},
   "outputs": [
    {
     "name": "stdout",
     "output_type": "stream",
     "text": [
      "['128-123-9999', '111-222-3333']\n"
     ]
    }
   ],
   "source": [
    "import re\n",
    "message = 'Call me 128-123-9999 tomorrow, or at 111-222-3333'\n",
    "phoneNumRegex = re.compile(r'\\d\\d\\d-\\d\\d\\d-\\d\\d\\d\\d')\n",
    "#mo = phoneNumRegex.search(message) //obtiene la primera ocurrencia y almacena en mo\n",
    "print(phoneNumRegex.findall(message)) # Con findall encontramos todas las ocurrencias en el texto"
   ]
  },
  {
   "cell_type": "markdown",
   "metadata": {},
   "source": [
    "Es posible **agrupar** los elementos que componen a la expresión regular, de esta forma, podremos obtener partes específicas. \n",
    "Para agrupar los elementos que componen la expresión regular utilizamos peréntesis, estos deberán rodear dichos grupos.    \n",
    "     \n",
    "Por ejemplo: r'(\\d\\d\\d\\d)-(\\d\\d\\d)-(\\d\\d\\d)', está conformado por 3 grupos. "
   ]
  },
  {
   "cell_type": "code",
   "execution_count": 15,
   "metadata": {},
   "outputs": [
    {
     "data": {
      "text/plain": [
       "'9999'"
      ]
     },
     "execution_count": 15,
     "metadata": {},
     "output_type": "execute_result"
    }
   ],
   "source": [
    "phoneNumRegex = re.compile(r'(\\d\\d\\d)-(\\d\\d\\d)-(\\d\\d\\d\\d)')\n",
    "mo = phoneNumRegex.search('Call me 128-123-9999')\n",
    "mo.group(3) # despliega el prupo 3 compuesto por 9999"
   ]
  },
  {
   "cell_type": "markdown",
   "metadata": {},
   "source": [
    "El carácter **|**, conocido como pipe, permite localizar las posibles ocurrencias en un string dado un grupo de posibles candidatos.   "
   ]
  },
  {
   "cell_type": "code",
   "execution_count": 36,
   "metadata": {},
   "outputs": [
    {
     "data": {
      "text/plain": [
       "'sandia'"
      ]
     },
     "execution_count": 36,
     "metadata": {},
     "output_type": "execute_result"
    }
   ],
   "source": [
    "saRegex = re.compile(r'sa(ndia|bor|bado|lud|grado)')\n",
    "mo = saRegex.search(\"La sandia tiene un sabor sagrado\")\n",
    "#mo = saRegex.search(\"La naranja tiene un color pálido\")\n",
    "#mo == None\n",
    "mo.group()"
   ]
  },
  {
   "cell_type": "markdown",
   "metadata": {},
   "source": [
    "El carácter **?** en una expresión regular hace referencia a cero o una ocurrencia de un grupo, por ejemplo: "
   ]
  },
  {
   "cell_type": "code",
   "execution_count": null,
   "metadata": {},
   "outputs": [],
   "source": []
  },
  {
   "cell_type": "markdown",
   "metadata": {},
   "source": [
    "libraries like: scipy, matplotlib, numpy, pandas, django?? then ML->DL\n"
   ]
  }
 ],
 "metadata": {
  "kernelspec": {
   "display_name": "Python 3",
   "language": "python",
   "name": "python3"
  },
  "language_info": {
   "codemirror_mode": {
    "name": "ipython",
    "version": 3
   },
   "file_extension": ".py",
   "mimetype": "text/x-python",
   "name": "python",
   "nbconvert_exporter": "python",
   "pygments_lexer": "ipython3",
   "version": "3.8.5"
  }
 },
 "nbformat": 4,
 "nbformat_minor": 4
}
