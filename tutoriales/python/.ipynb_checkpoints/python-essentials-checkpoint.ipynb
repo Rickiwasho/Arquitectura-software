{
 "cells": [
  {
   "cell_type": "markdown",
   "metadata": {},
   "source": [
    "# Python essentials \n"
   ]
  },
  {
   "cell_type": "markdown",
   "metadata": {},
   "source": [
    "## 1. Python básico\n",
    "\n",
    "### Funciones  \n",
    "\n",
    "Las funciones son como mini programas dentro de un programa. Su objetivo es combatir la duplicación de código y granularlo en pequeñas porciones.\n",
    "\n",
    "- El string def define la función.\n",
    "- La entrada de las funciones son los argumentos.\n",
    "- La salida de una función son los valores de retorno.\n",
    "- Los parámetros son las variables dentro de los paréntesis en la declaración de la función.\n",
    "- El valor de retorno es especificado usando la sentencia return.\n",
    "\n",
    "Cada función tiene un valor de retorno. Si tu función no tiene una sentencia de retorno, el valor a retornar por defecto es None. "
   ]
  },
  {
   "cell_type": "code",
   "execution_count": 1,
   "metadata": {},
   "outputs": [
    {
     "name": "stdout",
     "output_type": "stream",
     "text": [
      "the number is: 6\n"
     ]
    }
   ],
   "source": [
    "import random\n",
    "def randomGenerator():\n",
    "    x = random.randint(1, 10)\n",
    "    return x\n",
    "\n",
    "print(\"the number is: \" + str(randomGenerator()))"
   ]
  },
  {
   "cell_type": "markdown",
   "metadata": {},
   "source": [
    "### Alcance global y local  \n",
    "- El alcance puede entenderse como cierta área en el código que contiene variables.\n",
    "- El alcance global se entiende como el área fuera de las funciones. Las funciones asignadas en dicha área son llamadas variables globales. \n",
    "- Cada función tiene su propio alcance, a esto se entiende por alcance local. Las variables definidas dentro de las funciones se conocen como variables locales.\n",
    "- El código de alcance global **no** puede usar variables locales.\n",
    "- El código en una función con alcance local no puede usar variables de otra función con alcance local.\n",
    "- Si hay una sentencia de declaración para una variable en una función, esta siempre será de alcance local.\n",
    "\n"
   ]
  },
  {
   "cell_type": "code",
   "execution_count": 2,
   "metadata": {},
   "outputs": [
    {
     "name": "stdout",
     "output_type": "stream",
     "text": [
      "10\n",
      "110\n"
     ]
    }
   ],
   "source": [
    "var1 = 10 #global variable\n",
    "def funct():\n",
    "    var2 = 20 #local variable\n",
    "    global var3 \n",
    "    var3= 100\n",
    "    \n",
    "funct()\n",
    "print(var1)\n",
    "print(var1+var3)\n",
    "#print(var2) imprime error "
   ]
  },
  {
   "cell_type": "markdown",
   "metadata": {},
   "source": [
    "### Sentencias Try y Except \n",
    "- El error divide-by-zero ocurre cuando python divide un número por cero.\n",
    "- Los errores hacen que el programa se caiga.\n",
    "- Un error que ocurre dentro de un bloque try causa que se ejecute el código en el bloque except. Ese código puede manejar el error o entregar un mensaje al usuario, de esta forma el programa puede seguir funcionando."
   ]
  },
  {
   "cell_type": "code",
   "execution_count": 3,
   "metadata": {},
   "outputs": [
    {
     "name": "stdout",
     "output_type": "stream",
     "text": [
      "4.2\n",
      "0.4666666666666667\n",
      "ERROR: You tried to divide by zero. \n",
      "None\n",
      "42.0\n"
     ]
    }
   ],
   "source": [
    "def div42by(number):\n",
    "    try:\n",
    "        return 42/number\n",
    "    except:\n",
    "        print(\"ERROR: You tried to divide by zero. \")\n",
    "print(div42by(10))\n",
    "print(div42by(90))\n",
    "print(div42by(0))\n",
    "print(div42by(1))"
   ]
  },
  {
   "cell_type": "markdown",
   "metadata": {},
   "source": [
    "###  Tipo de dato: List\n",
    "Primero que todo, debes saber que en python los arreglos no son una estructura de datos nativa. Python posee 'list' o listas que son mutables, esto significa que son capaces de modificarse, cambiando el contenido que almacenan. \n",
    "Las listas pueden almacenar información de distinto tipo. Es como una mochila, dentro de esta puedes almacenar lo que quieras. \n",
    "\n",
    "#### los métodos más útiles para interactuar con listas: \n",
    "- **list1.insert(position, element)**,  insert an element in  position\n",
    "- **list1.append(element)**,  insert an element in the top of the list\n",
    "- **list1.remove(element)**, remove an element. if the element doesn't exist in list then return a ValueError. You MUST use try-except.\n",
    "- **list1.extends(lista2)**, insert in the top of the list1 all the elements of list2\n",
    "- **list1.count(element)**, return the number of appearances of the element in list\n",
    "- **list1.index(element)**, obtain the position of the element in list. if the element doesn't exist in list then return a ValueError(use try-except)\n",
    "- **list.copy()**, this make a copy of a list\n",
    "- **list.sort()**, this returns the sorted list data in ascending order\n",
    "- **list.reverse()**, reverse the items in any list. useful for sorting lit in descending order.\n",
    "- **list.clear()**, remove all elements in list. useful for re-assigning the values of a values of a list by removing the previous items \n",
    "\n",
    "\n"
   ]
  },
  {
   "cell_type": "code",
   "execution_count": 4,
   "metadata": {},
   "outputs": [
    {
     "name": "stdout",
     "output_type": "stream",
     "text": [
      "apple\n",
      "1\n",
      "True\n",
      "LOL\n",
      "last_item\n",
      "last_item\n",
      "LOL\n"
     ]
    }
   ],
   "source": [
    "bag = ['apple', 1, True, \"LOL\",\"last_item\"]\n",
    "for x in range(0,len(bag)):\n",
    "    print(bag[x])\n",
    "print(bag[-1])\n",
    "print(bag[-2])"
   ]
  },
  {
   "cell_type": "markdown",
   "metadata": {},
   "source": [
    "### Tipo de dato: Diccionario\n",
    "Un diccionario es una colección de muchos valores, pero a diferencia de los índices de las listas, los diccionarios pueden usar distintos tipos de datos, no solo enteros. Los índices en los diccionarios son llamados llaves y están asociados a un valor llamado valor-clave.\n",
    "- Los diccionarios son mutables. Las variables tienen referencias a los valores de los diccionarios, no al valor del diccionario.\n",
    "- Los diccionarios no tienen orden, no tienen un primer valor-clave."
   ]
  },
  {
   "cell_type": "code",
   "execution_count": 5,
   "metadata": {},
   "outputs": [
    {
     "name": "stdout",
     "output_type": "stream",
     "text": [
      "black\n",
      "['size', 'color', 'disposition']\n",
      "['small', 'black', 'loud']\n",
      "[('size', 'small'), ('color', 'black'), ('disposition', 'loud')]\n",
      "my cat color is: black\n"
     ]
    }
   ],
   "source": [
    "myCat = {'size': 'small', 'color': 'black', 'disposition': 'loud'}\n",
    "print(myCat['color'])\n",
    "'color' in myCat\n",
    "#if('color' in myCat != False): print('My cat has the color:'+ myCat['color'])\n",
    "#if('color' not in myCat != True): print('wtf my cat does not have color')\n",
    "print(list(myCat.keys()))\n",
    "print(list(myCat.values()))\n",
    "print(list(myCat.items()))\n",
    "print('my cat color is: ' + myCat.get('color', 'does not have color :('))\n"
   ]
  },
  {
   "cell_type": "markdown",
   "metadata": {},
   "source": [
    "EXERCISE: Counting the characters of string"
   ]
  },
  {
   "cell_type": "code",
   "execution_count": 6,
   "metadata": {},
   "outputs": [
    {
     "name": "stdout",
     "output_type": "stream",
     "text": [
      "[('H', 1),\n",
      " ('O', 3),\n",
      " ('L', 1),\n",
      " ('A', 2),\n",
      " ('C', 1),\n",
      " ('M', 1),\n",
      " ('E', 1),\n",
      " ('S', 1),\n",
      " ('T', 1),\n",
      " ('I', 3),\n",
      " ('J', 2)]\n"
     ]
    }
   ],
   "source": [
    "import pprint\n",
    "longtext = 'holacomoestaijiji'\n",
    "count = {}\n",
    "for char in longtext.upper():\n",
    "    count.setdefault(char,0)\n",
    "    count[char] = count[char] + 1\n",
    "pprint.pprint(list(count.items()))\n",
    "    "
   ]
  },
  {
   "cell_type": "markdown",
   "metadata": {},
   "source": [
    "The pprint module's pprint() \"pretty print\" function can display a dictionary value cleanly. The pformat() function returns a string value of this output. "
   ]
  },
  {
   "cell_type": "markdown",
   "metadata": {},
   "source": [
    "###  Strings\n",
    "Caracteres de escape:   \n",
    "- \\' = Single quote  \n",
    "- \\\" = Double quote  \n",
    "- \\t = tab  \n",
    "- \\n = Line break  \n",
    "- \\\\ = Backlash  \n",
    "\n",
    "\n",
    "     \n",
    "también, \"\"\" any_text \"\"\" es útil.   "
   ]
  },
  {
   "cell_type": "code",
   "execution_count": 7,
   "metadata": {},
   "outputs": [
    {
     "name": "stdout",
     "output_type": "stream",
     "text": [
      "This is a text message: 'hello  \" wut \"'\n",
      "h\n",
      "o\n",
      "l\n",
      "a\n"
     ]
    }
   ],
   "source": [
    "print(\"This is a text message: 'hello  \\\" wut \\\"'\")\n",
    "r\"That's not my cat\\'s' name\"\n",
    "print(\"\"\"h\n",
    "o\n",
    "l\n",
    "a\"\"\")"
   ]
  },
  {
   "cell_type": "markdown",
   "metadata": {},
   "source": [
    "##### Métodos útiles \n",
    "- text.upper() or text.lower() = todos los caracteres se transforman a mayús o minús \n",
    "- text.isalpha() = sólo letras\n",
    "- text.isalnum() = sólo números o letras\n",
    "- text.isdecimal() = sólo numeros\n",
    "- text.isspace() = sólo espacios\n",
    "- text.istitle() = string que comienzan con mayús y  el resto es minús\n",
    "\n"
   ]
  },
  {
   "cell_type": "code",
   "execution_count": 8,
   "metadata": {
    "scrolled": true
   },
   "outputs": [
    {
     "name": "stdout",
     "output_type": "stream",
     "text": [
      "HELLO WORLD\n",
      "hello world\n",
      "cat and mouse and dog\n"
     ]
    }
   ],
   "source": [
    "text = \"heLlO World\"\n",
    "print(text.upper())\n",
    "print(text.lower())\n",
    "us = ['cat','mouse','dog']\n",
    "print(' and '.join(us))"
   ]
  },
  {
   "cell_type": "markdown",
   "metadata": {},
   "source": [
    "String formatting"
   ]
  },
  {
   "cell_type": "code",
   "execution_count": 9,
   "metadata": {
    "scrolled": true
   },
   "outputs": [
    {
     "name": "stdout",
     "output_type": "stream",
     "text": [
      "Hello John, you are invited to a party in St. Clement street at 10 pm. Bring avocado.\n"
     ]
    }
   ],
   "source": [
    "name = 'John'\n",
    "place = 'St. Clement'\n",
    "time = '10'\n",
    "food = 'avocado'\n",
    "print('Hello %s, you are invited to a party in %s street at %s pm. Bring %s.' % (name,place, time, food))"
   ]
  },
  {
   "cell_type": "markdown",
   "metadata": {},
   "source": [
    "###  Expresiones regulares\n",
    "\n",
    "- Las expresiones regulares son como mini lenguajes para especificar patrones de texto. Escribir código para hacer reconocimento de patrones de texto puede resultar bastante tedioso, en estos casos, las expresiones regulares pueden ahorrarnos bastante trabajo.\n",
    "- Regex strings usan \\ backslashes (like \\d), así que a menudo son strings del tipo: r'\\d'.   \n",
    "- Para emplear Regex, es necesario **importar re**.   \n",
    "- Debes llamar a la función **re.compile()** para crear un objeto regex.\n",
    "- \\d es la regex para un digito numerico del 0 al 9.   \n",
    "- \\D para cualquier carácter que no es un digito numerico del 0 al 9.\n",
    "- \\w cualquier letra, digito numerico, o underscore character.\n",
    "- \\W para cualquier caracter que no sea una letra, digito o carácter subrayado\n",
    "- \\s para cualquier espacio, tabulacion y salto de linea\n",
    "- \\S para cualquier caracter que no sea espacio, tabulacion y salto de linea\n",
    "- El caracter ^ antecediendo a  [aeiou] entregará todos los caracteres distintos al contenido del paréntesis"
   ]
  },
  {
   "cell_type": "code",
   "execution_count": 10,
   "metadata": {},
   "outputs": [
    {
     "name": "stdout",
     "output_type": "stream",
     "text": [
      "Wow. Thanks!\n"
     ]
    }
   ],
   "source": [
    "# Queremos un código para identificar si el texto es un número de telefono\n",
    "def isPhoneNumber(text): #412-123-1231\n",
    "    if(len(text)!= 12): \n",
    "        return False\n",
    "    for i in range(0,3):\n",
    "        if not text[i].isdecimal(): \n",
    "            return False\n",
    "    if(text[3] != '-'): \n",
    "        return False\n",
    "    for i in range(4,7):\n",
    "        if not text[i].isdecimal():\n",
    "            return False\n",
    "    if(text[7]!= '-'):\n",
    "        return False\n",
    "    for i in range(8, 12):\n",
    "        if not text[i].isdecimal():\n",
    "            return False\n",
    "    return True\n",
    "\n",
    "number = '412-123-1231'\n",
    "if(isPhoneNumber(number) == True):\n",
    "    print('Wow. Thanks!')\n",
    "else: print('error')"
   ]
  },
  {
   "cell_type": "markdown",
   "metadata": {},
   "source": [
    "Esto es equivalente a:"
   ]
  },
  {
   "cell_type": "code",
   "execution_count": 11,
   "metadata": {},
   "outputs": [
    {
     "name": "stdout",
     "output_type": "stream",
     "text": [
      "['128-123-9999', '111-222-3333']\n"
     ]
    }
   ],
   "source": [
    "import re\n",
    "message = 'Call me 128-123-9999 tomorrow, or at 111-222-3333'\n",
    "phoneNumRegex = re.compile(r'\\d\\d\\d-\\d\\d\\d-\\d\\d\\d\\d')\n",
    "#mo = phoneNumRegex.search(message) //obtiene la primera ocurrencia y almacena en mo\n",
    "print(phoneNumRegex.findall(message)) # Con findall encontramos todas las ocurrencias en el texto"
   ]
  },
  {
   "cell_type": "markdown",
   "metadata": {},
   "source": [
    "Es posible **agrupar** los elementos que componen a la expresión regular, de esta forma, podremos obtener partes específicas. \n",
    "Para agrupar los elementos que componen la expresión regular utilizamos peréntesis, estos deberán rodear dichos grupos.    \n",
    "     \n",
    "Por ejemplo: r'(\\d\\d\\d\\d)-(\\d\\d\\d)-(\\d\\d\\d)', está conformado por 3 grupos. "
   ]
  },
  {
   "cell_type": "code",
   "execution_count": 12,
   "metadata": {},
   "outputs": [
    {
     "data": {
      "text/plain": [
       "'9999'"
      ]
     },
     "execution_count": 12,
     "metadata": {},
     "output_type": "execute_result"
    }
   ],
   "source": [
    "phoneNumRegex = re.compile(r'(\\d\\d\\d)-(\\d\\d\\d)-(\\d\\d\\d\\d)')\n",
    "mo = phoneNumRegex.search('Call me 128-123-9999')\n",
    "mo.group(3) # despliega el grupo 3 compuesto por 9999"
   ]
  },
  {
   "cell_type": "markdown",
   "metadata": {},
   "source": [
    "El carácter **|**, conocido como pipe, permite localizar las posibles ocurrencias en un string dado un grupo de posibles candidatos.   "
   ]
  },
  {
   "cell_type": "code",
   "execution_count": 13,
   "metadata": {},
   "outputs": [
    {
     "data": {
      "text/plain": [
       "'sandia'"
      ]
     },
     "execution_count": 13,
     "metadata": {},
     "output_type": "execute_result"
    }
   ],
   "source": [
    "# programa que retorna la primera ocurrencia\n",
    "saRegex = re.compile(r'sa(ndia|bor|bado|lud|grado)')\n",
    "mo = saRegex.search(\"La sandia tiene un sabor sagrado\")\n",
    "#mo = saRegex.search(\"La naranja tiene un color pálido\")\n",
    "#mo == None\n",
    "mo.group()"
   ]
  },
  {
   "cell_type": "markdown",
   "metadata": {},
   "source": [
    "El carácter **?** en una expresión regular hace referencia a _cero o una ocurrencia_ de un grupo, por ejemplo: "
   ]
  },
  {
   "cell_type": "code",
   "execution_count": 14,
   "metadata": {},
   "outputs": [
    {
     "data": {
      "text/plain": [
       "'Batwoman'"
      ]
     },
     "execution_count": 14,
     "metadata": {},
     "output_type": "execute_result"
    }
   ],
   "source": [
    "batRegex = re.compile(r'Bat(wo)?man') # Regex\n",
    "mo = batRegex.search('The adventures of Batman')\n",
    "mo.group() # print Batman\n",
    "mo = batRegex.search('The adventures of Batwoman')\n",
    "mo.group() # print Batwoman"
   ]
  },
  {
   "cell_type": "markdown",
   "metadata": {},
   "source": [
    "El carácter * en una expresión regular hace referencia a _cero o n ocurrencias_ de un grupo, por ejemplo:"
   ]
  },
  {
   "cell_type": "code",
   "execution_count": 15,
   "metadata": {},
   "outputs": [
    {
     "data": {
      "text/plain": [
       "'Batwowowowowowowoman'"
      ]
     },
     "execution_count": 15,
     "metadata": {},
     "output_type": "execute_result"
    }
   ],
   "source": [
    "batRegex = re.compile(r'Bat(wo)*man') #regex\n",
    "mo=batRegex.search('The adventures of Batwowowowowowowoman')\n",
    "mo.group()"
   ]
  },
  {
   "cell_type": "markdown",
   "metadata": {},
   "source": [
    "El carácter **+** en una expresión regular hace referencia a _una o más ocurrencias_ de un grupo, por ejemplo:\n"
   ]
  },
  {
   "cell_type": "code",
   "execution_count": 16,
   "metadata": {},
   "outputs": [
    {
     "data": {
      "text/plain": [
       "'Batwowoman'"
      ]
     },
     "execution_count": 16,
     "metadata": {},
     "output_type": "execute_result"
    }
   ],
   "source": [
    "batRegex = re.compile(r'Bat(wo)+man')\n",
    "mo = batRegex.search('The adventures of Batwowoman')\n",
    "mo.group()"
   ]
  },
  {
   "cell_type": "markdown",
   "metadata": {},
   "source": [
    "Los curly brackets {x} indican que en una expresión regular debe presentarse un grupo una cantidad x de veces, ejemplo:\n"
   ]
  },
  {
   "cell_type": "code",
   "execution_count": 17,
   "metadata": {},
   "outputs": [
    {
     "data": {
      "text/plain": [
       "'Batwowowoman'"
      ]
     },
     "execution_count": 17,
     "metadata": {},
     "output_type": "execute_result"
    }
   ],
   "source": [
    "batRegex = re.compile(r'Bat(wo){3}man')\n",
    "mo = batRegex.search('The adventures of Batwowowoman')\n",
    "mo.group()"
   ]
  },
  {
   "cell_type": "markdown",
   "metadata": {},
   "source": [
    "Cuando el curly brackets contiene dos atributos {x,y}, entonces x significa la cantidad mínima y y la cantidad máxima de el grupo de la expresión regular"
   ]
  },
  {
   "cell_type": "code",
   "execution_count": 18,
   "metadata": {},
   "outputs": [
    {
     "data": {
      "text/plain": [
       "'Batwowowowowoman'"
      ]
     },
     "execution_count": 18,
     "metadata": {},
     "output_type": "execute_result"
    }
   ],
   "source": [
    "batRegex = re.compile(r'Bat(wo){3,6}man')\n",
    "mo = batRegex.search('The adventures of Batwowowowowoman')\n",
    "mo.group()"
   ]
  },
  {
   "cell_type": "markdown",
   "metadata": {},
   "source": [
    "El punto **.** en una expresión regular reemplaza un carácter faltante para hacer el match con un string, por ejemplo:"
   ]
  },
  {
   "cell_type": "code",
   "execution_count": 19,
   "metadata": {},
   "outputs": [
    {
     "data": {
      "text/plain": [
       "['cat', 'hat', 'sat', 'lat', 'mat']"
      ]
     },
     "execution_count": 19,
     "metadata": {},
     "output_type": "execute_result"
    }
   ],
   "source": [
    "atRegex = re.compile (r'.at')\n",
    "atRegex.findall(\"the cat en the hat sat on the flat mat\")"
   ]
  },
  {
   "cell_type": "markdown",
   "metadata": {},
   "source": [
    "Utilizando findall() y agregando los elementos a un arreglo"
   ]
  },
  {
   "cell_type": "code",
   "execution_count": 20,
   "metadata": {},
   "outputs": [
    {
     "name": "stdout",
     "output_type": "stream",
     "text": [
      "['12 Drummers', '11 Pipers', '10 Lords', '9 Ladies', '8 Maids', '7 Swans', '6 Geese', '5 Golden', '4 Calling', '3 French', '2 Turtle']\n"
     ]
    }
   ],
   "source": [
    "lyrics = '12 Drummers Drumming, 11 Pipers Piping, 10 Lords a Leaping, 9 Ladies Dancing, 8 Maids a Milking, 7 Swans a Swimming, 6 Geese a Laying, 5 Golden Rings, 4 Calling Birds, 3 French Hens, 2 Turtle Doves, and a Partridge in a Pear Tree'\n",
    "xmasRegex = re.compile(r'\\d+\\s\\w+') #Buscar una cadena de texto con digito_letra\n",
    "arr=xmasRegex.findall(lyrics)\n",
    "print(arr)"
   ]
  },
  {
   "cell_type": "markdown",
   "metadata": {},
   "source": [
    "Podemos substituir elementos de una Regex"
   ]
  },
  {
   "cell_type": "code",
   "execution_count": 21,
   "metadata": {},
   "outputs": [
    {
     "data": {
      "text/plain": [
       "'REDACTED gave the secret documents to REDACTED.'"
      ]
     },
     "execution_count": 21,
     "metadata": {},
     "output_type": "execute_result"
    }
   ],
   "source": [
    "nameRegex = re.compile(r'Agent \\w+')\n",
    "message = 'Agent Alice gave the secret documents to Agent Bob.'\n",
    "nameRegex.findall(message)\n",
    "nameRegex.sub('REDACTED', message)"
   ]
  },
  {
   "cell_type": "markdown",
   "metadata": {},
   "source": [
    "#### Para mayor información sobre Expresiones regulares, recomiendo leer la documentación de la librería re"
   ]
  },
  {
   "cell_type": "markdown",
   "metadata": {},
   "source": [
    "## 2. Web Scraping"
   ]
  },
  {
   "cell_type": "markdown",
   "metadata": {},
   "source": [
    "Web scraping es una técnica utilizada mediante programas de software para extraer información de sitios web. Usualmente, estos programas simulan la navegación de un humano en internet, ya sea usando el protocolo HTTP manualmente, o inscrustando el navegador en una aplicación.   \n",
    "Para hacer web scraping se necesita, en primera instancia, instalar en tu máquina la librería HTTP **Requests** para Python.   \n",
    "```sh\n",
    "$ python -m pip install requests\n",
    "```\n"
   ]
  },
  {
   "cell_type": "code",
   "execution_count": 22,
   "metadata": {},
   "outputs": [
    {
     "data": {
      "text/plain": [
       "420596"
      ]
     },
     "execution_count": 22,
     "metadata": {},
     "output_type": "execute_result"
    }
   ],
   "source": [
    "import requests\n",
    "# vamos a intentar ingresar a Falabella\n",
    "res = requests.get('https://www.falabella.com/falabella-cl/')\n",
    "len(res.text) #indica la cantidad de caracteres que componen la pagina\n",
    "#print(res.text) #imprime los chars de la página\n"
   ]
  },
  {
   "cell_type": "markdown",
   "metadata": {},
   "source": [
    "El siguiente paso es instalar la libreria de Python **BeautifulSoup**.\n",
    "```sh\n",
    "$ pip install beautifulsoup4\n",
    "```"
   ]
  },
  {
   "cell_type": "code",
   "execution_count": 23,
   "metadata": {},
   "outputs": [
    {
     "data": {
      "text/plain": [
       "'$  2.399.990 '"
      ]
     },
     "execution_count": 23,
     "metadata": {},
     "output_type": "execute_result"
    }
   ],
   "source": [
    "import bs4\n",
    "#import requests\n",
    "# vamos a extraer el valor del siguiente producto de falabella\n",
    "res = requests.get('https://www.falabella.com/falabella-cl/product/8116897/Notebook-Intel-Core-i7-9750H-16GB-RAM-+-32GB-Intel-Optane-512GB-SSD-NVIDIA-GeForce-RTX-2080-15.6-/8116897')\n",
    "res.raise_for_status() # con este metodo nos aseguramos que la petición fue realizada con éxito\n",
    "#parseamos el texto a formato html\n",
    "soup = bs4.BeautifulSoup(res.text, 'html.parser')\n",
    "#Copiamos la ruta CSS del elemento que deseamos extraer\n",
    "element = soup.select('html body.custom_class div#__next div.jsx-1987097504.main section.jsx-4234634535.pdp-body div.jsx-4234634535.container div.jsx-4234634535.productContainer div.jsx-4113348717.pdp-container section.jsx-4113348717.pdp-detail-section div div.jsx-2170457292.product-specifications div.jsx-2170457292.product-specifications-column.fa--product-specifications-column__desktop div.jsx-2170457292.price div#testId-pod-prices-8116897.jsx-1904860942.prices.prices-4_GRID ol.jsx-1904860942.ol-4_GRID.pdp-prices.fa--prices li.jsx-1904860942.price-0 div.jsx-1904860942.cmr-icon-container span.copy13.primary.high.jsx-185326735.normal')\n",
    "element[0].text"
   ]
  },
  {
   "cell_type": "markdown",
   "metadata": {},
   "source": [
    "Sería ideal generar una función que genere estre proceso y que tenga como argumento la url del producto que deseamos scrapear.\n",
    "<img src=\"images/falabella.png\">"
   ]
  },
  {
   "cell_type": "code",
   "execution_count": 24,
   "metadata": {
    "scrolled": false
   },
   "outputs": [
    {
     "name": "stdout",
     "output_type": "stream",
     "text": [
      "[['Notebook Intel Core i5-10210U 8GB RAM 256GB SSD NVIDIA GeForce MX130 15.6\"',\n",
      "  '$  659.990 '],\n",
      " ['Notebook Intel Core i5 8GB RAM 256GB SSD 13.3\"', '$  709.990 '],\n",
      " ['Notebook Intel Celeron 4GB 64Gb 14 pulgadas', '$  259.990 '],\n",
      " ['Notebook Gamer Intel Core i5 8GB RAM + 16GB Intel Optane 256GB SSD NVIDIA '\n",
      "  'GeForce GTX 1050 15,6\"',\n",
      "  '$  859.990 '],\n",
      " ['Notebook 240 G7 Intel Core i5-8265U 4GB RAM 1TB 14\" Windows 10 Pro',\n",
      "  '$  569.990 '],\n",
      " ['Notebook VivoBook X413FA Intel Core i5-10210U 8GB RAM + 16GB Intel Optane '\n",
      "  '256GB SSD 14\"',\n",
      "  '$  629.990 (Oferta)'],\n",
      " ['Notebook Intel Pentium Gold 4GB RAM 500GB HDD 15.6\"', '$  399.990 '],\n",
      " ['Notebook 240 G7 Intel Core i3-1005G1 4GB RAM 1TB HDD 14\"', '$  419.990 '],\n",
      " ['Notebook VivoBook S532FL-BQ332T Intel Core i7 8GB RAM 512Gb SSD 15,6\"',\n",
      "  '$  959.990 (Oferta)'],\n",
      " ['Notebook/Hp/240 G7/Intel Celeron/4Gb/500Gb/W10/14', '$  349.990 (Oferta)'],\n",
      " ['Notebook Hp 240 Cel N4020 4Gb 500Gb Win10H', '$  349.900 '],\n",
      " ['Notebook Yoga Slim 7 AMD Ryzen 5 4500u 16GB RAM 256GB SSD 14\" Full HD WiFi6',\n",
      "  '$  749.990 (Oferta)']]\n"
     ]
    }
   ],
   "source": [
    "#import bs4, requests\n",
    "import pprint\n",
    "def getElements(productUrl):\n",
    "    res = requests.get(productUrl)\n",
    "    res.raise_for_status()\n",
    "    soup = bs4.BeautifulSoup(res.text, 'html.parser')\n",
    "    name = soup.findAll(\"b\", {\"class\": \"pod-subTitle\"})\n",
    "    price = soup.findAll(\"li\", {\"class\": \"price-0\"})\n",
    "    item = []\n",
    "    for i in range(len(price)):\n",
    "        item.append([name[i].text, price[i].text])\n",
    "    return item\n",
    "    \n",
    "elements = getElements('https://www.falabella.com/falabella-cl/category/cat70057/Notebooks?page=2')\n",
    "pprint.pprint(elements)"
   ]
  },
  {
   "cell_type": "markdown",
   "metadata": {},
   "source": [
    "## 3. Base de datos\n",
    "Una base de datos es un conjunto de datos pertenecientes a un mismo contexto y almacenados sistemáticamente para su posterior uso. \n",
    "### Base de datos relacionales\n",
    "Es un modelo utilizado en la actualidad para almacenar datos.  Relaciona filas con columnas en tablas. El poder de las bases de datos relacionales esta en su habilidad de recuperar datosde forma eficiente de  tablas, en particular, en aquellos casos donde hayan multiples tablas relacionadas.\n",
    "### Terminología\n",
    "- **Base de datos:**\n",
    "Contiene muchas tablas.\n",
    "- **Relación (o tabla):**\n",
    "Contiene filas y columnas.\n",
    "- **Tupla (o fila):**\n",
    "Un conjunto de campos que generalmente representan un \"objeto\".\n",
    "- **Atributo (columna o campo):**\n",
    "Uno de posiblemente muchos elementos de datos correspondientes al objeto representado por la fila.\n",
    "\n",
    "### SQL\n",
    "**Structured Query Language** es el lenguaje que usamos para enviar comandos a la base de datos. \n",
    "```sql\n",
    "CREATE TABLE \"Users\"(\"name\" TEXT, \"email\" TEXT)\n",
    "```\n",
    "Las palabras en verde son palabras clave del lenguaje, éstas definen la acción a realizar en la base de datos. Por convención, todas y cada una de las palabras clave de una sentencia SQL debe ser escrita en mayúscula.\n",
    "### Administrador de una base de datos\n",
    "Un **database administrator** (DBA) es una persona resposable del diseño, implementación, mantenimiento y reparación de la base de datos de alguna organización. Su rol ingloye el desarrollo y diseño de estrategias de base de datos, monitoreo y mejoras en el comportamiento y capacidad, planificando a futuro posibles requerimientos de expansión. También, coordinan e implementan medidas de seguridad para salvaguardar la base de datos.\n",
    "\n",
    "### Modelo de base de datos\n",
    "Un modelo de base de datos o esquema de base de datos es una estructura o formato para una base de datos, descrito en un lenguaje formal compatible por el sistema de gestión de base de datos.\n",
    "#### Sistemas de base de datos comunes\n",
    "- **Oracle**,\n",
    "Grande, comercial, escala enterprise, muy modificable\n",
    "- **MySql**,\n",
    "Simple, rápido y escalable, open source commercial\n",
    "- **SqlServer**,\n",
    "- **HSQL, SQLite, Postgres,** etc\n",
    "\n",
    "### SQLite Browser\n",
    "SQLite es una base de datos popular, es gratis, rápida y pequeña.   \n",
    "SQLite Browser nos permite manipular directamente archivos SQLite. Para descargar el software necesario debes dirigirte a la siguiente direccion y seguir las instrucciones de instalación: http://sqlitebrowser.org/      \n",
    "SQLite es incrustado en Python, entre muchos otros lenguajes de programación.\n",
    "Una vez instalado, deberás ejecutar el programa y crear una nueva base de datos. Para ello tienes que hacer clic en New Database, seleccionar la ruta donde desees almacenar tu base de datos y asignarle un nombre.   \n",
    "Para usos prácticos, llamaré a la base de datos 'mydb'. Luego, deberás crear las tablas de tu base de datos. Partiremos creando una tabla 'Users', que almacenará los siguientes datos: nombre y email.   \n",
    "SQLite Browser te permite crear tablas con una interfaz gráfica simple\n",
    "<img src=\"images/creatingtable.png\">\n",
    "    \n",
    "    \n"
   ]
  },
  {
   "cell_type": "markdown",
   "metadata": {},
   "source": [
    "Como puedes apreciar en la imagen, en la parte de abajo se ha generado código SQL de forma automática.   \n",
    "\n",
    "#### SQL INSERT\n",
    "Para insertar una fila en la tabla usando SQL, debemos utilizar la sentencia INSERT.  \n",
    "```SQL\n",
    "INSERT INTO Users (name, email) VALUES ('Kristin', 'kf@gmail.com')\n",
    "```\n",
    "Dirigete a Execute SQL y corre la sentencia. \n",
    "\n",
    "<img src=\"images/insertinto.png\">\n",
    "\n",
    "Para ejecutar más de una sentencia SQL a la vez, debes incluir **;** al final de cada sentencia. Por ejemplo:\n",
    "```SQL\n",
    "INSERT INTO Users (name, email) VALUES ('Chuck', 'csev@umich.edu');\n",
    "INSERT INTO Users (name, email) VALUES ('Colleen', 'cvl@umich.edu');\n",
    "INSERT INTO Users (name, email) VALUES ('Ted', 'ted@umich.edu');\n",
    "INSERT INTO Users (name, email) VALUES ('Sally', 'a1@umich.edu');\n",
    "INSERT INTO Users (name, email) VALUES ('Ted', 'ted@umich.edu');\n",
    "```\n",
    "#### SQL DELETE\n",
    "Para eliminar filas de la tabla debes utilizar la sentencia DELETE.\n",
    "```SQL\n",
    "DELETE FROM Users WHERE email='ted@umich.edu'\n",
    "```\n",
    "La sentencia anterior elimina la fila cuyo email sea idéntico al indicado, sin embargo, puedes borrar por según el atributo que desees.\n",
    "\n",
    "#### SQL UPDATE\n",
    "Permite modificar un campo de una fila, por ejemplo, modifiquemos el email de Sally.\n",
    "```SQL\n",
    "UPDATE Users SET email='sally@uach.cl' WHERE name = 'Sally'\n",
    "```\n",
    "#### SQL SELECT\n",
    "La sentencia 'select' obtiene un conjunto de datos de una o más tablas, acorde un criterio. Por ejemplo:\n",
    "```sql\n",
    "SELECT * FROM Users WHERE email='csev@umich.edu'\n",
    "```\n",
    "Traducido sería:   \n",
    "___Selecciona todos los elementos desde tabla Users donde el email = 'csev@umich.edu'.___\n",
    "\n",
    "#### SQL ORDER BY\n",
    "La sentencia 'order by' despliega elementos de una tabla o más tablas, y los ordena en función de cierto criterio. Por ejemplo:\n",
    "```sql\n",
    "SELECT * FROM Users ORDER BY name\n",
    "```\n",
    "Despliega una lista ordenada de todos los datos almacenados en la tabla Users, y los ordena alfabéticamente, en función de los carácteres del nombre.   \n",
    "También, podemos desplegar de forma descendente utilizando la palabra clave 'DESC'\n",
    "```SQL\n",
    "SELECT * FROM Users ORDER BY name DESC\n",
    "```\n",
    "#### CRUD\n",
    "Las sentencias presentadas anteriormente conforman lo que conocemos como CRUD (create, read, update y delete). \n"
   ]
  },
  {
   "cell_type": "code",
   "execution_count": 25,
   "metadata": {},
   "outputs": [],
   "source": [
    "import sqlite3\n"
   ]
  },
  {
   "cell_type": "markdown",
   "metadata": {},
   "source": [
    "## 4. Django"
   ]
  },
  {
   "cell_type": "markdown",
   "metadata": {},
   "source": [
    "Cuando tenemos una página web, necesitamos tener un servidor para que nuestra página se aloje y permita recibir requests de información por parte de nuestros usuarios.   \n",
    "Django es un framework de desarrollo web escrito en Python que soporta el patrón MVC. La meta fundamental de Django es facilitar la creación de sitios web complejos. Django pone énfasis en el re-uso, la conectividad y extensibilidad de componentes, el desarrollo rápido y el principio DRY (Dont repeat yourself)\n"
   ]
  },
  {
   "cell_type": "markdown",
   "metadata": {},
   "source": [
    "Recomiendo usar Anaconda, crear un entorno y instalar Django.\n",
    "\n",
    "```sh\n",
    "$ conda install django\n",
    "```\n",
    "Para saber qué versión tienes de Django\n",
    "```sh\n",
    "$ python -m django --version\n",
    "```"
   ]
  },
  {
   "cell_type": "markdown",
   "metadata": {},
   "source": [
    "### Creando un proyecto\n",
    "Para crear tu primer proyecto con Django, deberás ejecutar el siguiente comando en tu terminal:\n",
    "\n",
    "```sh\n",
    "$ django-admin startproject nombre-proyecto\n",
    "```\n",
    "\n",
    "Para casos prácticos, he llamado a mi proyecto \"mysite\".    \n",
    "Independiente del directorio donde hayas ejecutado el comando anterior, se debería haber creado una carperta con el nombre de tu proyecto. \n",
    "\n",
    "<img src=\"images/mysite.png\">\n",
    "\n",
    "\n",
    "Estos archivos son:\n",
    "- el directorio raíz **mysite/** es el contenedor de tu proyecto. Su nombre no le interesa a Django, por lo que puedes renombrarlo y no generarás problema alguno.\n",
    "- manage.py: Un archivo que te permite interactuar con el proyecto de varias formas, almacena comandos útiles para tu proyecto. \n",
    "- _ init _.py: Es un archivo vacío que le dice a python que este directorio debe ser considerado como paquete Python\n",
    "- settings.py: Configuraciones para este proyecto Django.\n",
    "- urls.py: Las declaraciones URL para este proyecto Django; Una tabla de contenidos de su sitio basado en Django.\n",
    "- asgi.py: An entry-point for ASGI-compatible web servers to serve your project.\n",
    "wsgi.py: Un punto de entrada para que los servidores web compatibles con WSGI puedan servir su proyecto.\n",
    "\n",
    "Para verificar que tu proyecto funciona, dirigete al directorio /mysite y corre el siguiente comando:\n",
    "```sh\n",
    "$ python manage.py runserver\n",
    "```\n",
    "Una vez ejecutado el comando, visita http://127.0.0.1:8000/, verás ésta imagen:\n",
    "\n",
    "<img src=\"images/djangoinstalation.png\">\n",
    "     \n",
    "El server montado se actualiza constantemente frente a cada request o petición que realices. No debes reiniciar el server cuando realices cambios, sin embargo, casos como añadir archivos o directorios si requieren que reinicies el server.\n",
    "\n",
    "Cada aplicacion que escribes en Django consiste de paquetes python que siguen ciertas convenciones. Django viene con la utilidad de que automáticamente genera la estructura básica de un directorio para una aplicación, así que sólo debes concentrarte en escribir código.\n",
    "Dentro de un proyecto puedes tener una o varias apps.   \n",
    "    \n",
    "Para usos prácticos, crearemos una app de encuestas en el mismo directorio en donde se encuentra tu archivo manage.py, de esta forma será importada como un módulo de alto nivel, en vez de un submódulo.   \n",
    "\n",
    "Para crear la aplicación, asegurate que estás en el mismo directorio de manage.py y ejecuta este comando:\n",
    "\n",
    "```sh\n",
    "$ python manage.py startapp polls\n",
    "```\n",
    "Eso creará un directorio polls que se presenta de la siguiente forma:\n",
    "\n",
    "<img src=\"images/appdjango.png\">\n",
    "\n",
    "Esta estructura de directorios almacenará la aplicación encuesta.\n",
    "En el archivo polls/views.py, escriba el siguiente código:\n",
    "\n",
    "```js\n",
    "from django.http import HttpResponse\n",
    "\n",
    "def index(request):\n",
    "    return HttpResponse(\"Hello, world. You're at the polls index\")\n",
    "```\n",
    "Esta es la vista más simple posible en Django. Para llamar la vista, tenemos que asignarla a una URLconf.   \n",
    "Para crear una URLconf en el directorio polls, cree un archivo llamado urls.py. Dentro de urls.py debe escribir el siguiente código:\n",
    "\n",
    "```js\n",
    "from django.urls import path\n",
    "from . import views\n",
    "\n",
    "urlpatterns = [\n",
    "    path('',views.index, name='index'),\n",
    "]\n",
    "```\n",
    "El siguiente paso es señalar la URLconf raíz en el módulo polls.url. Cree un archivo mysite/urls.py y añada un import para django.urls.include e inserte una include()  en la lista urlpatterns, para obtener:\n",
    "\n",
    "```js\n",
    "from django.contrib import admin\n",
    "from django.urls import include, path\n",
    "\n",
    "urlpatterns = [\n",
    "    path('polls/', include('polls.urls')),\n",
    "    path('admin/', admin.site.urls),\n",
    "]\n",
    "```\n",
    "La función include() permite hacer una referencia a otros URLconfs. Cada vez que Django encuentra include(), corta cualquier parte de la URL que coincide hasta ese pundo y envía la cadena restante a la URLconf incluida para seguir el proceso.   \n",
    "La idea detrás de include() es facilitar la conexión y ejecución inmediata de las URLs. Dado que las encuestas están en su propia URLconf (polls/urls.py).   \n",
    "\n",
    "     \n",
    "      \n",
    "      \n",
    "Bien!. Sólo resta en probar lo hecho. Corra el server nuevamente y vaya a http://localhost:8000/polls/."
   ]
  },
  {
   "cell_type": "markdown",
   "metadata": {},
   "source": [
    "## 5. Computación científica \n",
    "La computación científica, una parte esencial para la ciencia, nos permite satisfacer los siguientes aspectos:\n",
    "- **Cálculos numéricos**\n",
    "- **Simulaciones**\n",
    "- **Modelamiento computacional**\n",
    "- **Análisis de datos**\n",
    "\n",
    "#### IPython\n",
    "Interactive Python (IPython) es un intérprete de Python que ofrece varias mejoras, tales como:\n",
    "- Autocompletación de path y módulos\n",
    "- Accesso desde terminal a documentación y código fuente\n",
    "- Búsqueda histórica de comandos\n",
    "- Implementación de mágias\n",
    "\n",
    "IPython puede usarse desde un terminal, como reemplazo del intérprete convencional de Python. También, puede usarse desde un Jupyter Notebook.\n"
   ]
  },
  {
   "cell_type": "code",
   "execution_count": 26,
   "metadata": {},
   "outputs": [],
   "source": [
    "# %lsmagic \n",
    "#imprime todas las magic disponibles, las magic nos ahorran mucha tarea, por lo que es esencial su conocimiento"
   ]
  },
  {
   "cell_type": "markdown",
   "metadata": {},
   "source": [
    "### NumPy\n",
    "NumPy es un paquete de computación científica con Python que provee:\n",
    "- Un objeto contenedor muy versátil: N-dimensión __ndarray_\n",
    "- Funciones capaces de hacer bradcasting\n",
    "- Módulos para álgebra lineal. Transformada de Fourier, generación de número aleatorios, etc.\n",
    "- Herramientas para integrar código C/C++.\n",
    "\n",
    "#### Instalación\n",
    "Utilizando conda:\n",
    "```sh\n",
    "$ conda install numpy\n",
    "```\n",
    "Luego, para importar la librería en nuestro código:\n",
    "\n"
   ]
  },
  {
   "cell_type": "code",
   "execution_count": 27,
   "metadata": {
    "scrolled": true
   },
   "outputs": [
    {
     "data": {
      "text/plain": [
       "'1.19.1'"
      ]
     },
     "metadata": {},
     "output_type": "display_data"
    }
   ],
   "source": [
    "# np? despliega toda la infromación de la libreria numpy\n",
    "import numpy as np\n",
    "display(np.__version__) #entrega la versión de la libreria"
   ]
  },
  {
   "cell_type": "markdown",
   "metadata": {},
   "source": [
    "####  Objeto ndarray (alias array)\n",
    "El objeto ndarray es un **arreglo n-dimensional de tipo fijo**\n",
    "Las operaciones sobre ndarrau son eficientes: Usan librerías de bajo nivel (OpenBLAS, MKL)     \n",
    "Podemos crear un ndarray a partir de:\n",
    "- Una lista o tupla usando **np.array**.\n",
    "- Un fichero, por ejemplo, usando **np.genfromtxt**\n",
    "- Funciones generadoras de NumPy, por ejemplo, **np.linspace**, **np.zeros**, etc\n",
    "\n",
    "\n",
    "#### Ndarray a partir de listas y atributos básicos"
   ]
  },
  {
   "cell_type": "code",
   "execution_count": 28,
   "metadata": {},
   "outputs": [
    {
     "data": {
      "text/plain": [
       "list"
      ]
     },
     "metadata": {},
     "output_type": "display_data"
    },
    {
     "data": {
      "text/plain": [
       "numpy.ndarray"
      ]
     },
     "metadata": {},
     "output_type": "display_data"
    }
   ],
   "source": [
    "L = [[0,1],[2,3]]\n",
    "display(type(L)) #imprime el tipo de L\n",
    "A = np.array(L) # creación de un ndarray\n",
    "display(type(A)) #imprime el tipo de A"
   ]
  },
  {
   "cell_type": "markdown",
   "metadata": {},
   "source": [
    "El caso anterior es una muestra que NumPy interpreta el tipo de dato, por lo que no es necesario explicitar el tipo, sin embargo, para casos formales, los tipos de dato estándar de NumPy son:\n",
    "- Enteros: int8, int16, int32, int64\n",
    "- Enteros sin signo: uint8, uint16, uint32, uint64\n",
    "- Flotantes(reales): float16, float32, float64, float128\n",
    "- Números complejos: complex64, complex128, complex256\n",
    "- Booleanos: Bool"
   ]
  },
  {
   "cell_type": "code",
   "execution_count": 29,
   "metadata": {},
   "outputs": [
    {
     "data": {
      "text/plain": [
       "array([[0, 1],\n",
       "       [2, 3]], dtype=int16)"
      ]
     },
     "metadata": {},
     "output_type": "display_data"
    },
    {
     "data": {
      "text/plain": [
       "array([[0., 1.],\n",
       "       [2., 3.]], dtype=float32)"
      ]
     },
     "metadata": {},
     "output_type": "display_data"
    }
   ],
   "source": [
    "# El atributo dtype nos permite ver el tipo de un arreglo NumPy\n",
    "display(np.array(L, dtype=np.int16))\n",
    "display(np.array(L, dtype=np.float32))"
   ]
  },
  {
   "cell_type": "markdown",
   "metadata": {},
   "source": [
    "Los atributos **ndim** y **shape** nos indican las dimensiones y el tamaño del arreglo, respectivamente:"
   ]
  },
  {
   "cell_type": "code",
   "execution_count": 30,
   "metadata": {},
   "outputs": [
    {
     "data": {
      "text/plain": [
       "array([[0, 1],\n",
       "       [2, 3]])"
      ]
     },
     "metadata": {},
     "output_type": "display_data"
    },
    {
     "data": {
      "text/plain": [
       "2"
      ]
     },
     "metadata": {},
     "output_type": "display_data"
    },
    {
     "data": {
      "text/plain": [
       "(2, 2)"
      ]
     },
     "metadata": {},
     "output_type": "display_data"
    }
   ],
   "source": [
    "display(A) # despliega el arreglo A\n",
    "display(A.ndim) # entrega la dimension de A\n",
    "display(A.shape) # entrega la forma de A"
   ]
  },
  {
   "cell_type": "markdown",
   "metadata": {},
   "source": [
    "#### Ordenamiento en memoria de ndarray\n",
    "Por defecto, un ndarray multidimensional se ordena en memoria siguiendo un formato row-major.    \n",
    "Se puede cambiar a formato column-major usando el atributo *order*.   \n",
    "Se puede verificar el ordenamiento leyendo el atributo *flags*\n",
    "\n",
    "<img src = \"images/savearray.png\"> "
   ]
  },
  {
   "cell_type": "code",
   "execution_count": 31,
   "metadata": {
    "scrolled": true
   },
   "outputs": [
    {
     "data": {
      "text/plain": [
       "array([[0, 1],\n",
       "       [2, 3]])"
      ]
     },
     "metadata": {},
     "output_type": "display_data"
    },
    {
     "data": {
      "text/plain": [
       "  C_CONTIGUOUS : True\n",
       "  F_CONTIGUOUS : False\n",
       "  OWNDATA : True\n",
       "  WRITEABLE : True\n",
       "  ALIGNED : True\n",
       "  WRITEBACKIFCOPY : False\n",
       "  UPDATEIFCOPY : False"
      ]
     },
     "metadata": {},
     "output_type": "display_data"
    },
    {
     "data": {
      "text/plain": [
       "array([[0, 1],\n",
       "       [2, 3]])"
      ]
     },
     "metadata": {},
     "output_type": "display_data"
    },
    {
     "data": {
      "text/plain": [
       "  C_CONTIGUOUS : False\n",
       "  F_CONTIGUOUS : True\n",
       "  OWNDATA : True\n",
       "  WRITEABLE : True\n",
       "  ALIGNED : True\n",
       "  WRITEBACKIFCOPY : False\n",
       "  UPDATEIFCOPY : False"
      ]
     },
     "metadata": {},
     "output_type": "display_data"
    }
   ],
   "source": [
    "A = np.array(L) \n",
    "display(A)\n",
    "display(A.flags)\n",
    "\n",
    "A = np.array(L, order = 'F')\n",
    "display(A)\n",
    "display(A.flags)"
   ]
  },
  {
   "cell_type": "markdown",
   "metadata": {},
   "source": [
    "#### Funciones generadoras de arreglos\n",
    "Se pueden crear arreglos directamente desde NumPy:\n"
   ]
  },
  {
   "cell_type": "code",
   "execution_count": 32,
   "metadata": {},
   "outputs": [
    {
     "data": {
      "text/plain": [
       "array([[0, 0, 0],\n",
       "       [0, 0, 0],\n",
       "       [0, 0, 0]])"
      ]
     },
     "metadata": {},
     "output_type": "display_data"
    },
    {
     "data": {
      "text/plain": [
       "array([[1., 1., 1.],\n",
       "       [1., 1., 1.],\n",
       "       [1., 1., 1.]], dtype=float32)"
      ]
     },
     "metadata": {},
     "output_type": "display_data"
    },
    {
     "data": {
      "text/plain": [
       "array([[3.14159265, 3.14159265, 3.14159265],\n",
       "       [3.14159265, 3.14159265, 3.14159265],\n",
       "       [3.14159265, 3.14159265, 3.14159265]])"
      ]
     },
     "metadata": {},
     "output_type": "display_data"
    },
    {
     "data": {
      "text/plain": [
       "array([[1., 0., 0.],\n",
       "       [0., 1., 0.],\n",
       "       [0., 0., 1.]])"
      ]
     },
     "metadata": {},
     "output_type": "display_data"
    },
    {
     "data": {
      "text/plain": [
       "array([[ 1.39642631, -0.05761891,  1.9719123 ],\n",
       "       [ 1.28748301,  1.49183837,  1.47363494],\n",
       "       [ 0.98319936,  0.85597142, -2.08041663]])"
      ]
     },
     "metadata": {},
     "output_type": "display_data"
    }
   ],
   "source": [
    "display(np.zeros(shape=(3,3), dtype=np.int)) #lleno de ceros\n",
    "display(np.ones(shape=(3,3), dtype=np.float32)) #lleno de unos\n",
    "display(np.full(shape=(3,3), fill_value=np.pi)) #lleno de pi\n",
    "display(np.eye(3)) #matriz identidad\n",
    "display(np.random.randn(3,3)) #matriz aleatoria con distribuvion N(0,1)\n"
   ]
  },
  {
   "cell_type": "markdown",
   "metadata": {},
   "source": [
    "Funciones para crear rangos:"
   ]
  },
  {
   "cell_type": "code",
   "execution_count": 33,
   "metadata": {},
   "outputs": [
    {
     "data": {
      "text/plain": [
       "array([0. , 0.5, 1. , 1.5, 2. , 2.5, 3. , 3.5, 4. , 4.5])"
      ]
     },
     "metadata": {},
     "output_type": "display_data"
    },
    {
     "data": {
      "text/plain": [
       "array([ 0.,  1.,  2.,  3.,  4.,  5.,  6.,  7.,  8.,  9., 10.])"
      ]
     },
     "metadata": {},
     "output_type": "display_data"
    },
    {
     "data": {
      "text/plain": [
       "array([ 1.        ,  1.25892541,  1.58489319,  1.99526231,  2.51188643,\n",
       "        3.16227766,  3.98107171,  5.01187234,  6.30957344,  7.94328235,\n",
       "       10.        ])"
      ]
     },
     "metadata": {},
     "output_type": "display_data"
    }
   ],
   "source": [
    "display(np.arange(start=0, stop=5, step=0.5)) # genera un arreglo con saltos de 0,5\n",
    "display(np.linspace(start=0, stop=10,num=11)) # genera un arreglo con el 11 particiones entre intervalos [0 y 10]\n",
    "display(np.logspace(start=0, stop=1,num=11)) # similar a linspace, pero logarítmico"
   ]
  },
  {
   "cell_type": "markdown",
   "metadata": {},
   "source": [
    "Se puede usar  **meshgrid** para crear arreglos de coordenadas"
   ]
  },
  {
   "cell_type": "code",
   "execution_count": 34,
   "metadata": {
    "scrolled": true
   },
   "outputs": [
    {
     "data": {
      "text/plain": [
       "array([[0, 1, 2],\n",
       "       [0, 1, 2],\n",
       "       [0, 1, 2]])"
      ]
     },
     "metadata": {},
     "output_type": "display_data"
    },
    {
     "data": {
      "text/plain": [
       "array([[0, 0, 0],\n",
       "       [1, 1, 1],\n",
       "       [2, 2, 2]])"
      ]
     },
     "metadata": {},
     "output_type": "display_data"
    }
   ],
   "source": [
    "x = np.arange(3) #crea vector [0, 1, 2]\n",
    "X, Y = np.meshgrid(x, x) \n",
    "display(X)\n",
    "display(Y)\n"
   ]
  },
  {
   "cell_type": "markdown",
   "metadata": {},
   "source": [
    "Ojo con el tamaño de los arreglos, un arreglo unidimensional puede ser:\n",
    "- Vector adimensional\n",
    "- Vector columna\n",
    "- Vector fila"
   ]
  },
  {
   "cell_type": "code",
   "execution_count": 35,
   "metadata": {},
   "outputs": [
    {
     "data": {
      "text/plain": [
       "(5,)"
      ]
     },
     "metadata": {},
     "output_type": "display_data"
    },
    {
     "data": {
      "text/plain": [
       "(5, 1)"
      ]
     },
     "metadata": {},
     "output_type": "display_data"
    },
    {
     "data": {
      "text/plain": [
       "(1, 5)"
      ]
     },
     "metadata": {},
     "output_type": "display_data"
    }
   ],
   "source": [
    "A = np.array([0,1,2,3,4]) # Vector adimensional\n",
    "display(A.shape)\n",
    "A = np.array([[0],[1],[2],[3],[4]]) # Vector columna\n",
    "display(A.shape)\n",
    "A = np.array([[0,1,2,3,4]]) # Vector fila\n",
    "display(A.shape)"
   ]
  },
  {
   "cell_type": "markdown",
   "metadata": {},
   "source": [
    "Se puede agregar una dimensión a un arreglo usando **newaxis**.    \n",
    "Podemos usarlo para convertir un vector adimensional en fila o columna."
   ]
  },
  {
   "cell_type": "code",
   "execution_count": 36,
   "metadata": {
    "scrolled": true
   },
   "outputs": [
    {
     "data": {
      "text/plain": [
       "(5,)"
      ]
     },
     "metadata": {},
     "output_type": "display_data"
    },
    {
     "data": {
      "text/plain": [
       "(5, 1)"
      ]
     },
     "metadata": {},
     "output_type": "display_data"
    },
    {
     "data": {
      "text/plain": [
       "(1, 5)"
      ]
     },
     "metadata": {},
     "output_type": "display_data"
    }
   ],
   "source": [
    "A = np.array([0,1,2,3,4])\n",
    "display(A.shape)\n",
    "display(A[:, np.newaxis].shape)\n",
    "display(A[np.newaxis, : ].shape)"
   ]
  },
  {
   "cell_type": "markdown",
   "metadata": {},
   "source": [
    "#### Manipulación de matrices y vectores\n",
    "Operaciones para modificar la forma de un arreglo: **reshape**, **tile**, **repeat**."
   ]
  },
  {
   "cell_type": "code",
   "execution_count": 37,
   "metadata": {
    "scrolled": true
   },
   "outputs": [
    {
     "data": {
      "text/plain": [
       "array([0, 1, 2, 3, 4, 5])"
      ]
     },
     "metadata": {},
     "output_type": "display_data"
    },
    {
     "data": {
      "text/plain": [
       "array([[0, 1],\n",
       "       [2, 3],\n",
       "       [4, 5]])"
      ]
     },
     "metadata": {},
     "output_type": "display_data"
    },
    {
     "data": {
      "text/plain": [
       "array([[0, 1, 2],\n",
       "       [3, 4, 5]])"
      ]
     },
     "metadata": {},
     "output_type": "display_data"
    },
    {
     "data": {
      "text/plain": [
       "array([[0, 1, 2, 3, 4, 5],\n",
       "       [0, 1, 2, 3, 4, 5],\n",
       "       [0, 1, 2, 3, 4, 5],\n",
       "       [0, 1, 2, 3, 4, 5],\n",
       "       [0, 1, 2, 3, 4, 5],\n",
       "       [0, 1, 2, 3, 4, 5]])"
      ]
     },
     "metadata": {},
     "output_type": "display_data"
    },
    {
     "data": {
      "text/plain": [
       "array([[0, 1, 2, 3, 4, 5, 0, 1, 2, 3, 4, 5, 0, 1, 2, 3, 4, 5, 0, 1, 2, 3,\n",
       "        4, 5, 0, 1, 2, 3, 4, 5, 0, 1, 2, 3, 4, 5]])"
      ]
     },
     "metadata": {},
     "output_type": "display_data"
    },
    {
     "data": {
      "text/plain": [
       "array([0, 0, 1, 1, 2, 2, 3, 3, 4, 4, 5, 5])"
      ]
     },
     "metadata": {},
     "output_type": "display_data"
    },
    {
     "data": {
      "text/plain": [
       "array([[0, 1],\n",
       "       [0, 1],\n",
       "       [2, 3],\n",
       "       [2, 3],\n",
       "       [4, 5],\n",
       "       [4, 5]])"
      ]
     },
     "metadata": {},
     "output_type": "display_data"
    },
    {
     "data": {
      "text/plain": [
       "array([0., 0., 0., 0., 0., 0., 0., 0., 0., 0., 0., 0., 0., 0., 0., 0., 0.,\n",
       "       0., 0., 0., 0., 0., 0., 0., 0.])"
      ]
     },
     "metadata": {},
     "output_type": "display_data"
    },
    {
     "data": {
      "text/plain": [
       "array([[0, 0, 0, 0, 0, 0],\n",
       "       [0, 1, 0, 0, 0, 0],\n",
       "       [0, 0, 2, 0, 0, 0],\n",
       "       [0, 0, 0, 3, 0, 0],\n",
       "       [0, 0, 0, 0, 4, 0],\n",
       "       [0, 0, 0, 0, 0, 5]])"
      ]
     },
     "metadata": {},
     "output_type": "display_data"
    },
    {
     "data": {
      "text/plain": [
       "array([[-0.97339848,  0.52703315,  1.44466518],\n",
       "       [-0.51899237, -1.98008115, -1.64123103],\n",
       "       [-1.57726324, -0.2712434 , -0.69320075]])"
      ]
     },
     "metadata": {},
     "output_type": "display_data"
    },
    {
     "data": {
      "text/plain": [
       "array([[-0.97339848, -0.51899237, -1.57726324],\n",
       "       [ 0.52703315, -1.98008115, -0.2712434 ],\n",
       "       [ 1.44466518, -1.64123103, -0.69320075]])"
      ]
     },
     "metadata": {},
     "output_type": "display_data"
    }
   ],
   "source": [
    "A = np.arange(6)\n",
    "display(A)\n",
    "# Crea nuevas dimensiones, pero debe preservar el tamaño\n",
    "display(np.reshape(A, (3,2)))\n",
    "display(np.reshape(A,(2,3)))\n",
    "# Repite el arreglo en una dirección dada\n",
    "display(np.tile(A, (6,1)))\n",
    "display(np.tile(A, (1,6)))\n",
    "# Repite cada elemento en una dirección dada\n",
    "display(np.repeat(A,2))\n",
    "display(np.repeat(A.reshape(3,2),2, axis=0))\n",
    "# Aplana una matriz\n",
    "display(np.ravel(np.zeros(shape=(5,5))))\n",
    "# Crea una matriz diagonal de un vector con diag\n",
    "display(np.diag(A))\n",
    "# Transposición de un arreglo con transpose\n",
    "A = np.random.randn(3,3)\n",
    "display(A)\n",
    "display(np.transpose(A))"
   ]
  },
  {
   "cell_type": "markdown",
   "metadata": {},
   "source": [
    "Operaciones para juntar más de dos arreglos: **concatenate**, **vstack**, **hstack**\n",
    "\n"
   ]
  },
  {
   "cell_type": "code",
   "execution_count": 38,
   "metadata": {
    "scrolled": true
   },
   "outputs": [
    {
     "data": {
      "text/plain": [
       "array([[0., 1., 2., 3., 4., 5.],\n",
       "       [1., 1., 1., 1., 1., 1.]])"
      ]
     },
     "metadata": {},
     "output_type": "display_data"
    },
    {
     "data": {
      "text/plain": [
       "array([[0., 1., 2., 3., 4., 5., 1., 1., 1., 1., 1., 1.]])"
      ]
     },
     "metadata": {},
     "output_type": "display_data"
    },
    {
     "data": {
      "text/plain": [
       "array([[0., 1., 2., 3., 4., 5.],\n",
       "       [1., 1., 1., 1., 1., 1.]])"
      ]
     },
     "metadata": {},
     "output_type": "display_data"
    },
    {
     "data": {
      "text/plain": [
       "array([[0., 1., 2., 3., 4., 5., 1., 1., 1., 1., 1., 1.]])"
      ]
     },
     "metadata": {},
     "output_type": "display_data"
    }
   ],
   "source": [
    "A = np.arange(6).reshape(1,6)\n",
    "B = np.ones(shape=(1,6))\n",
    "display(np.concatenate((A,B), axis=0))\n",
    "display(np.concatenate((A,B), axis=1))\n",
    "display(np.vstack((A,B)))\n",
    "display(np.hstack((A,B)))"
   ]
  },
  {
   "cell_type": "markdown",
   "metadata": {},
   "source": [
    "Operaciones para agregar o quitar elementos: **append**, **insert**, **delete**"
   ]
  },
  {
   "cell_type": "code",
   "execution_count": 39,
   "metadata": {
    "scrolled": true
   },
   "outputs": [
    {
     "data": {
      "text/plain": [
       "array([1, 2, 3, 5])"
      ]
     },
     "metadata": {},
     "output_type": "display_data"
    },
    {
     "data": {
      "text/plain": [
       "array([1, 3])"
      ]
     },
     "metadata": {},
     "output_type": "display_data"
    },
    {
     "data": {
      "text/plain": [
       "array([1, 2, 8, 3])"
      ]
     },
     "metadata": {},
     "output_type": "display_data"
    }
   ],
   "source": [
    "A = np.array([1,2,3])\n",
    "display(np.append(A, 5)) #inserta elemento al final\n",
    "display(np.delete(A, 1)) #elimina elemento del array\n",
    "display(np.insert(A,2, values=8)) #inserta valor en posicion\n",
    "\n"
   ]
  },
  {
   "cell_type": "markdown",
   "metadata": {},
   "source": [
    "#### Operaciones sobre ndarray\n",
    "Operaciones aritméticas y broadcasting\n",
    "- Suma: **+**, **+=**\n",
    "- Resta: **-**, **-=**\n",
    "- Multiplicación: * , *=\n",
    "- División: /, /=\n",
    "- División entera: //, //=\n",
    "- Exponenciación: **, **=\n",
    "\n",
    "Estas operaciones tienen un comportamiento element-wise (elemento a elemento)"
   ]
  },
  {
   "cell_type": "code",
   "execution_count": 40,
   "metadata": {},
   "outputs": [
    {
     "data": {
      "text/plain": [
       "3"
      ]
     },
     "metadata": {},
     "output_type": "display_data"
    },
    {
     "data": {
      "text/plain": [
       "array([[1., 0., 0.],\n",
       "       [0., 1., 0.],\n",
       "       [0., 0., 1.]])"
      ]
     },
     "metadata": {},
     "output_type": "display_data"
    },
    {
     "data": {
      "text/plain": [
       "array([[1., 1., 1.],\n",
       "       [1., 1., 1.],\n",
       "       [1., 1., 1.]])"
      ]
     },
     "metadata": {},
     "output_type": "display_data"
    },
    {
     "data": {
      "text/plain": [
       "array([[2., 1., 1.],\n",
       "       [1., 2., 1.],\n",
       "       [1., 1., 2.]])"
      ]
     },
     "metadata": {},
     "output_type": "display_data"
    },
    {
     "data": {
      "text/plain": [
       "array([[1., 0., 0.],\n",
       "       [0., 1., 0.],\n",
       "       [0., 0., 1.]])"
      ]
     },
     "metadata": {},
     "output_type": "display_data"
    }
   ],
   "source": [
    "N = 3\n",
    "A = np.eye(N)\n",
    "B = np.ones(shape=(N,N))\n",
    "display(N)\n",
    "display(A)\n",
    "display(B)\n",
    "display(A+B)\n",
    "display(A*B) # Es multiplicacion elemento a elemento, no la matricial"
   ]
  },
  {
   "cell_type": "markdown",
   "metadata": {},
   "source": [
    "Cuando los arreglos no son del mismo tamaño, se realiza un broadcast, por ejemplo, operar una constante con un arreglo:"
   ]
  },
  {
   "cell_type": "code",
   "execution_count": 41,
   "metadata": {
    "scrolled": true
   },
   "outputs": [
    {
     "data": {
      "text/plain": [
       "([3, 2, 1],\n",
       " [1, 2, 3],\n",
       " [2, 1, 3],\n",
       " [3, 2, 1],\n",
       " [1, 2, 3],\n",
       " [2, 1, 3],\n",
       " [3, 2, 1],\n",
       " [1, 2, 3],\n",
       " [2, 1, 3])"
      ]
     },
     "metadata": {},
     "output_type": "display_data"
    }
   ],
   "source": [
    "N = 3\n",
    "A = ([3,2,1],[1,2,3],[2,1,3])\n",
    "display(N*A)"
   ]
  },
  {
   "cell_type": "markdown",
   "metadata": {},
   "source": [
    "**Reglas de broadcasting en NumPy**   \n",
    "1. Si dos arreglos son de dimensiones distintas, la dimensión del más pequeñose agranda con '1's por la izquierda\n",
    "2. Si dos arreglos tienen tamaños distintos, el que tiene tamaño '1' se estira en dicha dimensión.\n",
    "3. Si en cualquier dimensión los tamaños son distintos y ninguno es igual a '1', ocurre un error.\n",
    "\n",
    "<img src=\"images/broadcasting.png\">"
   ]
  },
  {
   "cell_type": "markdown",
   "metadata": {},
   "source": [
    "#### Operaciones matriciales   \n",
    "Para realizar una multiplicación matricial podemos usar **dot** "
   ]
  },
  {
   "cell_type": "code",
   "execution_count": 42,
   "metadata": {
    "scrolled": true
   },
   "outputs": [
    {
     "data": {
      "text/plain": [
       "array([[0, 1],\n",
       "       [2, 3]])"
      ]
     },
     "metadata": {},
     "output_type": "display_data"
    },
    {
     "data": {
      "text/plain": [
       "array([[3, 2],\n",
       "       [1, 0]])"
      ]
     },
     "metadata": {},
     "output_type": "display_data"
    },
    {
     "data": {
      "text/plain": [
       "array([[1, 0],\n",
       "       [9, 4]])"
      ]
     },
     "metadata": {},
     "output_type": "display_data"
    }
   ],
   "source": [
    "A = np.arange(4).reshape(2,2)\n",
    "B = np.arange(4)[::-1].reshape(2,2)\n",
    "display(A,B)\n",
    "display(np.dot(A,B))"
   ]
  },
  {
   "cell_type": "markdown",
   "metadata": {},
   "source": [
    "Otras operaciones útiles son:\n",
    "- **np.inner**, que calcula el producto escalar o producto interno\n",
    "- **np.outer**, que calcula el producto externo\n",
    "- **np.cross**, que calcula producto cruz"
   ]
  },
  {
   "cell_type": "code",
   "execution_count": 43,
   "metadata": {},
   "outputs": [
    {
     "data": {
      "text/plain": [
       "array([[ 2,  0],\n",
       "       [12,  2]])"
      ]
     },
     "metadata": {},
     "output_type": "display_data"
    },
    {
     "data": {
      "text/plain": [
       "array([[0, 0, 0, 0],\n",
       "       [3, 2, 1, 0],\n",
       "       [6, 4, 2, 0],\n",
       "       [9, 6, 3, 0]])"
      ]
     },
     "metadata": {},
     "output_type": "display_data"
    },
    {
     "data": {
      "text/plain": [
       "array([-3, -3])"
      ]
     },
     "metadata": {},
     "output_type": "display_data"
    }
   ],
   "source": [
    "display(np.inner(A,B))\n",
    "display(np.outer(A,B))\n",
    "display(np.cross(A,B))"
   ]
  },
  {
   "cell_type": "markdown",
   "metadata": {},
   "source": [
    "#### Operaciones de reducción\n",
    "Llamamos **reducción** a una operación que **agrega** los valores de un arreglo entregando un único valor como respuesta.  \n",
    "     \n",
    "     \n",
    "La reducción más básica es la **suma agregada**:\n",
    "\n",
    "[1,2,3,4] = 1+2+3+4 = 10\n",
    "\n",
    "___Las operaciones de reducción se usan ampliamente para resumir datos y hacer estadística___\n",
    "Algunas de las reducciones disponibles de NumPy son:\n",
    "- **sum**, **prod**\n",
    "- **amax**(val max), **amin**(val min), **argmax**(indice valor max), **argmin**(indice val min)\n",
    "- **mean**(media), **std**(desviación estándar), **var.percentile**(varianza), **median**(mediana)\n",
    "- **comsum**(suma acumulada), **cumprod**(producto acumulado)"
   ]
  },
  {
   "cell_type": "code",
   "execution_count": 44,
   "metadata": {},
   "outputs": [
    {
     "data": {
      "text/plain": [
       "array([[0, 1, 2],\n",
       "       [0, 1, 2],\n",
       "       [0, 1, 2]])"
      ]
     },
     "metadata": {},
     "output_type": "display_data"
    },
    {
     "data": {
      "text/plain": [
       "array([0, 3, 6])"
      ]
     },
     "metadata": {},
     "output_type": "display_data"
    },
    {
     "data": {
      "text/plain": [
       "array([3, 3, 3])"
      ]
     },
     "metadata": {},
     "output_type": "display_data"
    },
    {
     "data": {
      "text/plain": [
       "9"
      ]
     },
     "metadata": {},
     "output_type": "display_data"
    },
    {
     "data": {
      "text/plain": [
       "array([[-1.26892903, -0.2191877 ,  0.55555975],\n",
       "       [-0.67189019,  0.40067862, -0.72205166],\n",
       "       [-0.05803631, -0.54140871,  1.00669357]])"
      ]
     },
     "metadata": {},
     "output_type": "display_data"
    },
    {
     "data": {
      "text/plain": [
       "array([-0.05803631,  0.40067862,  1.00669357])"
      ]
     },
     "metadata": {},
     "output_type": "display_data"
    },
    {
     "data": {
      "text/plain": [
       "array([2, 1, 2])"
      ]
     },
     "metadata": {},
     "output_type": "display_data"
    }
   ],
   "source": [
    "#ejemplos\n",
    "A = np.tile(np.arange(3), (3,1)) #crea matriz\n",
    "display(A) #imprime matriz\n",
    "display(np.sum(A, axis =0)) #imprime suma x columna\n",
    "display(np.sum(A, axis =1)) #imprime suma x fila\n",
    "display(np.sum(A)) #imprime suma de componentes\n",
    "A = np.random.randn(3,3) #crea matriz 3x3 aleat\n",
    "display(A) \n",
    "display(np.amax(A, axis=0)) #imprime los valores mas altos de las columnas\n",
    "display(np.argmax(A, axis=0)) #imprime el indice más alto de los valores altos de columnas"
   ]
  },
  {
   "cell_type": "markdown",
   "metadata": {},
   "source": [
    "#### Operaciones vectorizadas \n",
    "Son funciones que operan de forma element-wise o elemento a elemento. Por ejemplo, para calcular el valor absoluto de los elementos de un arreglo, exponenciar un arreglo, calcilar las funciones exponencial, logaritmo y trigonométricas a partir de un arreglo"
   ]
  },
  {
   "cell_type": "code",
   "execution_count": 45,
   "metadata": {
    "scrolled": true
   },
   "outputs": [
    {
     "data": {
      "text/plain": [
       "array([[ 0.37833156,  0.33401607, -0.83228624],\n",
       "       [ 0.10959401,  0.81035418, -1.47887288],\n",
       "       [ 2.08934901,  0.60760521,  0.07386926]])"
      ]
     },
     "metadata": {},
     "output_type": "display_data"
    },
    {
     "data": {
      "text/plain": [
       "array([ 0,  1,  4,  9, 16, 25, 36, 49, 64, 81])"
      ]
     },
     "metadata": {},
     "output_type": "display_data"
    },
    {
     "data": {
      "text/plain": [
       "array([0.        , 1.        , 1.41421356, 1.73205081, 2.        ,\n",
       "       2.23606798, 2.44948974, 2.64575131, 2.82842712, 3.        ])"
      ]
     },
     "metadata": {},
     "output_type": "display_data"
    },
    {
     "data": {
      "text/plain": [
       "array([ 0,  1,  4,  9, 16, 25, 36, 49, 64, 81])"
      ]
     },
     "metadata": {},
     "output_type": "display_data"
    },
    {
     "name": "stderr",
     "output_type": "stream",
     "text": [
      "<ipython-input-45-a9067c3bff0d>:8: RuntimeWarning: divide by zero encountered in log\n",
      "  display(np.log(x))\n"
     ]
    },
    {
     "data": {
      "text/plain": [
       "array([      -inf, 0.        , 0.69314718, 1.09861229, 1.38629436,\n",
       "       1.60943791, 1.79175947, 1.94591015, 2.07944154, 2.19722458])"
      ]
     },
     "metadata": {},
     "output_type": "display_data"
    },
    {
     "data": {
      "text/plain": [
       "array([1.00000000e+00, 2.71828183e+00, 7.38905610e+00, 2.00855369e+01,\n",
       "       5.45981500e+01, 1.48413159e+02, 4.03428793e+02, 1.09663316e+03,\n",
       "       2.98095799e+03, 8.10308393e+03])"
      ]
     },
     "metadata": {},
     "output_type": "display_data"
    },
    {
     "data": {
      "text/plain": [
       "array([ 0.        ,  0.84147098,  0.90929743,  0.14112001, -0.7568025 ,\n",
       "       -0.95892427, -0.2794155 ,  0.6569866 ,  0.98935825,  0.41211849])"
      ]
     },
     "metadata": {},
     "output_type": "display_data"
    },
    {
     "data": {
      "text/plain": [
       "array([ 1.        ,  0.54030231, -0.41614684, -0.9899925 , -0.65364362,\n",
       "        0.28366219,  0.96017029,  0.75390225, -0.14550003, -0.91113026])"
      ]
     },
     "metadata": {},
     "output_type": "display_data"
    },
    {
     "data": {
      "text/plain": [
       "array([ 0.        ,  1.55740772, -2.18503986, -0.14254654,  1.15782128,\n",
       "       -3.38051501, -0.29100619,  0.87144798, -6.79971146, -0.45231566])"
      ]
     },
     "metadata": {},
     "output_type": "display_data"
    }
   ],
   "source": [
    "A = np.random.randn(3,3)\n",
    "display(A)\n",
    "np.absolute(A) # Equivalente a np.abs\n",
    "x = np.arange(10) #creamos vector[0,1,..,8,9]\n",
    "display(np.power(x,2)) #le saca el cuadrado a x\n",
    "display(np.sqrt(x)) #le saca raiz cuadrada a x\n",
    "display(x**2) #le saca el cuadrado a x\n",
    "display(np.log(x))\n",
    "display(np.exp(x))\n",
    "display(np.sin(x))\n",
    "display(np.cos(x))\n",
    "display(np.tan(x))\n"
   ]
  },
  {
   "cell_type": "markdown",
   "metadata": {},
   "source": [
    "Otras funciones son **sign**, **reciprocal**, **round**(redondeo), **floor**(piso), **ciel**(cielo), **real**(parte real),**imag**(parte imaginaria), **conj**(conjugado). "
   ]
  },
  {
   "cell_type": "markdown",
   "metadata": {},
   "source": [
    "#### Operaciones booleanas\n",
    "NumPy soporta operaciones booleanas sobre ndarray"
   ]
  },
  {
   "cell_type": "code",
   "execution_count": 46,
   "metadata": {
    "scrolled": false
   },
   "outputs": [
    {
     "data": {
      "text/plain": [
       "array([[0, 1, 2],\n",
       "       [3, 4, 5]])"
      ]
     },
     "metadata": {},
     "output_type": "display_data"
    },
    {
     "data": {
      "text/plain": [
       "array([[False, False, False],\n",
       "       [False,  True, False]])"
      ]
     },
     "metadata": {},
     "output_type": "display_data"
    },
    {
     "data": {
      "text/plain": [
       "array([[False, False, False],\n",
       "       [False,  True, False]])"
      ]
     },
     "metadata": {},
     "output_type": "display_data"
    }
   ],
   "source": [
    "A = np.arange(6).reshape(2,3) #Genera matriz 2x3 con los valores del 0 al 5\n",
    "display(A) #imprime matriz \n",
    "display(A == 4) #imprime true en aquel lugar de la matriz donde el valor sea igual a 4\n",
    "display(np.equal(A,4))#imprime true en aquel lugar de la matriz donde el valor sea igual a 4"
   ]
  },
  {
   "cell_type": "markdown",
   "metadata": {},
   "source": [
    "Con esto, podemos crear una **máscara booleana** para indexar un arreglo"
   ]
  },
  {
   "cell_type": "code",
   "execution_count": 47,
   "metadata": {
    "scrolled": true
   },
   "outputs": [
    {
     "data": {
      "text/plain": [
       "array([[False, False, False],\n",
       "       [ True, False,  True]])"
      ]
     },
     "metadata": {},
     "output_type": "display_data"
    },
    {
     "data": {
      "text/plain": [
       "array([3, 5])"
      ]
     },
     "metadata": {},
     "output_type": "display_data"
    }
   ],
   "source": [
    "mask = ~(A % 2 == 0) & (A > 2)\n",
    "# La máscara asignará true a todos aquellos valores que:\n",
    "# 1) sean mayores a 2 y\n",
    "# 2) sean numeros impares\n",
    "display(mask) #imprime la máscara\n",
    "display(A[mask]) # entrega aquellos valores en true de A."
   ]
  },
  {
   "cell_type": "markdown",
   "metadata": {},
   "source": [
    "La funcion **where** sirve para recuperar el índice de los elementos que cumplen con cierta condición.\n"
   ]
  },
  {
   "cell_type": "code",
   "execution_count": 48,
   "metadata": {
    "scrolled": true
   },
   "outputs": [
    {
     "data": {
      "text/plain": [
       "'Fila 1 Columna 0 Valor 3'"
      ]
     },
     "metadata": {},
     "output_type": "display_data"
    },
    {
     "data": {
      "text/plain": [
       "'Fila 1 Columna 2 Valor 5'"
      ]
     },
     "metadata": {},
     "output_type": "display_data"
    }
   ],
   "source": [
    "(ixs,iys) = np.where(~(A%2==0)&(A>2))\n",
    "for i, j in zip(ixs,iys):\n",
    "    display(\"Fila {0} Columna {1} Valor {2}\".format(i,j,A[i,j]))"
   ]
  },
  {
   "cell_type": "markdown",
   "metadata": {},
   "source": [
    "#### Operaciones de conjunto\n",
    "Operaciones tipo unión, intersección y diferencia entre arreglos 1D.    \n",
    "Si se les entrega un arreglo de mayor dimensión, este se aplanará automáticamente."
   ]
  },
  {
   "cell_type": "code",
   "execution_count": 49,
   "metadata": {
    "scrolled": true
   },
   "outputs": [
    {
     "data": {
      "text/plain": [
       "array([[0, 1, 2],\n",
       "       [3, 4, 5]])"
      ]
     },
     "metadata": {},
     "output_type": "display_data"
    },
    {
     "data": {
      "text/plain": [
       "array([  0,   1,  10, 100])"
      ]
     },
     "metadata": {},
     "output_type": "display_data"
    },
    {
     "data": {
      "text/plain": [
       "array([  0,   1,   2,   3,   4,   5,  10, 100])"
      ]
     },
     "metadata": {},
     "output_type": "display_data"
    },
    {
     "data": {
      "text/plain": [
       "array([0, 1])"
      ]
     },
     "metadata": {},
     "output_type": "display_data"
    },
    {
     "data": {
      "text/plain": [
       "array([2, 3, 4, 5])"
      ]
     },
     "metadata": {},
     "output_type": "display_data"
    },
    {
     "data": {
      "text/plain": [
       "array([ 10, 100])"
      ]
     },
     "metadata": {},
     "output_type": "display_data"
    }
   ],
   "source": [
    "B = np.array([0,1,10,100])\n",
    "display(A)\n",
    "display(B)\n",
    "display(np.union1d(A,B)) #Union de A y B\n",
    "display(np.intersect1d(A,B)) #Interseccion de A y B\n",
    "display(np.setdiff1d(A,B)) #Lo que hay en A y no en B\n",
    "display(np.setdiff1d(B,A)) #Lo que hay en B y no en A\n",
    "\n"
   ]
  },
  {
   "cell_type": "markdown",
   "metadata": {},
   "source": [
    "#### Ordenando arreglos\n",
    "NumPy provee la función **np.sort** para ordenar un ndarray.    \n",
    "Se puede pasar un arguemento **kind** para escojer distintos algoritmos de ordenamiento.     \n",
    "El arguemento **axis** especifíca que eje se va a ordenar.\n"
   ]
  },
  {
   "cell_type": "code",
   "execution_count": 50,
   "metadata": {
    "scrolled": true
   },
   "outputs": [
    {
     "data": {
      "text/plain": [
       "array([[-0.08966451, -0.51208147],\n",
       "       [-0.0787538 ,  0.37116928]])"
      ]
     },
     "metadata": {},
     "output_type": "display_data"
    },
    {
     "data": {
      "text/plain": [
       "array([[-0.51208147, -0.08966451],\n",
       "       [-0.0787538 ,  0.37116928]])"
      ]
     },
     "metadata": {},
     "output_type": "display_data"
    },
    {
     "data": {
      "text/plain": [
       "array([[-0.08966451, -0.51208147],\n",
       "       [-0.0787538 ,  0.37116928]])"
      ]
     },
     "metadata": {},
     "output_type": "display_data"
    },
    {
     "data": {
      "text/plain": [
       "array([-0.51208147, -0.08966451, -0.0787538 ,  0.37116928])"
      ]
     },
     "metadata": {},
     "output_type": "display_data"
    }
   ],
   "source": [
    "A = np.random.randn(2,2) #creo matriz 2x2 aleatoria\n",
    "display(A)\n",
    "display(np.sort(A, axis=1)) # ordena matriz en sentido de filas\n",
    "display(np.sort(A, axis=0)) # ordena matriz en sentido de columnas\n",
    "display(np.sort(A, axis=None)) #aplana la matriz y ordena sus elementos en un vector 1d"
   ]
  },
  {
   "cell_type": "markdown",
   "metadata": {},
   "source": [
    "La función **argsort** entrega un arreglo de indices que ordena el arreglo de menor a mayor."
   ]
  },
  {
   "cell_type": "markdown",
   "metadata": {},
   "source": [
    "#### Módulos de NumPy\n",
    "1. **np.random**: \n",
    "Es un módulo para generar permutaciones y arreglos de números aleatorios, siguiendo distintas distribuciones\n",
    "    - np.random.rand(d1,d2,...,dn), genera flotantes con distribución uniforme en [0,1]\n",
    "    - np.random.seed, especifica la semilla para inicializar el generador de números pseudo-aleatorios. "
   ]
  },
  {
   "cell_type": "code",
   "execution_count": 51,
   "metadata": {},
   "outputs": [
    {
     "data": {
      "text/plain": [
       "array([0.5488135 , 0.71518937, 0.60276338, 0.54488318, 0.4236548 ,\n",
       "       0.64589411, 0.43758721, 0.891773  , 0.96366276, 0.38344152])"
      ]
     },
     "metadata": {},
     "output_type": "display_data"
    }
   ],
   "source": [
    "np.random.seed(0)\n",
    "data = np.random.rand(10) # Al utilizar la semilla, siempre estamos obteniendo los mismos valores\n",
    "display(data)"
   ]
  },
  {
   "cell_type": "markdown",
   "metadata": {},
   "source": [
    "## 6. Inteligencia Artificial "
   ]
  },
  {
   "cell_type": "code",
   "execution_count": null,
   "metadata": {},
   "outputs": [],
   "source": []
  },
  {
   "cell_type": "markdown",
   "metadata": {},
   "source": [
    "libraries like: scipy, matplotlib, numpy, pandas, django?? then ML->DL\n"
   ]
  }
 ],
 "metadata": {
  "kernelspec": {
   "display_name": "Python 3",
   "language": "python",
   "name": "python3"
  },
  "language_info": {
   "codemirror_mode": {
    "name": "ipython",
    "version": 3
   },
   "file_extension": ".py",
   "mimetype": "text/x-python",
   "name": "python",
   "nbconvert_exporter": "python",
   "pygments_lexer": "ipython3",
   "version": "3.8.5"
  }
 },
 "nbformat": 4,
 "nbformat_minor": 4
}
