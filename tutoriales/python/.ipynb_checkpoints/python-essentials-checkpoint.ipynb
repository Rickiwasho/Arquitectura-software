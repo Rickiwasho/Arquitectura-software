{
 "cells": [
  {
   "cell_type": "markdown",
   "metadata": {},
   "source": [
    "# MIS NOTAS DE PYTHON"
   ]
  },
  {
   "cell_type": "markdown",
   "metadata": {},
   "source": [
    "## 1. Python básico\n",
    "\n",
    "### Funciones  \n",
    "\n",
    "Las funciones son como mini programas dentro de un programa. Su objetivo es combatir la duplicación de código y granularlo en pequeñas porciones.\n",
    "\n",
    "- El string def define la función.\n",
    "- La entrada de las funciones son los argumentos.\n",
    "- La salida de una función son los valores de retorno.\n",
    "- Los parámetros son las variables dentro de los paréntesis en la declaración de la función.\n",
    "- El valor de retorno es especificado usando la sentencia return.\n",
    "\n",
    "Cada función tiene un valor de retorno. Si tu función no tiene una sentencia de retorno, el valor a retornar por defecto es None. "
   ]
  },
  {
   "cell_type": "code",
   "execution_count": 1,
   "metadata": {},
   "outputs": [
    {
     "name": "stdout",
     "output_type": "stream",
     "text": [
      "the number is: 2\n"
     ]
    }
   ],
   "source": [
    "import random\n",
    "def randomGenerator():\n",
    "    x = random.randint(1, 10)\n",
    "    return x\n",
    "\n",
    "print(\"the number is: \" + str(randomGenerator()))"
   ]
  },
  {
   "cell_type": "markdown",
   "metadata": {},
   "source": [
    "### Alcance global y local  \n",
    "- El alcance puede entenderse como cierta área en el código que contiene variables.\n",
    "- El alcance global se entiende como el área fuera de las funciones. Las funciones asignadas en dicha área son llamadas variables globales. \n",
    "- Cada función tiene su propio alcance, a esto se entiende por alcance local. Las variables definidas dentro de las funciones se conocen como variables locales.\n",
    "- El código de alcance global **no** puede usar variables locales.\n",
    "- El código en una función con alcance local no puede usar variables de otra función con alcance local.\n",
    "- Si hay una sentencia de declaración para una variable en una función, esta siempre será de alcance local.\n",
    "\n"
   ]
  },
  {
   "cell_type": "code",
   "execution_count": 2,
   "metadata": {},
   "outputs": [
    {
     "name": "stdout",
     "output_type": "stream",
     "text": [
      "10\n",
      "110\n"
     ]
    }
   ],
   "source": [
    "var1 = 10 #global variable\n",
    "def funct():\n",
    "    var2 = 20 #local variable\n",
    "    global var3 \n",
    "    var3= 100\n",
    "    \n",
    "funct()\n",
    "print(var1)\n",
    "print(var1+var3)\n",
    "#print(var2) imprime error "
   ]
  },
  {
   "cell_type": "markdown",
   "metadata": {},
   "source": [
    "### Sentencias Try y Except \n",
    "- El error divide-by-zero ocurre cuando python divide un número por cero.\n",
    "- Los errores hacen que el programa se caiga.\n",
    "- Un error que ocurre dentro de un bloque try causa que se ejecute el código en el bloque except. Ese código puede manejar el error o entregar un mensaje al usuario, de esta forma el programa puede seguir funcionando."
   ]
  },
  {
   "cell_type": "code",
   "execution_count": 3,
   "metadata": {},
   "outputs": [
    {
     "name": "stdout",
     "output_type": "stream",
     "text": [
      "4.2\n",
      "0.4666666666666667\n",
      "ERROR: You tried to divide by zero. \n",
      "None\n",
      "42.0\n"
     ]
    }
   ],
   "source": [
    "def div42by(number):\n",
    "    try:\n",
    "        return 42/number\n",
    "    except:\n",
    "        print(\"ERROR: You tried to divide by zero. \")\n",
    "print(div42by(10))\n",
    "print(div42by(90))\n",
    "print(div42by(0))\n",
    "print(div42by(1))"
   ]
  },
  {
   "cell_type": "markdown",
   "metadata": {},
   "source": [
    "###  list\n",
    "Primero que todo, debes saber que en python los arreglos no son una estructura de datos nativa. Python posee 'list' o listas que son mutables, esto significa que son capaces de modificarse, cambiando el contenido que almacenan. \n",
    "Las listas pueden almacenar información de distinto tipo. Es como una mochila, dentro de esta puedes almacenar lo que quieras. \n",
    "\n",
    "#### los métodos más útiles para interactuar con listas: \n",
    "- **list1.insert(position, element)**,  insert an element in  position\n",
    "- **list1.append(element)**,  insert an element in the top of the list\n",
    "- **list1.remove(element)**, remove an element. if the element doesn't exist in list then return a ValueError. You MUST use try-except.\n",
    "- **list1.extends(lista2)**, insert in the top of the list1 all the elements of list2\n",
    "- **list1.count(element)**, return the number of appearances of the element in list\n",
    "- **list1.index(element)**, obtain the position of the element in list. if the element doesn't exist in list then return a ValueError(use try-except)\n",
    "- **list.copy()**, this make a copy of a list\n",
    "- **list.sort()**, this returns the sorted list data in ascending order\n",
    "- **list.reverse()**, reverse the items in any list. useful for sorting lit in descending order.\n",
    "- **list.clear()**, remove all elements in list. useful for re-assigning the values of a values of a list by removing the previous items \n",
    "\n",
    "\n"
   ]
  },
  {
   "cell_type": "code",
   "execution_count": 4,
   "metadata": {},
   "outputs": [
    {
     "name": "stdout",
     "output_type": "stream",
     "text": [
      "apple\n",
      "1\n",
      "True\n",
      "LOL\n",
      "last_item\n",
      "last_item\n",
      "LOL\n"
     ]
    }
   ],
   "source": [
    "bag = ['apple', 1, True, \"LOL\",\"last_item\"]\n",
    "for x in range(0,len(bag)):\n",
    "    print(bag[x])\n",
    "print(bag[-1])\n",
    "print(bag[-2])"
   ]
  },
  {
   "cell_type": "markdown",
   "metadata": {},
   "source": [
    "### diccionario\n",
    "Un diccionario es una colección de muchos valores, pero a diferencia de los índices de las listas, los diccionarios pueden usar distintos tipos de datos, no solo enteros. Los índices en los diccionarios son llamados llaves y están asociados a un valor llamado valor-clave.\n",
    "- Los diccionarios son mutables. Las variables tienen referencias a los valores de los diccionarios, no al valor del diccionario.\n",
    "- Los diccionarios no tienen orden, no tienen un primer valor-clave."
   ]
  },
  {
   "cell_type": "code",
   "execution_count": 5,
   "metadata": {},
   "outputs": [
    {
     "name": "stdout",
     "output_type": "stream",
     "text": [
      "black\n",
      "['size', 'color', 'disposition']\n",
      "['small', 'black', 'loud']\n",
      "[('size', 'small'), ('color', 'black'), ('disposition', 'loud')]\n",
      "my cat color is: black\n"
     ]
    }
   ],
   "source": [
    "myCat = {'size': 'small', 'color': 'black', 'disposition': 'loud'}\n",
    "print(myCat['color'])\n",
    "'color' in myCat\n",
    "#if('color' in myCat != False): print('My cat has the color:'+ myCat['color'])\n",
    "#if('color' not in myCat != True): print('wtf my cat does not have color')\n",
    "print(list(myCat.keys()))\n",
    "print(list(myCat.values()))\n",
    "print(list(myCat.items()))\n",
    "print('my cat color is: ' + myCat.get('color', 'does not have color :('))\n"
   ]
  },
  {
   "cell_type": "markdown",
   "metadata": {},
   "source": [
    "EXERCISE: Counting the characters of string"
   ]
  },
  {
   "cell_type": "code",
   "execution_count": 6,
   "metadata": {},
   "outputs": [
    {
     "name": "stdout",
     "output_type": "stream",
     "text": [
      "[('H', 1),\n",
      " ('O', 3),\n",
      " ('L', 1),\n",
      " ('A', 2),\n",
      " ('C', 1),\n",
      " ('M', 1),\n",
      " ('E', 1),\n",
      " ('S', 1),\n",
      " ('T', 1),\n",
      " ('I', 3),\n",
      " ('J', 2)]\n"
     ]
    }
   ],
   "source": [
    "import pprint\n",
    "longtext = 'holacomoestaijiji'\n",
    "count = {}\n",
    "for char in longtext.upper():\n",
    "    count.setdefault(char,0)\n",
    "    count[char] = count[char] + 1\n",
    "pprint.pprint(list(count.items()))\n",
    "    "
   ]
  },
  {
   "cell_type": "markdown",
   "metadata": {},
   "source": [
    "The pprint module's pprint() \"pretty print\" function can display a dictionary value cleanly. The pformat() function returns a string value of this output. "
   ]
  },
  {
   "cell_type": "markdown",
   "metadata": {},
   "source": [
    "###  Strings\n",
    "Caracteres de escape:   \n",
    "- \\' = Single quote  \n",
    "- \\\" = Double quote  \n",
    "- \\t = tab  \n",
    "- \\n = Line break  \n",
    "- \\\\ = Backlash  \n",
    "\n",
    "\n",
    "     \n",
    "también, \"\"\" any_text \"\"\" es útil.   "
   ]
  },
  {
   "cell_type": "code",
   "execution_count": 7,
   "metadata": {},
   "outputs": [
    {
     "name": "stdout",
     "output_type": "stream",
     "text": [
      "This is a text message: 'hello  \" wut \"'\n",
      "h\n",
      "o\n",
      "l\n",
      "a\n"
     ]
    }
   ],
   "source": [
    "print(\"This is a text message: 'hello  \\\" wut \\\"'\")\n",
    "r\"That's not my cat\\'s' name\"\n",
    "print(\"\"\"h\n",
    "o\n",
    "l\n",
    "a\"\"\")"
   ]
  },
  {
   "cell_type": "markdown",
   "metadata": {},
   "source": [
    "##### Métodos útiles \n",
    "- text.upper() or text.lower() = todos los caracteres se transforman a mayús o minús \n",
    "- text.isalpha() = sólo letras\n",
    "- text.isalnum() = sólo números o letras\n",
    "- text.isdecimal() = sólo numeros\n",
    "- text.isspace() = sólo espacios\n",
    "- text.istitle() = string que comienzan con mayús y  el resto es minús\n",
    "\n"
   ]
  },
  {
   "cell_type": "code",
   "execution_count": 8,
   "metadata": {
    "scrolled": true
   },
   "outputs": [
    {
     "name": "stdout",
     "output_type": "stream",
     "text": [
      "HELLO WORLD\n",
      "hello world\n",
      "cat and mouse and dog\n"
     ]
    }
   ],
   "source": [
    "text = \"heLlO World\"\n",
    "print(text.upper())\n",
    "print(text.lower())\n",
    "us = ['cat','mouse','dog']\n",
    "print(' and '.join(us))"
   ]
  },
  {
   "cell_type": "markdown",
   "metadata": {},
   "source": [
    "String formatting"
   ]
  },
  {
   "cell_type": "code",
   "execution_count": 9,
   "metadata": {
    "scrolled": true
   },
   "outputs": [
    {
     "name": "stdout",
     "output_type": "stream",
     "text": [
      "Hello John, you are invited to a party in St. Clement street at 10 pm. Bring avocado.\n"
     ]
    }
   ],
   "source": [
    "name = 'John'\n",
    "place = 'St. Clement'\n",
    "time = '10'\n",
    "food = 'avocado'\n",
    "print('Hello %s, you are invited to a party in %s street at %s pm. Bring %s.' % (name,place, time, food))"
   ]
  },
  {
   "cell_type": "markdown",
   "metadata": {},
   "source": [
    "###  Expresiones regulares\n",
    "\n",
    "- Las expresiones regulares son como mini lenguajes para especificar patrones de texto. Escribir código para hacer reconocimento de patrones de texto puede resultar bastante tedioso, en estos casos, las expresiones regulares pueden ahorrarnos bastante trabajo.\n",
    "- Regex strings usan \\ backslashes (like \\d), así que a menudo son strings del tipo: r'\\d'.   \n",
    "- Para emplear Regex, es necesario **importar re**.   \n",
    "- Debes llamar a la función **re.compile()** para crear un objeto regex.\n",
    "- \\d es la regex para un digito numerico del 0 al 9.   \n",
    "- \\D para cualquier carácter que no es un digito numerico del 0 al 9.\n",
    "- \\w cualquier letra, digito numerico, o underscore character.\n",
    "- \\W para cualquier caracter que no sea una letra, digito o carácter subrayado\n",
    "- \\s para cualquier espacio, tabulacion y salto de linea\n",
    "- \\S para cualquier caracter que no sea espacio, tabulacion y salto de linea\n",
    "- El caracter ^ antecediendo a  [aeiou] entregará todos los caracteres distintos al contenido del paréntesis"
   ]
  },
  {
   "cell_type": "code",
   "execution_count": 10,
   "metadata": {},
   "outputs": [
    {
     "name": "stdout",
     "output_type": "stream",
     "text": [
      "Wow. Thanks!\n"
     ]
    }
   ],
   "source": [
    "# Queremos un código para identificar si el texto es un número de telefono\n",
    "def isPhoneNumber(text): #412-123-1231\n",
    "    if(len(text)!= 12): \n",
    "        return False\n",
    "    for i in range(0,3):\n",
    "        if not text[i].isdecimal(): \n",
    "            return False\n",
    "    if(text[3] != '-'): \n",
    "        return False\n",
    "    for i in range(4,7):\n",
    "        if not text[i].isdecimal():\n",
    "            return False\n",
    "    if(text[7]!= '-'):\n",
    "        return False\n",
    "    for i in range(8, 12):\n",
    "        if not text[i].isdecimal():\n",
    "            return False\n",
    "    return True\n",
    "\n",
    "number = '412-123-1231'\n",
    "if(isPhoneNumber(number) == True):\n",
    "    print('Wow. Thanks!')\n",
    "else: print('error')"
   ]
  },
  {
   "cell_type": "markdown",
   "metadata": {},
   "source": [
    "Esto es equivalente a:"
   ]
  },
  {
   "cell_type": "code",
   "execution_count": 11,
   "metadata": {},
   "outputs": [
    {
     "name": "stdout",
     "output_type": "stream",
     "text": [
      "['128-123-9999', '111-222-3333']\n"
     ]
    }
   ],
   "source": [
    "import re\n",
    "message = 'Call me 128-123-9999 tomorrow, or at 111-222-3333'\n",
    "phoneNumRegex = re.compile(r'\\d\\d\\d-\\d\\d\\d-\\d\\d\\d\\d')\n",
    "#mo = phoneNumRegex.search(message) //obtiene la primera ocurrencia y almacena en mo\n",
    "print(phoneNumRegex.findall(message)) # Con findall encontramos todas las ocurrencias en el texto"
   ]
  },
  {
   "cell_type": "markdown",
   "metadata": {},
   "source": [
    "Es posible **agrupar** los elementos que componen a la expresión regular, de esta forma, podremos obtener partes específicas. \n",
    "Para agrupar los elementos que componen la expresión regular utilizamos peréntesis, estos deberán rodear dichos grupos.    \n",
    "     \n",
    "Por ejemplo: r'(\\d\\d\\d\\d)-(\\d\\d\\d)-(\\d\\d\\d)', está conformado por 3 grupos. "
   ]
  },
  {
   "cell_type": "code",
   "execution_count": 12,
   "metadata": {},
   "outputs": [
    {
     "data": {
      "text/plain": [
       "'9999'"
      ]
     },
     "execution_count": 12,
     "metadata": {},
     "output_type": "execute_result"
    }
   ],
   "source": [
    "phoneNumRegex = re.compile(r'(\\d\\d\\d)-(\\d\\d\\d)-(\\d\\d\\d\\d)')\n",
    "mo = phoneNumRegex.search('Call me 128-123-9999')\n",
    "mo.group(3) # despliega el grupo 3 compuesto por 9999"
   ]
  },
  {
   "cell_type": "markdown",
   "metadata": {},
   "source": [
    "El carácter **|**, conocido como pipe, permite localizar las posibles ocurrencias en un string dado un grupo de posibles candidatos.   "
   ]
  },
  {
   "cell_type": "code",
   "execution_count": 13,
   "metadata": {},
   "outputs": [
    {
     "data": {
      "text/plain": [
       "'sandia'"
      ]
     },
     "execution_count": 13,
     "metadata": {},
     "output_type": "execute_result"
    }
   ],
   "source": [
    "# programa que retorna la primera ocurrencia\n",
    "saRegex = re.compile(r'sa(ndia|bor|bado|lud|grado)')\n",
    "mo = saRegex.search(\"La sandia tiene un sabor sagrado\")\n",
    "#mo = saRegex.search(\"La naranja tiene un color pálido\")\n",
    "#mo == None\n",
    "mo.group()"
   ]
  },
  {
   "cell_type": "markdown",
   "metadata": {},
   "source": [
    "El carácter **?** en una expresión regular hace referencia a _cero o una ocurrencia_ de un grupo, por ejemplo: "
   ]
  },
  {
   "cell_type": "code",
   "execution_count": 14,
   "metadata": {},
   "outputs": [
    {
     "data": {
      "text/plain": [
       "'Batwoman'"
      ]
     },
     "execution_count": 14,
     "metadata": {},
     "output_type": "execute_result"
    }
   ],
   "source": [
    "batRegex = re.compile(r'Bat(wo)?man') # Regex\n",
    "mo = batRegex.search('The adventures of Batman')\n",
    "mo.group() # print Batman\n",
    "mo = batRegex.search('The adventures of Batwoman')\n",
    "mo.group() # print Batwoman"
   ]
  },
  {
   "cell_type": "markdown",
   "metadata": {},
   "source": [
    "El carácter * en una expresión regular hace referencia a _cero o n ocurrencias_ de un grupo, por ejemplo:"
   ]
  },
  {
   "cell_type": "code",
   "execution_count": 15,
   "metadata": {},
   "outputs": [
    {
     "data": {
      "text/plain": [
       "'Batwowowowowowowoman'"
      ]
     },
     "execution_count": 15,
     "metadata": {},
     "output_type": "execute_result"
    }
   ],
   "source": [
    "batRegex = re.compile(r'Bat(wo)*man') #regex\n",
    "mo=batRegex.search('The adventures of Batwowowowowowowoman')\n",
    "mo.group()"
   ]
  },
  {
   "cell_type": "markdown",
   "metadata": {},
   "source": [
    "El carácter **+** en una expresión regular hace referencia a _una o más ocurrencias_ de un grupo, por ejemplo:\n"
   ]
  },
  {
   "cell_type": "code",
   "execution_count": 16,
   "metadata": {},
   "outputs": [
    {
     "data": {
      "text/plain": [
       "'Batwowoman'"
      ]
     },
     "execution_count": 16,
     "metadata": {},
     "output_type": "execute_result"
    }
   ],
   "source": [
    "batRegex = re.compile(r'Bat(wo)+man')\n",
    "mo = batRegex.search('The adventures of Batwowoman')\n",
    "mo.group()"
   ]
  },
  {
   "cell_type": "markdown",
   "metadata": {},
   "source": [
    "Los curly brackets {x} indican que en una expresión regular debe presentarse un grupo una cantidad x de veces, ejemplo:\n"
   ]
  },
  {
   "cell_type": "code",
   "execution_count": 17,
   "metadata": {},
   "outputs": [
    {
     "data": {
      "text/plain": [
       "'Batwowowoman'"
      ]
     },
     "execution_count": 17,
     "metadata": {},
     "output_type": "execute_result"
    }
   ],
   "source": [
    "batRegex = re.compile(r'Bat(wo){3}man')\n",
    "mo = batRegex.search('The adventures of Batwowowoman')\n",
    "mo.group()"
   ]
  },
  {
   "cell_type": "markdown",
   "metadata": {},
   "source": [
    "Cuando el curly brackets contiene dos atributos {x,y}, entonces x significa la cantidad mínima y y la cantidad máxima de el grupo de la expresión regular"
   ]
  },
  {
   "cell_type": "code",
   "execution_count": 18,
   "metadata": {},
   "outputs": [
    {
     "data": {
      "text/plain": [
       "'Batwowowowowoman'"
      ]
     },
     "execution_count": 18,
     "metadata": {},
     "output_type": "execute_result"
    }
   ],
   "source": [
    "batRegex = re.compile(r'Bat(wo){3,6}man')\n",
    "mo = batRegex.search('The adventures of Batwowowowowoman')\n",
    "mo.group()"
   ]
  },
  {
   "cell_type": "markdown",
   "metadata": {},
   "source": [
    "El punto **.** en una expresión regular reemplaza un carácter faltante para hacer el match con un string, por ejemplo:"
   ]
  },
  {
   "cell_type": "code",
   "execution_count": 19,
   "metadata": {},
   "outputs": [
    {
     "data": {
      "text/plain": [
       "['cat', 'hat', 'sat', 'lat', 'mat']"
      ]
     },
     "execution_count": 19,
     "metadata": {},
     "output_type": "execute_result"
    }
   ],
   "source": [
    "atRegex = re.compile (r'.at')\n",
    "atRegex.findall(\"the cat en the hat sat on the flat mat\")"
   ]
  },
  {
   "cell_type": "markdown",
   "metadata": {},
   "source": [
    "Utilizando findall() y agregando los elementos a un arreglo"
   ]
  },
  {
   "cell_type": "code",
   "execution_count": 20,
   "metadata": {},
   "outputs": [
    {
     "name": "stdout",
     "output_type": "stream",
     "text": [
      "['12 Drummers', '11 Pipers', '10 Lords', '9 Ladies', '8 Maids', '7 Swans', '6 Geese', '5 Golden', '4 Calling', '3 French', '2 Turtle']\n"
     ]
    }
   ],
   "source": [
    "lyrics = '12 Drummers Drumming, 11 Pipers Piping, 10 Lords a Leaping, 9 Ladies Dancing, 8 Maids a Milking, 7 Swans a Swimming, 6 Geese a Laying, 5 Golden Rings, 4 Calling Birds, 3 French Hens, 2 Turtle Doves, and a Partridge in a Pear Tree'\n",
    "xmasRegex = re.compile(r'\\d+\\s\\w+') #Buscar una cadena de texto con digito_letra\n",
    "arr=xmasRegex.findall(lyrics)\n",
    "print(arr)"
   ]
  },
  {
   "cell_type": "markdown",
   "metadata": {},
   "source": [
    "Podemos substituir elementos de una Regex"
   ]
  },
  {
   "cell_type": "code",
   "execution_count": 21,
   "metadata": {},
   "outputs": [
    {
     "data": {
      "text/plain": [
       "'REDACTED gave the secret documents to REDACTED.'"
      ]
     },
     "execution_count": 21,
     "metadata": {},
     "output_type": "execute_result"
    }
   ],
   "source": [
    "nameRegex = re.compile(r'Agent \\w+')\n",
    "message = 'Agent Alice gave the secret documents to Agent Bob.'\n",
    "nameRegex.findall(message)\n",
    "nameRegex.sub('REDACTED', message)"
   ]
  },
  {
   "cell_type": "markdown",
   "metadata": {},
   "source": [
    "#### Para mayor información sobre Expresiones regulares, recomiendo leer la documentación de la librería re"
   ]
  },
  {
   "cell_type": "markdown",
   "metadata": {},
   "source": [
    "## 2. Web Scraping"
   ]
  },
  {
   "cell_type": "markdown",
   "metadata": {},
   "source": [
    "Web scraping es una técnica utilizada mediante programas de software para extraer información de sitios web. Usualmente, estos programas simulan la navegación de un humano en internet, ya sea usando el protocolo HTTP manualmente, o inscrustando el navegador en una aplicación.   \n",
    "Para hacer web scraping se necesita, en primera instancia, instalar en tu máquina la librería HTTP **Requests** para Python.   \n",
    "```sh\n",
    "$ python -m pip install requests\n",
    "```\n"
   ]
  },
  {
   "cell_type": "code",
   "execution_count": 22,
   "metadata": {},
   "outputs": [
    {
     "data": {
      "text/plain": [
       "398924"
      ]
     },
     "execution_count": 22,
     "metadata": {},
     "output_type": "execute_result"
    }
   ],
   "source": [
    "import requests\n",
    "# vamos a intentar ingresar a Falabella\n",
    "res = requests.get('https://www.falabella.com/falabella-cl/')\n",
    "len(res.text) #indica la cantidad de caracteres que componen la pagina\n",
    "#print(res.text) #imprime los chars de la página\n"
   ]
  },
  {
   "cell_type": "markdown",
   "metadata": {},
   "source": [
    "El siguiente paso es instalar la libreria de Python **BeautifulSoup**.\n",
    "```sh\n",
    "$ pip install beautifulsoup4\n",
    "```"
   ]
  },
  {
   "cell_type": "code",
   "execution_count": 23,
   "metadata": {},
   "outputs": [],
   "source": [
    "import bs4\n",
    "#import requests\n",
    "# vamos a extraer el valor del siguiente producto de falabella\n",
    "res = requests.get('https://www.falabella.com/falabella-cl/product/8116897/Notebook-Intel-Core-i7-9750H-16GB-RAM-+-32GB-Intel-Optane-512GB-SSD-NVIDIA-GeForce-RTX-2080-15.6-/8116897')\n",
    "res.raise_for_status() # con este metodo nos aseguramos que la petición fue realizada con éxito\n",
    "#parseamos el texto a formato html\n",
    "soup = bs4.BeautifulSoup(res.text, 'html.parser')\n",
    "#Copiamos la ruta CSS del elemento que deseamos extraer\n",
    "element = soup.select('html body.custom_class div#__next div.jsx-1987097504.main section.jsx-4234634535.pdp-body div.jsx-4234634535.container div.jsx-4234634535.productContainer div.jsx-4113348717.pdp-container section.jsx-4113348717.pdp-detail-section div div.jsx-2170457292.product-specifications div.jsx-2170457292.product-specifications-column.fa--product-specifications-column__desktop div.jsx-2170457292.price div#testId-pod-prices-8116897.jsx-1904860942.prices.prices-4_GRID ol.jsx-1904860942.ol-4_GRID.pdp-prices.fa--prices li.jsx-1904860942.price-0 div.jsx-1904860942.cmr-icon-container span.copy13.primary.high.jsx-185326735.normal')\n",
    "#element[0].text"
   ]
  },
  {
   "cell_type": "markdown",
   "metadata": {},
   "source": [
    "Sería ideal generar una función que genere estre proceso y que tenga como argumento la url del producto que deseamos scrapear.\n",
    "<img src=\"images/falabella.png\">"
   ]
  },
  {
   "cell_type": "code",
   "execution_count": 24,
   "metadata": {
    "scrolled": false
   },
   "outputs": [
    {
     "name": "stdout",
     "output_type": "stream",
     "text": [
      "[['Notebook Intel Celeron 4GB 64Gb 14 pulgadas', '$  259.990  '],\n",
      " ['Notebook Intel Core i5 8GB RAM 256GB SSD 13.3\"', '$  709.990  '],\n",
      " ['Notebook 240 G7 Intel Core i3-1005G1 4GB RAM 1TB HDD 14\"', '$  419.990  '],\n",
      " ['Notebook 240 G7 Intel Core i5-8265U 4GB RAM 1TB 14\" Windows 10 Pro',\n",
      "  '$  499.990  '],\n",
      " ['Notebook Gamer Intel Core i5 8GB RAM + 16GB Intel Optane 256GB SSD NVIDIA '\n",
      "  'GeForce GTX 1050 15,6\"',\n",
      "  '$  719.990  '],\n",
      " ['Notebook Intel Pentium Gold 4GB RAM 500GB HDD 15.6\"', '$  399.990  '],\n",
      " ['Notebook Intel Core i7-8550U 16GB RAM 512GB SSD 14\" Windows 10 Pro',\n",
      "  '$  749.990  '],\n",
      " ['Notebook 240 G7 Intel Celeron N4020 RAM 4GB HDD 500GB 14\"  W10H',\n",
      "  '$  339.890  '],\n",
      " ['Macbook Air 13\" Intel Core i5 8GB RAM 512GB SSD Silver', '$  1.449.990  '],\n",
      " ['Notebook VivoBook S532FL-BQ332T Intel Core i7 8GB RAM 512Gb SSD 15,6\"',\n",
      "  '$  959.990  '],\n",
      " ['Notebook/Hp/240 G7/Intel Celeron/4Gb/500Gb/W10/14', '$  349.990  '],\n",
      " ['Notebook Hp 240 Cel N4020 4Gb 500Gb Win10H', '$  349.900  ']]\n"
     ]
    }
   ],
   "source": [
    "#import bs4, requests\n",
    "import pprint\n",
    "def getElements(productUrl):\n",
    "    res = requests.get(productUrl)\n",
    "    res.raise_for_status()\n",
    "    soup = bs4.BeautifulSoup(res.text, 'html.parser')\n",
    "    name = soup.findAll(\"b\", {\"class\": \"pod-subTitle\"})\n",
    "    price = soup.findAll(\"li\", {\"class\": \"price-0\"})\n",
    "    item = []\n",
    "    for i in range(len(price)):\n",
    "        item.append([name[i].text, price[i].text])\n",
    "    return item\n",
    "    \n",
    "elements = getElements('https://www.falabella.com/falabella-cl/category/cat70057/Notebooks?page=2')\n",
    "pprint.pprint(elements)"
   ]
  },
  {
   "cell_type": "markdown",
   "metadata": {},
   "source": [
    "## 3. Base de datos\n",
    "Una base de datos es un conjunto de datos pertenecientes a un mismo contexto y almacenados sistemáticamente para su posterior uso. \n",
    "### Base de datos relacionales\n",
    "Es un modelo utilizado en la actualidad para almacenar datos.  Relaciona filas con columnas en tablas. El poder de las bases de datos relacionales esta en su habilidad de recuperar datosde forma eficiente de  tablas, en particular, en aquellos casos donde hayan multiples tablas relacionadas.\n",
    "### Terminología\n",
    "- **Base de datos:**\n",
    "Contiene muchas tablas.\n",
    "- **Relación (o tabla):**\n",
    "Contiene filas y columnas.\n",
    "- **Tupla (o fila):**\n",
    "Un conjunto de campos que generalmente representan un \"objeto\".\n",
    "- **Atributo (columna o campo):**\n",
    "Uno de posiblemente muchos elementos de datos correspondientes al objeto representado por la fila.\n",
    "\n",
    "### SQL\n",
    "**Structured Query Language** es el lenguaje que usamos para enviar comandos a la base de datos. \n",
    "```sql\n",
    "CREATE TABLE \"Users\"(\"name\" TEXT, \"email\" TEXT)\n",
    "```\n",
    "Las palabras en verde son palabras clave del lenguaje, éstas definen la acción a realizar en la base de datos. Por convención, todas y cada una de las palabras clave de una sentencia SQL debe ser escrita en mayúscula.\n",
    "### Administrador de una base de datos\n",
    "Un **database administrator** (DBA) es una persona resposable del diseño, implementación, mantenimiento y reparación de la base de datos de alguna organización. Su rol ingloye el desarrollo y diseño de estrategias de base de datos, monitoreo y mejoras en el comportamiento y capacidad, planificando a futuro posibles requerimientos de expansión. También, coordinan e implementan medidas de seguridad para salvaguardar la base de datos.\n",
    "\n",
    "### Modelo de base de datos\n",
    "Un modelo de base de datos o esquema de base de datos es una estructura o formato para una base de datos, descrito en un lenguaje formal compatible por el sistema de gestión de base de datos.\n",
    "#### Sistemas de base de datos comunes\n",
    "- **Oracle**,\n",
    "Grande, comercial, escala enterprise, muy modificable\n",
    "- **MySql**,\n",
    "Simple, rápido y escalable, open source commercial\n",
    "- **SqlServer**,\n",
    "- **HSQL, SQLite, Postgres,** etc\n",
    "\n",
    "### SQLite Browser\n",
    "SQLite es una base de datos popular, es gratis, rápida y pequeña.   \n",
    "SQLite Browser nos permite manipular directamente archivos SQLite. Para descargar el software necesario debes dirigirte a la siguiente direccion y seguir las instrucciones de instalación: http://sqlitebrowser.org/      \n",
    "SQLite es incrustado en Python, entre muchos otros lenguajes de programación.\n",
    "Una vez instalado, deberás ejecutar el programa y crear una nueva base de datos. Para ello tienes que hacer clic en New Database, seleccionar la ruta donde desees almacenar tu base de datos y asignarle un nombre.   \n",
    "Para usos prácticos, llamaré a la base de datos 'mydb'. Luego, deberás crear las tablas de tu base de datos. Partiremos creando una tabla 'Users', que almacenará los siguientes datos: nombre y email.   \n",
    "SQLite Browser te permite crear tablas con una interfaz gráfica simple\n",
    "<img src=\"images/creatingtable.png\">\n",
    "    \n",
    "    \n"
   ]
  },
  {
   "cell_type": "markdown",
   "metadata": {},
   "source": [
    "Como puedes apreciar en la imagen, en la parte de abajo se ha generado código SQL de forma automática.   \n",
    "\n",
    "#### SQL INSERT\n",
    "Para insertar una fila en la tabla usando SQL, debemos utilizar la sentencia INSERT.  \n",
    "```SQL\n",
    "INSERT INTO Users (name, email) VALUES ('Kristin', 'kf@gmail.com')\n",
    "```\n",
    "Dirigete a Execute SQL y corre la sentencia. \n",
    "\n",
    "<img src=\"images/insertinto.png\">\n",
    "\n",
    "Para ejecutar más de una sentencia SQL a la vez, debes incluir **;** al final de cada sentencia. Por ejemplo:\n",
    "```SQL\n",
    "INSERT INTO Users (name, email) VALUES ('Chuck', 'csev@umich.edu');\n",
    "INSERT INTO Users (name, email) VALUES ('Colleen', 'cvl@umich.edu');\n",
    "INSERT INTO Users (name, email) VALUES ('Ted', 'ted@umich.edu');\n",
    "INSERT INTO Users (name, email) VALUES ('Sally', 'a1@umich.edu');\n",
    "INSERT INTO Users (name, email) VALUES ('Ted', 'ted@umich.edu');\n",
    "```\n",
    "#### SQL DELETE\n",
    "Para eliminar filas de la tabla debes utilizar la sentencia DELETE.\n",
    "```SQL\n",
    "DELETE FROM Users WHERE email='ted@umich.edu'\n",
    "```\n",
    "La sentencia anterior elimina la fila cuyo email sea idéntico al indicado, sin embargo, puedes borrar por según el atributo que desees.\n",
    "\n",
    "#### SQL UPDATE\n",
    "Permite modificar un campo de una fila, por ejemplo, modifiquemos el email de Sally.\n",
    "```SQL\n",
    "UPDATE Users SET email='sally@uach.cl' WHERE name = 'Sally'\n",
    "```\n",
    "#### SQL SELECT\n",
    "La sentencia 'select' obtiene un conjunto de datos de una o más tablas, acorde un criterio. Por ejemplo:\n",
    "```sql\n",
    "SELECT * FROM Users WHERE email='csev@umich.edu'\n",
    "```\n",
    "Traducido sería:   \n",
    "___Selecciona todos los elementos desde tabla Users donde el email = 'csev@umich.edu'.___\n",
    "\n",
    "#### SQL ORDER BY\n",
    "La sentencia 'order by' despliega elementos de una tabla o más tablas, y los ordena en función de cierto criterio. Por ejemplo:\n",
    "```sql\n",
    "SELECT * FROM Users ORDER BY name\n",
    "```\n",
    "Despliega una lista ordenada de todos los datos almacenados en la tabla Users, y los ordena alfabéticamente, en función de los carácteres del nombre.   \n",
    "También, podemos desplegar de forma descendente utilizando la palabra clave 'DESC'\n",
    "```SQL\n",
    "SELECT * FROM Users ORDER BY name DESC\n",
    "```\n",
    "#### CRUD\n",
    "Las sentencias presentadas anteriormente conforman lo que conocemos como CRUD (create, read, update y delete). \n"
   ]
  },
  {
   "cell_type": "code",
   "execution_count": 25,
   "metadata": {},
   "outputs": [],
   "source": [
    "import sqlite3\n"
   ]
  },
  {
   "cell_type": "markdown",
   "metadata": {},
   "source": [
    "## 4. Django"
   ]
  },
  {
   "cell_type": "markdown",
   "metadata": {},
   "source": [
    "Cuando tenemos una página web, necesitamos tener un servidor para que nuestra página se aloje y permita recibir requests de información por parte de nuestros usuarios.   \n",
    "Django es un framework de desarrollo web escrito en Python que soporta el patrón MVC. La meta fundamental de Django es facilitar la creación de sitios web complejos. Django pone énfasis en el re-uso, la conectividad y extensibilidad de componentes, el desarrollo rápido y el principio DRY (Dont repeat yourself)\n"
   ]
  },
  {
   "cell_type": "markdown",
   "metadata": {},
   "source": [
    "Recomiendo usar Anaconda, crear un entorno y instalar Django.\n",
    "\n",
    "```sh\n",
    "$ conda install django\n",
    "```\n",
    "Para saber qué versión tienes de Django\n",
    "```sh\n",
    "$ python -m django --version\n",
    "```"
   ]
  },
  {
   "cell_type": "markdown",
   "metadata": {},
   "source": [
    "### Creando un proyecto\n",
    "Para crear tu primer proyecto con Django, deberás ejecutar el siguiente comando en tu terminal:\n",
    "\n",
    "```sh\n",
    "$ django-admin startproject nombre-proyecto\n",
    "```\n",
    "\n",
    "Para casos prácticos, he llamado a mi proyecto \"mysite\".    \n",
    "Independiente del directorio donde hayas ejecutado el comando anterior, se debería haber creado una carperta con el nombre de tu proyecto. \n",
    "\n",
    "<img src=\"images/mysite.png\">\n",
    "\n",
    "\n",
    "Estos archivos son:\n",
    "- el directorio raíz **mysite/** es el contenedor de tu proyecto. Su nombre no le interesa a Django, por lo que puedes renombrarlo y no generarás problema alguno.\n",
    "- manage.py: Un archivo que te permite interactuar con el proyecto de varias formas, almacena comandos útiles para tu proyecto. \n",
    "- _ init _.py: Es un archivo vacío que le dice a python que este directorio debe ser considerado como paquete Python\n",
    "- settings.py: Configuraciones para este proyecto Django.\n",
    "- urls.py: Las declaraciones URL para este proyecto Django; Una tabla de contenidos de su sitio basado en Django.\n",
    "- asgi.py: An entry-point for ASGI-compatible web servers to serve your project.\n",
    "wsgi.py: Un punto de entrada para que los servidores web compatibles con WSGI puedan servir su proyecto.\n",
    "\n",
    "Para verificar que tu proyecto funciona, dirigete al directorio /mysite y corre el siguiente comando:\n",
    "```sh\n",
    "$ python manage.py runserver\n",
    "```\n",
    "Una vez ejecutado el comando, visita http://127.0.0.1:8000/, verás ésta imagen:\n",
    "\n",
    "<img src=\"images/djangoinstalation.png\">\n",
    "     \n",
    "El server montado se actualiza constantemente frente a cada request o petición que realices. No debes reiniciar el server cuando realices cambios, sin embargo, casos como añadir archivos o directorios si requieren que reinicies el server.\n",
    "\n",
    "Cada aplicacion que escribes en Django consiste de paquetes python que siguen ciertas convenciones. Django viene con la utilidad de que automáticamente genera la estructura básica de un directorio para una aplicación, así que sólo debes concentrarte en escribir código.\n",
    "Dentro de un proyecto puedes tener una o varias apps.   \n",
    "    \n",
    "Para usos prácticos, crearemos una app de encuestas en el mismo directorio en donde se encuentra tu archivo manage.py, de esta forma será importada como un módulo de alto nivel, en vez de un submódulo.   \n",
    "\n",
    "Para crear la aplicación, asegurate que estás en el mismo directorio de manage.py y ejecuta este comando:\n",
    "\n",
    "```sh\n",
    "$ python manage.py startapp polls\n",
    "```\n",
    "Eso creará un directorio polls que se presenta de la siguiente forma:\n",
    "\n",
    "<img src=\"images/appdjango.png\">\n",
    "\n",
    "Esta estructura de directorios almacenará la aplicación encuesta.\n",
    "En el archivo polls/views.py, escriba el siguiente código:\n",
    "\n",
    "```js\n",
    "from django.http import HttpResponse\n",
    "\n",
    "def index(request):\n",
    "    return HttpResponse(\"Hello, world. You're at the polls index\")\n",
    "```\n",
    "Esta es la vista más simple posible en Django. Para llamar la vista, tenemos que asignarla a una URLconf.   \n",
    "Para crear una URLconf en el directorio polls, cree un archivo llamado urls.py. Dentro de urls.py debe escribir el siguiente código:\n",
    "\n",
    "```js\n",
    "from django.urls import path\n",
    "from . import views\n",
    "\n",
    "urlpatterns = [\n",
    "    path('',views.index, name='index'),\n",
    "]\n",
    "```\n",
    "El siguiente paso es señalar la URLconf raíz en el módulo polls.url. Cree un archivo mysite/urls.py y añada un import para django.urls.include e inserte una include()  en la lista urlpatterns, para obtener:\n",
    "\n",
    "```js\n",
    "from django.contrib import admin\n",
    "from django.urls import include, path\n",
    "\n",
    "urlpatterns = [\n",
    "    path('polls/', include('polls.urls')),\n",
    "    path('admin/', admin.site.urls),\n",
    "]\n",
    "```\n",
    "La función include() permite hacer una referencia a otros URLconfs. Cada vez que Django encuentra include(), corta cualquier parte de la URL que coincide hasta ese pundo y envía la cadena restante a la URLconf incluida para seguir el proceso.   \n",
    "La idea detrás de include() es facilitar la conexión y ejecución inmediata de las URLs. Dado que las encuestas están en su propia URLconf (polls/urls.py).   \n",
    "\n",
    "     \n",
    "      \n",
    "      \n",
    "Bien!. Sólo resta en probar lo hecho. Corra el server nuevamente y vaya a http://localhost:8000/polls/."
   ]
  },
  {
   "cell_type": "markdown",
   "metadata": {},
   "source": [
    "## 5. Computación científica \n",
    "La computación científica, una parte esencial para la ciencia, nos permite satisfacer los siguientes aspectos:\n",
    "- **Cálculos numéricos**\n",
    "- **Simulaciones**\n",
    "- **Modelamiento computacional**\n",
    "- **Análisis de datos**\n",
    "\n",
    "#### IPython\n",
    "Interactive Python (IPython) es un intérprete de Python que ofrece varias mejoras, tales como:\n",
    "- Autocompletación de path y módulos\n",
    "- Accesso desde terminal a documentación y código fuente\n",
    "- Búsqueda histórica de comandos\n",
    "- Implementación de mágias\n",
    "\n",
    "IPython puede usarse desde un terminal, como reemplazo del intérprete convencional de Python. También, puede usarse desde un Jupyter Notebook.\n"
   ]
  },
  {
   "cell_type": "code",
   "execution_count": 26,
   "metadata": {},
   "outputs": [],
   "source": [
    "# %lsmagic \n",
    "#imprime todas las magic disponibles, las magic nos ahorran mucha tarea, por lo que es esencial su conocimiento"
   ]
  },
  {
   "cell_type": "markdown",
   "metadata": {},
   "source": [
    "### NumPy\n",
    "NumPy es un paquete de computación científica con Python que provee:\n",
    "- Un objeto contenedor muy versátil: N-dimensión __ndarray_\n",
    "- Funciones capaces de hacer bradcasting\n",
    "- Módulos para álgebra lineal. Transformada de Fourier, generación de número aleatorios, etc.\n",
    "- Herramientas para integrar código C/C++.\n",
    "\n",
    "#### Instalación\n",
    "Utilizando conda:\n",
    "```sh\n",
    "$ conda install numpy\n",
    "```\n",
    "Luego, para importar la librería en nuestro código:\n",
    "\n"
   ]
  },
  {
   "cell_type": "code",
   "execution_count": 27,
   "metadata": {
    "scrolled": true
   },
   "outputs": [
    {
     "data": {
      "text/plain": [
       "'1.19.1'"
      ]
     },
     "metadata": {},
     "output_type": "display_data"
    }
   ],
   "source": [
    "# np? despliega toda la infromación de la libreria numpy\n",
    "import numpy as np\n",
    "display(np.__version__) #entrega la versión de la libreria"
   ]
  },
  {
   "cell_type": "markdown",
   "metadata": {},
   "source": [
    "####  Objeto ndarray (alias array)\n",
    "El objeto ndarray es un **arreglo n-dimensional de tipo fijo**\n",
    "Las operaciones sobre ndarrau son eficientes: Usan librerías de bajo nivel (OpenBLAS, MKL)     \n",
    "Podemos crear un ndarray a partir de:\n",
    "- Una lista o tupla usando **np.array**.\n",
    "- Un fichero, por ejemplo, usando **np.genfromtxt**\n",
    "- Funciones generadoras de NumPy, por ejemplo, **np.linspace**, **np.zeros**, etc\n",
    "\n",
    "\n",
    "#### Ndarray a partir de listas y atributos básicos"
   ]
  },
  {
   "cell_type": "code",
   "execution_count": 28,
   "metadata": {},
   "outputs": [
    {
     "data": {
      "text/plain": [
       "list"
      ]
     },
     "metadata": {},
     "output_type": "display_data"
    },
    {
     "data": {
      "text/plain": [
       "numpy.ndarray"
      ]
     },
     "metadata": {},
     "output_type": "display_data"
    }
   ],
   "source": [
    "L = [[0,1],[2,3]]\n",
    "display(type(L)) #imprime el tipo de L\n",
    "A = np.array(L) # creación de un ndarray\n",
    "display(type(A)) #imprime el tipo de A"
   ]
  },
  {
   "cell_type": "markdown",
   "metadata": {},
   "source": [
    "El caso anterior es una muestra que NumPy interpreta el tipo de dato, por lo que no es necesario explicitar el tipo, sin embargo, para casos formales, los tipos de dato estándar de NumPy son:\n",
    "- Enteros: int8, int16, int32, int64\n",
    "- Enteros sin signo: uint8, uint16, uint32, uint64\n",
    "- Flotantes(reales): float16, float32, float64, float128\n",
    "- Números complejos: complex64, complex128, complex256\n",
    "- Booleanos: Bool"
   ]
  },
  {
   "cell_type": "code",
   "execution_count": 29,
   "metadata": {},
   "outputs": [
    {
     "data": {
      "text/plain": [
       "array([[0, 1],\n",
       "       [2, 3]], dtype=int16)"
      ]
     },
     "metadata": {},
     "output_type": "display_data"
    },
    {
     "data": {
      "text/plain": [
       "array([[0., 1.],\n",
       "       [2., 3.]], dtype=float32)"
      ]
     },
     "metadata": {},
     "output_type": "display_data"
    }
   ],
   "source": [
    "# El atributo dtype nos permite ver el tipo de un arreglo NumPy\n",
    "display(np.array(L, dtype=np.int16))\n",
    "display(np.array(L, dtype=np.float32))"
   ]
  },
  {
   "cell_type": "markdown",
   "metadata": {},
   "source": [
    "Los atributos **ndim** y **shape** nos indican las dimensiones y el tamaño del arreglo, respectivamente:"
   ]
  },
  {
   "cell_type": "code",
   "execution_count": 30,
   "metadata": {},
   "outputs": [
    {
     "data": {
      "text/plain": [
       "array([[0, 1],\n",
       "       [2, 3]])"
      ]
     },
     "metadata": {},
     "output_type": "display_data"
    },
    {
     "data": {
      "text/plain": [
       "2"
      ]
     },
     "metadata": {},
     "output_type": "display_data"
    },
    {
     "data": {
      "text/plain": [
       "(2, 2)"
      ]
     },
     "metadata": {},
     "output_type": "display_data"
    }
   ],
   "source": [
    "display(A) # despliega el arreglo A\n",
    "display(A.ndim) # entrega la dimension de A\n",
    "display(A.shape) # entrega la forma de A"
   ]
  },
  {
   "cell_type": "markdown",
   "metadata": {},
   "source": [
    "#### Ordenamiento en memoria de ndarray\n",
    "Por defecto, un ndarray multidimensional se ordena en memoria siguiendo un formato row-major.    \n",
    "Se puede cambiar a formato column-major usando el atributo *order*.   \n",
    "Se puede verificar el ordenamiento leyendo el atributo *flags*\n",
    "\n",
    "<img src = \"images/savearray.png\"> "
   ]
  },
  {
   "cell_type": "code",
   "execution_count": 31,
   "metadata": {
    "scrolled": true
   },
   "outputs": [
    {
     "data": {
      "text/plain": [
       "array([[0, 1],\n",
       "       [2, 3]])"
      ]
     },
     "metadata": {},
     "output_type": "display_data"
    },
    {
     "data": {
      "text/plain": [
       "  C_CONTIGUOUS : True\n",
       "  F_CONTIGUOUS : False\n",
       "  OWNDATA : True\n",
       "  WRITEABLE : True\n",
       "  ALIGNED : True\n",
       "  WRITEBACKIFCOPY : False\n",
       "  UPDATEIFCOPY : False"
      ]
     },
     "metadata": {},
     "output_type": "display_data"
    },
    {
     "data": {
      "text/plain": [
       "array([[0, 1],\n",
       "       [2, 3]])"
      ]
     },
     "metadata": {},
     "output_type": "display_data"
    },
    {
     "data": {
      "text/plain": [
       "  C_CONTIGUOUS : False\n",
       "  F_CONTIGUOUS : True\n",
       "  OWNDATA : True\n",
       "  WRITEABLE : True\n",
       "  ALIGNED : True\n",
       "  WRITEBACKIFCOPY : False\n",
       "  UPDATEIFCOPY : False"
      ]
     },
     "metadata": {},
     "output_type": "display_data"
    }
   ],
   "source": [
    "A = np.array(L) \n",
    "display(A)\n",
    "display(A.flags)\n",
    "\n",
    "A = np.array(L, order = 'F')\n",
    "display(A)\n",
    "display(A.flags)"
   ]
  },
  {
   "cell_type": "markdown",
   "metadata": {},
   "source": [
    "#### Funciones generadoras de arreglos\n",
    "Se pueden crear arreglos directamente desde NumPy:\n"
   ]
  },
  {
   "cell_type": "code",
   "execution_count": 32,
   "metadata": {},
   "outputs": [
    {
     "data": {
      "text/plain": [
       "array([[0, 0, 0],\n",
       "       [0, 0, 0],\n",
       "       [0, 0, 0]])"
      ]
     },
     "metadata": {},
     "output_type": "display_data"
    },
    {
     "data": {
      "text/plain": [
       "array([[1., 1., 1.],\n",
       "       [1., 1., 1.],\n",
       "       [1., 1., 1.]], dtype=float32)"
      ]
     },
     "metadata": {},
     "output_type": "display_data"
    },
    {
     "data": {
      "text/plain": [
       "array([[3.14159265, 3.14159265, 3.14159265],\n",
       "       [3.14159265, 3.14159265, 3.14159265],\n",
       "       [3.14159265, 3.14159265, 3.14159265]])"
      ]
     },
     "metadata": {},
     "output_type": "display_data"
    },
    {
     "data": {
      "text/plain": [
       "array([[1., 0., 0.],\n",
       "       [0., 1., 0.],\n",
       "       [0., 0., 1.]])"
      ]
     },
     "metadata": {},
     "output_type": "display_data"
    },
    {
     "data": {
      "text/plain": [
       "array([[-0.30390321,  0.60416246,  0.94199838],\n",
       "       [ 0.92672157, -0.63103798,  0.73403642],\n",
       "       [-1.4031635 ,  0.19682254, -1.57331455]])"
      ]
     },
     "metadata": {},
     "output_type": "display_data"
    }
   ],
   "source": [
    "display(np.zeros(shape=(3,3), dtype=np.int)) #lleno de ceros\n",
    "display(np.ones(shape=(3,3), dtype=np.float32)) #lleno de unos\n",
    "display(np.full(shape=(3,3), fill_value=np.pi)) #lleno de pi\n",
    "display(np.eye(3)) #matriz identidad\n",
    "display(np.random.randn(3,3)) #matriz aleatoria con distribuvion N(0,1)\n"
   ]
  },
  {
   "cell_type": "markdown",
   "metadata": {},
   "source": [
    "Funciones para crear rangos:"
   ]
  },
  {
   "cell_type": "code",
   "execution_count": 33,
   "metadata": {},
   "outputs": [
    {
     "data": {
      "text/plain": [
       "array([0. , 0.5, 1. , 1.5, 2. , 2.5, 3. , 3.5, 4. , 4.5])"
      ]
     },
     "metadata": {},
     "output_type": "display_data"
    },
    {
     "data": {
      "text/plain": [
       "array([ 0.,  1.,  2.,  3.,  4.,  5.,  6.,  7.,  8.,  9., 10.])"
      ]
     },
     "metadata": {},
     "output_type": "display_data"
    },
    {
     "data": {
      "text/plain": [
       "array([ 1.        ,  1.25892541,  1.58489319,  1.99526231,  2.51188643,\n",
       "        3.16227766,  3.98107171,  5.01187234,  6.30957344,  7.94328235,\n",
       "       10.        ])"
      ]
     },
     "metadata": {},
     "output_type": "display_data"
    }
   ],
   "source": [
    "display(np.arange(start=0, stop=5, step=0.5)) # genera un arreglo con saltos de 0,5\n",
    "display(np.linspace(start=0, stop=10,num=11)) # genera un arreglo con el 11 particiones entre intervalos [0 y 10]\n",
    "display(np.logspace(start=0, stop=1,num=11)) # similar a linspace, pero logarítmico"
   ]
  },
  {
   "cell_type": "markdown",
   "metadata": {},
   "source": [
    "Se puede usar  **meshgrid** para crear arreglos de coordenadas"
   ]
  },
  {
   "cell_type": "code",
   "execution_count": 34,
   "metadata": {
    "scrolled": true
   },
   "outputs": [
    {
     "data": {
      "text/plain": [
       "array([[0, 1, 2],\n",
       "       [0, 1, 2],\n",
       "       [0, 1, 2]])"
      ]
     },
     "metadata": {},
     "output_type": "display_data"
    },
    {
     "data": {
      "text/plain": [
       "array([[0, 0, 0],\n",
       "       [1, 1, 1],\n",
       "       [2, 2, 2]])"
      ]
     },
     "metadata": {},
     "output_type": "display_data"
    }
   ],
   "source": [
    "x = np.arange(3) #crea vector [0, 1, 2]\n",
    "X, Y = np.meshgrid(x, x) \n",
    "display(X)\n",
    "display(Y)\n"
   ]
  },
  {
   "cell_type": "markdown",
   "metadata": {},
   "source": [
    "Ojo con el tamaño de los arreglos, un arreglo unidimensional puede ser:\n",
    "- Vector adimensional\n",
    "- Vector columna\n",
    "- Vector fila"
   ]
  },
  {
   "cell_type": "code",
   "execution_count": 35,
   "metadata": {},
   "outputs": [
    {
     "data": {
      "text/plain": [
       "(5,)"
      ]
     },
     "metadata": {},
     "output_type": "display_data"
    },
    {
     "data": {
      "text/plain": [
       "(5, 1)"
      ]
     },
     "metadata": {},
     "output_type": "display_data"
    },
    {
     "data": {
      "text/plain": [
       "(1, 5)"
      ]
     },
     "metadata": {},
     "output_type": "display_data"
    }
   ],
   "source": [
    "A = np.array([0,1,2,3,4]) # Vector adimensional\n",
    "display(A.shape)\n",
    "A = np.array([[0],[1],[2],[3],[4]]) # Vector columna\n",
    "display(A.shape)\n",
    "A = np.array([[0,1,2,3,4]]) # Vector fila\n",
    "display(A.shape)"
   ]
  },
  {
   "cell_type": "markdown",
   "metadata": {},
   "source": [
    "Se puede agregar una dimensión a un arreglo usando **newaxis**.    \n",
    "Podemos usarlo para convertir un vector adimensional en fila o columna."
   ]
  },
  {
   "cell_type": "code",
   "execution_count": 36,
   "metadata": {
    "scrolled": true
   },
   "outputs": [
    {
     "data": {
      "text/plain": [
       "(5,)"
      ]
     },
     "metadata": {},
     "output_type": "display_data"
    },
    {
     "data": {
      "text/plain": [
       "(5, 1)"
      ]
     },
     "metadata": {},
     "output_type": "display_data"
    },
    {
     "data": {
      "text/plain": [
       "(1, 5)"
      ]
     },
     "metadata": {},
     "output_type": "display_data"
    }
   ],
   "source": [
    "A = np.array([0,1,2,3,4])\n",
    "display(A.shape)\n",
    "display(A[:, np.newaxis].shape)\n",
    "display(A[np.newaxis, : ].shape)"
   ]
  },
  {
   "cell_type": "markdown",
   "metadata": {},
   "source": [
    "#### Manipulación de matrices y vectores\n",
    "Operaciones para modificar la forma de un arreglo: **reshape**, **tile**, **repeat**."
   ]
  },
  {
   "cell_type": "code",
   "execution_count": 37,
   "metadata": {
    "scrolled": true
   },
   "outputs": [
    {
     "data": {
      "text/plain": [
       "array([0, 1, 2, 3, 4, 5])"
      ]
     },
     "metadata": {},
     "output_type": "display_data"
    },
    {
     "data": {
      "text/plain": [
       "array([[0, 1],\n",
       "       [2, 3],\n",
       "       [4, 5]])"
      ]
     },
     "metadata": {},
     "output_type": "display_data"
    },
    {
     "data": {
      "text/plain": [
       "array([[0, 1, 2],\n",
       "       [3, 4, 5]])"
      ]
     },
     "metadata": {},
     "output_type": "display_data"
    },
    {
     "data": {
      "text/plain": [
       "array([[0, 1, 2, 3, 4, 5],\n",
       "       [0, 1, 2, 3, 4, 5],\n",
       "       [0, 1, 2, 3, 4, 5],\n",
       "       [0, 1, 2, 3, 4, 5],\n",
       "       [0, 1, 2, 3, 4, 5],\n",
       "       [0, 1, 2, 3, 4, 5]])"
      ]
     },
     "metadata": {},
     "output_type": "display_data"
    },
    {
     "data": {
      "text/plain": [
       "array([[0, 1, 2, 3, 4, 5, 0, 1, 2, 3, 4, 5, 0, 1, 2, 3, 4, 5, 0, 1, 2, 3,\n",
       "        4, 5, 0, 1, 2, 3, 4, 5, 0, 1, 2, 3, 4, 5]])"
      ]
     },
     "metadata": {},
     "output_type": "display_data"
    },
    {
     "data": {
      "text/plain": [
       "array([0, 0, 1, 1, 2, 2, 3, 3, 4, 4, 5, 5])"
      ]
     },
     "metadata": {},
     "output_type": "display_data"
    },
    {
     "data": {
      "text/plain": [
       "array([[0, 1],\n",
       "       [0, 1],\n",
       "       [2, 3],\n",
       "       [2, 3],\n",
       "       [4, 5],\n",
       "       [4, 5]])"
      ]
     },
     "metadata": {},
     "output_type": "display_data"
    },
    {
     "data": {
      "text/plain": [
       "array([0., 0., 0., 0., 0., 0., 0., 0., 0., 0., 0., 0., 0., 0., 0., 0., 0.,\n",
       "       0., 0., 0., 0., 0., 0., 0., 0.])"
      ]
     },
     "metadata": {},
     "output_type": "display_data"
    },
    {
     "data": {
      "text/plain": [
       "array([[0, 0, 0, 0, 0, 0],\n",
       "       [0, 1, 0, 0, 0, 0],\n",
       "       [0, 0, 2, 0, 0, 0],\n",
       "       [0, 0, 0, 3, 0, 0],\n",
       "       [0, 0, 0, 0, 4, 0],\n",
       "       [0, 0, 0, 0, 0, 5]])"
      ]
     },
     "metadata": {},
     "output_type": "display_data"
    },
    {
     "data": {
      "text/plain": [
       "array([[-0.59243504,  1.43164435,  0.31873085],\n",
       "       [ 0.21393057,  0.8719062 ,  1.2062354 ],\n",
       "       [ 0.22522475, -2.6698637 ,  1.09551825]])"
      ]
     },
     "metadata": {},
     "output_type": "display_data"
    },
    {
     "data": {
      "text/plain": [
       "array([[-0.59243504,  0.21393057,  0.22522475],\n",
       "       [ 1.43164435,  0.8719062 , -2.6698637 ],\n",
       "       [ 0.31873085,  1.2062354 ,  1.09551825]])"
      ]
     },
     "metadata": {},
     "output_type": "display_data"
    }
   ],
   "source": [
    "A = np.arange(6)\n",
    "display(A)\n",
    "# Crea nuevas dimensiones, pero debe preservar el tamaño\n",
    "display(np.reshape(A, (3,2)))\n",
    "display(np.reshape(A,(2,3)))\n",
    "# Repite el arreglo en una dirección dada\n",
    "display(np.tile(A, (6,1)))\n",
    "display(np.tile(A, (1,6)))\n",
    "# Repite cada elemento en una dirección dada\n",
    "display(np.repeat(A,2))\n",
    "display(np.repeat(A.reshape(3,2),2, axis=0))\n",
    "# Aplana una matriz\n",
    "display(np.ravel(np.zeros(shape=(5,5))))\n",
    "# Crea una matriz diagonal de un vector con diag\n",
    "display(np.diag(A))\n",
    "# Transposición de un arreglo con transpose\n",
    "A = np.random.randn(3,3)\n",
    "display(A)\n",
    "display(np.transpose(A))"
   ]
  },
  {
   "cell_type": "markdown",
   "metadata": {},
   "source": [
    "Operaciones para juntar más de dos arreglos: **concatenate**, **vstack**, **hstack**\n",
    "\n"
   ]
  },
  {
   "cell_type": "code",
   "execution_count": 38,
   "metadata": {
    "scrolled": true
   },
   "outputs": [
    {
     "data": {
      "text/plain": [
       "array([[0., 1., 2., 3., 4., 5.],\n",
       "       [1., 1., 1., 1., 1., 1.]])"
      ]
     },
     "metadata": {},
     "output_type": "display_data"
    },
    {
     "data": {
      "text/plain": [
       "array([[0., 1., 2., 3., 4., 5., 1., 1., 1., 1., 1., 1.]])"
      ]
     },
     "metadata": {},
     "output_type": "display_data"
    },
    {
     "data": {
      "text/plain": [
       "array([[0., 1., 2., 3., 4., 5.],\n",
       "       [1., 1., 1., 1., 1., 1.]])"
      ]
     },
     "metadata": {},
     "output_type": "display_data"
    },
    {
     "data": {
      "text/plain": [
       "array([[0., 1., 2., 3., 4., 5., 1., 1., 1., 1., 1., 1.]])"
      ]
     },
     "metadata": {},
     "output_type": "display_data"
    }
   ],
   "source": [
    "A = np.arange(6).reshape(1,6)\n",
    "B = np.ones(shape=(1,6))\n",
    "display(np.concatenate((A,B), axis=0))\n",
    "display(np.concatenate((A,B), axis=1))\n",
    "display(np.vstack((A,B)))\n",
    "display(np.hstack((A,B)))"
   ]
  },
  {
   "cell_type": "markdown",
   "metadata": {},
   "source": [
    "Operaciones para agregar o quitar elementos: **append**, **insert**, **delete**"
   ]
  },
  {
   "cell_type": "code",
   "execution_count": 39,
   "metadata": {
    "scrolled": true
   },
   "outputs": [
    {
     "data": {
      "text/plain": [
       "array([1, 2, 3, 5])"
      ]
     },
     "metadata": {},
     "output_type": "display_data"
    },
    {
     "data": {
      "text/plain": [
       "array([1, 3])"
      ]
     },
     "metadata": {},
     "output_type": "display_data"
    },
    {
     "data": {
      "text/plain": [
       "array([1, 2, 8, 3])"
      ]
     },
     "metadata": {},
     "output_type": "display_data"
    }
   ],
   "source": [
    "A = np.array([1,2,3])\n",
    "display(np.append(A, 5)) #inserta elemento al final\n",
    "display(np.delete(A, 1)) #elimina elemento del array\n",
    "display(np.insert(A,2, values=8)) #inserta valor en posicion\n",
    "\n"
   ]
  },
  {
   "cell_type": "markdown",
   "metadata": {},
   "source": [
    "#### Operaciones sobre ndarray\n",
    "Operaciones aritméticas y broadcasting\n",
    "- Suma: **+**, **+=**\n",
    "- Resta: **-**, **-=**\n",
    "- Multiplicación: * , *=\n",
    "- División: /, /=\n",
    "- División entera: //, //=\n",
    "- Exponenciación: **, **=\n",
    "\n",
    "Estas operaciones tienen un comportamiento element-wise (elemento a elemento)"
   ]
  },
  {
   "cell_type": "code",
   "execution_count": 40,
   "metadata": {},
   "outputs": [
    {
     "data": {
      "text/plain": [
       "3"
      ]
     },
     "metadata": {},
     "output_type": "display_data"
    },
    {
     "data": {
      "text/plain": [
       "array([[1., 0., 0.],\n",
       "       [0., 1., 0.],\n",
       "       [0., 0., 1.]])"
      ]
     },
     "metadata": {},
     "output_type": "display_data"
    },
    {
     "data": {
      "text/plain": [
       "array([[1., 1., 1.],\n",
       "       [1., 1., 1.],\n",
       "       [1., 1., 1.]])"
      ]
     },
     "metadata": {},
     "output_type": "display_data"
    },
    {
     "data": {
      "text/plain": [
       "array([[2., 1., 1.],\n",
       "       [1., 2., 1.],\n",
       "       [1., 1., 2.]])"
      ]
     },
     "metadata": {},
     "output_type": "display_data"
    },
    {
     "data": {
      "text/plain": [
       "array([[1., 0., 0.],\n",
       "       [0., 1., 0.],\n",
       "       [0., 0., 1.]])"
      ]
     },
     "metadata": {},
     "output_type": "display_data"
    }
   ],
   "source": [
    "N = 3\n",
    "A = np.eye(N)\n",
    "B = np.ones(shape=(N,N))\n",
    "display(N)\n",
    "display(A)\n",
    "display(B)\n",
    "display(A+B)\n",
    "display(A*B) # Es multiplicacion elemento a elemento, no la matricial"
   ]
  },
  {
   "cell_type": "markdown",
   "metadata": {},
   "source": [
    "Cuando los arreglos no son del mismo tamaño, se realiza un broadcast, por ejemplo, operar una constante con un arreglo:"
   ]
  },
  {
   "cell_type": "code",
   "execution_count": 41,
   "metadata": {
    "scrolled": true
   },
   "outputs": [
    {
     "data": {
      "text/plain": [
       "([3, 2, 1],\n",
       " [1, 2, 3],\n",
       " [2, 1, 3],\n",
       " [3, 2, 1],\n",
       " [1, 2, 3],\n",
       " [2, 1, 3],\n",
       " [3, 2, 1],\n",
       " [1, 2, 3],\n",
       " [2, 1, 3])"
      ]
     },
     "metadata": {},
     "output_type": "display_data"
    }
   ],
   "source": [
    "N = 3\n",
    "A = ([3,2,1],[1,2,3],[2,1,3])\n",
    "display(N*A)"
   ]
  },
  {
   "cell_type": "markdown",
   "metadata": {},
   "source": [
    "**Reglas de broadcasting en NumPy**   \n",
    "1. Si dos arreglos son de dimensiones distintas, la dimensión del más pequeñose agranda con '1's por la izquierda\n",
    "2. Si dos arreglos tienen tamaños distintos, el que tiene tamaño '1' se estira en dicha dimensión.\n",
    "3. Si en cualquier dimensión los tamaños son distintos y ninguno es igual a '1', ocurre un error.\n",
    "\n",
    "<img src=\"images/broadcasting.png\">"
   ]
  },
  {
   "cell_type": "markdown",
   "metadata": {},
   "source": [
    "#### Operaciones matriciales   \n",
    "Para realizar una multiplicación matricial podemos usar **dot** "
   ]
  },
  {
   "cell_type": "code",
   "execution_count": 42,
   "metadata": {
    "scrolled": true
   },
   "outputs": [
    {
     "data": {
      "text/plain": [
       "array([[0, 1],\n",
       "       [2, 3]])"
      ]
     },
     "metadata": {},
     "output_type": "display_data"
    },
    {
     "data": {
      "text/plain": [
       "array([[3, 2],\n",
       "       [1, 0]])"
      ]
     },
     "metadata": {},
     "output_type": "display_data"
    },
    {
     "data": {
      "text/plain": [
       "array([[1, 0],\n",
       "       [9, 4]])"
      ]
     },
     "metadata": {},
     "output_type": "display_data"
    }
   ],
   "source": [
    "A = np.arange(4).reshape(2,2)\n",
    "B = np.arange(4)[::-1].reshape(2,2)\n",
    "display(A,B)\n",
    "display(np.dot(A,B))"
   ]
  },
  {
   "cell_type": "markdown",
   "metadata": {},
   "source": [
    "Otras operaciones útiles son:\n",
    "- **np.inner**, que calcula el producto escalar o producto interno\n",
    "- **np.outer**, que calcula el producto externo\n",
    "- **np.cross**, que calcula producto cruz"
   ]
  },
  {
   "cell_type": "code",
   "execution_count": 43,
   "metadata": {},
   "outputs": [
    {
     "data": {
      "text/plain": [
       "array([[ 2,  0],\n",
       "       [12,  2]])"
      ]
     },
     "metadata": {},
     "output_type": "display_data"
    },
    {
     "data": {
      "text/plain": [
       "array([[0, 0, 0, 0],\n",
       "       [3, 2, 1, 0],\n",
       "       [6, 4, 2, 0],\n",
       "       [9, 6, 3, 0]])"
      ]
     },
     "metadata": {},
     "output_type": "display_data"
    },
    {
     "data": {
      "text/plain": [
       "array([-3, -3])"
      ]
     },
     "metadata": {},
     "output_type": "display_data"
    }
   ],
   "source": [
    "display(np.inner(A,B))\n",
    "display(np.outer(A,B))\n",
    "display(np.cross(A,B))"
   ]
  },
  {
   "cell_type": "markdown",
   "metadata": {},
   "source": [
    "#### Operaciones de reducción\n",
    "Llamamos **reducción** a una operación que **agrega** los valores de un arreglo entregando un único valor como respuesta.  \n",
    "     \n",
    "     \n",
    "La reducción más básica es la **suma agregada**:\n",
    "\n",
    "[1,2,3,4] = 1+2+3+4 = 10\n",
    "\n",
    "___Las operaciones de reducción se usan ampliamente para resumir datos y hacer estadística___\n",
    "Algunas de las reducciones disponibles de NumPy son:\n",
    "- **sum**, **prod**\n",
    "- **amax**(val max), **amin**(val min), **argmax**(indice valor max), **argmin**(indice val min)\n",
    "- **mean**(media), **std**(desviación estándar), **var.percentile**(varianza), **median**(mediana)\n",
    "- **comsum**(suma acumulada), **cumprod**(producto acumulado)"
   ]
  },
  {
   "cell_type": "code",
   "execution_count": 44,
   "metadata": {},
   "outputs": [
    {
     "data": {
      "text/plain": [
       "array([[0, 1, 2],\n",
       "       [0, 1, 2],\n",
       "       [0, 1, 2]])"
      ]
     },
     "metadata": {},
     "output_type": "display_data"
    },
    {
     "data": {
      "text/plain": [
       "array([0, 3, 6])"
      ]
     },
     "metadata": {},
     "output_type": "display_data"
    },
    {
     "data": {
      "text/plain": [
       "array([3, 3, 3])"
      ]
     },
     "metadata": {},
     "output_type": "display_data"
    },
    {
     "data": {
      "text/plain": [
       "9"
      ]
     },
     "metadata": {},
     "output_type": "display_data"
    },
    {
     "data": {
      "text/plain": [
       "array([[-2.41589232, -0.53289905, -0.535917  ],\n",
       "       [-1.38122006, -1.21834914,  0.78880767],\n",
       "       [-0.54825753, -0.2477624 ,  0.57912463]])"
      ]
     },
     "metadata": {},
     "output_type": "display_data"
    },
    {
     "data": {
      "text/plain": [
       "array([-0.54825753, -0.2477624 ,  0.78880767])"
      ]
     },
     "metadata": {},
     "output_type": "display_data"
    },
    {
     "data": {
      "text/plain": [
       "array([2, 2, 1])"
      ]
     },
     "metadata": {},
     "output_type": "display_data"
    }
   ],
   "source": [
    "#ejemplos\n",
    "A = np.tile(np.arange(3), (3,1)) #crea matriz\n",
    "display(A) #imprime matriz\n",
    "display(np.sum(A, axis =0)) #imprime suma x columna\n",
    "display(np.sum(A, axis =1)) #imprime suma x fila\n",
    "display(np.sum(A)) #imprime suma de componentes\n",
    "A = np.random.randn(3,3) #crea matriz 3x3 aleat\n",
    "display(A) \n",
    "display(np.amax(A, axis=0)) #imprime los valores mas altos de las columnas\n",
    "display(np.argmax(A, axis=0)) #imprime el indice más alto de los valores altos de columnas"
   ]
  },
  {
   "cell_type": "markdown",
   "metadata": {},
   "source": [
    "#### Operaciones vectorizadas \n",
    "Son funciones que operan de forma element-wise o elemento a elemento. Por ejemplo, para calcular el valor absoluto de los elementos de un arreglo, exponenciar un arreglo, calcilar las funciones exponencial, logaritmo y trigonométricas a partir de un arreglo"
   ]
  },
  {
   "cell_type": "code",
   "execution_count": 45,
   "metadata": {
    "scrolled": true
   },
   "outputs": [
    {
     "data": {
      "text/plain": [
       "array([[-1.16013228, -0.88451988,  0.62932061],\n",
       "       [ 0.59984353, -0.85505077,  0.17599852],\n",
       "       [ 1.03901273, -0.23700074, -1.30608201]])"
      ]
     },
     "metadata": {},
     "output_type": "display_data"
    },
    {
     "data": {
      "text/plain": [
       "array([ 0,  1,  4,  9, 16, 25, 36, 49, 64, 81])"
      ]
     },
     "metadata": {},
     "output_type": "display_data"
    },
    {
     "data": {
      "text/plain": [
       "array([0.        , 1.        , 1.41421356, 1.73205081, 2.        ,\n",
       "       2.23606798, 2.44948974, 2.64575131, 2.82842712, 3.        ])"
      ]
     },
     "metadata": {},
     "output_type": "display_data"
    },
    {
     "data": {
      "text/plain": [
       "array([ 0,  1,  4,  9, 16, 25, 36, 49, 64, 81])"
      ]
     },
     "metadata": {},
     "output_type": "display_data"
    },
    {
     "name": "stderr",
     "output_type": "stream",
     "text": [
      "<ipython-input-45-a9067c3bff0d>:8: RuntimeWarning: divide by zero encountered in log\n",
      "  display(np.log(x))\n"
     ]
    },
    {
     "data": {
      "text/plain": [
       "array([      -inf, 0.        , 0.69314718, 1.09861229, 1.38629436,\n",
       "       1.60943791, 1.79175947, 1.94591015, 2.07944154, 2.19722458])"
      ]
     },
     "metadata": {},
     "output_type": "display_data"
    },
    {
     "data": {
      "text/plain": [
       "array([1.00000000e+00, 2.71828183e+00, 7.38905610e+00, 2.00855369e+01,\n",
       "       5.45981500e+01, 1.48413159e+02, 4.03428793e+02, 1.09663316e+03,\n",
       "       2.98095799e+03, 8.10308393e+03])"
      ]
     },
     "metadata": {},
     "output_type": "display_data"
    },
    {
     "data": {
      "text/plain": [
       "array([ 0.        ,  0.84147098,  0.90929743,  0.14112001, -0.7568025 ,\n",
       "       -0.95892427, -0.2794155 ,  0.6569866 ,  0.98935825,  0.41211849])"
      ]
     },
     "metadata": {},
     "output_type": "display_data"
    },
    {
     "data": {
      "text/plain": [
       "array([ 1.        ,  0.54030231, -0.41614684, -0.9899925 , -0.65364362,\n",
       "        0.28366219,  0.96017029,  0.75390225, -0.14550003, -0.91113026])"
      ]
     },
     "metadata": {},
     "output_type": "display_data"
    },
    {
     "data": {
      "text/plain": [
       "array([ 0.        ,  1.55740772, -2.18503986, -0.14254654,  1.15782128,\n",
       "       -3.38051501, -0.29100619,  0.87144798, -6.79971146, -0.45231566])"
      ]
     },
     "metadata": {},
     "output_type": "display_data"
    }
   ],
   "source": [
    "A = np.random.randn(3,3)\n",
    "display(A)\n",
    "np.absolute(A) # Equivalente a np.abs\n",
    "x = np.arange(10) #creamos vector[0,1,..,8,9]\n",
    "display(np.power(x,2)) #le saca el cuadrado a x\n",
    "display(np.sqrt(x)) #le saca raiz cuadrada a x\n",
    "display(x**2) #le saca el cuadrado a x\n",
    "display(np.log(x))\n",
    "display(np.exp(x))\n",
    "display(np.sin(x))\n",
    "display(np.cos(x))\n",
    "display(np.tan(x))\n"
   ]
  },
  {
   "cell_type": "markdown",
   "metadata": {},
   "source": [
    "Otras funciones son **sign**, **reciprocal**, **round**(redondeo), **floor**(piso), **ciel**(cielo), **real**(parte real),**imag**(parte imaginaria), **conj**(conjugado). "
   ]
  },
  {
   "cell_type": "markdown",
   "metadata": {},
   "source": [
    "#### Operaciones booleanas\n",
    "NumPy soporta operaciones booleanas sobre ndarray"
   ]
  },
  {
   "cell_type": "code",
   "execution_count": 46,
   "metadata": {
    "scrolled": false
   },
   "outputs": [
    {
     "data": {
      "text/plain": [
       "array([[0, 1, 2],\n",
       "       [3, 4, 5]])"
      ]
     },
     "metadata": {},
     "output_type": "display_data"
    },
    {
     "data": {
      "text/plain": [
       "array([[False, False, False],\n",
       "       [False,  True, False]])"
      ]
     },
     "metadata": {},
     "output_type": "display_data"
    },
    {
     "data": {
      "text/plain": [
       "array([[False, False, False],\n",
       "       [False,  True, False]])"
      ]
     },
     "metadata": {},
     "output_type": "display_data"
    }
   ],
   "source": [
    "A = np.arange(6).reshape(2,3) #Genera matriz 2x3 con los valores del 0 al 5\n",
    "display(A) #imprime matriz \n",
    "display(A == 4) #imprime true en aquel lugar de la matriz donde el valor sea igual a 4\n",
    "display(np.equal(A,4))#imprime true en aquel lugar de la matriz donde el valor sea igual a 4"
   ]
  },
  {
   "cell_type": "markdown",
   "metadata": {},
   "source": [
    "Con esto, podemos crear una **máscara booleana** para indexar un arreglo"
   ]
  },
  {
   "cell_type": "code",
   "execution_count": 47,
   "metadata": {
    "scrolled": true
   },
   "outputs": [
    {
     "data": {
      "text/plain": [
       "array([[False, False, False],\n",
       "       [ True, False,  True]])"
      ]
     },
     "metadata": {},
     "output_type": "display_data"
    },
    {
     "data": {
      "text/plain": [
       "array([3, 5])"
      ]
     },
     "metadata": {},
     "output_type": "display_data"
    }
   ],
   "source": [
    "mask = ~(A % 2 == 0) & (A > 2)\n",
    "# La máscara asignará true a todos aquellos valores que:\n",
    "# 1) sean mayores a 2 y\n",
    "# 2) sean numeros impares\n",
    "display(mask) #imprime la máscara\n",
    "display(A[mask]) # entrega aquellos valores en true de A."
   ]
  },
  {
   "cell_type": "markdown",
   "metadata": {},
   "source": [
    "La funcion **where** sirve para recuperar el índice de los elementos que cumplen con cierta condición.\n"
   ]
  },
  {
   "cell_type": "code",
   "execution_count": 48,
   "metadata": {
    "scrolled": true
   },
   "outputs": [
    {
     "data": {
      "text/plain": [
       "'Fila 1 Columna 0 Valor 3'"
      ]
     },
     "metadata": {},
     "output_type": "display_data"
    },
    {
     "data": {
      "text/plain": [
       "'Fila 1 Columna 2 Valor 5'"
      ]
     },
     "metadata": {},
     "output_type": "display_data"
    }
   ],
   "source": [
    "(ixs,iys) = np.where(~(A%2==0)&(A>2))\n",
    "for i, j in zip(ixs,iys):\n",
    "    display(\"Fila {0} Columna {1} Valor {2}\".format(i,j,A[i,j]))"
   ]
  },
  {
   "cell_type": "markdown",
   "metadata": {},
   "source": [
    "#### Operaciones de conjunto\n",
    "Operaciones tipo unión, intersección y diferencia entre arreglos 1D.    \n",
    "Si se les entrega un arreglo de mayor dimensión, este se aplanará automáticamente."
   ]
  },
  {
   "cell_type": "code",
   "execution_count": 49,
   "metadata": {
    "scrolled": true
   },
   "outputs": [
    {
     "data": {
      "text/plain": [
       "array([[0, 1, 2],\n",
       "       [3, 4, 5]])"
      ]
     },
     "metadata": {},
     "output_type": "display_data"
    },
    {
     "data": {
      "text/plain": [
       "array([  0,   1,  10, 100])"
      ]
     },
     "metadata": {},
     "output_type": "display_data"
    },
    {
     "data": {
      "text/plain": [
       "array([  0,   1,   2,   3,   4,   5,  10, 100])"
      ]
     },
     "metadata": {},
     "output_type": "display_data"
    },
    {
     "data": {
      "text/plain": [
       "array([0, 1])"
      ]
     },
     "metadata": {},
     "output_type": "display_data"
    },
    {
     "data": {
      "text/plain": [
       "array([2, 3, 4, 5])"
      ]
     },
     "metadata": {},
     "output_type": "display_data"
    },
    {
     "data": {
      "text/plain": [
       "array([ 10, 100])"
      ]
     },
     "metadata": {},
     "output_type": "display_data"
    }
   ],
   "source": [
    "B = np.array([0,1,10,100])\n",
    "display(A)\n",
    "display(B)\n",
    "display(np.union1d(A,B)) #Union de A y B\n",
    "display(np.intersect1d(A,B)) #Interseccion de A y B\n",
    "display(np.setdiff1d(A,B)) #Lo que hay en A y no en B\n",
    "display(np.setdiff1d(B,A)) #Lo que hay en B y no en A\n",
    "\n"
   ]
  },
  {
   "cell_type": "markdown",
   "metadata": {},
   "source": [
    "#### Ordenando arreglos\n",
    "NumPy provee la función **np.sort** para ordenar un ndarray.    \n",
    "Se puede pasar un arguemento **kind** para escojer distintos algoritmos de ordenamiento.     \n",
    "El arguemento **axis** especifíca que eje se va a ordenar.\n"
   ]
  },
  {
   "cell_type": "code",
   "execution_count": 50,
   "metadata": {
    "scrolled": true
   },
   "outputs": [
    {
     "data": {
      "text/plain": [
       "array([[-0.62857715, -0.44879403],\n",
       "       [ 0.30208512,  0.57977288]])"
      ]
     },
     "metadata": {},
     "output_type": "display_data"
    },
    {
     "data": {
      "text/plain": [
       "array([[-0.62857715, -0.44879403],\n",
       "       [ 0.30208512,  0.57977288]])"
      ]
     },
     "metadata": {},
     "output_type": "display_data"
    },
    {
     "data": {
      "text/plain": [
       "array([[-0.62857715, -0.44879403],\n",
       "       [ 0.30208512,  0.57977288]])"
      ]
     },
     "metadata": {},
     "output_type": "display_data"
    },
    {
     "data": {
      "text/plain": [
       "array([-0.62857715, -0.44879403,  0.30208512,  0.57977288])"
      ]
     },
     "metadata": {},
     "output_type": "display_data"
    }
   ],
   "source": [
    "A = np.random.randn(2,2) #creo matriz 2x2 aleatoria\n",
    "display(A)\n",
    "display(np.sort(A, axis=1)) # ordena matriz en sentido de filas\n",
    "display(np.sort(A, axis=0)) # ordena matriz en sentido de columnas\n",
    "display(np.sort(A, axis=None)) #aplana la matriz y ordena sus elementos en un vector 1d"
   ]
  },
  {
   "cell_type": "markdown",
   "metadata": {},
   "source": [
    "La función **argsort** entrega un arreglo de indices que ordena el arreglo de menor a mayor."
   ]
  },
  {
   "cell_type": "markdown",
   "metadata": {},
   "source": [
    "#### Módulos interesantes de NumPy\n",
    "1. **np.random**\n",
    "\n",
    "    Es un módulo para generar permutaciones y arreglos de números aleatorios, siguiendo distintas distribuciones\n",
    "    - **np.random.rand**(d1,d2,...,dn), genera flotantes con distribución uniforme en [0,1]\n",
    "    - **np.random.seed**, especifica la semilla para inicializar el generador de números pseudo-aleatorios. \n",
    "    - **np.random.randn**: Números con distribución normal estándar $\\mathcal{N}(0,1)$\n",
    "    - **np.random.randint**: Números con distribución categórica (discreta).\n",
    "    - **np. random.choice**: Extrae una muestra aleatoria de un arreglo.\n",
    "    - **np.random.permutation**: Crea una permutación de índices.\n",
    "    - **np.random.shuffle**: Desordena un arreglo (inplace).\n",
    "    "
   ]
  },
  {
   "cell_type": "code",
   "execution_count": 51,
   "metadata": {
    "scrolled": true
   },
   "outputs": [
    {
     "data": {
      "text/plain": [
       "array([0.5488135 , 0.71518937, 0.60276338, 0.54488318, 0.4236548 ,\n",
       "       0.64589411, 0.43758721, 0.891773  , 0.96366276, 0.38344152])"
      ]
     },
     "metadata": {},
     "output_type": "display_data"
    }
   ],
   "source": [
    "np.random.seed(0)\n",
    "data = np.random.rand(10) # Al utilizar la semilla, siempre estamos obteniendo los mismos valores\n",
    "display(data)"
   ]
  },
  {
   "cell_type": "markdown",
   "metadata": {},
   "source": [
    "2. **linalg**    \n",
    "\n",
    "    Es un módulo con implementaciones muy eficientes para hacer álgebra lineal y operaciones matriciales.\n",
    "    - Calcular matriz inversa, determinantes y trazas.\n",
    "    - Resolver sistemas lineales.\n",
    "    - Factorizar matrices.\n",
    "    - Calcular valores y vectores propios."
   ]
  },
  {
   "cell_type": "markdown",
   "metadata": {},
   "source": [
    "### Matplotlib\n",
    "Matplotlib es una libreria de Python para hacerr gráficos en dos dimensiones de alta calidad y altamente personalizables. Matplotlib se integra con NumPy y acepta el formato ndarray en sus funciones. También, se integra con Jupyter mediante la magia **%matplotlib**, que nos permite seleccionar un backend para mostrar los gráficos.\n",
    "- **inline**\n",
    ": Gráficos rasterizados en el notebook.\n",
    "- **notebook**\n",
    ": Gráficos interactivos en el notebook\n",
    "- **qt**, **wx**, **gtk**\n",
    ": Gráficos en una ventana.\n",
    "#### Instalación\n",
    "Con nuestro ambiente de conda instalado:\n",
    "```sh\n",
    "$ conda install matplotlib\n",
    "```\n",
    "Luego, importar:\n",
    "\n",
    "\n"
   ]
  },
  {
   "cell_type": "code",
   "execution_count": 52,
   "metadata": {},
   "outputs": [
    {
     "data": {
      "text/plain": [
       "'3.3.1'"
      ]
     },
     "metadata": {},
     "output_type": "display_data"
    }
   ],
   "source": [
    "# invocamos la magia con una de las opciones\n",
    "%matplotlib notebook\n",
    "#importamos la libreria\n",
    "import matplotlib as mpl\n",
    "display(mpl.__version__)\n",
    "import matplotlib.pyplot as plt\n",
    "import numpy as np\n"
   ]
  },
  {
   "cell_type": "markdown",
   "metadata": {},
   "source": [
    "#### Generando una figura\n",
    "Una linea en matplotlib se dibuja con la función **plot** .    \n",
    "Dibuja ___a___ en el eje vertical y range(len(a)) en el eje horizontal\n",
    "```py\n",
    "plt.plot(a)\n",
    "```\n",
    "Dibuja ___y___ en el eje vertical y ___x___ en el eje horizontal\n",
    "```py\n",
    "plt.plot(x,y)\n",
    "```\n",
    "Podemos especificar el color, ancho, estilo, transparencia, entre otros."
   ]
  },
  {
   "cell_type": "code",
   "execution_count": 53,
   "metadata": {
    "scrolled": true
   },
   "outputs": [
    {
     "data": {
      "application/javascript": [
       "/* Put everything inside the global mpl namespace */\n",
       "/* global mpl */\n",
       "window.mpl = {};\n",
       "\n",
       "mpl.get_websocket_type = function () {\n",
       "    if (typeof WebSocket !== 'undefined') {\n",
       "        return WebSocket;\n",
       "    } else if (typeof MozWebSocket !== 'undefined') {\n",
       "        return MozWebSocket;\n",
       "    } else {\n",
       "        alert(\n",
       "            'Your browser does not have WebSocket support. ' +\n",
       "                'Please try Chrome, Safari or Firefox ≥ 6. ' +\n",
       "                'Firefox 4 and 5 are also supported but you ' +\n",
       "                'have to enable WebSockets in about:config.'\n",
       "        );\n",
       "    }\n",
       "};\n",
       "\n",
       "mpl.figure = function (figure_id, websocket, ondownload, parent_element) {\n",
       "    this.id = figure_id;\n",
       "\n",
       "    this.ws = websocket;\n",
       "\n",
       "    this.supports_binary = this.ws.binaryType !== undefined;\n",
       "\n",
       "    if (!this.supports_binary) {\n",
       "        var warnings = document.getElementById('mpl-warnings');\n",
       "        if (warnings) {\n",
       "            warnings.style.display = 'block';\n",
       "            warnings.textContent =\n",
       "                'This browser does not support binary websocket messages. ' +\n",
       "                'Performance may be slow.';\n",
       "        }\n",
       "    }\n",
       "\n",
       "    this.imageObj = new Image();\n",
       "\n",
       "    this.context = undefined;\n",
       "    this.message = undefined;\n",
       "    this.canvas = undefined;\n",
       "    this.rubberband_canvas = undefined;\n",
       "    this.rubberband_context = undefined;\n",
       "    this.format_dropdown = undefined;\n",
       "\n",
       "    this.image_mode = 'full';\n",
       "\n",
       "    this.root = document.createElement('div');\n",
       "    this.root.setAttribute('style', 'display: inline-block');\n",
       "    this._root_extra_style(this.root);\n",
       "\n",
       "    parent_element.appendChild(this.root);\n",
       "\n",
       "    this._init_header(this);\n",
       "    this._init_canvas(this);\n",
       "    this._init_toolbar(this);\n",
       "\n",
       "    var fig = this;\n",
       "\n",
       "    this.waiting = false;\n",
       "\n",
       "    this.ws.onopen = function () {\n",
       "        fig.send_message('supports_binary', { value: fig.supports_binary });\n",
       "        fig.send_message('send_image_mode', {});\n",
       "        if (mpl.ratio !== 1) {\n",
       "            fig.send_message('set_dpi_ratio', { dpi_ratio: mpl.ratio });\n",
       "        }\n",
       "        fig.send_message('refresh', {});\n",
       "    };\n",
       "\n",
       "    this.imageObj.onload = function () {\n",
       "        if (fig.image_mode === 'full') {\n",
       "            // Full images could contain transparency (where diff images\n",
       "            // almost always do), so we need to clear the canvas so that\n",
       "            // there is no ghosting.\n",
       "            fig.context.clearRect(0, 0, fig.canvas.width, fig.canvas.height);\n",
       "        }\n",
       "        fig.context.drawImage(fig.imageObj, 0, 0);\n",
       "    };\n",
       "\n",
       "    this.imageObj.onunload = function () {\n",
       "        fig.ws.close();\n",
       "    };\n",
       "\n",
       "    this.ws.onmessage = this._make_on_message_function(this);\n",
       "\n",
       "    this.ondownload = ondownload;\n",
       "};\n",
       "\n",
       "mpl.figure.prototype._init_header = function () {\n",
       "    var titlebar = document.createElement('div');\n",
       "    titlebar.classList =\n",
       "        'ui-dialog-titlebar ui-widget-header ui-corner-all ui-helper-clearfix';\n",
       "    var titletext = document.createElement('div');\n",
       "    titletext.classList = 'ui-dialog-title';\n",
       "    titletext.setAttribute(\n",
       "        'style',\n",
       "        'width: 100%; text-align: center; padding: 3px;'\n",
       "    );\n",
       "    titlebar.appendChild(titletext);\n",
       "    this.root.appendChild(titlebar);\n",
       "    this.header = titletext;\n",
       "};\n",
       "\n",
       "mpl.figure.prototype._canvas_extra_style = function (_canvas_div) {};\n",
       "\n",
       "mpl.figure.prototype._root_extra_style = function (_canvas_div) {};\n",
       "\n",
       "mpl.figure.prototype._init_canvas = function () {\n",
       "    var fig = this;\n",
       "\n",
       "    var canvas_div = (this.canvas_div = document.createElement('div'));\n",
       "    canvas_div.setAttribute(\n",
       "        'style',\n",
       "        'border: 1px solid #ddd;' +\n",
       "            'box-sizing: content-box;' +\n",
       "            'clear: both;' +\n",
       "            'min-height: 1px;' +\n",
       "            'min-width: 1px;' +\n",
       "            'outline: 0;' +\n",
       "            'overflow: hidden;' +\n",
       "            'position: relative;' +\n",
       "            'resize: both;'\n",
       "    );\n",
       "\n",
       "    function on_keyboard_event_closure(name) {\n",
       "        return function (event) {\n",
       "            return fig.key_event(event, name);\n",
       "        };\n",
       "    }\n",
       "\n",
       "    canvas_div.addEventListener(\n",
       "        'keydown',\n",
       "        on_keyboard_event_closure('key_press')\n",
       "    );\n",
       "    canvas_div.addEventListener(\n",
       "        'keyup',\n",
       "        on_keyboard_event_closure('key_release')\n",
       "    );\n",
       "\n",
       "    this._canvas_extra_style(canvas_div);\n",
       "    this.root.appendChild(canvas_div);\n",
       "\n",
       "    var canvas = (this.canvas = document.createElement('canvas'));\n",
       "    canvas.classList.add('mpl-canvas');\n",
       "    canvas.setAttribute('style', 'box-sizing: content-box;');\n",
       "\n",
       "    this.context = canvas.getContext('2d');\n",
       "\n",
       "    var backingStore =\n",
       "        this.context.backingStorePixelRatio ||\n",
       "        this.context.webkitBackingStorePixelRatio ||\n",
       "        this.context.mozBackingStorePixelRatio ||\n",
       "        this.context.msBackingStorePixelRatio ||\n",
       "        this.context.oBackingStorePixelRatio ||\n",
       "        this.context.backingStorePixelRatio ||\n",
       "        1;\n",
       "\n",
       "    mpl.ratio = (window.devicePixelRatio || 1) / backingStore;\n",
       "\n",
       "    var rubberband_canvas = (this.rubberband_canvas = document.createElement(\n",
       "        'canvas'\n",
       "    ));\n",
       "    rubberband_canvas.setAttribute(\n",
       "        'style',\n",
       "        'box-sizing: content-box; position: absolute; left: 0; top: 0; z-index: 1;'\n",
       "    );\n",
       "\n",
       "    var resizeObserver = new ResizeObserver(function (entries) {\n",
       "        var nentries = entries.length;\n",
       "        for (var i = 0; i < nentries; i++) {\n",
       "            var entry = entries[i];\n",
       "            var width, height;\n",
       "            if (entry.contentBoxSize) {\n",
       "                if (entry.contentBoxSize instanceof Array) {\n",
       "                    // Chrome 84 implements new version of spec.\n",
       "                    width = entry.contentBoxSize[0].inlineSize;\n",
       "                    height = entry.contentBoxSize[0].blockSize;\n",
       "                } else {\n",
       "                    // Firefox implements old version of spec.\n",
       "                    width = entry.contentBoxSize.inlineSize;\n",
       "                    height = entry.contentBoxSize.blockSize;\n",
       "                }\n",
       "            } else {\n",
       "                // Chrome <84 implements even older version of spec.\n",
       "                width = entry.contentRect.width;\n",
       "                height = entry.contentRect.height;\n",
       "            }\n",
       "\n",
       "            // Keep the size of the canvas and rubber band canvas in sync with\n",
       "            // the canvas container.\n",
       "            if (entry.devicePixelContentBoxSize) {\n",
       "                // Chrome 84 implements new version of spec.\n",
       "                canvas.setAttribute(\n",
       "                    'width',\n",
       "                    entry.devicePixelContentBoxSize[0].inlineSize\n",
       "                );\n",
       "                canvas.setAttribute(\n",
       "                    'height',\n",
       "                    entry.devicePixelContentBoxSize[0].blockSize\n",
       "                );\n",
       "            } else {\n",
       "                canvas.setAttribute('width', width * mpl.ratio);\n",
       "                canvas.setAttribute('height', height * mpl.ratio);\n",
       "            }\n",
       "            canvas.setAttribute(\n",
       "                'style',\n",
       "                'width: ' + width + 'px; height: ' + height + 'px;'\n",
       "            );\n",
       "\n",
       "            rubberband_canvas.setAttribute('width', width);\n",
       "            rubberband_canvas.setAttribute('height', height);\n",
       "\n",
       "            // And update the size in Python. We ignore the initial 0/0 size\n",
       "            // that occurs as the element is placed into the DOM, which should\n",
       "            // otherwise not happen due to the minimum size styling.\n",
       "            if (width != 0 && height != 0) {\n",
       "                fig.request_resize(width, height);\n",
       "            }\n",
       "        }\n",
       "    });\n",
       "    resizeObserver.observe(canvas_div);\n",
       "\n",
       "    function on_mouse_event_closure(name) {\n",
       "        return function (event) {\n",
       "            return fig.mouse_event(event, name);\n",
       "        };\n",
       "    }\n",
       "\n",
       "    rubberband_canvas.addEventListener(\n",
       "        'mousedown',\n",
       "        on_mouse_event_closure('button_press')\n",
       "    );\n",
       "    rubberband_canvas.addEventListener(\n",
       "        'mouseup',\n",
       "        on_mouse_event_closure('button_release')\n",
       "    );\n",
       "    // Throttle sequential mouse events to 1 every 20ms.\n",
       "    rubberband_canvas.addEventListener(\n",
       "        'mousemove',\n",
       "        on_mouse_event_closure('motion_notify')\n",
       "    );\n",
       "\n",
       "    rubberband_canvas.addEventListener(\n",
       "        'mouseenter',\n",
       "        on_mouse_event_closure('figure_enter')\n",
       "    );\n",
       "    rubberband_canvas.addEventListener(\n",
       "        'mouseleave',\n",
       "        on_mouse_event_closure('figure_leave')\n",
       "    );\n",
       "\n",
       "    canvas_div.addEventListener('wheel', function (event) {\n",
       "        if (event.deltaY < 0) {\n",
       "            event.step = 1;\n",
       "        } else {\n",
       "            event.step = -1;\n",
       "        }\n",
       "        on_mouse_event_closure('scroll')(event);\n",
       "    });\n",
       "\n",
       "    canvas_div.appendChild(canvas);\n",
       "    canvas_div.appendChild(rubberband_canvas);\n",
       "\n",
       "    this.rubberband_context = rubberband_canvas.getContext('2d');\n",
       "    this.rubberband_context.strokeStyle = '#000000';\n",
       "\n",
       "    this._resize_canvas = function (width, height, forward) {\n",
       "        if (forward) {\n",
       "            canvas_div.style.width = width + 'px';\n",
       "            canvas_div.style.height = height + 'px';\n",
       "        }\n",
       "    };\n",
       "\n",
       "    // Disable right mouse context menu.\n",
       "    this.rubberband_canvas.addEventListener('contextmenu', function (_e) {\n",
       "        event.preventDefault();\n",
       "        return false;\n",
       "    });\n",
       "\n",
       "    function set_focus() {\n",
       "        canvas.focus();\n",
       "        canvas_div.focus();\n",
       "    }\n",
       "\n",
       "    window.setTimeout(set_focus, 100);\n",
       "};\n",
       "\n",
       "mpl.figure.prototype._init_toolbar = function () {\n",
       "    var fig = this;\n",
       "\n",
       "    var toolbar = document.createElement('div');\n",
       "    toolbar.classList = 'mpl-toolbar';\n",
       "    this.root.appendChild(toolbar);\n",
       "\n",
       "    function on_click_closure(name) {\n",
       "        return function (_event) {\n",
       "            return fig.toolbar_button_onclick(name);\n",
       "        };\n",
       "    }\n",
       "\n",
       "    function on_mouseover_closure(tooltip) {\n",
       "        return function (event) {\n",
       "            if (!event.currentTarget.disabled) {\n",
       "                return fig.toolbar_button_onmouseover(tooltip);\n",
       "            }\n",
       "        };\n",
       "    }\n",
       "\n",
       "    fig.buttons = {};\n",
       "    var buttonGroup = document.createElement('div');\n",
       "    buttonGroup.classList = 'mpl-button-group';\n",
       "    for (var toolbar_ind in mpl.toolbar_items) {\n",
       "        var name = mpl.toolbar_items[toolbar_ind][0];\n",
       "        var tooltip = mpl.toolbar_items[toolbar_ind][1];\n",
       "        var image = mpl.toolbar_items[toolbar_ind][2];\n",
       "        var method_name = mpl.toolbar_items[toolbar_ind][3];\n",
       "\n",
       "        if (!name) {\n",
       "            /* Instead of a spacer, we start a new button group. */\n",
       "            if (buttonGroup.hasChildNodes()) {\n",
       "                toolbar.appendChild(buttonGroup);\n",
       "            }\n",
       "            buttonGroup = document.createElement('div');\n",
       "            buttonGroup.classList = 'mpl-button-group';\n",
       "            continue;\n",
       "        }\n",
       "\n",
       "        var button = (fig.buttons[name] = document.createElement('button'));\n",
       "        button.classList = 'mpl-widget';\n",
       "        button.setAttribute('role', 'button');\n",
       "        button.setAttribute('aria-disabled', 'false');\n",
       "        button.addEventListener('click', on_click_closure(method_name));\n",
       "        button.addEventListener('mouseover', on_mouseover_closure(tooltip));\n",
       "\n",
       "        var icon_img = document.createElement('img');\n",
       "        icon_img.src = '_images/' + image + '.png';\n",
       "        icon_img.srcset = '_images/' + image + '_large.png 2x';\n",
       "        icon_img.alt = tooltip;\n",
       "        button.appendChild(icon_img);\n",
       "\n",
       "        buttonGroup.appendChild(button);\n",
       "    }\n",
       "\n",
       "    if (buttonGroup.hasChildNodes()) {\n",
       "        toolbar.appendChild(buttonGroup);\n",
       "    }\n",
       "\n",
       "    var fmt_picker = document.createElement('select');\n",
       "    fmt_picker.classList = 'mpl-widget';\n",
       "    toolbar.appendChild(fmt_picker);\n",
       "    this.format_dropdown = fmt_picker;\n",
       "\n",
       "    for (var ind in mpl.extensions) {\n",
       "        var fmt = mpl.extensions[ind];\n",
       "        var option = document.createElement('option');\n",
       "        option.selected = fmt === mpl.default_extension;\n",
       "        option.innerHTML = fmt;\n",
       "        fmt_picker.appendChild(option);\n",
       "    }\n",
       "\n",
       "    var status_bar = document.createElement('span');\n",
       "    status_bar.classList = 'mpl-message';\n",
       "    toolbar.appendChild(status_bar);\n",
       "    this.message = status_bar;\n",
       "};\n",
       "\n",
       "mpl.figure.prototype.request_resize = function (x_pixels, y_pixels) {\n",
       "    // Request matplotlib to resize the figure. Matplotlib will then trigger a resize in the client,\n",
       "    // which will in turn request a refresh of the image.\n",
       "    this.send_message('resize', { width: x_pixels, height: y_pixels });\n",
       "};\n",
       "\n",
       "mpl.figure.prototype.send_message = function (type, properties) {\n",
       "    properties['type'] = type;\n",
       "    properties['figure_id'] = this.id;\n",
       "    this.ws.send(JSON.stringify(properties));\n",
       "};\n",
       "\n",
       "mpl.figure.prototype.send_draw_message = function () {\n",
       "    if (!this.waiting) {\n",
       "        this.waiting = true;\n",
       "        this.ws.send(JSON.stringify({ type: 'draw', figure_id: this.id }));\n",
       "    }\n",
       "};\n",
       "\n",
       "mpl.figure.prototype.handle_save = function (fig, _msg) {\n",
       "    var format_dropdown = fig.format_dropdown;\n",
       "    var format = format_dropdown.options[format_dropdown.selectedIndex].value;\n",
       "    fig.ondownload(fig, format);\n",
       "};\n",
       "\n",
       "mpl.figure.prototype.handle_resize = function (fig, msg) {\n",
       "    var size = msg['size'];\n",
       "    if (size[0] !== fig.canvas.width || size[1] !== fig.canvas.height) {\n",
       "        fig._resize_canvas(size[0], size[1], msg['forward']);\n",
       "        fig.send_message('refresh', {});\n",
       "    }\n",
       "};\n",
       "\n",
       "mpl.figure.prototype.handle_rubberband = function (fig, msg) {\n",
       "    var x0 = msg['x0'] / mpl.ratio;\n",
       "    var y0 = (fig.canvas.height - msg['y0']) / mpl.ratio;\n",
       "    var x1 = msg['x1'] / mpl.ratio;\n",
       "    var y1 = (fig.canvas.height - msg['y1']) / mpl.ratio;\n",
       "    x0 = Math.floor(x0) + 0.5;\n",
       "    y0 = Math.floor(y0) + 0.5;\n",
       "    x1 = Math.floor(x1) + 0.5;\n",
       "    y1 = Math.floor(y1) + 0.5;\n",
       "    var min_x = Math.min(x0, x1);\n",
       "    var min_y = Math.min(y0, y1);\n",
       "    var width = Math.abs(x1 - x0);\n",
       "    var height = Math.abs(y1 - y0);\n",
       "\n",
       "    fig.rubberband_context.clearRect(\n",
       "        0,\n",
       "        0,\n",
       "        fig.canvas.width / mpl.ratio,\n",
       "        fig.canvas.height / mpl.ratio\n",
       "    );\n",
       "\n",
       "    fig.rubberband_context.strokeRect(min_x, min_y, width, height);\n",
       "};\n",
       "\n",
       "mpl.figure.prototype.handle_figure_label = function (fig, msg) {\n",
       "    // Updates the figure title.\n",
       "    fig.header.textContent = msg['label'];\n",
       "};\n",
       "\n",
       "mpl.figure.prototype.handle_cursor = function (fig, msg) {\n",
       "    var cursor = msg['cursor'];\n",
       "    switch (cursor) {\n",
       "        case 0:\n",
       "            cursor = 'pointer';\n",
       "            break;\n",
       "        case 1:\n",
       "            cursor = 'default';\n",
       "            break;\n",
       "        case 2:\n",
       "            cursor = 'crosshair';\n",
       "            break;\n",
       "        case 3:\n",
       "            cursor = 'move';\n",
       "            break;\n",
       "    }\n",
       "    fig.rubberband_canvas.style.cursor = cursor;\n",
       "};\n",
       "\n",
       "mpl.figure.prototype.handle_message = function (fig, msg) {\n",
       "    fig.message.textContent = msg['message'];\n",
       "};\n",
       "\n",
       "mpl.figure.prototype.handle_draw = function (fig, _msg) {\n",
       "    // Request the server to send over a new figure.\n",
       "    fig.send_draw_message();\n",
       "};\n",
       "\n",
       "mpl.figure.prototype.handle_image_mode = function (fig, msg) {\n",
       "    fig.image_mode = msg['mode'];\n",
       "};\n",
       "\n",
       "mpl.figure.prototype.handle_history_buttons = function (fig, msg) {\n",
       "    for (var key in msg) {\n",
       "        if (!(key in fig.buttons)) {\n",
       "            continue;\n",
       "        }\n",
       "        fig.buttons[key].disabled = !msg[key];\n",
       "        fig.buttons[key].setAttribute('aria-disabled', !msg[key]);\n",
       "    }\n",
       "};\n",
       "\n",
       "mpl.figure.prototype.handle_navigate_mode = function (fig, msg) {\n",
       "    if (msg['mode'] === 'PAN') {\n",
       "        fig.buttons['Pan'].classList.add('active');\n",
       "        fig.buttons['Zoom'].classList.remove('active');\n",
       "    } else if (msg['mode'] === 'ZOOM') {\n",
       "        fig.buttons['Pan'].classList.remove('active');\n",
       "        fig.buttons['Zoom'].classList.add('active');\n",
       "    } else {\n",
       "        fig.buttons['Pan'].classList.remove('active');\n",
       "        fig.buttons['Zoom'].classList.remove('active');\n",
       "    }\n",
       "};\n",
       "\n",
       "mpl.figure.prototype.updated_canvas_event = function () {\n",
       "    // Called whenever the canvas gets updated.\n",
       "    this.send_message('ack', {});\n",
       "};\n",
       "\n",
       "// A function to construct a web socket function for onmessage handling.\n",
       "// Called in the figure constructor.\n",
       "mpl.figure.prototype._make_on_message_function = function (fig) {\n",
       "    return function socket_on_message(evt) {\n",
       "        if (evt.data instanceof Blob) {\n",
       "            /* FIXME: We get \"Resource interpreted as Image but\n",
       "             * transferred with MIME type text/plain:\" errors on\n",
       "             * Chrome.  But how to set the MIME type?  It doesn't seem\n",
       "             * to be part of the websocket stream */\n",
       "            evt.data.type = 'image/png';\n",
       "\n",
       "            /* Free the memory for the previous frames */\n",
       "            if (fig.imageObj.src) {\n",
       "                (window.URL || window.webkitURL).revokeObjectURL(\n",
       "                    fig.imageObj.src\n",
       "                );\n",
       "            }\n",
       "\n",
       "            fig.imageObj.src = (window.URL || window.webkitURL).createObjectURL(\n",
       "                evt.data\n",
       "            );\n",
       "            fig.updated_canvas_event();\n",
       "            fig.waiting = false;\n",
       "            return;\n",
       "        } else if (\n",
       "            typeof evt.data === 'string' &&\n",
       "            evt.data.slice(0, 21) === 'data:image/png;base64'\n",
       "        ) {\n",
       "            fig.imageObj.src = evt.data;\n",
       "            fig.updated_canvas_event();\n",
       "            fig.waiting = false;\n",
       "            return;\n",
       "        }\n",
       "\n",
       "        var msg = JSON.parse(evt.data);\n",
       "        var msg_type = msg['type'];\n",
       "\n",
       "        // Call the  \"handle_{type}\" callback, which takes\n",
       "        // the figure and JSON message as its only arguments.\n",
       "        try {\n",
       "            var callback = fig['handle_' + msg_type];\n",
       "        } catch (e) {\n",
       "            console.log(\n",
       "                \"No handler for the '\" + msg_type + \"' message type: \",\n",
       "                msg\n",
       "            );\n",
       "            return;\n",
       "        }\n",
       "\n",
       "        if (callback) {\n",
       "            try {\n",
       "                // console.log(\"Handling '\" + msg_type + \"' message: \", msg);\n",
       "                callback(fig, msg);\n",
       "            } catch (e) {\n",
       "                console.log(\n",
       "                    \"Exception inside the 'handler_\" + msg_type + \"' callback:\",\n",
       "                    e,\n",
       "                    e.stack,\n",
       "                    msg\n",
       "                );\n",
       "            }\n",
       "        }\n",
       "    };\n",
       "};\n",
       "\n",
       "// from http://stackoverflow.com/questions/1114465/getting-mouse-location-in-canvas\n",
       "mpl.findpos = function (e) {\n",
       "    //this section is from http://www.quirksmode.org/js/events_properties.html\n",
       "    var targ;\n",
       "    if (!e) {\n",
       "        e = window.event;\n",
       "    }\n",
       "    if (e.target) {\n",
       "        targ = e.target;\n",
       "    } else if (e.srcElement) {\n",
       "        targ = e.srcElement;\n",
       "    }\n",
       "    if (targ.nodeType === 3) {\n",
       "        // defeat Safari bug\n",
       "        targ = targ.parentNode;\n",
       "    }\n",
       "\n",
       "    // pageX,Y are the mouse positions relative to the document\n",
       "    var boundingRect = targ.getBoundingClientRect();\n",
       "    var x = e.pageX - (boundingRect.left + document.body.scrollLeft);\n",
       "    var y = e.pageY - (boundingRect.top + document.body.scrollTop);\n",
       "\n",
       "    return { x: x, y: y };\n",
       "};\n",
       "\n",
       "/*\n",
       " * return a copy of an object with only non-object keys\n",
       " * we need this to avoid circular references\n",
       " * http://stackoverflow.com/a/24161582/3208463\n",
       " */\n",
       "function simpleKeys(original) {\n",
       "    return Object.keys(original).reduce(function (obj, key) {\n",
       "        if (typeof original[key] !== 'object') {\n",
       "            obj[key] = original[key];\n",
       "        }\n",
       "        return obj;\n",
       "    }, {});\n",
       "}\n",
       "\n",
       "mpl.figure.prototype.mouse_event = function (event, name) {\n",
       "    var canvas_pos = mpl.findpos(event);\n",
       "\n",
       "    if (name === 'button_press') {\n",
       "        this.canvas.focus();\n",
       "        this.canvas_div.focus();\n",
       "    }\n",
       "\n",
       "    var x = canvas_pos.x * mpl.ratio;\n",
       "    var y = canvas_pos.y * mpl.ratio;\n",
       "\n",
       "    this.send_message(name, {\n",
       "        x: x,\n",
       "        y: y,\n",
       "        button: event.button,\n",
       "        step: event.step,\n",
       "        guiEvent: simpleKeys(event),\n",
       "    });\n",
       "\n",
       "    /* This prevents the web browser from automatically changing to\n",
       "     * the text insertion cursor when the button is pressed.  We want\n",
       "     * to control all of the cursor setting manually through the\n",
       "     * 'cursor' event from matplotlib */\n",
       "    event.preventDefault();\n",
       "    return false;\n",
       "};\n",
       "\n",
       "mpl.figure.prototype._key_event_extra = function (_event, _name) {\n",
       "    // Handle any extra behaviour associated with a key event\n",
       "};\n",
       "\n",
       "mpl.figure.prototype.key_event = function (event, name) {\n",
       "    // Prevent repeat events\n",
       "    if (name === 'key_press') {\n",
       "        if (event.which === this._key) {\n",
       "            return;\n",
       "        } else {\n",
       "            this._key = event.which;\n",
       "        }\n",
       "    }\n",
       "    if (name === 'key_release') {\n",
       "        this._key = null;\n",
       "    }\n",
       "\n",
       "    var value = '';\n",
       "    if (event.ctrlKey && event.which !== 17) {\n",
       "        value += 'ctrl+';\n",
       "    }\n",
       "    if (event.altKey && event.which !== 18) {\n",
       "        value += 'alt+';\n",
       "    }\n",
       "    if (event.shiftKey && event.which !== 16) {\n",
       "        value += 'shift+';\n",
       "    }\n",
       "\n",
       "    value += 'k';\n",
       "    value += event.which.toString();\n",
       "\n",
       "    this._key_event_extra(event, name);\n",
       "\n",
       "    this.send_message(name, { key: value, guiEvent: simpleKeys(event) });\n",
       "    return false;\n",
       "};\n",
       "\n",
       "mpl.figure.prototype.toolbar_button_onclick = function (name) {\n",
       "    if (name === 'download') {\n",
       "        this.handle_save(this, null);\n",
       "    } else {\n",
       "        this.send_message('toolbar_button', { name: name });\n",
       "    }\n",
       "};\n",
       "\n",
       "mpl.figure.prototype.toolbar_button_onmouseover = function (tooltip) {\n",
       "    this.message.textContent = tooltip;\n",
       "};\n",
       "mpl.toolbar_items = [[\"Home\", \"Reset original view\", \"fa fa-home icon-home\", \"home\"], [\"Back\", \"Back to previous view\", \"fa fa-arrow-left icon-arrow-left\", \"back\"], [\"Forward\", \"Forward to next view\", \"fa fa-arrow-right icon-arrow-right\", \"forward\"], [\"\", \"\", \"\", \"\"], [\"Pan\", \"Left button pans, Right button zooms\\nx/y fixes axis, CTRL fixes aspect\", \"fa fa-arrows icon-move\", \"pan\"], [\"Zoom\", \"Zoom to rectangle\\nx/y fixes axis, CTRL fixes aspect\", \"fa fa-square-o icon-check-empty\", \"zoom\"], [\"\", \"\", \"\", \"\"], [\"Download\", \"Download plot\", \"fa fa-floppy-o icon-save\", \"download\"]];\n",
       "\n",
       "mpl.extensions = [\"eps\", \"jpeg\", \"pdf\", \"png\", \"ps\", \"raw\", \"svg\", \"tif\"];\n",
       "\n",
       "mpl.default_extension = \"png\";/* global mpl */\n",
       "\n",
       "var comm_websocket_adapter = function (comm) {\n",
       "    // Create a \"websocket\"-like object which calls the given IPython comm\n",
       "    // object with the appropriate methods. Currently this is a non binary\n",
       "    // socket, so there is still some room for performance tuning.\n",
       "    var ws = {};\n",
       "\n",
       "    ws.close = function () {\n",
       "        comm.close();\n",
       "    };\n",
       "    ws.send = function (m) {\n",
       "        //console.log('sending', m);\n",
       "        comm.send(m);\n",
       "    };\n",
       "    // Register the callback with on_msg.\n",
       "    comm.on_msg(function (msg) {\n",
       "        //console.log('receiving', msg['content']['data'], msg);\n",
       "        // Pass the mpl event to the overridden (by mpl) onmessage function.\n",
       "        ws.onmessage(msg['content']['data']);\n",
       "    });\n",
       "    return ws;\n",
       "};\n",
       "\n",
       "mpl.mpl_figure_comm = function (comm, msg) {\n",
       "    // This is the function which gets called when the mpl process\n",
       "    // starts-up an IPython Comm through the \"matplotlib\" channel.\n",
       "\n",
       "    var id = msg.content.data.id;\n",
       "    // Get hold of the div created by the display call when the Comm\n",
       "    // socket was opened in Python.\n",
       "    var element = document.getElementById(id);\n",
       "    var ws_proxy = comm_websocket_adapter(comm);\n",
       "\n",
       "    function ondownload(figure, _format) {\n",
       "        window.open(figure.canvas.toDataURL());\n",
       "    }\n",
       "\n",
       "    var fig = new mpl.figure(id, ws_proxy, ondownload, element);\n",
       "\n",
       "    // Call onopen now - mpl needs it, as it is assuming we've passed it a real\n",
       "    // web socket which is closed, not our websocket->open comm proxy.\n",
       "    ws_proxy.onopen();\n",
       "\n",
       "    fig.parent_element = element;\n",
       "    fig.cell_info = mpl.find_output_cell(\"<div id='\" + id + \"'></div>\");\n",
       "    if (!fig.cell_info) {\n",
       "        console.error('Failed to find cell for figure', id, fig);\n",
       "        return;\n",
       "    }\n",
       "};\n",
       "\n",
       "mpl.figure.prototype.handle_close = function (fig, msg) {\n",
       "    var width = fig.canvas.width / mpl.ratio;\n",
       "    fig.root.removeEventListener('remove', this._remove_fig_handler);\n",
       "\n",
       "    // Update the output cell to use the data from the current canvas.\n",
       "    fig.push_to_output();\n",
       "    var dataURL = fig.canvas.toDataURL();\n",
       "    // Re-enable the keyboard manager in IPython - without this line, in FF,\n",
       "    // the notebook keyboard shortcuts fail.\n",
       "    IPython.keyboard_manager.enable();\n",
       "    fig.parent_element.innerHTML =\n",
       "        '<img src=\"' + dataURL + '\" width=\"' + width + '\">';\n",
       "    fig.close_ws(fig, msg);\n",
       "};\n",
       "\n",
       "mpl.figure.prototype.close_ws = function (fig, msg) {\n",
       "    fig.send_message('closing', msg);\n",
       "    // fig.ws.close()\n",
       "};\n",
       "\n",
       "mpl.figure.prototype.push_to_output = function (_remove_interactive) {\n",
       "    // Turn the data on the canvas into data in the output cell.\n",
       "    var width = this.canvas.width / mpl.ratio;\n",
       "    var dataURL = this.canvas.toDataURL();\n",
       "    this.cell_info[1]['text/html'] =\n",
       "        '<img src=\"' + dataURL + '\" width=\"' + width + '\">';\n",
       "};\n",
       "\n",
       "mpl.figure.prototype.updated_canvas_event = function () {\n",
       "    // Tell IPython that the notebook contents must change.\n",
       "    IPython.notebook.set_dirty(true);\n",
       "    this.send_message('ack', {});\n",
       "    var fig = this;\n",
       "    // Wait a second, then push the new image to the DOM so\n",
       "    // that it is saved nicely (might be nice to debounce this).\n",
       "    setTimeout(function () {\n",
       "        fig.push_to_output();\n",
       "    }, 1000);\n",
       "};\n",
       "\n",
       "mpl.figure.prototype._init_toolbar = function () {\n",
       "    var fig = this;\n",
       "\n",
       "    var toolbar = document.createElement('div');\n",
       "    toolbar.classList = 'btn-toolbar';\n",
       "    this.root.appendChild(toolbar);\n",
       "\n",
       "    function on_click_closure(name) {\n",
       "        return function (_event) {\n",
       "            return fig.toolbar_button_onclick(name);\n",
       "        };\n",
       "    }\n",
       "\n",
       "    function on_mouseover_closure(tooltip) {\n",
       "        return function (event) {\n",
       "            if (!event.currentTarget.disabled) {\n",
       "                return fig.toolbar_button_onmouseover(tooltip);\n",
       "            }\n",
       "        };\n",
       "    }\n",
       "\n",
       "    fig.buttons = {};\n",
       "    var buttonGroup = document.createElement('div');\n",
       "    buttonGroup.classList = 'btn-group';\n",
       "    var button;\n",
       "    for (var toolbar_ind in mpl.toolbar_items) {\n",
       "        var name = mpl.toolbar_items[toolbar_ind][0];\n",
       "        var tooltip = mpl.toolbar_items[toolbar_ind][1];\n",
       "        var image = mpl.toolbar_items[toolbar_ind][2];\n",
       "        var method_name = mpl.toolbar_items[toolbar_ind][3];\n",
       "\n",
       "        if (!name) {\n",
       "            /* Instead of a spacer, we start a new button group. */\n",
       "            if (buttonGroup.hasChildNodes()) {\n",
       "                toolbar.appendChild(buttonGroup);\n",
       "            }\n",
       "            buttonGroup = document.createElement('div');\n",
       "            buttonGroup.classList = 'btn-group';\n",
       "            continue;\n",
       "        }\n",
       "\n",
       "        button = fig.buttons[name] = document.createElement('button');\n",
       "        button.classList = 'btn btn-default';\n",
       "        button.href = '#';\n",
       "        button.title = name;\n",
       "        button.innerHTML = '<i class=\"fa ' + image + ' fa-lg\"></i>';\n",
       "        button.addEventListener('click', on_click_closure(method_name));\n",
       "        button.addEventListener('mouseover', on_mouseover_closure(tooltip));\n",
       "        buttonGroup.appendChild(button);\n",
       "    }\n",
       "\n",
       "    if (buttonGroup.hasChildNodes()) {\n",
       "        toolbar.appendChild(buttonGroup);\n",
       "    }\n",
       "\n",
       "    // Add the status bar.\n",
       "    var status_bar = document.createElement('span');\n",
       "    status_bar.classList = 'mpl-message pull-right';\n",
       "    toolbar.appendChild(status_bar);\n",
       "    this.message = status_bar;\n",
       "\n",
       "    // Add the close button to the window.\n",
       "    var buttongrp = document.createElement('div');\n",
       "    buttongrp.classList = 'btn-group inline pull-right';\n",
       "    button = document.createElement('button');\n",
       "    button.classList = 'btn btn-mini btn-primary';\n",
       "    button.href = '#';\n",
       "    button.title = 'Stop Interaction';\n",
       "    button.innerHTML = '<i class=\"fa fa-power-off icon-remove icon-large\"></i>';\n",
       "    button.addEventListener('click', function (_evt) {\n",
       "        fig.handle_close(fig, {});\n",
       "    });\n",
       "    button.addEventListener(\n",
       "        'mouseover',\n",
       "        on_mouseover_closure('Stop Interaction')\n",
       "    );\n",
       "    buttongrp.appendChild(button);\n",
       "    var titlebar = this.root.querySelector('.ui-dialog-titlebar');\n",
       "    titlebar.insertBefore(buttongrp, titlebar.firstChild);\n",
       "};\n",
       "\n",
       "mpl.figure.prototype._remove_fig_handler = function () {\n",
       "    this.close_ws(this, {});\n",
       "};\n",
       "\n",
       "mpl.figure.prototype._root_extra_style = function (el) {\n",
       "    el.style.boxSizing = 'content-box'; // override notebook setting of border-box.\n",
       "    el.addEventListener('remove', this._remove_fig_handler);\n",
       "};\n",
       "\n",
       "mpl.figure.prototype._canvas_extra_style = function (el) {\n",
       "    // this is important to make the div 'focusable\n",
       "    el.setAttribute('tabindex', 0);\n",
       "    // reach out to IPython and tell the keyboard manager to turn it's self\n",
       "    // off when our div gets focus\n",
       "\n",
       "    // location in version 3\n",
       "    if (IPython.notebook.keyboard_manager) {\n",
       "        IPython.notebook.keyboard_manager.register_events(el);\n",
       "    } else {\n",
       "        // location in version 2\n",
       "        IPython.keyboard_manager.register_events(el);\n",
       "    }\n",
       "};\n",
       "\n",
       "mpl.figure.prototype._key_event_extra = function (event, _name) {\n",
       "    var manager = IPython.notebook.keyboard_manager;\n",
       "    if (!manager) {\n",
       "        manager = IPython.keyboard_manager;\n",
       "    }\n",
       "\n",
       "    // Check for shift+enter\n",
       "    if (event.shiftKey && event.which === 13) {\n",
       "        this.canvas_div.blur();\n",
       "        // select the cell after this one\n",
       "        var index = IPython.notebook.find_cell_index(this.cell_info[0]);\n",
       "        IPython.notebook.select(index + 1);\n",
       "    }\n",
       "};\n",
       "\n",
       "mpl.figure.prototype.handle_save = function (fig, _msg) {\n",
       "    fig.ondownload(fig, null);\n",
       "};\n",
       "\n",
       "mpl.find_output_cell = function (html_output) {\n",
       "    // Return the cell and output element which can be found *uniquely* in the notebook.\n",
       "    // Note - this is a bit hacky, but it is done because the \"notebook_saving.Notebook\"\n",
       "    // IPython event is triggered only after the cells have been serialised, which for\n",
       "    // our purposes (turning an active figure into a static one), is too late.\n",
       "    var cells = IPython.notebook.get_cells();\n",
       "    var ncells = cells.length;\n",
       "    for (var i = 0; i < ncells; i++) {\n",
       "        var cell = cells[i];\n",
       "        if (cell.cell_type === 'code') {\n",
       "            for (var j = 0; j < cell.output_area.outputs.length; j++) {\n",
       "                var data = cell.output_area.outputs[j];\n",
       "                if (data.data) {\n",
       "                    // IPython >= 3 moved mimebundle to data attribute of output\n",
       "                    data = data.data;\n",
       "                }\n",
       "                if (data['text/html'] === html_output) {\n",
       "                    return [cell, data, j];\n",
       "                }\n",
       "            }\n",
       "        }\n",
       "    }\n",
       "};\n",
       "\n",
       "// Register the function which deals with the matplotlib target/channel.\n",
       "// The kernel may be null if the page has been refreshed.\n",
       "if (IPython.notebook.kernel !== null) {\n",
       "    IPython.notebook.kernel.comm_manager.register_target(\n",
       "        'matplotlib',\n",
       "        mpl.mpl_figure_comm\n",
       "    );\n",
       "}\n"
      ],
      "text/plain": [
       "<IPython.core.display.Javascript object>"
      ]
     },
     "metadata": {},
     "output_type": "display_data"
    },
    {
     "data": {
      "text/html": [
       "<img src=\"data:image/png;base64,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\" width=\"640\">"
      ],
      "text/plain": [
       "<IPython.core.display.HTML object>"
      ]
     },
     "metadata": {},
     "output_type": "display_data"
    },
    {
     "data": {
      "text/plain": [
       "[<matplotlib.lines.Line2D at 0x7f9beb3c5a30>]"
      ]
     },
     "execution_count": 53,
     "metadata": {},
     "output_type": "execute_result"
    }
   ],
   "source": [
    "A = np.random.rand(100) #Arreglo de largo 100 con numeros aleatorios\n",
    "\n",
    "plt.plot(A, color='r', linestyle='--', linewidth=2, alpha=0.5) #plotea (i, A[i]) "
   ]
  },
  {
   "cell_type": "markdown",
   "metadata": {},
   "source": [
    "#### Notas técnicas\n",
    "En IPython llamar a **plot** genera inmediatamente la figura. Pero, si se usa el intérprete normal de Python, la figura se mostrará usando **show()**.     \n",
    "El backend notebook añade una barra de herramientas que permite manipular interactivamente el gráfico.       \n",
    "Anteriormente, al llamar **plot**, creamos automáticamente un eje y una figura.    \n",
    "       \n",
    "Para tener mayor control sobre nuestro gráfico, podemos crear una figura y un conjunto de ejes usando **figure** o **subplots**\n",
    "\n"
   ]
  },
  {
   "cell_type": "code",
   "execution_count": 54,
   "metadata": {
    "scrolled": true
   },
   "outputs": [
    {
     "data": {
      "application/javascript": [
       "/* Put everything inside the global mpl namespace */\n",
       "/* global mpl */\n",
       "window.mpl = {};\n",
       "\n",
       "mpl.get_websocket_type = function () {\n",
       "    if (typeof WebSocket !== 'undefined') {\n",
       "        return WebSocket;\n",
       "    } else if (typeof MozWebSocket !== 'undefined') {\n",
       "        return MozWebSocket;\n",
       "    } else {\n",
       "        alert(\n",
       "            'Your browser does not have WebSocket support. ' +\n",
       "                'Please try Chrome, Safari or Firefox ≥ 6. ' +\n",
       "                'Firefox 4 and 5 are also supported but you ' +\n",
       "                'have to enable WebSockets in about:config.'\n",
       "        );\n",
       "    }\n",
       "};\n",
       "\n",
       "mpl.figure = function (figure_id, websocket, ondownload, parent_element) {\n",
       "    this.id = figure_id;\n",
       "\n",
       "    this.ws = websocket;\n",
       "\n",
       "    this.supports_binary = this.ws.binaryType !== undefined;\n",
       "\n",
       "    if (!this.supports_binary) {\n",
       "        var warnings = document.getElementById('mpl-warnings');\n",
       "        if (warnings) {\n",
       "            warnings.style.display = 'block';\n",
       "            warnings.textContent =\n",
       "                'This browser does not support binary websocket messages. ' +\n",
       "                'Performance may be slow.';\n",
       "        }\n",
       "    }\n",
       "\n",
       "    this.imageObj = new Image();\n",
       "\n",
       "    this.context = undefined;\n",
       "    this.message = undefined;\n",
       "    this.canvas = undefined;\n",
       "    this.rubberband_canvas = undefined;\n",
       "    this.rubberband_context = undefined;\n",
       "    this.format_dropdown = undefined;\n",
       "\n",
       "    this.image_mode = 'full';\n",
       "\n",
       "    this.root = document.createElement('div');\n",
       "    this.root.setAttribute('style', 'display: inline-block');\n",
       "    this._root_extra_style(this.root);\n",
       "\n",
       "    parent_element.appendChild(this.root);\n",
       "\n",
       "    this._init_header(this);\n",
       "    this._init_canvas(this);\n",
       "    this._init_toolbar(this);\n",
       "\n",
       "    var fig = this;\n",
       "\n",
       "    this.waiting = false;\n",
       "\n",
       "    this.ws.onopen = function () {\n",
       "        fig.send_message('supports_binary', { value: fig.supports_binary });\n",
       "        fig.send_message('send_image_mode', {});\n",
       "        if (mpl.ratio !== 1) {\n",
       "            fig.send_message('set_dpi_ratio', { dpi_ratio: mpl.ratio });\n",
       "        }\n",
       "        fig.send_message('refresh', {});\n",
       "    };\n",
       "\n",
       "    this.imageObj.onload = function () {\n",
       "        if (fig.image_mode === 'full') {\n",
       "            // Full images could contain transparency (where diff images\n",
       "            // almost always do), so we need to clear the canvas so that\n",
       "            // there is no ghosting.\n",
       "            fig.context.clearRect(0, 0, fig.canvas.width, fig.canvas.height);\n",
       "        }\n",
       "        fig.context.drawImage(fig.imageObj, 0, 0);\n",
       "    };\n",
       "\n",
       "    this.imageObj.onunload = function () {\n",
       "        fig.ws.close();\n",
       "    };\n",
       "\n",
       "    this.ws.onmessage = this._make_on_message_function(this);\n",
       "\n",
       "    this.ondownload = ondownload;\n",
       "};\n",
       "\n",
       "mpl.figure.prototype._init_header = function () {\n",
       "    var titlebar = document.createElement('div');\n",
       "    titlebar.classList =\n",
       "        'ui-dialog-titlebar ui-widget-header ui-corner-all ui-helper-clearfix';\n",
       "    var titletext = document.createElement('div');\n",
       "    titletext.classList = 'ui-dialog-title';\n",
       "    titletext.setAttribute(\n",
       "        'style',\n",
       "        'width: 100%; text-align: center; padding: 3px;'\n",
       "    );\n",
       "    titlebar.appendChild(titletext);\n",
       "    this.root.appendChild(titlebar);\n",
       "    this.header = titletext;\n",
       "};\n",
       "\n",
       "mpl.figure.prototype._canvas_extra_style = function (_canvas_div) {};\n",
       "\n",
       "mpl.figure.prototype._root_extra_style = function (_canvas_div) {};\n",
       "\n",
       "mpl.figure.prototype._init_canvas = function () {\n",
       "    var fig = this;\n",
       "\n",
       "    var canvas_div = (this.canvas_div = document.createElement('div'));\n",
       "    canvas_div.setAttribute(\n",
       "        'style',\n",
       "        'border: 1px solid #ddd;' +\n",
       "            'box-sizing: content-box;' +\n",
       "            'clear: both;' +\n",
       "            'min-height: 1px;' +\n",
       "            'min-width: 1px;' +\n",
       "            'outline: 0;' +\n",
       "            'overflow: hidden;' +\n",
       "            'position: relative;' +\n",
       "            'resize: both;'\n",
       "    );\n",
       "\n",
       "    function on_keyboard_event_closure(name) {\n",
       "        return function (event) {\n",
       "            return fig.key_event(event, name);\n",
       "        };\n",
       "    }\n",
       "\n",
       "    canvas_div.addEventListener(\n",
       "        'keydown',\n",
       "        on_keyboard_event_closure('key_press')\n",
       "    );\n",
       "    canvas_div.addEventListener(\n",
       "        'keyup',\n",
       "        on_keyboard_event_closure('key_release')\n",
       "    );\n",
       "\n",
       "    this._canvas_extra_style(canvas_div);\n",
       "    this.root.appendChild(canvas_div);\n",
       "\n",
       "    var canvas = (this.canvas = document.createElement('canvas'));\n",
       "    canvas.classList.add('mpl-canvas');\n",
       "    canvas.setAttribute('style', 'box-sizing: content-box;');\n",
       "\n",
       "    this.context = canvas.getContext('2d');\n",
       "\n",
       "    var backingStore =\n",
       "        this.context.backingStorePixelRatio ||\n",
       "        this.context.webkitBackingStorePixelRatio ||\n",
       "        this.context.mozBackingStorePixelRatio ||\n",
       "        this.context.msBackingStorePixelRatio ||\n",
       "        this.context.oBackingStorePixelRatio ||\n",
       "        this.context.backingStorePixelRatio ||\n",
       "        1;\n",
       "\n",
       "    mpl.ratio = (window.devicePixelRatio || 1) / backingStore;\n",
       "\n",
       "    var rubberband_canvas = (this.rubberband_canvas = document.createElement(\n",
       "        'canvas'\n",
       "    ));\n",
       "    rubberband_canvas.setAttribute(\n",
       "        'style',\n",
       "        'box-sizing: content-box; position: absolute; left: 0; top: 0; z-index: 1;'\n",
       "    );\n",
       "\n",
       "    var resizeObserver = new ResizeObserver(function (entries) {\n",
       "        var nentries = entries.length;\n",
       "        for (var i = 0; i < nentries; i++) {\n",
       "            var entry = entries[i];\n",
       "            var width, height;\n",
       "            if (entry.contentBoxSize) {\n",
       "                if (entry.contentBoxSize instanceof Array) {\n",
       "                    // Chrome 84 implements new version of spec.\n",
       "                    width = entry.contentBoxSize[0].inlineSize;\n",
       "                    height = entry.contentBoxSize[0].blockSize;\n",
       "                } else {\n",
       "                    // Firefox implements old version of spec.\n",
       "                    width = entry.contentBoxSize.inlineSize;\n",
       "                    height = entry.contentBoxSize.blockSize;\n",
       "                }\n",
       "            } else {\n",
       "                // Chrome <84 implements even older version of spec.\n",
       "                width = entry.contentRect.width;\n",
       "                height = entry.contentRect.height;\n",
       "            }\n",
       "\n",
       "            // Keep the size of the canvas and rubber band canvas in sync with\n",
       "            // the canvas container.\n",
       "            if (entry.devicePixelContentBoxSize) {\n",
       "                // Chrome 84 implements new version of spec.\n",
       "                canvas.setAttribute(\n",
       "                    'width',\n",
       "                    entry.devicePixelContentBoxSize[0].inlineSize\n",
       "                );\n",
       "                canvas.setAttribute(\n",
       "                    'height',\n",
       "                    entry.devicePixelContentBoxSize[0].blockSize\n",
       "                );\n",
       "            } else {\n",
       "                canvas.setAttribute('width', width * mpl.ratio);\n",
       "                canvas.setAttribute('height', height * mpl.ratio);\n",
       "            }\n",
       "            canvas.setAttribute(\n",
       "                'style',\n",
       "                'width: ' + width + 'px; height: ' + height + 'px;'\n",
       "            );\n",
       "\n",
       "            rubberband_canvas.setAttribute('width', width);\n",
       "            rubberband_canvas.setAttribute('height', height);\n",
       "\n",
       "            // And update the size in Python. We ignore the initial 0/0 size\n",
       "            // that occurs as the element is placed into the DOM, which should\n",
       "            // otherwise not happen due to the minimum size styling.\n",
       "            if (width != 0 && height != 0) {\n",
       "                fig.request_resize(width, height);\n",
       "            }\n",
       "        }\n",
       "    });\n",
       "    resizeObserver.observe(canvas_div);\n",
       "\n",
       "    function on_mouse_event_closure(name) {\n",
       "        return function (event) {\n",
       "            return fig.mouse_event(event, name);\n",
       "        };\n",
       "    }\n",
       "\n",
       "    rubberband_canvas.addEventListener(\n",
       "        'mousedown',\n",
       "        on_mouse_event_closure('button_press')\n",
       "    );\n",
       "    rubberband_canvas.addEventListener(\n",
       "        'mouseup',\n",
       "        on_mouse_event_closure('button_release')\n",
       "    );\n",
       "    // Throttle sequential mouse events to 1 every 20ms.\n",
       "    rubberband_canvas.addEventListener(\n",
       "        'mousemove',\n",
       "        on_mouse_event_closure('motion_notify')\n",
       "    );\n",
       "\n",
       "    rubberband_canvas.addEventListener(\n",
       "        'mouseenter',\n",
       "        on_mouse_event_closure('figure_enter')\n",
       "    );\n",
       "    rubberband_canvas.addEventListener(\n",
       "        'mouseleave',\n",
       "        on_mouse_event_closure('figure_leave')\n",
       "    );\n",
       "\n",
       "    canvas_div.addEventListener('wheel', function (event) {\n",
       "        if (event.deltaY < 0) {\n",
       "            event.step = 1;\n",
       "        } else {\n",
       "            event.step = -1;\n",
       "        }\n",
       "        on_mouse_event_closure('scroll')(event);\n",
       "    });\n",
       "\n",
       "    canvas_div.appendChild(canvas);\n",
       "    canvas_div.appendChild(rubberband_canvas);\n",
       "\n",
       "    this.rubberband_context = rubberband_canvas.getContext('2d');\n",
       "    this.rubberband_context.strokeStyle = '#000000';\n",
       "\n",
       "    this._resize_canvas = function (width, height, forward) {\n",
       "        if (forward) {\n",
       "            canvas_div.style.width = width + 'px';\n",
       "            canvas_div.style.height = height + 'px';\n",
       "        }\n",
       "    };\n",
       "\n",
       "    // Disable right mouse context menu.\n",
       "    this.rubberband_canvas.addEventListener('contextmenu', function (_e) {\n",
       "        event.preventDefault();\n",
       "        return false;\n",
       "    });\n",
       "\n",
       "    function set_focus() {\n",
       "        canvas.focus();\n",
       "        canvas_div.focus();\n",
       "    }\n",
       "\n",
       "    window.setTimeout(set_focus, 100);\n",
       "};\n",
       "\n",
       "mpl.figure.prototype._init_toolbar = function () {\n",
       "    var fig = this;\n",
       "\n",
       "    var toolbar = document.createElement('div');\n",
       "    toolbar.classList = 'mpl-toolbar';\n",
       "    this.root.appendChild(toolbar);\n",
       "\n",
       "    function on_click_closure(name) {\n",
       "        return function (_event) {\n",
       "            return fig.toolbar_button_onclick(name);\n",
       "        };\n",
       "    }\n",
       "\n",
       "    function on_mouseover_closure(tooltip) {\n",
       "        return function (event) {\n",
       "            if (!event.currentTarget.disabled) {\n",
       "                return fig.toolbar_button_onmouseover(tooltip);\n",
       "            }\n",
       "        };\n",
       "    }\n",
       "\n",
       "    fig.buttons = {};\n",
       "    var buttonGroup = document.createElement('div');\n",
       "    buttonGroup.classList = 'mpl-button-group';\n",
       "    for (var toolbar_ind in mpl.toolbar_items) {\n",
       "        var name = mpl.toolbar_items[toolbar_ind][0];\n",
       "        var tooltip = mpl.toolbar_items[toolbar_ind][1];\n",
       "        var image = mpl.toolbar_items[toolbar_ind][2];\n",
       "        var method_name = mpl.toolbar_items[toolbar_ind][3];\n",
       "\n",
       "        if (!name) {\n",
       "            /* Instead of a spacer, we start a new button group. */\n",
       "            if (buttonGroup.hasChildNodes()) {\n",
       "                toolbar.appendChild(buttonGroup);\n",
       "            }\n",
       "            buttonGroup = document.createElement('div');\n",
       "            buttonGroup.classList = 'mpl-button-group';\n",
       "            continue;\n",
       "        }\n",
       "\n",
       "        var button = (fig.buttons[name] = document.createElement('button'));\n",
       "        button.classList = 'mpl-widget';\n",
       "        button.setAttribute('role', 'button');\n",
       "        button.setAttribute('aria-disabled', 'false');\n",
       "        button.addEventListener('click', on_click_closure(method_name));\n",
       "        button.addEventListener('mouseover', on_mouseover_closure(tooltip));\n",
       "\n",
       "        var icon_img = document.createElement('img');\n",
       "        icon_img.src = '_images/' + image + '.png';\n",
       "        icon_img.srcset = '_images/' + image + '_large.png 2x';\n",
       "        icon_img.alt = tooltip;\n",
       "        button.appendChild(icon_img);\n",
       "\n",
       "        buttonGroup.appendChild(button);\n",
       "    }\n",
       "\n",
       "    if (buttonGroup.hasChildNodes()) {\n",
       "        toolbar.appendChild(buttonGroup);\n",
       "    }\n",
       "\n",
       "    var fmt_picker = document.createElement('select');\n",
       "    fmt_picker.classList = 'mpl-widget';\n",
       "    toolbar.appendChild(fmt_picker);\n",
       "    this.format_dropdown = fmt_picker;\n",
       "\n",
       "    for (var ind in mpl.extensions) {\n",
       "        var fmt = mpl.extensions[ind];\n",
       "        var option = document.createElement('option');\n",
       "        option.selected = fmt === mpl.default_extension;\n",
       "        option.innerHTML = fmt;\n",
       "        fmt_picker.appendChild(option);\n",
       "    }\n",
       "\n",
       "    var status_bar = document.createElement('span');\n",
       "    status_bar.classList = 'mpl-message';\n",
       "    toolbar.appendChild(status_bar);\n",
       "    this.message = status_bar;\n",
       "};\n",
       "\n",
       "mpl.figure.prototype.request_resize = function (x_pixels, y_pixels) {\n",
       "    // Request matplotlib to resize the figure. Matplotlib will then trigger a resize in the client,\n",
       "    // which will in turn request a refresh of the image.\n",
       "    this.send_message('resize', { width: x_pixels, height: y_pixels });\n",
       "};\n",
       "\n",
       "mpl.figure.prototype.send_message = function (type, properties) {\n",
       "    properties['type'] = type;\n",
       "    properties['figure_id'] = this.id;\n",
       "    this.ws.send(JSON.stringify(properties));\n",
       "};\n",
       "\n",
       "mpl.figure.prototype.send_draw_message = function () {\n",
       "    if (!this.waiting) {\n",
       "        this.waiting = true;\n",
       "        this.ws.send(JSON.stringify({ type: 'draw', figure_id: this.id }));\n",
       "    }\n",
       "};\n",
       "\n",
       "mpl.figure.prototype.handle_save = function (fig, _msg) {\n",
       "    var format_dropdown = fig.format_dropdown;\n",
       "    var format = format_dropdown.options[format_dropdown.selectedIndex].value;\n",
       "    fig.ondownload(fig, format);\n",
       "};\n",
       "\n",
       "mpl.figure.prototype.handle_resize = function (fig, msg) {\n",
       "    var size = msg['size'];\n",
       "    if (size[0] !== fig.canvas.width || size[1] !== fig.canvas.height) {\n",
       "        fig._resize_canvas(size[0], size[1], msg['forward']);\n",
       "        fig.send_message('refresh', {});\n",
       "    }\n",
       "};\n",
       "\n",
       "mpl.figure.prototype.handle_rubberband = function (fig, msg) {\n",
       "    var x0 = msg['x0'] / mpl.ratio;\n",
       "    var y0 = (fig.canvas.height - msg['y0']) / mpl.ratio;\n",
       "    var x1 = msg['x1'] / mpl.ratio;\n",
       "    var y1 = (fig.canvas.height - msg['y1']) / mpl.ratio;\n",
       "    x0 = Math.floor(x0) + 0.5;\n",
       "    y0 = Math.floor(y0) + 0.5;\n",
       "    x1 = Math.floor(x1) + 0.5;\n",
       "    y1 = Math.floor(y1) + 0.5;\n",
       "    var min_x = Math.min(x0, x1);\n",
       "    var min_y = Math.min(y0, y1);\n",
       "    var width = Math.abs(x1 - x0);\n",
       "    var height = Math.abs(y1 - y0);\n",
       "\n",
       "    fig.rubberband_context.clearRect(\n",
       "        0,\n",
       "        0,\n",
       "        fig.canvas.width / mpl.ratio,\n",
       "        fig.canvas.height / mpl.ratio\n",
       "    );\n",
       "\n",
       "    fig.rubberband_context.strokeRect(min_x, min_y, width, height);\n",
       "};\n",
       "\n",
       "mpl.figure.prototype.handle_figure_label = function (fig, msg) {\n",
       "    // Updates the figure title.\n",
       "    fig.header.textContent = msg['label'];\n",
       "};\n",
       "\n",
       "mpl.figure.prototype.handle_cursor = function (fig, msg) {\n",
       "    var cursor = msg['cursor'];\n",
       "    switch (cursor) {\n",
       "        case 0:\n",
       "            cursor = 'pointer';\n",
       "            break;\n",
       "        case 1:\n",
       "            cursor = 'default';\n",
       "            break;\n",
       "        case 2:\n",
       "            cursor = 'crosshair';\n",
       "            break;\n",
       "        case 3:\n",
       "            cursor = 'move';\n",
       "            break;\n",
       "    }\n",
       "    fig.rubberband_canvas.style.cursor = cursor;\n",
       "};\n",
       "\n",
       "mpl.figure.prototype.handle_message = function (fig, msg) {\n",
       "    fig.message.textContent = msg['message'];\n",
       "};\n",
       "\n",
       "mpl.figure.prototype.handle_draw = function (fig, _msg) {\n",
       "    // Request the server to send over a new figure.\n",
       "    fig.send_draw_message();\n",
       "};\n",
       "\n",
       "mpl.figure.prototype.handle_image_mode = function (fig, msg) {\n",
       "    fig.image_mode = msg['mode'];\n",
       "};\n",
       "\n",
       "mpl.figure.prototype.handle_history_buttons = function (fig, msg) {\n",
       "    for (var key in msg) {\n",
       "        if (!(key in fig.buttons)) {\n",
       "            continue;\n",
       "        }\n",
       "        fig.buttons[key].disabled = !msg[key];\n",
       "        fig.buttons[key].setAttribute('aria-disabled', !msg[key]);\n",
       "    }\n",
       "};\n",
       "\n",
       "mpl.figure.prototype.handle_navigate_mode = function (fig, msg) {\n",
       "    if (msg['mode'] === 'PAN') {\n",
       "        fig.buttons['Pan'].classList.add('active');\n",
       "        fig.buttons['Zoom'].classList.remove('active');\n",
       "    } else if (msg['mode'] === 'ZOOM') {\n",
       "        fig.buttons['Pan'].classList.remove('active');\n",
       "        fig.buttons['Zoom'].classList.add('active');\n",
       "    } else {\n",
       "        fig.buttons['Pan'].classList.remove('active');\n",
       "        fig.buttons['Zoom'].classList.remove('active');\n",
       "    }\n",
       "};\n",
       "\n",
       "mpl.figure.prototype.updated_canvas_event = function () {\n",
       "    // Called whenever the canvas gets updated.\n",
       "    this.send_message('ack', {});\n",
       "};\n",
       "\n",
       "// A function to construct a web socket function for onmessage handling.\n",
       "// Called in the figure constructor.\n",
       "mpl.figure.prototype._make_on_message_function = function (fig) {\n",
       "    return function socket_on_message(evt) {\n",
       "        if (evt.data instanceof Blob) {\n",
       "            /* FIXME: We get \"Resource interpreted as Image but\n",
       "             * transferred with MIME type text/plain:\" errors on\n",
       "             * Chrome.  But how to set the MIME type?  It doesn't seem\n",
       "             * to be part of the websocket stream */\n",
       "            evt.data.type = 'image/png';\n",
       "\n",
       "            /* Free the memory for the previous frames */\n",
       "            if (fig.imageObj.src) {\n",
       "                (window.URL || window.webkitURL).revokeObjectURL(\n",
       "                    fig.imageObj.src\n",
       "                );\n",
       "            }\n",
       "\n",
       "            fig.imageObj.src = (window.URL || window.webkitURL).createObjectURL(\n",
       "                evt.data\n",
       "            );\n",
       "            fig.updated_canvas_event();\n",
       "            fig.waiting = false;\n",
       "            return;\n",
       "        } else if (\n",
       "            typeof evt.data === 'string' &&\n",
       "            evt.data.slice(0, 21) === 'data:image/png;base64'\n",
       "        ) {\n",
       "            fig.imageObj.src = evt.data;\n",
       "            fig.updated_canvas_event();\n",
       "            fig.waiting = false;\n",
       "            return;\n",
       "        }\n",
       "\n",
       "        var msg = JSON.parse(evt.data);\n",
       "        var msg_type = msg['type'];\n",
       "\n",
       "        // Call the  \"handle_{type}\" callback, which takes\n",
       "        // the figure and JSON message as its only arguments.\n",
       "        try {\n",
       "            var callback = fig['handle_' + msg_type];\n",
       "        } catch (e) {\n",
       "            console.log(\n",
       "                \"No handler for the '\" + msg_type + \"' message type: \",\n",
       "                msg\n",
       "            );\n",
       "            return;\n",
       "        }\n",
       "\n",
       "        if (callback) {\n",
       "            try {\n",
       "                // console.log(\"Handling '\" + msg_type + \"' message: \", msg);\n",
       "                callback(fig, msg);\n",
       "            } catch (e) {\n",
       "                console.log(\n",
       "                    \"Exception inside the 'handler_\" + msg_type + \"' callback:\",\n",
       "                    e,\n",
       "                    e.stack,\n",
       "                    msg\n",
       "                );\n",
       "            }\n",
       "        }\n",
       "    };\n",
       "};\n",
       "\n",
       "// from http://stackoverflow.com/questions/1114465/getting-mouse-location-in-canvas\n",
       "mpl.findpos = function (e) {\n",
       "    //this section is from http://www.quirksmode.org/js/events_properties.html\n",
       "    var targ;\n",
       "    if (!e) {\n",
       "        e = window.event;\n",
       "    }\n",
       "    if (e.target) {\n",
       "        targ = e.target;\n",
       "    } else if (e.srcElement) {\n",
       "        targ = e.srcElement;\n",
       "    }\n",
       "    if (targ.nodeType === 3) {\n",
       "        // defeat Safari bug\n",
       "        targ = targ.parentNode;\n",
       "    }\n",
       "\n",
       "    // pageX,Y are the mouse positions relative to the document\n",
       "    var boundingRect = targ.getBoundingClientRect();\n",
       "    var x = e.pageX - (boundingRect.left + document.body.scrollLeft);\n",
       "    var y = e.pageY - (boundingRect.top + document.body.scrollTop);\n",
       "\n",
       "    return { x: x, y: y };\n",
       "};\n",
       "\n",
       "/*\n",
       " * return a copy of an object with only non-object keys\n",
       " * we need this to avoid circular references\n",
       " * http://stackoverflow.com/a/24161582/3208463\n",
       " */\n",
       "function simpleKeys(original) {\n",
       "    return Object.keys(original).reduce(function (obj, key) {\n",
       "        if (typeof original[key] !== 'object') {\n",
       "            obj[key] = original[key];\n",
       "        }\n",
       "        return obj;\n",
       "    }, {});\n",
       "}\n",
       "\n",
       "mpl.figure.prototype.mouse_event = function (event, name) {\n",
       "    var canvas_pos = mpl.findpos(event);\n",
       "\n",
       "    if (name === 'button_press') {\n",
       "        this.canvas.focus();\n",
       "        this.canvas_div.focus();\n",
       "    }\n",
       "\n",
       "    var x = canvas_pos.x * mpl.ratio;\n",
       "    var y = canvas_pos.y * mpl.ratio;\n",
       "\n",
       "    this.send_message(name, {\n",
       "        x: x,\n",
       "        y: y,\n",
       "        button: event.button,\n",
       "        step: event.step,\n",
       "        guiEvent: simpleKeys(event),\n",
       "    });\n",
       "\n",
       "    /* This prevents the web browser from automatically changing to\n",
       "     * the text insertion cursor when the button is pressed.  We want\n",
       "     * to control all of the cursor setting manually through the\n",
       "     * 'cursor' event from matplotlib */\n",
       "    event.preventDefault();\n",
       "    return false;\n",
       "};\n",
       "\n",
       "mpl.figure.prototype._key_event_extra = function (_event, _name) {\n",
       "    // Handle any extra behaviour associated with a key event\n",
       "};\n",
       "\n",
       "mpl.figure.prototype.key_event = function (event, name) {\n",
       "    // Prevent repeat events\n",
       "    if (name === 'key_press') {\n",
       "        if (event.which === this._key) {\n",
       "            return;\n",
       "        } else {\n",
       "            this._key = event.which;\n",
       "        }\n",
       "    }\n",
       "    if (name === 'key_release') {\n",
       "        this._key = null;\n",
       "    }\n",
       "\n",
       "    var value = '';\n",
       "    if (event.ctrlKey && event.which !== 17) {\n",
       "        value += 'ctrl+';\n",
       "    }\n",
       "    if (event.altKey && event.which !== 18) {\n",
       "        value += 'alt+';\n",
       "    }\n",
       "    if (event.shiftKey && event.which !== 16) {\n",
       "        value += 'shift+';\n",
       "    }\n",
       "\n",
       "    value += 'k';\n",
       "    value += event.which.toString();\n",
       "\n",
       "    this._key_event_extra(event, name);\n",
       "\n",
       "    this.send_message(name, { key: value, guiEvent: simpleKeys(event) });\n",
       "    return false;\n",
       "};\n",
       "\n",
       "mpl.figure.prototype.toolbar_button_onclick = function (name) {\n",
       "    if (name === 'download') {\n",
       "        this.handle_save(this, null);\n",
       "    } else {\n",
       "        this.send_message('toolbar_button', { name: name });\n",
       "    }\n",
       "};\n",
       "\n",
       "mpl.figure.prototype.toolbar_button_onmouseover = function (tooltip) {\n",
       "    this.message.textContent = tooltip;\n",
       "};\n",
       "mpl.toolbar_items = [[\"Home\", \"Reset original view\", \"fa fa-home icon-home\", \"home\"], [\"Back\", \"Back to previous view\", \"fa fa-arrow-left icon-arrow-left\", \"back\"], [\"Forward\", \"Forward to next view\", \"fa fa-arrow-right icon-arrow-right\", \"forward\"], [\"\", \"\", \"\", \"\"], [\"Pan\", \"Left button pans, Right button zooms\\nx/y fixes axis, CTRL fixes aspect\", \"fa fa-arrows icon-move\", \"pan\"], [\"Zoom\", \"Zoom to rectangle\\nx/y fixes axis, CTRL fixes aspect\", \"fa fa-square-o icon-check-empty\", \"zoom\"], [\"\", \"\", \"\", \"\"], [\"Download\", \"Download plot\", \"fa fa-floppy-o icon-save\", \"download\"]];\n",
       "\n",
       "mpl.extensions = [\"eps\", \"jpeg\", \"pdf\", \"png\", \"ps\", \"raw\", \"svg\", \"tif\"];\n",
       "\n",
       "mpl.default_extension = \"png\";/* global mpl */\n",
       "\n",
       "var comm_websocket_adapter = function (comm) {\n",
       "    // Create a \"websocket\"-like object which calls the given IPython comm\n",
       "    // object with the appropriate methods. Currently this is a non binary\n",
       "    // socket, so there is still some room for performance tuning.\n",
       "    var ws = {};\n",
       "\n",
       "    ws.close = function () {\n",
       "        comm.close();\n",
       "    };\n",
       "    ws.send = function (m) {\n",
       "        //console.log('sending', m);\n",
       "        comm.send(m);\n",
       "    };\n",
       "    // Register the callback with on_msg.\n",
       "    comm.on_msg(function (msg) {\n",
       "        //console.log('receiving', msg['content']['data'], msg);\n",
       "        // Pass the mpl event to the overridden (by mpl) onmessage function.\n",
       "        ws.onmessage(msg['content']['data']);\n",
       "    });\n",
       "    return ws;\n",
       "};\n",
       "\n",
       "mpl.mpl_figure_comm = function (comm, msg) {\n",
       "    // This is the function which gets called when the mpl process\n",
       "    // starts-up an IPython Comm through the \"matplotlib\" channel.\n",
       "\n",
       "    var id = msg.content.data.id;\n",
       "    // Get hold of the div created by the display call when the Comm\n",
       "    // socket was opened in Python.\n",
       "    var element = document.getElementById(id);\n",
       "    var ws_proxy = comm_websocket_adapter(comm);\n",
       "\n",
       "    function ondownload(figure, _format) {\n",
       "        window.open(figure.canvas.toDataURL());\n",
       "    }\n",
       "\n",
       "    var fig = new mpl.figure(id, ws_proxy, ondownload, element);\n",
       "\n",
       "    // Call onopen now - mpl needs it, as it is assuming we've passed it a real\n",
       "    // web socket which is closed, not our websocket->open comm proxy.\n",
       "    ws_proxy.onopen();\n",
       "\n",
       "    fig.parent_element = element;\n",
       "    fig.cell_info = mpl.find_output_cell(\"<div id='\" + id + \"'></div>\");\n",
       "    if (!fig.cell_info) {\n",
       "        console.error('Failed to find cell for figure', id, fig);\n",
       "        return;\n",
       "    }\n",
       "};\n",
       "\n",
       "mpl.figure.prototype.handle_close = function (fig, msg) {\n",
       "    var width = fig.canvas.width / mpl.ratio;\n",
       "    fig.root.removeEventListener('remove', this._remove_fig_handler);\n",
       "\n",
       "    // Update the output cell to use the data from the current canvas.\n",
       "    fig.push_to_output();\n",
       "    var dataURL = fig.canvas.toDataURL();\n",
       "    // Re-enable the keyboard manager in IPython - without this line, in FF,\n",
       "    // the notebook keyboard shortcuts fail.\n",
       "    IPython.keyboard_manager.enable();\n",
       "    fig.parent_element.innerHTML =\n",
       "        '<img src=\"' + dataURL + '\" width=\"' + width + '\">';\n",
       "    fig.close_ws(fig, msg);\n",
       "};\n",
       "\n",
       "mpl.figure.prototype.close_ws = function (fig, msg) {\n",
       "    fig.send_message('closing', msg);\n",
       "    // fig.ws.close()\n",
       "};\n",
       "\n",
       "mpl.figure.prototype.push_to_output = function (_remove_interactive) {\n",
       "    // Turn the data on the canvas into data in the output cell.\n",
       "    var width = this.canvas.width / mpl.ratio;\n",
       "    var dataURL = this.canvas.toDataURL();\n",
       "    this.cell_info[1]['text/html'] =\n",
       "        '<img src=\"' + dataURL + '\" width=\"' + width + '\">';\n",
       "};\n",
       "\n",
       "mpl.figure.prototype.updated_canvas_event = function () {\n",
       "    // Tell IPython that the notebook contents must change.\n",
       "    IPython.notebook.set_dirty(true);\n",
       "    this.send_message('ack', {});\n",
       "    var fig = this;\n",
       "    // Wait a second, then push the new image to the DOM so\n",
       "    // that it is saved nicely (might be nice to debounce this).\n",
       "    setTimeout(function () {\n",
       "        fig.push_to_output();\n",
       "    }, 1000);\n",
       "};\n",
       "\n",
       "mpl.figure.prototype._init_toolbar = function () {\n",
       "    var fig = this;\n",
       "\n",
       "    var toolbar = document.createElement('div');\n",
       "    toolbar.classList = 'btn-toolbar';\n",
       "    this.root.appendChild(toolbar);\n",
       "\n",
       "    function on_click_closure(name) {\n",
       "        return function (_event) {\n",
       "            return fig.toolbar_button_onclick(name);\n",
       "        };\n",
       "    }\n",
       "\n",
       "    function on_mouseover_closure(tooltip) {\n",
       "        return function (event) {\n",
       "            if (!event.currentTarget.disabled) {\n",
       "                return fig.toolbar_button_onmouseover(tooltip);\n",
       "            }\n",
       "        };\n",
       "    }\n",
       "\n",
       "    fig.buttons = {};\n",
       "    var buttonGroup = document.createElement('div');\n",
       "    buttonGroup.classList = 'btn-group';\n",
       "    var button;\n",
       "    for (var toolbar_ind in mpl.toolbar_items) {\n",
       "        var name = mpl.toolbar_items[toolbar_ind][0];\n",
       "        var tooltip = mpl.toolbar_items[toolbar_ind][1];\n",
       "        var image = mpl.toolbar_items[toolbar_ind][2];\n",
       "        var method_name = mpl.toolbar_items[toolbar_ind][3];\n",
       "\n",
       "        if (!name) {\n",
       "            /* Instead of a spacer, we start a new button group. */\n",
       "            if (buttonGroup.hasChildNodes()) {\n",
       "                toolbar.appendChild(buttonGroup);\n",
       "            }\n",
       "            buttonGroup = document.createElement('div');\n",
       "            buttonGroup.classList = 'btn-group';\n",
       "            continue;\n",
       "        }\n",
       "\n",
       "        button = fig.buttons[name] = document.createElement('button');\n",
       "        button.classList = 'btn btn-default';\n",
       "        button.href = '#';\n",
       "        button.title = name;\n",
       "        button.innerHTML = '<i class=\"fa ' + image + ' fa-lg\"></i>';\n",
       "        button.addEventListener('click', on_click_closure(method_name));\n",
       "        button.addEventListener('mouseover', on_mouseover_closure(tooltip));\n",
       "        buttonGroup.appendChild(button);\n",
       "    }\n",
       "\n",
       "    if (buttonGroup.hasChildNodes()) {\n",
       "        toolbar.appendChild(buttonGroup);\n",
       "    }\n",
       "\n",
       "    // Add the status bar.\n",
       "    var status_bar = document.createElement('span');\n",
       "    status_bar.classList = 'mpl-message pull-right';\n",
       "    toolbar.appendChild(status_bar);\n",
       "    this.message = status_bar;\n",
       "\n",
       "    // Add the close button to the window.\n",
       "    var buttongrp = document.createElement('div');\n",
       "    buttongrp.classList = 'btn-group inline pull-right';\n",
       "    button = document.createElement('button');\n",
       "    button.classList = 'btn btn-mini btn-primary';\n",
       "    button.href = '#';\n",
       "    button.title = 'Stop Interaction';\n",
       "    button.innerHTML = '<i class=\"fa fa-power-off icon-remove icon-large\"></i>';\n",
       "    button.addEventListener('click', function (_evt) {\n",
       "        fig.handle_close(fig, {});\n",
       "    });\n",
       "    button.addEventListener(\n",
       "        'mouseover',\n",
       "        on_mouseover_closure('Stop Interaction')\n",
       "    );\n",
       "    buttongrp.appendChild(button);\n",
       "    var titlebar = this.root.querySelector('.ui-dialog-titlebar');\n",
       "    titlebar.insertBefore(buttongrp, titlebar.firstChild);\n",
       "};\n",
       "\n",
       "mpl.figure.prototype._remove_fig_handler = function () {\n",
       "    this.close_ws(this, {});\n",
       "};\n",
       "\n",
       "mpl.figure.prototype._root_extra_style = function (el) {\n",
       "    el.style.boxSizing = 'content-box'; // override notebook setting of border-box.\n",
       "    el.addEventListener('remove', this._remove_fig_handler);\n",
       "};\n",
       "\n",
       "mpl.figure.prototype._canvas_extra_style = function (el) {\n",
       "    // this is important to make the div 'focusable\n",
       "    el.setAttribute('tabindex', 0);\n",
       "    // reach out to IPython and tell the keyboard manager to turn it's self\n",
       "    // off when our div gets focus\n",
       "\n",
       "    // location in version 3\n",
       "    if (IPython.notebook.keyboard_manager) {\n",
       "        IPython.notebook.keyboard_manager.register_events(el);\n",
       "    } else {\n",
       "        // location in version 2\n",
       "        IPython.keyboard_manager.register_events(el);\n",
       "    }\n",
       "};\n",
       "\n",
       "mpl.figure.prototype._key_event_extra = function (event, _name) {\n",
       "    var manager = IPython.notebook.keyboard_manager;\n",
       "    if (!manager) {\n",
       "        manager = IPython.keyboard_manager;\n",
       "    }\n",
       "\n",
       "    // Check for shift+enter\n",
       "    if (event.shiftKey && event.which === 13) {\n",
       "        this.canvas_div.blur();\n",
       "        // select the cell after this one\n",
       "        var index = IPython.notebook.find_cell_index(this.cell_info[0]);\n",
       "        IPython.notebook.select(index + 1);\n",
       "    }\n",
       "};\n",
       "\n",
       "mpl.figure.prototype.handle_save = function (fig, _msg) {\n",
       "    fig.ondownload(fig, null);\n",
       "};\n",
       "\n",
       "mpl.find_output_cell = function (html_output) {\n",
       "    // Return the cell and output element which can be found *uniquely* in the notebook.\n",
       "    // Note - this is a bit hacky, but it is done because the \"notebook_saving.Notebook\"\n",
       "    // IPython event is triggered only after the cells have been serialised, which for\n",
       "    // our purposes (turning an active figure into a static one), is too late.\n",
       "    var cells = IPython.notebook.get_cells();\n",
       "    var ncells = cells.length;\n",
       "    for (var i = 0; i < ncells; i++) {\n",
       "        var cell = cells[i];\n",
       "        if (cell.cell_type === 'code') {\n",
       "            for (var j = 0; j < cell.output_area.outputs.length; j++) {\n",
       "                var data = cell.output_area.outputs[j];\n",
       "                if (data.data) {\n",
       "                    // IPython >= 3 moved mimebundle to data attribute of output\n",
       "                    data = data.data;\n",
       "                }\n",
       "                if (data['text/html'] === html_output) {\n",
       "                    return [cell, data, j];\n",
       "                }\n",
       "            }\n",
       "        }\n",
       "    }\n",
       "};\n",
       "\n",
       "// Register the function which deals with the matplotlib target/channel.\n",
       "// The kernel may be null if the page has been refreshed.\n",
       "if (IPython.notebook.kernel !== null) {\n",
       "    IPython.notebook.kernel.comm_manager.register_target(\n",
       "        'matplotlib',\n",
       "        mpl.mpl_figure_comm\n",
       "    );\n",
       "}\n"
      ],
      "text/plain": [
       "<IPython.core.display.Javascript object>"
      ]
     },
     "metadata": {},
     "output_type": "display_data"
    },
    {
     "data": {
      "text/html": [
       "<img src=\"data:image/png;base64,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\" width=\"700\">"
      ],
      "text/plain": [
       "<IPython.core.display.HTML object>"
      ]
     },
     "metadata": {},
     "output_type": "display_data"
    },
    {
     "data": {
      "text/plain": [
       "[<matplotlib.lines.Line2D at 0x7f9bd655b430>]"
      ]
     },
     "execution_count": 54,
     "metadata": {},
     "output_type": "execute_result"
    }
   ],
   "source": [
    "fig, ax = plt.subplots(figsize=(7,4), tight_layout=True, facecolor='w')\n",
    "ax.plot(A)"
   ]
  },
  {
   "cell_type": "markdown",
   "metadata": {},
   "source": [
    "#### Anatomía de un gráfico de Matplotlib\n",
    "Se llama _artista_ (artist) a los objetos que podemos dibujar en los ejes.     \n",
    "Agregamos artistas y modificamos su apariencia usando las funciones de las clases **Axes**. La siguiente figura de la documentación de matplotlib resume los elementos principales que podemos modificar.\n",
    "\n",
    "<img src='images/image1-matplotlib.png'>"
   ]
  },
  {
   "cell_type": "code",
   "execution_count": 64,
   "metadata": {
    "scrolled": true
   },
   "outputs": [
    {
     "data": {
      "application/javascript": [
       "/* Put everything inside the global mpl namespace */\n",
       "/* global mpl */\n",
       "window.mpl = {};\n",
       "\n",
       "mpl.get_websocket_type = function () {\n",
       "    if (typeof WebSocket !== 'undefined') {\n",
       "        return WebSocket;\n",
       "    } else if (typeof MozWebSocket !== 'undefined') {\n",
       "        return MozWebSocket;\n",
       "    } else {\n",
       "        alert(\n",
       "            'Your browser does not have WebSocket support. ' +\n",
       "                'Please try Chrome, Safari or Firefox ≥ 6. ' +\n",
       "                'Firefox 4 and 5 are also supported but you ' +\n",
       "                'have to enable WebSockets in about:config.'\n",
       "        );\n",
       "    }\n",
       "};\n",
       "\n",
       "mpl.figure = function (figure_id, websocket, ondownload, parent_element) {\n",
       "    this.id = figure_id;\n",
       "\n",
       "    this.ws = websocket;\n",
       "\n",
       "    this.supports_binary = this.ws.binaryType !== undefined;\n",
       "\n",
       "    if (!this.supports_binary) {\n",
       "        var warnings = document.getElementById('mpl-warnings');\n",
       "        if (warnings) {\n",
       "            warnings.style.display = 'block';\n",
       "            warnings.textContent =\n",
       "                'This browser does not support binary websocket messages. ' +\n",
       "                'Performance may be slow.';\n",
       "        }\n",
       "    }\n",
       "\n",
       "    this.imageObj = new Image();\n",
       "\n",
       "    this.context = undefined;\n",
       "    this.message = undefined;\n",
       "    this.canvas = undefined;\n",
       "    this.rubberband_canvas = undefined;\n",
       "    this.rubberband_context = undefined;\n",
       "    this.format_dropdown = undefined;\n",
       "\n",
       "    this.image_mode = 'full';\n",
       "\n",
       "    this.root = document.createElement('div');\n",
       "    this.root.setAttribute('style', 'display: inline-block');\n",
       "    this._root_extra_style(this.root);\n",
       "\n",
       "    parent_element.appendChild(this.root);\n",
       "\n",
       "    this._init_header(this);\n",
       "    this._init_canvas(this);\n",
       "    this._init_toolbar(this);\n",
       "\n",
       "    var fig = this;\n",
       "\n",
       "    this.waiting = false;\n",
       "\n",
       "    this.ws.onopen = function () {\n",
       "        fig.send_message('supports_binary', { value: fig.supports_binary });\n",
       "        fig.send_message('send_image_mode', {});\n",
       "        if (mpl.ratio !== 1) {\n",
       "            fig.send_message('set_dpi_ratio', { dpi_ratio: mpl.ratio });\n",
       "        }\n",
       "        fig.send_message('refresh', {});\n",
       "    };\n",
       "\n",
       "    this.imageObj.onload = function () {\n",
       "        if (fig.image_mode === 'full') {\n",
       "            // Full images could contain transparency (where diff images\n",
       "            // almost always do), so we need to clear the canvas so that\n",
       "            // there is no ghosting.\n",
       "            fig.context.clearRect(0, 0, fig.canvas.width, fig.canvas.height);\n",
       "        }\n",
       "        fig.context.drawImage(fig.imageObj, 0, 0);\n",
       "    };\n",
       "\n",
       "    this.imageObj.onunload = function () {\n",
       "        fig.ws.close();\n",
       "    };\n",
       "\n",
       "    this.ws.onmessage = this._make_on_message_function(this);\n",
       "\n",
       "    this.ondownload = ondownload;\n",
       "};\n",
       "\n",
       "mpl.figure.prototype._init_header = function () {\n",
       "    var titlebar = document.createElement('div');\n",
       "    titlebar.classList =\n",
       "        'ui-dialog-titlebar ui-widget-header ui-corner-all ui-helper-clearfix';\n",
       "    var titletext = document.createElement('div');\n",
       "    titletext.classList = 'ui-dialog-title';\n",
       "    titletext.setAttribute(\n",
       "        'style',\n",
       "        'width: 100%; text-align: center; padding: 3px;'\n",
       "    );\n",
       "    titlebar.appendChild(titletext);\n",
       "    this.root.appendChild(titlebar);\n",
       "    this.header = titletext;\n",
       "};\n",
       "\n",
       "mpl.figure.prototype._canvas_extra_style = function (_canvas_div) {};\n",
       "\n",
       "mpl.figure.prototype._root_extra_style = function (_canvas_div) {};\n",
       "\n",
       "mpl.figure.prototype._init_canvas = function () {\n",
       "    var fig = this;\n",
       "\n",
       "    var canvas_div = (this.canvas_div = document.createElement('div'));\n",
       "    canvas_div.setAttribute(\n",
       "        'style',\n",
       "        'border: 1px solid #ddd;' +\n",
       "            'box-sizing: content-box;' +\n",
       "            'clear: both;' +\n",
       "            'min-height: 1px;' +\n",
       "            'min-width: 1px;' +\n",
       "            'outline: 0;' +\n",
       "            'overflow: hidden;' +\n",
       "            'position: relative;' +\n",
       "            'resize: both;'\n",
       "    );\n",
       "\n",
       "    function on_keyboard_event_closure(name) {\n",
       "        return function (event) {\n",
       "            return fig.key_event(event, name);\n",
       "        };\n",
       "    }\n",
       "\n",
       "    canvas_div.addEventListener(\n",
       "        'keydown',\n",
       "        on_keyboard_event_closure('key_press')\n",
       "    );\n",
       "    canvas_div.addEventListener(\n",
       "        'keyup',\n",
       "        on_keyboard_event_closure('key_release')\n",
       "    );\n",
       "\n",
       "    this._canvas_extra_style(canvas_div);\n",
       "    this.root.appendChild(canvas_div);\n",
       "\n",
       "    var canvas = (this.canvas = document.createElement('canvas'));\n",
       "    canvas.classList.add('mpl-canvas');\n",
       "    canvas.setAttribute('style', 'box-sizing: content-box;');\n",
       "\n",
       "    this.context = canvas.getContext('2d');\n",
       "\n",
       "    var backingStore =\n",
       "        this.context.backingStorePixelRatio ||\n",
       "        this.context.webkitBackingStorePixelRatio ||\n",
       "        this.context.mozBackingStorePixelRatio ||\n",
       "        this.context.msBackingStorePixelRatio ||\n",
       "        this.context.oBackingStorePixelRatio ||\n",
       "        this.context.backingStorePixelRatio ||\n",
       "        1;\n",
       "\n",
       "    mpl.ratio = (window.devicePixelRatio || 1) / backingStore;\n",
       "\n",
       "    var rubberband_canvas = (this.rubberband_canvas = document.createElement(\n",
       "        'canvas'\n",
       "    ));\n",
       "    rubberband_canvas.setAttribute(\n",
       "        'style',\n",
       "        'box-sizing: content-box; position: absolute; left: 0; top: 0; z-index: 1;'\n",
       "    );\n",
       "\n",
       "    var resizeObserver = new ResizeObserver(function (entries) {\n",
       "        var nentries = entries.length;\n",
       "        for (var i = 0; i < nentries; i++) {\n",
       "            var entry = entries[i];\n",
       "            var width, height;\n",
       "            if (entry.contentBoxSize) {\n",
       "                if (entry.contentBoxSize instanceof Array) {\n",
       "                    // Chrome 84 implements new version of spec.\n",
       "                    width = entry.contentBoxSize[0].inlineSize;\n",
       "                    height = entry.contentBoxSize[0].blockSize;\n",
       "                } else {\n",
       "                    // Firefox implements old version of spec.\n",
       "                    width = entry.contentBoxSize.inlineSize;\n",
       "                    height = entry.contentBoxSize.blockSize;\n",
       "                }\n",
       "            } else {\n",
       "                // Chrome <84 implements even older version of spec.\n",
       "                width = entry.contentRect.width;\n",
       "                height = entry.contentRect.height;\n",
       "            }\n",
       "\n",
       "            // Keep the size of the canvas and rubber band canvas in sync with\n",
       "            // the canvas container.\n",
       "            if (entry.devicePixelContentBoxSize) {\n",
       "                // Chrome 84 implements new version of spec.\n",
       "                canvas.setAttribute(\n",
       "                    'width',\n",
       "                    entry.devicePixelContentBoxSize[0].inlineSize\n",
       "                );\n",
       "                canvas.setAttribute(\n",
       "                    'height',\n",
       "                    entry.devicePixelContentBoxSize[0].blockSize\n",
       "                );\n",
       "            } else {\n",
       "                canvas.setAttribute('width', width * mpl.ratio);\n",
       "                canvas.setAttribute('height', height * mpl.ratio);\n",
       "            }\n",
       "            canvas.setAttribute(\n",
       "                'style',\n",
       "                'width: ' + width + 'px; height: ' + height + 'px;'\n",
       "            );\n",
       "\n",
       "            rubberband_canvas.setAttribute('width', width);\n",
       "            rubberband_canvas.setAttribute('height', height);\n",
       "\n",
       "            // And update the size in Python. We ignore the initial 0/0 size\n",
       "            // that occurs as the element is placed into the DOM, which should\n",
       "            // otherwise not happen due to the minimum size styling.\n",
       "            if (width != 0 && height != 0) {\n",
       "                fig.request_resize(width, height);\n",
       "            }\n",
       "        }\n",
       "    });\n",
       "    resizeObserver.observe(canvas_div);\n",
       "\n",
       "    function on_mouse_event_closure(name) {\n",
       "        return function (event) {\n",
       "            return fig.mouse_event(event, name);\n",
       "        };\n",
       "    }\n",
       "\n",
       "    rubberband_canvas.addEventListener(\n",
       "        'mousedown',\n",
       "        on_mouse_event_closure('button_press')\n",
       "    );\n",
       "    rubberband_canvas.addEventListener(\n",
       "        'mouseup',\n",
       "        on_mouse_event_closure('button_release')\n",
       "    );\n",
       "    // Throttle sequential mouse events to 1 every 20ms.\n",
       "    rubberband_canvas.addEventListener(\n",
       "        'mousemove',\n",
       "        on_mouse_event_closure('motion_notify')\n",
       "    );\n",
       "\n",
       "    rubberband_canvas.addEventListener(\n",
       "        'mouseenter',\n",
       "        on_mouse_event_closure('figure_enter')\n",
       "    );\n",
       "    rubberband_canvas.addEventListener(\n",
       "        'mouseleave',\n",
       "        on_mouse_event_closure('figure_leave')\n",
       "    );\n",
       "\n",
       "    canvas_div.addEventListener('wheel', function (event) {\n",
       "        if (event.deltaY < 0) {\n",
       "            event.step = 1;\n",
       "        } else {\n",
       "            event.step = -1;\n",
       "        }\n",
       "        on_mouse_event_closure('scroll')(event);\n",
       "    });\n",
       "\n",
       "    canvas_div.appendChild(canvas);\n",
       "    canvas_div.appendChild(rubberband_canvas);\n",
       "\n",
       "    this.rubberband_context = rubberband_canvas.getContext('2d');\n",
       "    this.rubberband_context.strokeStyle = '#000000';\n",
       "\n",
       "    this._resize_canvas = function (width, height, forward) {\n",
       "        if (forward) {\n",
       "            canvas_div.style.width = width + 'px';\n",
       "            canvas_div.style.height = height + 'px';\n",
       "        }\n",
       "    };\n",
       "\n",
       "    // Disable right mouse context menu.\n",
       "    this.rubberband_canvas.addEventListener('contextmenu', function (_e) {\n",
       "        event.preventDefault();\n",
       "        return false;\n",
       "    });\n",
       "\n",
       "    function set_focus() {\n",
       "        canvas.focus();\n",
       "        canvas_div.focus();\n",
       "    }\n",
       "\n",
       "    window.setTimeout(set_focus, 100);\n",
       "};\n",
       "\n",
       "mpl.figure.prototype._init_toolbar = function () {\n",
       "    var fig = this;\n",
       "\n",
       "    var toolbar = document.createElement('div');\n",
       "    toolbar.classList = 'mpl-toolbar';\n",
       "    this.root.appendChild(toolbar);\n",
       "\n",
       "    function on_click_closure(name) {\n",
       "        return function (_event) {\n",
       "            return fig.toolbar_button_onclick(name);\n",
       "        };\n",
       "    }\n",
       "\n",
       "    function on_mouseover_closure(tooltip) {\n",
       "        return function (event) {\n",
       "            if (!event.currentTarget.disabled) {\n",
       "                return fig.toolbar_button_onmouseover(tooltip);\n",
       "            }\n",
       "        };\n",
       "    }\n",
       "\n",
       "    fig.buttons = {};\n",
       "    var buttonGroup = document.createElement('div');\n",
       "    buttonGroup.classList = 'mpl-button-group';\n",
       "    for (var toolbar_ind in mpl.toolbar_items) {\n",
       "        var name = mpl.toolbar_items[toolbar_ind][0];\n",
       "        var tooltip = mpl.toolbar_items[toolbar_ind][1];\n",
       "        var image = mpl.toolbar_items[toolbar_ind][2];\n",
       "        var method_name = mpl.toolbar_items[toolbar_ind][3];\n",
       "\n",
       "        if (!name) {\n",
       "            /* Instead of a spacer, we start a new button group. */\n",
       "            if (buttonGroup.hasChildNodes()) {\n",
       "                toolbar.appendChild(buttonGroup);\n",
       "            }\n",
       "            buttonGroup = document.createElement('div');\n",
       "            buttonGroup.classList = 'mpl-button-group';\n",
       "            continue;\n",
       "        }\n",
       "\n",
       "        var button = (fig.buttons[name] = document.createElement('button'));\n",
       "        button.classList = 'mpl-widget';\n",
       "        button.setAttribute('role', 'button');\n",
       "        button.setAttribute('aria-disabled', 'false');\n",
       "        button.addEventListener('click', on_click_closure(method_name));\n",
       "        button.addEventListener('mouseover', on_mouseover_closure(tooltip));\n",
       "\n",
       "        var icon_img = document.createElement('img');\n",
       "        icon_img.src = '_images/' + image + '.png';\n",
       "        icon_img.srcset = '_images/' + image + '_large.png 2x';\n",
       "        icon_img.alt = tooltip;\n",
       "        button.appendChild(icon_img);\n",
       "\n",
       "        buttonGroup.appendChild(button);\n",
       "    }\n",
       "\n",
       "    if (buttonGroup.hasChildNodes()) {\n",
       "        toolbar.appendChild(buttonGroup);\n",
       "    }\n",
       "\n",
       "    var fmt_picker = document.createElement('select');\n",
       "    fmt_picker.classList = 'mpl-widget';\n",
       "    toolbar.appendChild(fmt_picker);\n",
       "    this.format_dropdown = fmt_picker;\n",
       "\n",
       "    for (var ind in mpl.extensions) {\n",
       "        var fmt = mpl.extensions[ind];\n",
       "        var option = document.createElement('option');\n",
       "        option.selected = fmt === mpl.default_extension;\n",
       "        option.innerHTML = fmt;\n",
       "        fmt_picker.appendChild(option);\n",
       "    }\n",
       "\n",
       "    var status_bar = document.createElement('span');\n",
       "    status_bar.classList = 'mpl-message';\n",
       "    toolbar.appendChild(status_bar);\n",
       "    this.message = status_bar;\n",
       "};\n",
       "\n",
       "mpl.figure.prototype.request_resize = function (x_pixels, y_pixels) {\n",
       "    // Request matplotlib to resize the figure. Matplotlib will then trigger a resize in the client,\n",
       "    // which will in turn request a refresh of the image.\n",
       "    this.send_message('resize', { width: x_pixels, height: y_pixels });\n",
       "};\n",
       "\n",
       "mpl.figure.prototype.send_message = function (type, properties) {\n",
       "    properties['type'] = type;\n",
       "    properties['figure_id'] = this.id;\n",
       "    this.ws.send(JSON.stringify(properties));\n",
       "};\n",
       "\n",
       "mpl.figure.prototype.send_draw_message = function () {\n",
       "    if (!this.waiting) {\n",
       "        this.waiting = true;\n",
       "        this.ws.send(JSON.stringify({ type: 'draw', figure_id: this.id }));\n",
       "    }\n",
       "};\n",
       "\n",
       "mpl.figure.prototype.handle_save = function (fig, _msg) {\n",
       "    var format_dropdown = fig.format_dropdown;\n",
       "    var format = format_dropdown.options[format_dropdown.selectedIndex].value;\n",
       "    fig.ondownload(fig, format);\n",
       "};\n",
       "\n",
       "mpl.figure.prototype.handle_resize = function (fig, msg) {\n",
       "    var size = msg['size'];\n",
       "    if (size[0] !== fig.canvas.width || size[1] !== fig.canvas.height) {\n",
       "        fig._resize_canvas(size[0], size[1], msg['forward']);\n",
       "        fig.send_message('refresh', {});\n",
       "    }\n",
       "};\n",
       "\n",
       "mpl.figure.prototype.handle_rubberband = function (fig, msg) {\n",
       "    var x0 = msg['x0'] / mpl.ratio;\n",
       "    var y0 = (fig.canvas.height - msg['y0']) / mpl.ratio;\n",
       "    var x1 = msg['x1'] / mpl.ratio;\n",
       "    var y1 = (fig.canvas.height - msg['y1']) / mpl.ratio;\n",
       "    x0 = Math.floor(x0) + 0.5;\n",
       "    y0 = Math.floor(y0) + 0.5;\n",
       "    x1 = Math.floor(x1) + 0.5;\n",
       "    y1 = Math.floor(y1) + 0.5;\n",
       "    var min_x = Math.min(x0, x1);\n",
       "    var min_y = Math.min(y0, y1);\n",
       "    var width = Math.abs(x1 - x0);\n",
       "    var height = Math.abs(y1 - y0);\n",
       "\n",
       "    fig.rubberband_context.clearRect(\n",
       "        0,\n",
       "        0,\n",
       "        fig.canvas.width / mpl.ratio,\n",
       "        fig.canvas.height / mpl.ratio\n",
       "    );\n",
       "\n",
       "    fig.rubberband_context.strokeRect(min_x, min_y, width, height);\n",
       "};\n",
       "\n",
       "mpl.figure.prototype.handle_figure_label = function (fig, msg) {\n",
       "    // Updates the figure title.\n",
       "    fig.header.textContent = msg['label'];\n",
       "};\n",
       "\n",
       "mpl.figure.prototype.handle_cursor = function (fig, msg) {\n",
       "    var cursor = msg['cursor'];\n",
       "    switch (cursor) {\n",
       "        case 0:\n",
       "            cursor = 'pointer';\n",
       "            break;\n",
       "        case 1:\n",
       "            cursor = 'default';\n",
       "            break;\n",
       "        case 2:\n",
       "            cursor = 'crosshair';\n",
       "            break;\n",
       "        case 3:\n",
       "            cursor = 'move';\n",
       "            break;\n",
       "    }\n",
       "    fig.rubberband_canvas.style.cursor = cursor;\n",
       "};\n",
       "\n",
       "mpl.figure.prototype.handle_message = function (fig, msg) {\n",
       "    fig.message.textContent = msg['message'];\n",
       "};\n",
       "\n",
       "mpl.figure.prototype.handle_draw = function (fig, _msg) {\n",
       "    // Request the server to send over a new figure.\n",
       "    fig.send_draw_message();\n",
       "};\n",
       "\n",
       "mpl.figure.prototype.handle_image_mode = function (fig, msg) {\n",
       "    fig.image_mode = msg['mode'];\n",
       "};\n",
       "\n",
       "mpl.figure.prototype.handle_history_buttons = function (fig, msg) {\n",
       "    for (var key in msg) {\n",
       "        if (!(key in fig.buttons)) {\n",
       "            continue;\n",
       "        }\n",
       "        fig.buttons[key].disabled = !msg[key];\n",
       "        fig.buttons[key].setAttribute('aria-disabled', !msg[key]);\n",
       "    }\n",
       "};\n",
       "\n",
       "mpl.figure.prototype.handle_navigate_mode = function (fig, msg) {\n",
       "    if (msg['mode'] === 'PAN') {\n",
       "        fig.buttons['Pan'].classList.add('active');\n",
       "        fig.buttons['Zoom'].classList.remove('active');\n",
       "    } else if (msg['mode'] === 'ZOOM') {\n",
       "        fig.buttons['Pan'].classList.remove('active');\n",
       "        fig.buttons['Zoom'].classList.add('active');\n",
       "    } else {\n",
       "        fig.buttons['Pan'].classList.remove('active');\n",
       "        fig.buttons['Zoom'].classList.remove('active');\n",
       "    }\n",
       "};\n",
       "\n",
       "mpl.figure.prototype.updated_canvas_event = function () {\n",
       "    // Called whenever the canvas gets updated.\n",
       "    this.send_message('ack', {});\n",
       "};\n",
       "\n",
       "// A function to construct a web socket function for onmessage handling.\n",
       "// Called in the figure constructor.\n",
       "mpl.figure.prototype._make_on_message_function = function (fig) {\n",
       "    return function socket_on_message(evt) {\n",
       "        if (evt.data instanceof Blob) {\n",
       "            /* FIXME: We get \"Resource interpreted as Image but\n",
       "             * transferred with MIME type text/plain:\" errors on\n",
       "             * Chrome.  But how to set the MIME type?  It doesn't seem\n",
       "             * to be part of the websocket stream */\n",
       "            evt.data.type = 'image/png';\n",
       "\n",
       "            /* Free the memory for the previous frames */\n",
       "            if (fig.imageObj.src) {\n",
       "                (window.URL || window.webkitURL).revokeObjectURL(\n",
       "                    fig.imageObj.src\n",
       "                );\n",
       "            }\n",
       "\n",
       "            fig.imageObj.src = (window.URL || window.webkitURL).createObjectURL(\n",
       "                evt.data\n",
       "            );\n",
       "            fig.updated_canvas_event();\n",
       "            fig.waiting = false;\n",
       "            return;\n",
       "        } else if (\n",
       "            typeof evt.data === 'string' &&\n",
       "            evt.data.slice(0, 21) === 'data:image/png;base64'\n",
       "        ) {\n",
       "            fig.imageObj.src = evt.data;\n",
       "            fig.updated_canvas_event();\n",
       "            fig.waiting = false;\n",
       "            return;\n",
       "        }\n",
       "\n",
       "        var msg = JSON.parse(evt.data);\n",
       "        var msg_type = msg['type'];\n",
       "\n",
       "        // Call the  \"handle_{type}\" callback, which takes\n",
       "        // the figure and JSON message as its only arguments.\n",
       "        try {\n",
       "            var callback = fig['handle_' + msg_type];\n",
       "        } catch (e) {\n",
       "            console.log(\n",
       "                \"No handler for the '\" + msg_type + \"' message type: \",\n",
       "                msg\n",
       "            );\n",
       "            return;\n",
       "        }\n",
       "\n",
       "        if (callback) {\n",
       "            try {\n",
       "                // console.log(\"Handling '\" + msg_type + \"' message: \", msg);\n",
       "                callback(fig, msg);\n",
       "            } catch (e) {\n",
       "                console.log(\n",
       "                    \"Exception inside the 'handler_\" + msg_type + \"' callback:\",\n",
       "                    e,\n",
       "                    e.stack,\n",
       "                    msg\n",
       "                );\n",
       "            }\n",
       "        }\n",
       "    };\n",
       "};\n",
       "\n",
       "// from http://stackoverflow.com/questions/1114465/getting-mouse-location-in-canvas\n",
       "mpl.findpos = function (e) {\n",
       "    //this section is from http://www.quirksmode.org/js/events_properties.html\n",
       "    var targ;\n",
       "    if (!e) {\n",
       "        e = window.event;\n",
       "    }\n",
       "    if (e.target) {\n",
       "        targ = e.target;\n",
       "    } else if (e.srcElement) {\n",
       "        targ = e.srcElement;\n",
       "    }\n",
       "    if (targ.nodeType === 3) {\n",
       "        // defeat Safari bug\n",
       "        targ = targ.parentNode;\n",
       "    }\n",
       "\n",
       "    // pageX,Y are the mouse positions relative to the document\n",
       "    var boundingRect = targ.getBoundingClientRect();\n",
       "    var x = e.pageX - (boundingRect.left + document.body.scrollLeft);\n",
       "    var y = e.pageY - (boundingRect.top + document.body.scrollTop);\n",
       "\n",
       "    return { x: x, y: y };\n",
       "};\n",
       "\n",
       "/*\n",
       " * return a copy of an object with only non-object keys\n",
       " * we need this to avoid circular references\n",
       " * http://stackoverflow.com/a/24161582/3208463\n",
       " */\n",
       "function simpleKeys(original) {\n",
       "    return Object.keys(original).reduce(function (obj, key) {\n",
       "        if (typeof original[key] !== 'object') {\n",
       "            obj[key] = original[key];\n",
       "        }\n",
       "        return obj;\n",
       "    }, {});\n",
       "}\n",
       "\n",
       "mpl.figure.prototype.mouse_event = function (event, name) {\n",
       "    var canvas_pos = mpl.findpos(event);\n",
       "\n",
       "    if (name === 'button_press') {\n",
       "        this.canvas.focus();\n",
       "        this.canvas_div.focus();\n",
       "    }\n",
       "\n",
       "    var x = canvas_pos.x * mpl.ratio;\n",
       "    var y = canvas_pos.y * mpl.ratio;\n",
       "\n",
       "    this.send_message(name, {\n",
       "        x: x,\n",
       "        y: y,\n",
       "        button: event.button,\n",
       "        step: event.step,\n",
       "        guiEvent: simpleKeys(event),\n",
       "    });\n",
       "\n",
       "    /* This prevents the web browser from automatically changing to\n",
       "     * the text insertion cursor when the button is pressed.  We want\n",
       "     * to control all of the cursor setting manually through the\n",
       "     * 'cursor' event from matplotlib */\n",
       "    event.preventDefault();\n",
       "    return false;\n",
       "};\n",
       "\n",
       "mpl.figure.prototype._key_event_extra = function (_event, _name) {\n",
       "    // Handle any extra behaviour associated with a key event\n",
       "};\n",
       "\n",
       "mpl.figure.prototype.key_event = function (event, name) {\n",
       "    // Prevent repeat events\n",
       "    if (name === 'key_press') {\n",
       "        if (event.which === this._key) {\n",
       "            return;\n",
       "        } else {\n",
       "            this._key = event.which;\n",
       "        }\n",
       "    }\n",
       "    if (name === 'key_release') {\n",
       "        this._key = null;\n",
       "    }\n",
       "\n",
       "    var value = '';\n",
       "    if (event.ctrlKey && event.which !== 17) {\n",
       "        value += 'ctrl+';\n",
       "    }\n",
       "    if (event.altKey && event.which !== 18) {\n",
       "        value += 'alt+';\n",
       "    }\n",
       "    if (event.shiftKey && event.which !== 16) {\n",
       "        value += 'shift+';\n",
       "    }\n",
       "\n",
       "    value += 'k';\n",
       "    value += event.which.toString();\n",
       "\n",
       "    this._key_event_extra(event, name);\n",
       "\n",
       "    this.send_message(name, { key: value, guiEvent: simpleKeys(event) });\n",
       "    return false;\n",
       "};\n",
       "\n",
       "mpl.figure.prototype.toolbar_button_onclick = function (name) {\n",
       "    if (name === 'download') {\n",
       "        this.handle_save(this, null);\n",
       "    } else {\n",
       "        this.send_message('toolbar_button', { name: name });\n",
       "    }\n",
       "};\n",
       "\n",
       "mpl.figure.prototype.toolbar_button_onmouseover = function (tooltip) {\n",
       "    this.message.textContent = tooltip;\n",
       "};\n",
       "mpl.toolbar_items = [[\"Home\", \"Reset original view\", \"fa fa-home icon-home\", \"home\"], [\"Back\", \"Back to previous view\", \"fa fa-arrow-left icon-arrow-left\", \"back\"], [\"Forward\", \"Forward to next view\", \"fa fa-arrow-right icon-arrow-right\", \"forward\"], [\"\", \"\", \"\", \"\"], [\"Pan\", \"Left button pans, Right button zooms\\nx/y fixes axis, CTRL fixes aspect\", \"fa fa-arrows icon-move\", \"pan\"], [\"Zoom\", \"Zoom to rectangle\\nx/y fixes axis, CTRL fixes aspect\", \"fa fa-square-o icon-check-empty\", \"zoom\"], [\"\", \"\", \"\", \"\"], [\"Download\", \"Download plot\", \"fa fa-floppy-o icon-save\", \"download\"]];\n",
       "\n",
       "mpl.extensions = [\"eps\", \"jpeg\", \"pdf\", \"png\", \"ps\", \"raw\", \"svg\", \"tif\"];\n",
       "\n",
       "mpl.default_extension = \"png\";/* global mpl */\n",
       "\n",
       "var comm_websocket_adapter = function (comm) {\n",
       "    // Create a \"websocket\"-like object which calls the given IPython comm\n",
       "    // object with the appropriate methods. Currently this is a non binary\n",
       "    // socket, so there is still some room for performance tuning.\n",
       "    var ws = {};\n",
       "\n",
       "    ws.close = function () {\n",
       "        comm.close();\n",
       "    };\n",
       "    ws.send = function (m) {\n",
       "        //console.log('sending', m);\n",
       "        comm.send(m);\n",
       "    };\n",
       "    // Register the callback with on_msg.\n",
       "    comm.on_msg(function (msg) {\n",
       "        //console.log('receiving', msg['content']['data'], msg);\n",
       "        // Pass the mpl event to the overridden (by mpl) onmessage function.\n",
       "        ws.onmessage(msg['content']['data']);\n",
       "    });\n",
       "    return ws;\n",
       "};\n",
       "\n",
       "mpl.mpl_figure_comm = function (comm, msg) {\n",
       "    // This is the function which gets called when the mpl process\n",
       "    // starts-up an IPython Comm through the \"matplotlib\" channel.\n",
       "\n",
       "    var id = msg.content.data.id;\n",
       "    // Get hold of the div created by the display call when the Comm\n",
       "    // socket was opened in Python.\n",
       "    var element = document.getElementById(id);\n",
       "    var ws_proxy = comm_websocket_adapter(comm);\n",
       "\n",
       "    function ondownload(figure, _format) {\n",
       "        window.open(figure.canvas.toDataURL());\n",
       "    }\n",
       "\n",
       "    var fig = new mpl.figure(id, ws_proxy, ondownload, element);\n",
       "\n",
       "    // Call onopen now - mpl needs it, as it is assuming we've passed it a real\n",
       "    // web socket which is closed, not our websocket->open comm proxy.\n",
       "    ws_proxy.onopen();\n",
       "\n",
       "    fig.parent_element = element;\n",
       "    fig.cell_info = mpl.find_output_cell(\"<div id='\" + id + \"'></div>\");\n",
       "    if (!fig.cell_info) {\n",
       "        console.error('Failed to find cell for figure', id, fig);\n",
       "        return;\n",
       "    }\n",
       "};\n",
       "\n",
       "mpl.figure.prototype.handle_close = function (fig, msg) {\n",
       "    var width = fig.canvas.width / mpl.ratio;\n",
       "    fig.root.removeEventListener('remove', this._remove_fig_handler);\n",
       "\n",
       "    // Update the output cell to use the data from the current canvas.\n",
       "    fig.push_to_output();\n",
       "    var dataURL = fig.canvas.toDataURL();\n",
       "    // Re-enable the keyboard manager in IPython - without this line, in FF,\n",
       "    // the notebook keyboard shortcuts fail.\n",
       "    IPython.keyboard_manager.enable();\n",
       "    fig.parent_element.innerHTML =\n",
       "        '<img src=\"' + dataURL + '\" width=\"' + width + '\">';\n",
       "    fig.close_ws(fig, msg);\n",
       "};\n",
       "\n",
       "mpl.figure.prototype.close_ws = function (fig, msg) {\n",
       "    fig.send_message('closing', msg);\n",
       "    // fig.ws.close()\n",
       "};\n",
       "\n",
       "mpl.figure.prototype.push_to_output = function (_remove_interactive) {\n",
       "    // Turn the data on the canvas into data in the output cell.\n",
       "    var width = this.canvas.width / mpl.ratio;\n",
       "    var dataURL = this.canvas.toDataURL();\n",
       "    this.cell_info[1]['text/html'] =\n",
       "        '<img src=\"' + dataURL + '\" width=\"' + width + '\">';\n",
       "};\n",
       "\n",
       "mpl.figure.prototype.updated_canvas_event = function () {\n",
       "    // Tell IPython that the notebook contents must change.\n",
       "    IPython.notebook.set_dirty(true);\n",
       "    this.send_message('ack', {});\n",
       "    var fig = this;\n",
       "    // Wait a second, then push the new image to the DOM so\n",
       "    // that it is saved nicely (might be nice to debounce this).\n",
       "    setTimeout(function () {\n",
       "        fig.push_to_output();\n",
       "    }, 1000);\n",
       "};\n",
       "\n",
       "mpl.figure.prototype._init_toolbar = function () {\n",
       "    var fig = this;\n",
       "\n",
       "    var toolbar = document.createElement('div');\n",
       "    toolbar.classList = 'btn-toolbar';\n",
       "    this.root.appendChild(toolbar);\n",
       "\n",
       "    function on_click_closure(name) {\n",
       "        return function (_event) {\n",
       "            return fig.toolbar_button_onclick(name);\n",
       "        };\n",
       "    }\n",
       "\n",
       "    function on_mouseover_closure(tooltip) {\n",
       "        return function (event) {\n",
       "            if (!event.currentTarget.disabled) {\n",
       "                return fig.toolbar_button_onmouseover(tooltip);\n",
       "            }\n",
       "        };\n",
       "    }\n",
       "\n",
       "    fig.buttons = {};\n",
       "    var buttonGroup = document.createElement('div');\n",
       "    buttonGroup.classList = 'btn-group';\n",
       "    var button;\n",
       "    for (var toolbar_ind in mpl.toolbar_items) {\n",
       "        var name = mpl.toolbar_items[toolbar_ind][0];\n",
       "        var tooltip = mpl.toolbar_items[toolbar_ind][1];\n",
       "        var image = mpl.toolbar_items[toolbar_ind][2];\n",
       "        var method_name = mpl.toolbar_items[toolbar_ind][3];\n",
       "\n",
       "        if (!name) {\n",
       "            /* Instead of a spacer, we start a new button group. */\n",
       "            if (buttonGroup.hasChildNodes()) {\n",
       "                toolbar.appendChild(buttonGroup);\n",
       "            }\n",
       "            buttonGroup = document.createElement('div');\n",
       "            buttonGroup.classList = 'btn-group';\n",
       "            continue;\n",
       "        }\n",
       "\n",
       "        button = fig.buttons[name] = document.createElement('button');\n",
       "        button.classList = 'btn btn-default';\n",
       "        button.href = '#';\n",
       "        button.title = name;\n",
       "        button.innerHTML = '<i class=\"fa ' + image + ' fa-lg\"></i>';\n",
       "        button.addEventListener('click', on_click_closure(method_name));\n",
       "        button.addEventListener('mouseover', on_mouseover_closure(tooltip));\n",
       "        buttonGroup.appendChild(button);\n",
       "    }\n",
       "\n",
       "    if (buttonGroup.hasChildNodes()) {\n",
       "        toolbar.appendChild(buttonGroup);\n",
       "    }\n",
       "\n",
       "    // Add the status bar.\n",
       "    var status_bar = document.createElement('span');\n",
       "    status_bar.classList = 'mpl-message pull-right';\n",
       "    toolbar.appendChild(status_bar);\n",
       "    this.message = status_bar;\n",
       "\n",
       "    // Add the close button to the window.\n",
       "    var buttongrp = document.createElement('div');\n",
       "    buttongrp.classList = 'btn-group inline pull-right';\n",
       "    button = document.createElement('button');\n",
       "    button.classList = 'btn btn-mini btn-primary';\n",
       "    button.href = '#';\n",
       "    button.title = 'Stop Interaction';\n",
       "    button.innerHTML = '<i class=\"fa fa-power-off icon-remove icon-large\"></i>';\n",
       "    button.addEventListener('click', function (_evt) {\n",
       "        fig.handle_close(fig, {});\n",
       "    });\n",
       "    button.addEventListener(\n",
       "        'mouseover',\n",
       "        on_mouseover_closure('Stop Interaction')\n",
       "    );\n",
       "    buttongrp.appendChild(button);\n",
       "    var titlebar = this.root.querySelector('.ui-dialog-titlebar');\n",
       "    titlebar.insertBefore(buttongrp, titlebar.firstChild);\n",
       "};\n",
       "\n",
       "mpl.figure.prototype._remove_fig_handler = function () {\n",
       "    this.close_ws(this, {});\n",
       "};\n",
       "\n",
       "mpl.figure.prototype._root_extra_style = function (el) {\n",
       "    el.style.boxSizing = 'content-box'; // override notebook setting of border-box.\n",
       "    el.addEventListener('remove', this._remove_fig_handler);\n",
       "};\n",
       "\n",
       "mpl.figure.prototype._canvas_extra_style = function (el) {\n",
       "    // this is important to make the div 'focusable\n",
       "    el.setAttribute('tabindex', 0);\n",
       "    // reach out to IPython and tell the keyboard manager to turn it's self\n",
       "    // off when our div gets focus\n",
       "\n",
       "    // location in version 3\n",
       "    if (IPython.notebook.keyboard_manager) {\n",
       "        IPython.notebook.keyboard_manager.register_events(el);\n",
       "    } else {\n",
       "        // location in version 2\n",
       "        IPython.keyboard_manager.register_events(el);\n",
       "    }\n",
       "};\n",
       "\n",
       "mpl.figure.prototype._key_event_extra = function (event, _name) {\n",
       "    var manager = IPython.notebook.keyboard_manager;\n",
       "    if (!manager) {\n",
       "        manager = IPython.keyboard_manager;\n",
       "    }\n",
       "\n",
       "    // Check for shift+enter\n",
       "    if (event.shiftKey && event.which === 13) {\n",
       "        this.canvas_div.blur();\n",
       "        // select the cell after this one\n",
       "        var index = IPython.notebook.find_cell_index(this.cell_info[0]);\n",
       "        IPython.notebook.select(index + 1);\n",
       "    }\n",
       "};\n",
       "\n",
       "mpl.figure.prototype.handle_save = function (fig, _msg) {\n",
       "    fig.ondownload(fig, null);\n",
       "};\n",
       "\n",
       "mpl.find_output_cell = function (html_output) {\n",
       "    // Return the cell and output element which can be found *uniquely* in the notebook.\n",
       "    // Note - this is a bit hacky, but it is done because the \"notebook_saving.Notebook\"\n",
       "    // IPython event is triggered only after the cells have been serialised, which for\n",
       "    // our purposes (turning an active figure into a static one), is too late.\n",
       "    var cells = IPython.notebook.get_cells();\n",
       "    var ncells = cells.length;\n",
       "    for (var i = 0; i < ncells; i++) {\n",
       "        var cell = cells[i];\n",
       "        if (cell.cell_type === 'code') {\n",
       "            for (var j = 0; j < cell.output_area.outputs.length; j++) {\n",
       "                var data = cell.output_area.outputs[j];\n",
       "                if (data.data) {\n",
       "                    // IPython >= 3 moved mimebundle to data attribute of output\n",
       "                    data = data.data;\n",
       "                }\n",
       "                if (data['text/html'] === html_output) {\n",
       "                    return [cell, data, j];\n",
       "                }\n",
       "            }\n",
       "        }\n",
       "    }\n",
       "};\n",
       "\n",
       "// Register the function which deals with the matplotlib target/channel.\n",
       "// The kernel may be null if the page has been refreshed.\n",
       "if (IPython.notebook.kernel !== null) {\n",
       "    IPython.notebook.kernel.comm_manager.register_target(\n",
       "        'matplotlib',\n",
       "        mpl.mpl_figure_comm\n",
       "    );\n",
       "}\n"
      ],
      "text/plain": [
       "<IPython.core.display.Javascript object>"
      ]
     },
     "metadata": {},
     "output_type": "display_data"
    },
    {
     "data": {
      "text/html": [
       "<img src=\"data:image/png;base64,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\" width=\"700\">"
      ],
      "text/plain": [
       "<IPython.core.display.HTML object>"
      ]
     },
     "metadata": {},
     "output_type": "display_data"
    }
   ],
   "source": [
    "A1 =np.random.rand(100)\n",
    "A2 =np.random.rand(100)\n",
    "\n",
    "fig, ax = plt.subplots(figsize=(7,4), tight_layout=True, facecolor='w')\n",
    "# tipos de linea: -, --, -., :\n",
    "# tipos de markers: .,o,x,d,s,1,2,3,4\n",
    "ax.plot(A1, linewidth=2, alpha=0.75, label='A1')\n",
    "ax.plot(A2, linestyle='--', linewidth=2, alpha=0.75, label='A2')\n",
    "ax.plot(range(0, len(A1), 7), A1[::7],\n",
    "    linestyle='none', marker='x', markersize=10, label='algo destacable')\n",
    "# Leyenda\n",
    "ax.legend(loc=3, ncol=1)\n",
    "\n",
    "# Texto para ejes y título\n",
    "ax.set_xlabel('Tiempo [días]', fontsize=14, fontname='serif', color='green')\n",
    "ax.set_ylabel('Valor')\n",
    "ax.set_title('Mi primer gráfico personalizado')\n",
    "\n",
    "# Grilla\n",
    "ax.grid(color='red', which='major', axis='both', linestyle=':', linewidth=0.5)"
   ]
  },
  {
   "cell_type": "code",
   "execution_count": null,
   "metadata": {},
   "outputs": [],
   "source": []
  },
  {
   "cell_type": "markdown",
   "metadata": {},
   "source": [
    "## 6. Inteligencia Artificial "
   ]
  },
  {
   "cell_type": "code",
   "execution_count": null,
   "metadata": {},
   "outputs": [],
   "source": []
  }
 ],
 "metadata": {
  "kernelspec": {
   "display_name": "Python 3",
   "language": "python",
   "name": "python3"
  },
  "language_info": {
   "codemirror_mode": {
    "name": "ipython",
    "version": 3
   },
   "file_extension": ".py",
   "mimetype": "text/x-python",
   "name": "python",
   "nbconvert_exporter": "python",
   "pygments_lexer": "ipython3",
   "version": "3.8.5"
  }
 },
 "nbformat": 4,
 "nbformat_minor": 4
}
