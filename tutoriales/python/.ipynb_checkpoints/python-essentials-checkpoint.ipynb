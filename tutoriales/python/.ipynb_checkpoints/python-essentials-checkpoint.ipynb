{
 "cells": [
  {
   "cell_type": "markdown",
   "metadata": {},
   "source": [
    "# Python essentials \n"
   ]
  },
  {
   "cell_type": "markdown",
   "metadata": {},
   "source": [
    "## 1. Python\n",
    "\n",
    "### 1.1 Funciones  \n",
    "\n",
    "Las funciones son como mini programas dentro de un programa. Su objetivo es combatir la duplicación de código y granularlo en pequeñas porciones.\n",
    "\n",
    "- El string def define la función.\n",
    "- La entrada de las funciones son los argumentos.\n",
    "- La salida de una función son los valores de retorno.\n",
    "- Los parámetros son las variables dentro de los paréntesis en la declaración de la función.\n",
    "- El valor de retorno es especificado usando la sentencia return.\n",
    "\n",
    "Cada función tiene un valor de retorno. Si tu función no tiene una sentencia de retorno, el valor a retornar por defecto es None. "
   ]
  },
  {
   "cell_type": "code",
   "execution_count": 1,
   "metadata": {},
   "outputs": [],
   "source": [
    "import random\n",
    "def randomGenerator():\n",
    "    x = random.randint(1, 10)\n",
    "    return x\n",
    "\n",
    "print(\"the number is: \" + str(randomGenerator()))"
   ]
  },
  {
   "cell_type": "markdown",
   "metadata": {},
   "source": [
    "### 1.2 Alcance global y local  \n",
    "- El alcance puede entenderse como cierta área en el código que contiene variables.\n",
    "- El alcance global se entiende como el área fuera de las funciones. Las funciones asignadas en dicha área son llamadas variables globales. \n",
    "- Cada función tiene su propio alcance, a esto se entiende por alcance local. Las variables definidas dentro de las funciones se conocen como variables locales.\n",
    "- El código de alcance global **no** puede usar variables locales.\n",
    "- El código en una función con alcance local no puede usar variables de otra función con alcance local.\n",
    "- Si hay una sentencia de declaración para una variable en una función, esta siempre será de alcance local.\n",
    "\n"
   ]
  },
  {
   "cell_type": "code",
   "execution_count": 2,
   "metadata": {},
   "outputs": [
    {
     "name": "stdout",
     "output_type": "stream",
     "text": [
      "10\n",
      "110\n"
     ]
    }
   ],
   "source": [
    "var1 = 10 #global variable\n",
    "def funct():\n",
    "    var2 = 20 #local variable\n",
    "    global var3 \n",
    "    var3= 100\n",
    "    \n",
    "funct()\n",
    "print(var1)\n",
    "print(var1+var3)\n",
    "#print(var2) imprime error "
   ]
  },
  {
   "cell_type": "markdown",
   "metadata": {},
   "source": [
    "### 1.3 Sentencias Try y Except \n",
    "- El error divide-by-zero ocurre cuando python divide un número por cero.\n",
    "- Los errores hacen que el programa se caiga.\n",
    "- Un error que ocurre dentro de un bloque try causa que se ejecute el código en el bloque except. Ese código puede manejar el error o entregar un mensaje al usuario, de esta forma el programa puede seguir funcionando."
   ]
  },
  {
   "cell_type": "code",
   "execution_count": 3,
   "metadata": {},
   "outputs": [
    {
     "name": "stdout",
     "output_type": "stream",
     "text": [
      "4.2\n",
      "0.4666666666666667\n",
      "ERROR: You tried to divide by zero. \n",
      "None\n",
      "42.0\n"
     ]
    }
   ],
   "source": [
    "def div42by(number):\n",
    "    try:\n",
    "        return 42/number\n",
    "    except:\n",
    "        print(\"ERROR: You tried to divide by zero. \")\n",
    "print(div42by(10))\n",
    "print(div42by(90))\n",
    "print(div42by(0))\n",
    "print(div42by(1))"
   ]
  },
  {
   "cell_type": "markdown",
   "metadata": {},
   "source": [
    "### 1.4 Tipo de dato: List\n",
    "Primero que todo, debes saber que en python los arreglos no son una estructura de datos nativa. Python posee 'list' o listas que son mutables, esto significa que son capaces de modificarse, cambiando el contenido que almacenan. \n",
    "Las listas pueden almacenar información de distinto tipo. Es como una mochila, dentro de esta puedes almacenar lo que quieras. \n",
    "\n",
    "#### los métodos más útiles para interactuar con listas: \n",
    "- **list1.insert(position, element)**,  insert an element in  position\n",
    "- **list1.append(element)**,  insert an element in the top of the list\n",
    "- **list1.remove(element)**, remove an element. if the element doesn't exist in list then return a ValueError. You MUST use try-except.\n",
    "- **list1.extends(lista2)**, insert in the top of the list1 all the elements of list2\n",
    "- **list1.count(element)**, return the number of appearances of the element in list\n",
    "- **list1.index(element)**, obtain the position of the element in list. if the element doesn't exist in list then return a ValueError(use try-except)\n",
    "- **list.copy()**, this make a copy of a list\n",
    "- **list.sort()**, this returns the sorted list data in ascending order\n",
    "- **list.reverse()**, reverse the items in any list. useful for sorting lit in descending order.\n",
    "- **list.clear()**, remove all elements in list. useful for re-assigning the values of a values of a list by removing the previous items \n",
    "\n",
    "\n"
   ]
  },
  {
   "cell_type": "code",
   "execution_count": 4,
   "metadata": {},
   "outputs": [
    {
     "name": "stdout",
     "output_type": "stream",
     "text": [
      "apple\n",
      "1\n",
      "True\n",
      "LOL\n",
      "last_item\n",
      "last_item\n",
      "LOL\n"
     ]
    }
   ],
   "source": [
    "bag = ['apple', 1, True, \"LOL\",\"last_item\"]\n",
    "for x in range(0,len(bag)):\n",
    "    print(bag[x])\n",
    "print(bag[-1])\n",
    "print(bag[-2])"
   ]
  },
  {
   "cell_type": "markdown",
   "metadata": {},
   "source": [
    "### 1.5 Tipo de dato: Diccionario\n",
    "Un diccionario es una colección de muchos valores, pero a diferencia de los índices de las listas, los diccionarios pueden usar distintos tipos de datos, no solo enteros. Los índices en los diccionarios son llamados llaves y están asociados a un valor llamado valor-clave.\n",
    "- Los diccionarios son mutables. Las variables tienen referencias a los valores de los diccionarios, no al valor del diccionario.\n",
    "- Los diccionarios no tienen orden, no tienen un primer valor-clave."
   ]
  },
  {
   "cell_type": "code",
   "execution_count": 5,
   "metadata": {},
   "outputs": [
    {
     "name": "stdout",
     "output_type": "stream",
     "text": [
      "black\n",
      "['size', 'color', 'disposition']\n",
      "['small', 'black', 'loud']\n",
      "[('size', 'small'), ('color', 'black'), ('disposition', 'loud')]\n",
      "my cat color is: black\n"
     ]
    }
   ],
   "source": [
    "myCat = {'size': 'small', 'color': 'black', 'disposition': 'loud'}\n",
    "print(myCat['color'])\n",
    "'color' in myCat\n",
    "#if('color' in myCat != False): print('My cat has the color:'+ myCat['color'])\n",
    "#if('color' not in myCat != True): print('wtf my cat does not have color')\n",
    "print(list(myCat.keys()))\n",
    "print(list(myCat.values()))\n",
    "print(list(myCat.items()))\n",
    "print('my cat color is: ' + myCat.get('color', 'does not have color :('))\n"
   ]
  },
  {
   "cell_type": "markdown",
   "metadata": {},
   "source": [
    "EXERCISE 2: counting the characters of string"
   ]
  },
  {
   "cell_type": "code",
   "execution_count": 6,
   "metadata": {},
   "outputs": [
    {
     "name": "stdout",
     "output_type": "stream",
     "text": [
      "[('H', 1),\n",
      " ('O', 3),\n",
      " ('L', 1),\n",
      " ('A', 2),\n",
      " ('C', 1),\n",
      " ('M', 1),\n",
      " ('E', 1),\n",
      " ('S', 1),\n",
      " ('T', 1),\n",
      " ('I', 3),\n",
      " ('J', 2)]\n"
     ]
    }
   ],
   "source": [
    "import pprint\n",
    "longtext = 'holacomoestaijiji'\n",
    "count = {}\n",
    "for char in longtext.upper():\n",
    "    count.setdefault(char,0)\n",
    "    count[char] = count[char] + 1\n",
    "pprint.pprint(list(count.items()))\n",
    "    "
   ]
  },
  {
   "cell_type": "markdown",
   "metadata": {},
   "source": [
    "The pprint module's pprint() \"pretty print\" function can display a dictionary value cleanly. The pformat() function returns a string value of this output. "
   ]
  },
  {
   "cell_type": "markdown",
   "metadata": {},
   "source": [
    "### 1.6 Strings\n",
    "Caracteres de escape:   \n",
    "- \\' = Single quote  \n",
    "- \\\" = Double quote  \n",
    "- \\t = tab  \n",
    "- \\n = Line break  \n",
    "- \\\\ = Backlash  \n",
    "\n",
    "\n",
    "     \n",
    "también, \"\"\" any_text \"\"\" es útil.   "
   ]
  },
  {
   "cell_type": "code",
   "execution_count": 7,
   "metadata": {},
   "outputs": [
    {
     "name": "stdout",
     "output_type": "stream",
     "text": [
      "This is a text message: 'hello  \" wut \"'\n",
      "h\n",
      "o\n",
      "l\n",
      "a\n"
     ]
    }
   ],
   "source": [
    "print(\"This is a text message: 'hello  \\\" wut \\\"'\")\n",
    "r\"That's not my cat\\'s' name\"\n",
    "print(\"\"\"h\n",
    "o\n",
    "l\n",
    "a\"\"\")"
   ]
  },
  {
   "cell_type": "markdown",
   "metadata": {},
   "source": [
    "##### Métodos útiles \n",
    "- text.upper() or text.lower() = todos los caracteres se transforman a mayús o minús \n",
    "- text.isalpha() = sólo letras\n",
    "- text.isalnum() = sólo números o letras\n",
    "- text.isdecimal() = sólo numeros\n",
    "- text.isspace() = sólo espacios\n",
    "- text.istitle() = string que comienzan con mayús y  el resto es minús\n",
    "\n"
   ]
  },
  {
   "cell_type": "code",
   "execution_count": 8,
   "metadata": {
    "scrolled": true
   },
   "outputs": [
    {
     "name": "stdout",
     "output_type": "stream",
     "text": [
      "HELLO WORLD\n",
      "hello world\n",
      "cat and mouse and dog\n"
     ]
    }
   ],
   "source": [
    "text = \"heLlO World\"\n",
    "print(text.upper())\n",
    "print(text.lower())\n",
    "us = ['cat','mouse','dog']\n",
    "print(' and '.join(us))"
   ]
  },
  {
   "cell_type": "markdown",
   "metadata": {},
   "source": [
    "String formatting"
   ]
  },
  {
   "cell_type": "code",
   "execution_count": 9,
   "metadata": {
    "scrolled": true
   },
   "outputs": [
    {
     "name": "stdout",
     "output_type": "stream",
     "text": [
      "Hello John, you are invited to a party in St. Clement street at 10 pm. Bring avocado.\n"
     ]
    }
   ],
   "source": [
    "name = 'John'\n",
    "place = 'St. Clement'\n",
    "time = '10'\n",
    "food = 'avocado'\n",
    "print('Hello %s, you are invited to a party in %s street at %s pm. Bring %s.' % (name,place, time, food))"
   ]
  },
  {
   "cell_type": "markdown",
   "metadata": {},
   "source": [
    "### 1.7 Expresiones regulares\n",
    "\n",
    "- Las expresiones regulares son como mini lenguajes para especificar patrones de texto. Escribir código para hacer reconocimento de patrones de texto puede resultar bastante tedioso, en estos casos, las expresiones regulares pueden ahorrarnos bastante trabajo.\n",
    "- Regex strings usan \\ backslashes (like \\d), así que a menudo son strings del tipo: r'\\d'.   \n",
    "- Para emplear Regex, es necesario **importar re**.   \n",
    "- Debes llamar a la función **re.compile()** para crear un objeto regex.\n",
    "- \\d es la regex para un digito numerico del 0 al 9.   \n",
    "- \\D para cualquier carácter que no es un digito numerico del 0 al 9.\n",
    "- \\w cualquier letra, digito numerico, o underscore character.\n",
    "- \\W para cualquier caracter que no sea una letra, digito o carácter subrayado\n",
    "- \\s para cualquier espacio, tabulacion y salto de linea\n",
    "- \\S para cualquier caracter que no sea espacio, tabulacion y salto de linea\n",
    "- El caracter ^ antecediendo a  [aeiou] entregará todos los caracteres distintos al contenido del paréntesis"
   ]
  },
  {
   "cell_type": "code",
   "execution_count": 10,
   "metadata": {},
   "outputs": [
    {
     "name": "stdout",
     "output_type": "stream",
     "text": [
      "Wow. Thanks!\n"
     ]
    }
   ],
   "source": [
    "# Queremos un código para identificar si el texto es un número de telefono\n",
    "def isPhoneNumber(text): #412-123-1231\n",
    "    if(len(text)!= 12): \n",
    "        return False\n",
    "    for i in range(0,3):\n",
    "        if not text[i].isdecimal(): \n",
    "            return False\n",
    "    if(text[3] != '-'): \n",
    "        return False\n",
    "    for i in range(4,7):\n",
    "        if not text[i].isdecimal():\n",
    "            return False\n",
    "    if(text[7]!= '-'):\n",
    "        return False\n",
    "    for i in range(8, 12):\n",
    "        if not text[i].isdecimal():\n",
    "            return False\n",
    "    return True\n",
    "\n",
    "number = '412-123-1231'\n",
    "if(isPhoneNumber(number) == True):\n",
    "    print('Wow. Thanks!')\n",
    "else: print('error')"
   ]
  },
  {
   "cell_type": "markdown",
   "metadata": {},
   "source": [
    "Esto es equivalente a:"
   ]
  },
  {
   "cell_type": "code",
   "execution_count": 11,
   "metadata": {},
   "outputs": [
    {
     "name": "stdout",
     "output_type": "stream",
     "text": [
      "['128-123-9999', '111-222-3333']\n"
     ]
    }
   ],
   "source": [
    "import re\n",
    "message = 'Call me 128-123-9999 tomorrow, or at 111-222-3333'\n",
    "phoneNumRegex = re.compile(r'\\d\\d\\d-\\d\\d\\d-\\d\\d\\d\\d')\n",
    "#mo = phoneNumRegex.search(message) //obtiene la primera ocurrencia y almacena en mo\n",
    "print(phoneNumRegex.findall(message)) # Con findall encontramos todas las ocurrencias en el texto"
   ]
  },
  {
   "cell_type": "markdown",
   "metadata": {},
   "source": [
    "Es posible **agrupar** los elementos que componen a la expresión regular, de esta forma, podremos obtener partes específicas. \n",
    "Para agrupar los elementos que componen la expresión regular utilizamos peréntesis, estos deberán rodear dichos grupos.    \n",
    "     \n",
    "Por ejemplo: r'(\\d\\d\\d\\d)-(\\d\\d\\d)-(\\d\\d\\d)', está conformado por 3 grupos. "
   ]
  },
  {
   "cell_type": "code",
   "execution_count": 12,
   "metadata": {},
   "outputs": [
    {
     "data": {
      "text/plain": [
       "'9999'"
      ]
     },
     "execution_count": 12,
     "metadata": {},
     "output_type": "execute_result"
    }
   ],
   "source": [
    "phoneNumRegex = re.compile(r'(\\d\\d\\d)-(\\d\\d\\d)-(\\d\\d\\d\\d)')\n",
    "mo = phoneNumRegex.search('Call me 128-123-9999')\n",
    "mo.group(3) # despliega el grupo 3 compuesto por 9999"
   ]
  },
  {
   "cell_type": "markdown",
   "metadata": {},
   "source": [
    "El carácter **|**, conocido como pipe, permite localizar las posibles ocurrencias en un string dado un grupo de posibles candidatos.   "
   ]
  },
  {
   "cell_type": "code",
   "execution_count": 13,
   "metadata": {},
   "outputs": [
    {
     "data": {
      "text/plain": [
       "'sandia'"
      ]
     },
     "execution_count": 13,
     "metadata": {},
     "output_type": "execute_result"
    }
   ],
   "source": [
    "# programa que retorna la primera ocurrencia\n",
    "saRegex = re.compile(r'sa(ndia|bor|bado|lud|grado)')\n",
    "mo = saRegex.search(\"La sandia tiene un sabor sagrado\")\n",
    "#mo = saRegex.search(\"La naranja tiene un color pálido\")\n",
    "#mo == None\n",
    "mo.group()"
   ]
  },
  {
   "cell_type": "markdown",
   "metadata": {},
   "source": [
    "El carácter **?** en una expresión regular hace referencia a _cero o una ocurrencia_ de un grupo, por ejemplo: "
   ]
  },
  {
   "cell_type": "code",
   "execution_count": 14,
   "metadata": {},
   "outputs": [
    {
     "data": {
      "text/plain": [
       "'Batwoman'"
      ]
     },
     "execution_count": 14,
     "metadata": {},
     "output_type": "execute_result"
    }
   ],
   "source": [
    "batRegex = re.compile(r'Bat(wo)?man') # Regex\n",
    "mo = batRegex.search('The adventures of Batman')\n",
    "mo.group() # print Batman\n",
    "mo = batRegex.search('The adventures of Batwoman')\n",
    "mo.group() # print Batwoman"
   ]
  },
  {
   "cell_type": "markdown",
   "metadata": {},
   "source": [
    "El carácter * en una expresión regular hace referencia a _cero o n ocurrencias_ de un grupo, por ejemplo:"
   ]
  },
  {
   "cell_type": "code",
   "execution_count": 15,
   "metadata": {},
   "outputs": [
    {
     "data": {
      "text/plain": [
       "'Batwowowowowowowoman'"
      ]
     },
     "execution_count": 15,
     "metadata": {},
     "output_type": "execute_result"
    }
   ],
   "source": [
    "batRegex = re.compile(r'Bat(wo)*man') #regex\n",
    "mo=batRegex.search('The adventures of Batwowowowowowowoman')\n",
    "mo.group()"
   ]
  },
  {
   "cell_type": "markdown",
   "metadata": {},
   "source": [
    "El carácter **+** en una expresión regular hace referencia a _una o más ocurrencias_ de un grupo, por ejemplo:\n"
   ]
  },
  {
   "cell_type": "code",
   "execution_count": 16,
   "metadata": {},
   "outputs": [
    {
     "data": {
      "text/plain": [
       "'Batwowoman'"
      ]
     },
     "execution_count": 16,
     "metadata": {},
     "output_type": "execute_result"
    }
   ],
   "source": [
    "batRegex = re.compile(r'Bat(wo)+man')\n",
    "mo = batRegex.search('The adventures of Batwowoman')\n",
    "mo.group()"
   ]
  },
  {
   "cell_type": "markdown",
   "metadata": {},
   "source": [
    "Los curly brackets {x} indican que en una expresión regular debe presentarse un grupo una cantidad x de veces, ejemplo:\n"
   ]
  },
  {
   "cell_type": "code",
   "execution_count": 17,
   "metadata": {},
   "outputs": [
    {
     "data": {
      "text/plain": [
       "'Batwowowoman'"
      ]
     },
     "execution_count": 17,
     "metadata": {},
     "output_type": "execute_result"
    }
   ],
   "source": [
    "batRegex = re.compile(r'Bat(wo){3}man')\n",
    "mo = batRegex.search('The adventures of Batwowowoman')\n",
    "mo.group()"
   ]
  },
  {
   "cell_type": "markdown",
   "metadata": {},
   "source": [
    "Cuando el curly brackets contiene dos atributos {x,y}, entonces x significa la cantidad mínima y y la cantidad máxima de el grupo de la expresión regular"
   ]
  },
  {
   "cell_type": "code",
   "execution_count": 18,
   "metadata": {},
   "outputs": [
    {
     "data": {
      "text/plain": [
       "'Batwowowowowoman'"
      ]
     },
     "execution_count": 18,
     "metadata": {},
     "output_type": "execute_result"
    }
   ],
   "source": [
    "batRegex = re.compile(r'Bat(wo){3,6}man')\n",
    "mo = batRegex.search('The adventures of Batwowowowowoman')\n",
    "mo.group()"
   ]
  },
  {
   "cell_type": "markdown",
   "metadata": {},
   "source": [
    "El punto **.** en una expresión regular reemplaza un carácter faltante para hacer el match con un string, por ejemplo:"
   ]
  },
  {
   "cell_type": "code",
   "execution_count": 19,
   "metadata": {},
   "outputs": [
    {
     "data": {
      "text/plain": [
       "['cat', 'hat', 'sat', 'lat', 'mat']"
      ]
     },
     "execution_count": 19,
     "metadata": {},
     "output_type": "execute_result"
    }
   ],
   "source": [
    "atRegex = re.compile (r'.at')\n",
    "atRegex.findall(\"the cat en the hat sat on the flat mat\")"
   ]
  },
  {
   "cell_type": "markdown",
   "metadata": {},
   "source": [
    "Utilizando findall() y agregando los elementos a un arreglo"
   ]
  },
  {
   "cell_type": "code",
   "execution_count": 20,
   "metadata": {},
   "outputs": [
    {
     "name": "stdout",
     "output_type": "stream",
     "text": [
      "['12 Drummers', '11 Pipers', '10 Lords', '9 Ladies', '8 Maids', '7 Swans', '6 Geese', '5 Golden', '4 Calling', '3 French', '2 Turtle']\n"
     ]
    }
   ],
   "source": [
    "lyrics = '12 Drummers Drumming, 11 Pipers Piping, 10 Lords a Leaping, 9 Ladies Dancing, 8 Maids a Milking, 7 Swans a Swimming, 6 Geese a Laying, 5 Golden Rings, 4 Calling Birds, 3 French Hens, 2 Turtle Doves, and a Partridge in a Pear Tree'\n",
    "xmasRegex = re.compile(r'\\d+\\s\\w+') #Buscar una cadena de texto con digito_letra\n",
    "arr=xmasRegex.findall(lyrics)\n",
    "print(arr)"
   ]
  },
  {
   "cell_type": "markdown",
   "metadata": {},
   "source": [
    "Podemos substituir elementos de una Regex"
   ]
  },
  {
   "cell_type": "code",
   "execution_count": 21,
   "metadata": {},
   "outputs": [
    {
     "data": {
      "text/plain": [
       "'REDACTED gave the secret documents to REDACTED.'"
      ]
     },
     "execution_count": 21,
     "metadata": {},
     "output_type": "execute_result"
    }
   ],
   "source": [
    "nameRegex = re.compile(r'Agent \\w+')\n",
    "message = 'Agent Alice gave the secret documents to Agent Bob.'\n",
    "nameRegex.findall(message)\n",
    "nameRegex.sub('REDACTED', message)"
   ]
  },
  {
   "cell_type": "markdown",
   "metadata": {},
   "source": [
    "#### Para mayor información sobre Expresiones regulares, recomiendo leer la documentación de la librería re"
   ]
  },
  {
   "cell_type": "markdown",
   "metadata": {},
   "source": [
    "### 1.8 Web Scraping"
   ]
  },
  {
   "cell_type": "markdown",
   "metadata": {},
   "source": [
    "Web scraping es una técnica utilizada mediante programas de software para extraer información de sitios web. Usualmente, estos programas simulan la navegación de un humano en internet, ya sea usando el protocolo HTTP manualmente, o inscrustando el navegador en una aplicación.   \n",
    "Para hacer web scraping se necesita, en primera instancia, instalar en tu máquina la librería HTTP **Requests** para Python.   \n",
    "```sh\n",
    "$ python -m pip install requests\n",
    "```\n"
   ]
  },
  {
   "cell_type": "code",
   "execution_count": 22,
   "metadata": {},
   "outputs": [
    {
     "data": {
      "text/plain": [
       "455809"
      ]
     },
     "execution_count": 22,
     "metadata": {},
     "output_type": "execute_result"
    }
   ],
   "source": [
    "import requests\n",
    "# vamos a intentar ingresar a Falabella\n",
    "res = requests.get('https://www.falabella.com/falabella-cl/')\n",
    "len(res.text) #indica la cantidad de caracteres que componen la pagina\n",
    "#print(res.text) #imprime los chars de la página\n"
   ]
  },
  {
   "cell_type": "markdown",
   "metadata": {},
   "source": [
    "El siguiente paso es instalar la libreria de Python **BeautifulSoup**.\n",
    "```sh\n",
    "$ pip install beautifulsoup4\n",
    "```"
   ]
  },
  {
   "cell_type": "code",
   "execution_count": 23,
   "metadata": {},
   "outputs": [
    {
     "data": {
      "text/plain": [
       "'$  2.399.990 '"
      ]
     },
     "execution_count": 23,
     "metadata": {},
     "output_type": "execute_result"
    }
   ],
   "source": [
    "import bs4\n",
    "#import requests\n",
    "# vamos a extraer el valor del siguiente producto de falabella\n",
    "res = requests.get('https://www.falabella.com/falabella-cl/product/8116897/Notebook-Intel-Core-i7-9750H-16GB-RAM-+-32GB-Intel-Optane-512GB-SSD-NVIDIA-GeForce-RTX-2080-15.6-/8116897')\n",
    "res.raise_for_status() # con este metodo nos aseguramos que la petición fue realizada con éxito\n",
    "#parseamos el texto a formato html\n",
    "soup = bs4.BeautifulSoup(res.text, 'html.parser')\n",
    "#Copiamos la ruta CSS del elemento que deseamos extraer\n",
    "element = soup.select('html body.custom_class div#__next div.jsx-1987097504.main section.jsx-4234634535.pdp-body div.jsx-4234634535.container div.jsx-4234634535.productContainer div.jsx-4113348717.pdp-container section.jsx-4113348717.pdp-detail-section div div.jsx-2170457292.product-specifications div.jsx-2170457292.product-specifications-column.fa--product-specifications-column__desktop div.jsx-2170457292.price div#testId-pod-prices-8116897.jsx-1904860942.prices.prices-4_GRID ol.jsx-1904860942.ol-4_GRID.pdp-prices.fa--prices li.jsx-1904860942.price-0 div.jsx-1904860942.cmr-icon-container span.copy13.primary.high.jsx-185326735.normal')\n",
    "element[0].text"
   ]
  },
  {
   "cell_type": "markdown",
   "metadata": {},
   "source": [
    "Sería ideal generar una función que genere estre proceso y que tenga como argumento la url del producto que deseamos scrapear"
   ]
  },
  {
   "cell_type": "code",
   "execution_count": 57,
   "metadata": {
    "scrolled": true
   },
   "outputs": [
    {
     "name": "stdout",
     "output_type": "stream",
     "text": [
      "[['Notebook Intel Pentium Gold 4GB RAM 500GB HDD 15.6\"', '$  399.990 '],\n",
      " ['Notebook 240 G7 Intel Core i3-1005G1 4GB RAM 1TB HDD 14\"', '$  419.990 '],\n",
      " ['Notebook Hp 240 Cel N4020 4Gb 500Gb Win10H', '$  349.900 '],\n",
      " ['Notebook Intel Core i7-9750H 16GB RAM + 32GB Intel Optane 512GB SSD NVIDIA '\n",
      "  'GeForce RTX 2080 15.6\"',\n",
      "  '$  2.399.990 '],\n",
      " ['Macbook Air 13\" Intel Core i5 8GB RAM 512GB SSD Silver', '$  1.449.990 '],\n",
      " ['Notebook/Hp/240 G7/Intel Celeron/4Gb/500Gb/W10/14', '$  349.990 (Oferta)'],\n",
      " ['Notebook Lenovo V130 I3-7020 8Gb 1Tb W10Home', '$  489.900 '],\n",
      " ['MacBook Pro 16\" Intel Core i7 16GB RAM-512GB SSD Space Gray',\n",
      "  '$  2.249.990 '],\n",
      " ['Notebook 2en1 Spectre Intel Core i7 8GB RAM 512GB SSD 13,3\"',\n",
      "  '$  1.399.990 '],\n",
      " ['Notebook Gamer TUF Gaming A15 AMD Ryzen 7-4800H 16GB RAM 512GB SSD NVIDIA '\n",
      "  'GeForce RTX 2060 15.6\"',\n",
      "  '$  1.299.990 '],\n",
      " ['Macbook Air 13\" Intel Core i5 8GB RAM 512GB SSD Gold', '$  1.449.990 '],\n",
      " ['Notebook Swift 3 AMD Ryzen 5 16GB RAM 512GB SSD 14\"', '$  749.990 (Oferta)']]\n"
     ]
    }
   ],
   "source": [
    "#import bs4, requests\n",
    "import pprint\n",
    "def getElements(productUrl):\n",
    "    res = requests.get(productUrl)\n",
    "    res.raise_for_status()\n",
    "    soup = bs4.BeautifulSoup(res.text, 'html.parser')\n",
    "    name = soup.findAll(\"b\", {\"class\": \"pod-subTitle\"})\n",
    "    price = soup.findAll(\"li\", {\"class\": \"price-0\"})\n",
    "    item = []\n",
    "    for i in range(len(price)):\n",
    "        item.append([name[i].text, price[i].text])\n",
    "    return item\n",
    "    \n",
    "elements = getElements('https://www.falabella.com/falabella-cl/category/cat70057/Notebooks?page=2')\n",
    "pprint.pprint(elements)"
   ]
  },
  {
   "cell_type": "markdown",
   "metadata": {},
   "source": [
    "libraries like: scipy, matplotlib, numpy, pandas, django?? then ML->DL\n"
   ]
  }
 ],
 "metadata": {
  "kernelspec": {
   "display_name": "Python 3",
   "language": "python",
   "name": "python3"
  },
  "language_info": {
   "codemirror_mode": {
    "name": "ipython",
    "version": 3
   },
   "file_extension": ".py",
   "mimetype": "text/x-python",
   "name": "python",
   "nbconvert_exporter": "python",
   "pygments_lexer": "ipython3",
   "version": "3.8.5"
  }
 },
 "nbformat": 4,
 "nbformat_minor": 4
}
