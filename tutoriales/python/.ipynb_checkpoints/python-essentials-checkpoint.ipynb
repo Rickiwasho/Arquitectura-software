{
 "cells": [
  {
   "cell_type": "markdown",
   "metadata": {},
   "source": [
    "# Python essentials \n"
   ]
  },
  {
   "cell_type": "markdown",
   "metadata": {},
   "source": [
    "## 1. Python básico\n",
    "\n",
    "### Funciones  \n",
    "\n",
    "Las funciones son como mini programas dentro de un programa. Su objetivo es combatir la duplicación de código y granularlo en pequeñas porciones.\n",
    "\n",
    "- El string def define la función.\n",
    "- La entrada de las funciones son los argumentos.\n",
    "- La salida de una función son los valores de retorno.\n",
    "- Los parámetros son las variables dentro de los paréntesis en la declaración de la función.\n",
    "- El valor de retorno es especificado usando la sentencia return.\n",
    "\n",
    "Cada función tiene un valor de retorno. Si tu función no tiene una sentencia de retorno, el valor a retornar por defecto es None. "
   ]
  },
  {
   "cell_type": "code",
   "execution_count": null,
   "metadata": {},
   "outputs": [],
   "source": [
    "import random\n",
    "def randomGenerator():\n",
    "    x = random.randint(1, 10)\n",
    "    return x\n",
    "\n",
    "print(\"the number is: \" + str(randomGenerator()))"
   ]
  },
  {
   "cell_type": "markdown",
   "metadata": {},
   "source": [
    "### Alcance global y local  \n",
    "- El alcance puede entenderse como cierta área en el código que contiene variables.\n",
    "- El alcance global se entiende como el área fuera de las funciones. Las funciones asignadas en dicha área son llamadas variables globales. \n",
    "- Cada función tiene su propio alcance, a esto se entiende por alcance local. Las variables definidas dentro de las funciones se conocen como variables locales.\n",
    "- El código de alcance global **no** puede usar variables locales.\n",
    "- El código en una función con alcance local no puede usar variables de otra función con alcance local.\n",
    "- Si hay una sentencia de declaración para una variable en una función, esta siempre será de alcance local.\n",
    "\n"
   ]
  },
  {
   "cell_type": "code",
   "execution_count": null,
   "metadata": {},
   "outputs": [],
   "source": [
    "var1 = 10 #global variable\n",
    "def funct():\n",
    "    var2 = 20 #local variable\n",
    "    global var3 \n",
    "    var3= 100\n",
    "    \n",
    "funct()\n",
    "print(var1)\n",
    "print(var1+var3)\n",
    "#print(var2) imprime error "
   ]
  },
  {
   "cell_type": "markdown",
   "metadata": {},
   "source": [
    "### Sentencias Try y Except \n",
    "- El error divide-by-zero ocurre cuando python divide un número por cero.\n",
    "- Los errores hacen que el programa se caiga.\n",
    "- Un error que ocurre dentro de un bloque try causa que se ejecute el código en el bloque except. Ese código puede manejar el error o entregar un mensaje al usuario, de esta forma el programa puede seguir funcionando."
   ]
  },
  {
   "cell_type": "code",
   "execution_count": null,
   "metadata": {},
   "outputs": [],
   "source": [
    "def div42by(number):\n",
    "    try:\n",
    "        return 42/number\n",
    "    except:\n",
    "        print(\"ERROR: You tried to divide by zero. \")\n",
    "print(div42by(10))\n",
    "print(div42by(90))\n",
    "print(div42by(0))\n",
    "print(div42by(1))"
   ]
  },
  {
   "cell_type": "markdown",
   "metadata": {},
   "source": [
    "###  Tipo de dato: List\n",
    "Primero que todo, debes saber que en python los arreglos no son una estructura de datos nativa. Python posee 'list' o listas que son mutables, esto significa que son capaces de modificarse, cambiando el contenido que almacenan. \n",
    "Las listas pueden almacenar información de distinto tipo. Es como una mochila, dentro de esta puedes almacenar lo que quieras. \n",
    "\n",
    "#### los métodos más útiles para interactuar con listas: \n",
    "- **list1.insert(position, element)**,  insert an element in  position\n",
    "- **list1.append(element)**,  insert an element in the top of the list\n",
    "- **list1.remove(element)**, remove an element. if the element doesn't exist in list then return a ValueError. You MUST use try-except.\n",
    "- **list1.extends(lista2)**, insert in the top of the list1 all the elements of list2\n",
    "- **list1.count(element)**, return the number of appearances of the element in list\n",
    "- **list1.index(element)**, obtain the position of the element in list. if the element doesn't exist in list then return a ValueError(use try-except)\n",
    "- **list.copy()**, this make a copy of a list\n",
    "- **list.sort()**, this returns the sorted list data in ascending order\n",
    "- **list.reverse()**, reverse the items in any list. useful for sorting lit in descending order.\n",
    "- **list.clear()**, remove all elements in list. useful for re-assigning the values of a values of a list by removing the previous items \n",
    "\n",
    "\n"
   ]
  },
  {
   "cell_type": "code",
   "execution_count": null,
   "metadata": {},
   "outputs": [],
   "source": [
    "bag = ['apple', 1, True, \"LOL\",\"last_item\"]\n",
    "for x in range(0,len(bag)):\n",
    "    print(bag[x])\n",
    "print(bag[-1])\n",
    "print(bag[-2])"
   ]
  },
  {
   "cell_type": "markdown",
   "metadata": {},
   "source": [
    "### Tipo de dato: Diccionario\n",
    "Un diccionario es una colección de muchos valores, pero a diferencia de los índices de las listas, los diccionarios pueden usar distintos tipos de datos, no solo enteros. Los índices en los diccionarios son llamados llaves y están asociados a un valor llamado valor-clave.\n",
    "- Los diccionarios son mutables. Las variables tienen referencias a los valores de los diccionarios, no al valor del diccionario.\n",
    "- Los diccionarios no tienen orden, no tienen un primer valor-clave."
   ]
  },
  {
   "cell_type": "code",
   "execution_count": null,
   "metadata": {},
   "outputs": [],
   "source": [
    "myCat = {'size': 'small', 'color': 'black', 'disposition': 'loud'}\n",
    "print(myCat['color'])\n",
    "'color' in myCat\n",
    "#if('color' in myCat != False): print('My cat has the color:'+ myCat['color'])\n",
    "#if('color' not in myCat != True): print('wtf my cat does not have color')\n",
    "print(list(myCat.keys()))\n",
    "print(list(myCat.values()))\n",
    "print(list(myCat.items()))\n",
    "print('my cat color is: ' + myCat.get('color', 'does not have color :('))\n"
   ]
  },
  {
   "cell_type": "markdown",
   "metadata": {},
   "source": [
    "EXERCISE: Counting the characters of string"
   ]
  },
  {
   "cell_type": "code",
   "execution_count": null,
   "metadata": {},
   "outputs": [],
   "source": [
    "import pprint\n",
    "longtext = 'holacomoestaijiji'\n",
    "count = {}\n",
    "for char in longtext.upper():\n",
    "    count.setdefault(char,0)\n",
    "    count[char] = count[char] + 1\n",
    "pprint.pprint(list(count.items()))\n",
    "    "
   ]
  },
  {
   "cell_type": "markdown",
   "metadata": {},
   "source": [
    "The pprint module's pprint() \"pretty print\" function can display a dictionary value cleanly. The pformat() function returns a string value of this output. "
   ]
  },
  {
   "cell_type": "markdown",
   "metadata": {},
   "source": [
    "###  Strings\n",
    "Caracteres de escape:   \n",
    "- \\' = Single quote  \n",
    "- \\\" = Double quote  \n",
    "- \\t = tab  \n",
    "- \\n = Line break  \n",
    "- \\\\ = Backlash  \n",
    "\n",
    "\n",
    "     \n",
    "también, \"\"\" any_text \"\"\" es útil.   "
   ]
  },
  {
   "cell_type": "code",
   "execution_count": null,
   "metadata": {},
   "outputs": [],
   "source": [
    "print(\"This is a text message: 'hello  \\\" wut \\\"'\")\n",
    "r\"That's not my cat\\'s' name\"\n",
    "print(\"\"\"h\n",
    "o\n",
    "l\n",
    "a\"\"\")"
   ]
  },
  {
   "cell_type": "markdown",
   "metadata": {},
   "source": [
    "##### Métodos útiles \n",
    "- text.upper() or text.lower() = todos los caracteres se transforman a mayús o minús \n",
    "- text.isalpha() = sólo letras\n",
    "- text.isalnum() = sólo números o letras\n",
    "- text.isdecimal() = sólo numeros\n",
    "- text.isspace() = sólo espacios\n",
    "- text.istitle() = string que comienzan con mayús y  el resto es minús\n",
    "\n"
   ]
  },
  {
   "cell_type": "code",
   "execution_count": null,
   "metadata": {
    "scrolled": true
   },
   "outputs": [],
   "source": [
    "text = \"heLlO World\"\n",
    "print(text.upper())\n",
    "print(text.lower())\n",
    "us = ['cat','mouse','dog']\n",
    "print(' and '.join(us))"
   ]
  },
  {
   "cell_type": "markdown",
   "metadata": {},
   "source": [
    "String formatting"
   ]
  },
  {
   "cell_type": "code",
   "execution_count": null,
   "metadata": {
    "scrolled": true
   },
   "outputs": [],
   "source": [
    "name = 'John'\n",
    "place = 'St. Clement'\n",
    "time = '10'\n",
    "food = 'avocado'\n",
    "print('Hello %s, you are invited to a party in %s street at %s pm. Bring %s.' % (name,place, time, food))"
   ]
  },
  {
   "cell_type": "markdown",
   "metadata": {},
   "source": [
    "###  Expresiones regulares\n",
    "\n",
    "- Las expresiones regulares son como mini lenguajes para especificar patrones de texto. Escribir código para hacer reconocimento de patrones de texto puede resultar bastante tedioso, en estos casos, las expresiones regulares pueden ahorrarnos bastante trabajo.\n",
    "- Regex strings usan \\ backslashes (like \\d), así que a menudo son strings del tipo: r'\\d'.   \n",
    "- Para emplear Regex, es necesario **importar re**.   \n",
    "- Debes llamar a la función **re.compile()** para crear un objeto regex.\n",
    "- \\d es la regex para un digito numerico del 0 al 9.   \n",
    "- \\D para cualquier carácter que no es un digito numerico del 0 al 9.\n",
    "- \\w cualquier letra, digito numerico, o underscore character.\n",
    "- \\W para cualquier caracter que no sea una letra, digito o carácter subrayado\n",
    "- \\s para cualquier espacio, tabulacion y salto de linea\n",
    "- \\S para cualquier caracter que no sea espacio, tabulacion y salto de linea\n",
    "- El caracter ^ antecediendo a  [aeiou] entregará todos los caracteres distintos al contenido del paréntesis"
   ]
  },
  {
   "cell_type": "code",
   "execution_count": null,
   "metadata": {},
   "outputs": [],
   "source": [
    "# Queremos un código para identificar si el texto es un número de telefono\n",
    "def isPhoneNumber(text): #412-123-1231\n",
    "    if(len(text)!= 12): \n",
    "        return False\n",
    "    for i in range(0,3):\n",
    "        if not text[i].isdecimal(): \n",
    "            return False\n",
    "    if(text[3] != '-'): \n",
    "        return False\n",
    "    for i in range(4,7):\n",
    "        if not text[i].isdecimal():\n",
    "            return False\n",
    "    if(text[7]!= '-'):\n",
    "        return False\n",
    "    for i in range(8, 12):\n",
    "        if not text[i].isdecimal():\n",
    "            return False\n",
    "    return True\n",
    "\n",
    "number = '412-123-1231'\n",
    "if(isPhoneNumber(number) == True):\n",
    "    print('Wow. Thanks!')\n",
    "else: print('error')"
   ]
  },
  {
   "cell_type": "markdown",
   "metadata": {},
   "source": [
    "Esto es equivalente a:"
   ]
  },
  {
   "cell_type": "code",
   "execution_count": null,
   "metadata": {},
   "outputs": [],
   "source": [
    "import re\n",
    "message = 'Call me 128-123-9999 tomorrow, or at 111-222-3333'\n",
    "phoneNumRegex = re.compile(r'\\d\\d\\d-\\d\\d\\d-\\d\\d\\d\\d')\n",
    "#mo = phoneNumRegex.search(message) //obtiene la primera ocurrencia y almacena en mo\n",
    "print(phoneNumRegex.findall(message)) # Con findall encontramos todas las ocurrencias en el texto"
   ]
  },
  {
   "cell_type": "markdown",
   "metadata": {},
   "source": [
    "Es posible **agrupar** los elementos que componen a la expresión regular, de esta forma, podremos obtener partes específicas. \n",
    "Para agrupar los elementos que componen la expresión regular utilizamos peréntesis, estos deberán rodear dichos grupos.    \n",
    "     \n",
    "Por ejemplo: r'(\\d\\d\\d\\d)-(\\d\\d\\d)-(\\d\\d\\d)', está conformado por 3 grupos. "
   ]
  },
  {
   "cell_type": "code",
   "execution_count": null,
   "metadata": {},
   "outputs": [],
   "source": [
    "phoneNumRegex = re.compile(r'(\\d\\d\\d)-(\\d\\d\\d)-(\\d\\d\\d\\d)')\n",
    "mo = phoneNumRegex.search('Call me 128-123-9999')\n",
    "mo.group(3) # despliega el grupo 3 compuesto por 9999"
   ]
  },
  {
   "cell_type": "markdown",
   "metadata": {},
   "source": [
    "El carácter **|**, conocido como pipe, permite localizar las posibles ocurrencias en un string dado un grupo de posibles candidatos.   "
   ]
  },
  {
   "cell_type": "code",
   "execution_count": null,
   "metadata": {},
   "outputs": [],
   "source": [
    "# programa que retorna la primera ocurrencia\n",
    "saRegex = re.compile(r'sa(ndia|bor|bado|lud|grado)')\n",
    "mo = saRegex.search(\"La sandia tiene un sabor sagrado\")\n",
    "#mo = saRegex.search(\"La naranja tiene un color pálido\")\n",
    "#mo == None\n",
    "mo.group()"
   ]
  },
  {
   "cell_type": "markdown",
   "metadata": {},
   "source": [
    "El carácter **?** en una expresión regular hace referencia a _cero o una ocurrencia_ de un grupo, por ejemplo: "
   ]
  },
  {
   "cell_type": "code",
   "execution_count": null,
   "metadata": {},
   "outputs": [],
   "source": [
    "batRegex = re.compile(r'Bat(wo)?man') # Regex\n",
    "mo = batRegex.search('The adventures of Batman')\n",
    "mo.group() # print Batman\n",
    "mo = batRegex.search('The adventures of Batwoman')\n",
    "mo.group() # print Batwoman"
   ]
  },
  {
   "cell_type": "markdown",
   "metadata": {},
   "source": [
    "El carácter * en una expresión regular hace referencia a _cero o n ocurrencias_ de un grupo, por ejemplo:"
   ]
  },
  {
   "cell_type": "code",
   "execution_count": null,
   "metadata": {},
   "outputs": [],
   "source": [
    "batRegex = re.compile(r'Bat(wo)*man') #regex\n",
    "mo=batRegex.search('The adventures of Batwowowowowowowoman')\n",
    "mo.group()"
   ]
  },
  {
   "cell_type": "markdown",
   "metadata": {},
   "source": [
    "El carácter **+** en una expresión regular hace referencia a _una o más ocurrencias_ de un grupo, por ejemplo:\n"
   ]
  },
  {
   "cell_type": "code",
   "execution_count": null,
   "metadata": {},
   "outputs": [],
   "source": [
    "batRegex = re.compile(r'Bat(wo)+man')\n",
    "mo = batRegex.search('The adventures of Batwowoman')\n",
    "mo.group()"
   ]
  },
  {
   "cell_type": "markdown",
   "metadata": {},
   "source": [
    "Los curly brackets {x} indican que en una expresión regular debe presentarse un grupo una cantidad x de veces, ejemplo:\n"
   ]
  },
  {
   "cell_type": "code",
   "execution_count": null,
   "metadata": {},
   "outputs": [],
   "source": [
    "batRegex = re.compile(r'Bat(wo){3}man')\n",
    "mo = batRegex.search('The adventures of Batwowowoman')\n",
    "mo.group()"
   ]
  },
  {
   "cell_type": "markdown",
   "metadata": {},
   "source": [
    "Cuando el curly brackets contiene dos atributos {x,y}, entonces x significa la cantidad mínima y y la cantidad máxima de el grupo de la expresión regular"
   ]
  },
  {
   "cell_type": "code",
   "execution_count": null,
   "metadata": {},
   "outputs": [],
   "source": [
    "batRegex = re.compile(r'Bat(wo){3,6}man')\n",
    "mo = batRegex.search('The adventures of Batwowowowowoman')\n",
    "mo.group()"
   ]
  },
  {
   "cell_type": "markdown",
   "metadata": {},
   "source": [
    "El punto **.** en una expresión regular reemplaza un carácter faltante para hacer el match con un string, por ejemplo:"
   ]
  },
  {
   "cell_type": "code",
   "execution_count": null,
   "metadata": {},
   "outputs": [],
   "source": [
    "atRegex = re.compile (r'.at')\n",
    "atRegex.findall(\"the cat en the hat sat on the flat mat\")"
   ]
  },
  {
   "cell_type": "markdown",
   "metadata": {},
   "source": [
    "Utilizando findall() y agregando los elementos a un arreglo"
   ]
  },
  {
   "cell_type": "code",
   "execution_count": null,
   "metadata": {},
   "outputs": [],
   "source": [
    "lyrics = '12 Drummers Drumming, 11 Pipers Piping, 10 Lords a Leaping, 9 Ladies Dancing, 8 Maids a Milking, 7 Swans a Swimming, 6 Geese a Laying, 5 Golden Rings, 4 Calling Birds, 3 French Hens, 2 Turtle Doves, and a Partridge in a Pear Tree'\n",
    "xmasRegex = re.compile(r'\\d+\\s\\w+') #Buscar una cadena de texto con digito_letra\n",
    "arr=xmasRegex.findall(lyrics)\n",
    "print(arr)"
   ]
  },
  {
   "cell_type": "markdown",
   "metadata": {},
   "source": [
    "Podemos substituir elementos de una Regex"
   ]
  },
  {
   "cell_type": "code",
   "execution_count": null,
   "metadata": {},
   "outputs": [],
   "source": [
    "nameRegex = re.compile(r'Agent \\w+')\n",
    "message = 'Agent Alice gave the secret documents to Agent Bob.'\n",
    "nameRegex.findall(message)\n",
    "nameRegex.sub('REDACTED', message)"
   ]
  },
  {
   "cell_type": "markdown",
   "metadata": {},
   "source": [
    "#### Para mayor información sobre Expresiones regulares, recomiendo leer la documentación de la librería re"
   ]
  },
  {
   "cell_type": "markdown",
   "metadata": {},
   "source": [
    "## 2. Web Scraping"
   ]
  },
  {
   "cell_type": "markdown",
   "metadata": {},
   "source": [
    "Web scraping es una técnica utilizada mediante programas de software para extraer información de sitios web. Usualmente, estos programas simulan la navegación de un humano en internet, ya sea usando el protocolo HTTP manualmente, o inscrustando el navegador en una aplicación.   \n",
    "Para hacer web scraping se necesita, en primera instancia, instalar en tu máquina la librería HTTP **Requests** para Python.   \n",
    "```sh\n",
    "$ python -m pip install requests\n",
    "```\n"
   ]
  },
  {
   "cell_type": "code",
   "execution_count": null,
   "metadata": {},
   "outputs": [],
   "source": [
    "import requests\n",
    "# vamos a intentar ingresar a Falabella\n",
    "res = requests.get('https://www.falabella.com/falabella-cl/')\n",
    "len(res.text) #indica la cantidad de caracteres que componen la pagina\n",
    "#print(res.text) #imprime los chars de la página\n"
   ]
  },
  {
   "cell_type": "markdown",
   "metadata": {},
   "source": [
    "El siguiente paso es instalar la libreria de Python **BeautifulSoup**.\n",
    "```sh\n",
    "$ pip install beautifulsoup4\n",
    "```"
   ]
  },
  {
   "cell_type": "code",
   "execution_count": null,
   "metadata": {},
   "outputs": [],
   "source": [
    "import bs4\n",
    "#import requests\n",
    "# vamos a extraer el valor del siguiente producto de falabella\n",
    "res = requests.get('https://www.falabella.com/falabella-cl/product/8116897/Notebook-Intel-Core-i7-9750H-16GB-RAM-+-32GB-Intel-Optane-512GB-SSD-NVIDIA-GeForce-RTX-2080-15.6-/8116897')\n",
    "res.raise_for_status() # con este metodo nos aseguramos que la petición fue realizada con éxito\n",
    "#parseamos el texto a formato html\n",
    "soup = bs4.BeautifulSoup(res.text, 'html.parser')\n",
    "#Copiamos la ruta CSS del elemento que deseamos extraer\n",
    "element = soup.select('html body.custom_class div#__next div.jsx-1987097504.main section.jsx-4234634535.pdp-body div.jsx-4234634535.container div.jsx-4234634535.productContainer div.jsx-4113348717.pdp-container section.jsx-4113348717.pdp-detail-section div div.jsx-2170457292.product-specifications div.jsx-2170457292.product-specifications-column.fa--product-specifications-column__desktop div.jsx-2170457292.price div#testId-pod-prices-8116897.jsx-1904860942.prices.prices-4_GRID ol.jsx-1904860942.ol-4_GRID.pdp-prices.fa--prices li.jsx-1904860942.price-0 div.jsx-1904860942.cmr-icon-container span.copy13.primary.high.jsx-185326735.normal')\n",
    "element[0].text"
   ]
  },
  {
   "attachments": {},
   "cell_type": "markdown",
   "metadata": {},
   "source": [
    "Sería ideal generar una función que genere estre proceso y que tenga como argumento la url del producto que deseamos scrapear.\n",
    "<img src=\"images/falabella.png\">"
   ]
  },
  {
   "cell_type": "code",
   "execution_count": null,
   "metadata": {
    "scrolled": false
   },
   "outputs": [],
   "source": [
    "#import bs4, requests\n",
    "import pprint\n",
    "def getElements(productUrl):\n",
    "    res = requests.get(productUrl)\n",
    "    res.raise_for_status()\n",
    "    soup = bs4.BeautifulSoup(res.text, 'html.parser')\n",
    "    name = soup.findAll(\"b\", {\"class\": \"pod-subTitle\"})\n",
    "    price = soup.findAll(\"li\", {\"class\": \"price-0\"})\n",
    "    item = []\n",
    "    for i in range(len(price)):\n",
    "        item.append([name[i].text, price[i].text])\n",
    "    return item\n",
    "    \n",
    "elements = getElements('https://www.falabella.com/falabella-cl/category/cat70057/Notebooks?page=2')\n",
    "pprint.pprint(elements)"
   ]
  },
  {
   "attachments": {},
   "cell_type": "markdown",
   "metadata": {},
   "source": [
    "## 3. Base de datos\n",
    "Una base de datos es un conjunto de datos pertenecientes a un mismo contexto y almacenados sistemáticamente para su posterior uso. \n",
    "### Base de datos relacionales\n",
    "Es un modelo utilizado en la actualidad para almacenar datos.  Relaciona filas con columnas en tablas. El poder de las bases de datos relacionales esta en su habilidad de recuperar datosde forma eficiente de  tablas, en particular, en aquellos casos donde hayan multiples tablas relacionadas.\n",
    "### Terminología\n",
    "- **Base de datos:**\n",
    "Contiene muchas tablas.\n",
    "- **Relación (o tabla):**\n",
    "Contiene filas y columnas.\n",
    "- **Tupla (o fila):**\n",
    "Un conjunto de campos que generalmente representan un \"objeto\".\n",
    "- **Atributo (columna o campo):**\n",
    "Uno de posiblemente muchos elementos de datos correspondientes al objeto representado por la fila.\n",
    "\n",
    "### SQL\n",
    "**Structured Query Language** es el lenguaje que usamos para enviar comandos a la base de datos. \n",
    "```sql\n",
    "CREATE TABLE \"Users\"(\"name\" TEXT, \"email\" TEXT)\n",
    "```\n",
    "Las palabras en verde son palabras clave del lenguaje, éstas definen la acción a realizar en la base de datos. Por convención, todas y cada una de las palabras clave de una sentencia SQL debe ser escrita en mayúscula.\n",
    "### Administrador de una base de datos\n",
    "Un **database administrator** (DBA) es una persona resposable del diseño, implementación, mantenimiento y reparación de la base de datos de alguna organización. Su rol ingloye el desarrollo y diseño de estrategias de base de datos, monitoreo y mejoras en el comportamiento y capacidad, planificando a futuro posibles requerimientos de expansión. También, coordinan e implementan medidas de seguridad para salvaguardar la base de datos.\n",
    "\n",
    "### Modelo de base de datos\n",
    "Un modelo de base de datos o esquema de base de datos es una estructura o formato para una base de datos, descrito en un lenguaje formal compatible por el sistema de gestión de base de datos.\n",
    "#### Sistemas de base de datos comunes\n",
    "- **Oracle**,\n",
    "Grande, comercial, escala enterprise, muy modificable\n",
    "- **MySql**,\n",
    "Simple, rápido y escalable, open source commercial\n",
    "- **SqlServer**,\n",
    "- **HSQL, SQLite, Postgres,** etc\n",
    "\n",
    "### SQLite Browser\n",
    "SQLite es una base de datos popular, es gratis, rápida y pequeña.   \n",
    "SQLite Browser nos permite manipular directamente archivos SQLite. Para descargar el software necesario debes dirigirte a la siguiente direccion y seguir las instrucciones de instalación: http://sqlitebrowser.org/      \n",
    "SQLite es incrustado en Python, entre muchos otros lenguajes de programación.\n",
    "Una vez instalado, deberás ejecutar el programa y crear una nueva base de datos. Para ello tienes que hacer clic en New Database, seleccionar la ruta donde desees almacenar tu base de datos y asignarle un nombre.   \n",
    "Para usos prácticos, llamaré a la base de datos 'mydb'. Luego, deberás crear las tablas de tu base de datos. Partiremos creando una tabla 'Users', que almacenará los siguientes datos: nombre y email.   \n",
    "SQLite Browser te permite crear tablas con una interfaz gráfica simple\n",
    "<img src=\"images/creatingtable.png\">\n",
    "    \n",
    "    \n"
   ]
  },
  {
   "attachments": {},
   "cell_type": "markdown",
   "metadata": {},
   "source": [
    "Como puedes apreciar en la imagen, en la parte de abajo se ha generado código SQL de forma automática.   \n",
    "\n",
    "#### SQL INSERT\n",
    "Para insertar una fila en la tabla usando SQL, debemos utilizar la sentencia INSERT.  \n",
    "```SQL\n",
    "INSERT INTO Users (name, email) VALUES ('Kristin', 'kf@gmail.com')\n",
    "```\n",
    "Dirigete a Execute SQL y corre la sentencia. \n",
    "\n",
    "<img src=\"images/insertinto.png\">\n",
    "\n",
    "Para ejecutar más de una sentencia SQL a la vez, debes incluir **;** al final de cada sentencia. Por ejemplo:\n",
    "```SQL\n",
    "INSERT INTO Users (name, email) VALUES ('Chuck', 'csev@umich.edu');\n",
    "INSERT INTO Users (name, email) VALUES ('Colleen', 'cvl@umich.edu');\n",
    "INSERT INTO Users (name, email) VALUES ('Ted', 'ted@umich.edu');\n",
    "INSERT INTO Users (name, email) VALUES ('Sally', 'a1@umich.edu');\n",
    "INSERT INTO Users (name, email) VALUES ('Ted', 'ted@umich.edu');\n",
    "```\n",
    "#### SQL DELETE\n",
    "Para eliminar filas de la tabla debes utilizar la sentencia DELETE.\n",
    "```SQL\n",
    "DELETE FROM Users WHERE email='ted@umich.edu'\n",
    "```\n",
    "La sentencia anterior elimina la fila cuyo email sea idéntico al indicado, sin embargo, puedes borrar por según el atributo que desees.\n",
    "\n",
    "#### SQL UPDATE\n",
    "Permite modificar un campo de una fila, por ejemplo, modifiquemos el email de Sally.\n",
    "```SQL\n",
    "UPDATE Users SET email='sally@uach.cl' WHERE name = 'Sally'\n",
    "```\n",
    "#### SQL SELECT\n",
    "La sentencia 'select' obtiene un conjunto de datos de una o más tablas, acorde un criterio. Por ejemplo:\n",
    "```sql\n",
    "SELECT * FROM Users WHERE email='csev@umich.edu'\n",
    "```\n",
    "Traducido sería:   \n",
    "___Selecciona todos los elementos desde tabla Users donde el email = 'csev@umich.edu'.___\n",
    "\n",
    "#### SQL ORDER BY\n",
    "La sentencia 'order by' despliega elementos de una tabla o más tablas, y los ordena en función de cierto criterio. Por ejemplo:\n",
    "```sql\n",
    "SELECT * FROM Users ORDER BY name\n",
    "```\n",
    "Despliega una lista ordenada de todos los datos almacenados en la tabla Users, y los ordena alfabéticamente, en función de los carácteres del nombre.   \n",
    "También, podemos desplegar de forma descendente utilizando la palabra clave 'DESC'\n",
    "```SQL\n",
    "SELECT * FROM Users ORDER BY name DESC\n",
    "```\n",
    "#### CRUD\n",
    "Las sentencias presentadas anteriormente conforman lo que conocemos como CRUD (create, read, update y delete). \n"
   ]
  },
  {
   "cell_type": "code",
   "execution_count": null,
   "metadata": {},
   "outputs": [],
   "source": [
    "import sqlite3\n"
   ]
  },
  {
   "cell_type": "markdown",
   "metadata": {},
   "source": [
    "## 4. Django"
   ]
  },
  {
   "attachments": {},
   "cell_type": "markdown",
   "metadata": {},
   "source": [
    "Cuando tenemos una página web, necesitamos tener un servidor para que nuestra página se aloje y permita recibir requests de información por parte de nuestros usuarios.   \n",
    "Django es un framework de desarrollo web escrito en Python que soporta el patrón MVC. La meta fundamental de Django es facilitar la creación de sitios web complejos. Django pone énfasis en el re-uso, la conectividad y extensibilidad de componentes, el desarrollo rápido y el principio DRY (Dont repeat yourself)\n"
   ]
  },
  {
   "cell_type": "markdown",
   "metadata": {},
   "source": [
    "Recomiendo usar Anaconda, crear un entorno y instalar Django.\n",
    "\n",
    "```sh\n",
    "$ conda install django\n",
    "```\n",
    "Para saber qué versión tienes de Django\n",
    "```sh\n",
    "$ python -m django --version\n",
    "```"
   ]
  },
  {
   "attachments": {},
   "cell_type": "markdown",
   "metadata": {},
   "source": [
    "### Creando un proyecto\n",
    "Para crear tu primer proyecto con Django, deberás ejecutar el siguiente comando en tu terminal:\n",
    "\n",
    "```sh\n",
    "$ django-admin startproject nombre-proyecto\n",
    "```\n",
    "\n",
    "Para casos prácticos, he llamado a mi proyecto \"mysite\".    \n",
    "Independiente del directorio donde hayas ejecutado el comando anterior, se debería haber creado una carperta con el nombre de tu proyecto. \n",
    "\n",
    "<img src=\"images/mysite.png\">\n",
    "\n",
    "\n",
    "Estos archivos son:\n",
    "- el directorio raíz **mysite/** es el contenedor de tu proyecto. Su nombre no le interesa a Django, por lo que puedes renombrarlo y no generarás problema alguno.\n",
    "- manage.py: Un archivo que te permite interactuar con el proyecto de varias formas, almacena comandos útiles para tu proyecto. \n",
    "- _ init _.py: Es un archivo vacío que le dice a python que este directorio debe ser considerado como paquete Python\n",
    "- settings.py: Configuraciones para este proyecto Django.\n",
    "- urls.py: Las declaraciones URL para este proyecto Django; Una tabla de contenidos de su sitio basado en Django.\n",
    "- asgi.py: An entry-point for ASGI-compatible web servers to serve your project.\n",
    "wsgi.py: Un punto de entrada para que los servidores web compatibles con WSGI puedan servir su proyecto.\n",
    "\n",
    "Para verificar que tu proyecto funciona, dirigete al directorio /mysite y corre el siguiente comando:\n",
    "```sh\n",
    "$ python manage.py runserver\n",
    "```\n",
    "Una vez ejecutado el comando, visita http://127.0.0.1:8000/, verás ésta imagen:\n",
    "\n",
    "<img src=\"images/djangoinstalation.png\">\n",
    "     \n",
    "El server montado se actualiza constantemente frente a cada request o petición que realices. No debes reiniciar el server cuando realices cambios, sin embargo, casos como añadir archivos o directorios si requieren que reinicies el server.\n",
    "\n",
    "Cada aplicacion que escribes en Django consiste de paquetes python que siguen ciertas convenciones. Django viene con la utilidad de que automáticamente genera la estructura básica de un directorio para una aplicación, así que sólo debes concentrarte en escribir código.\n",
    "Dentro de un proyecto puedes tener una o varias apps.   \n",
    "    \n",
    "Para usos prácticos, crearemos una app de encuestas en el mismo directorio en donde se encuentra tu archivo manage.py, de esta forma será importada como un módulo de alto nivel, en vez de un submódulo.   \n",
    "\n",
    "Para crear la aplicación, asegurate que estás en el mismo directorio de manage.py y ejecuta este comando:\n",
    "\n",
    "```sh\n",
    "$ python manage.py startapp polls\n",
    "```\n",
    "Eso creará un directorio polls que se presenta de la siguiente forma:\n",
    "\n",
    "<img src=\"images/appdjango.png\">\n",
    "\n",
    "Esta estructura de directorios almacenará la aplicación encuesta.\n",
    "En el archivo polls/views.py, escriba el siguiente código:\n",
    "\n",
    "```js\n",
    "from django.http import HttpResponse\n",
    "\n",
    "def index(request):\n",
    "    return HttpResponse(\"Hello, world. You're at the polls index\")\n",
    "```\n",
    "Esta es la vista más simple posible en Django. Para llamar la vista, tenemos que asignarla a una URLconf.   \n",
    "Para crear una URLconf en el directorio polls, cree un archivo llamado urls.py. Dentro de urls.py debe escribir el siguiente código:\n",
    "\n",
    "```js\n",
    "from django.urls import path\n",
    "from . import views\n",
    "\n",
    "urlpatterns = [\n",
    "    path('',views.index, name='index'),\n",
    "]\n",
    "```\n",
    "El siguiente paso es señalar la URLconf raíz en el módulo polls.url. Cree un archivo mysite/urls.py y añada un import para django.urls.include e inserte una include()  en la lista urlpatterns, para obtener:\n",
    "\n",
    "```js\n",
    "from django.contrib import admin\n",
    "from django.urls import include, path\n",
    "\n",
    "urlpatterns = [\n",
    "    path('polls/', include('polls.urls')),\n",
    "    path('admin/', admin.site.urls),\n",
    "]\n",
    "```\n",
    "La función include() permite hacer una referencia a otros URLconfs. Cada vez que Django encuentra include(), corta cualquier parte de la URL que coincide hasta ese pundo y envía la cadena restante a la URLconf incluida para seguir el proceso.   \n",
    "La idea detrás de include() es facilitar la conexión y ejecución inmediata de las URLs. Dado que las encuestas están en su propia URLconf (polls/urls.py).   \n",
    "\n",
    "     \n",
    "      \n",
    "      \n",
    "Bien!. Sólo resta en probar lo hecho. Corra el server nuevamente y vaya a http://localhost:8000/polls/."
   ]
  },
  {
   "cell_type": "markdown",
   "metadata": {},
   "source": [
    "## 5. Computación científica \n",
    "La computación científica, una parte esencial para la ciencia, nos permite satisfacer los siguientes aspectos:\n",
    "- **Cálculos numéricos**\n",
    "- **Simulaciones**\n",
    "- **Modelamiento computacional**\n",
    "- **Análisis de datos**\n",
    "\n",
    "#### IPython\n",
    "Interactive Python (IPython) es un intérprete de Python que ofrece varias mejoras, tales como:\n",
    "- Autocompletación de path y módulos\n",
    "- Accesso desde terminal a documentación y código fuente\n",
    "- Búsqueda histórica de comandos\n",
    "- Implementación de mágias\n",
    "\n",
    "IPython puede usarse desde un terminal, como reemplazo del intérprete convencional de Python. También, puede usarse desde un Jupyter Notebook.\n"
   ]
  },
  {
   "cell_type": "code",
   "execution_count": null,
   "metadata": {},
   "outputs": [],
   "source": [
    "# %lsmagic \n",
    "#imprime todas las magic disponibles, las magic nos ahorran mucha tarea, por lo que es esencial su conocimiento"
   ]
  },
  {
   "cell_type": "markdown",
   "metadata": {},
   "source": [
    "### NumPy\n",
    "NumPy es un paquete de computación científica con Python que provee:\n",
    "- Un objeto contenedor muy versátil: N-dimensión __ndarray_\n",
    "- Funciones capaces de hacer bradcasting\n",
    "- Módulos para álgebra lineal. Transformada de Fourier, generación de número aleatorios, etc.\n",
    "- Herramientas para integrar código C/C++.\n",
    "\n",
    "#### Instalación\n",
    "Utilizando conda:\n",
    "```sh\n",
    "$ conda install numpy\n",
    "```\n",
    "Luego, para importar la librería en nuestro código:\n",
    "\n"
   ]
  },
  {
   "cell_type": "code",
   "execution_count": null,
   "metadata": {
    "scrolled": true
   },
   "outputs": [],
   "source": [
    "# np? despliega toda la infromación de la libreria numpy\n",
    "import numpy as np\n",
    "display(np.__version__) #entrega la versión de la libreria"
   ]
  },
  {
   "cell_type": "markdown",
   "metadata": {},
   "source": [
    "####  Objeto ndarray (alias array)\n",
    "El objeto ndarray es un **arreglo n-dimensional de tipo fijo**\n",
    "Las operaciones sobre ndarrau son eficientes: Usan librerías de bajo nivel (OpenBLAS, MKL)     \n",
    "Podemos crear un ndarray a partir de:\n",
    "- Una lista o tupla usando **np.array**.\n",
    "- Un fichero, por ejemplo, usando **np.genfromtxt**\n",
    "- Funciones generadoras de NumPy, por ejemplo, **np.linspace**, **np.zeros**, etc\n",
    "\n",
    "\n",
    "#### Ndarray a partir de listas y atributos básicos"
   ]
  },
  {
   "cell_type": "code",
   "execution_count": null,
   "metadata": {},
   "outputs": [],
   "source": [
    "L = [[0,1],[2,3]]\n",
    "display(type(L))\n",
    "# creación de un ndarray\n",
    "A = np.array(L)\n",
    "display(type(A))"
   ]
  },
  {
   "cell_type": "markdown",
   "metadata": {},
   "source": [
    "El caso anterior es una muestra que NumPy interpreta el tipo de dato, por lo que no es necesario explicitar el tipo, sin embargo, para casos formales, los tipos de dato estándar de NumPy son:\n",
    "- Enteros: int8, int16, int32, int64\n",
    "- Enteros sin signo: uint8, uint16, uint32, uint64\n",
    "- Flotantes(reales): float16, float32, float64, float128\n",
    "- Números complejos: complex64, complex128, complex256\n",
    "- Booleanos: Bool"
   ]
  },
  {
   "cell_type": "code",
   "execution_count": null,
   "metadata": {},
   "outputs": [],
   "source": [
    "# El atributo dtype nos permite ver el tipo de un arreglo NumPy\n",
    "display(np.array(L, dtype=np.int16))\n",
    "display(np.array(L, dtype=np.float32))"
   ]
  },
  {
   "cell_type": "markdown",
   "metadata": {},
   "source": [
    "Los atributos **ndim** y **shape** nos indican las dimensiones y el tamaño del arreglo, respectivamente:"
   ]
  },
  {
   "cell_type": "code",
   "execution_count": null,
   "metadata": {},
   "outputs": [],
   "source": [
    "display(A) # despliega el arreglo A\n",
    "display(A.ndim) # entrega la dimension de A\n",
    "display(A.shape) # entrega la forma de A"
   ]
  },
  {
   "attachments": {},
   "cell_type": "markdown",
   "metadata": {},
   "source": [
    "#### Ordenamiento en memoria de ndarray\n",
    "Por defecto, un ndarray multidimensional se ordena en memoria siguiendo un formato row-major.    \n",
    "Se puede cambiar a formato column-major usando el atributo *order*.   \n",
    "Se puede verificar el ordenamiento leyendo el atributo *flags*\n",
    "\n",
    "<img src = \"images/savearray.png\"> "
   ]
  },
  {
   "cell_type": "code",
   "execution_count": null,
   "metadata": {
    "scrolled": true
   },
   "outputs": [],
   "source": [
    "A = np.array(L)\n",
    "display(A)\n",
    "display(A.flags)\n",
    "\n",
    "A = np.array(L, order = 'F')\n",
    "display(A)\n",
    "display(A.flags)"
   ]
  },
  {
   "cell_type": "markdown",
   "metadata": {},
   "source": [
    "#### Funciones generadoras de arreglos\n",
    "Se pueden crear arreglos directamente desde NumPy:\n"
   ]
  },
  {
   "cell_type": "code",
   "execution_count": null,
   "metadata": {},
   "outputs": [],
   "source": [
    "display(np.zeros(shape=(3,3), dtype=np.int)) #lleno de ceros\n",
    "display(np.ones(shape=(3,3), dtype=np.float32)) #lleno de unos\n",
    "display(np.full(shape=(3,3), fill_value=np.pi)) #lleno de pi\n",
    "display(np.eye(3)) #matriz identidad\n",
    "display(np.random.randn(3,3)) #matriz aleatoria con distribuvion N(0,1)\n"
   ]
  },
  {
   "cell_type": "markdown",
   "metadata": {},
   "source": [
    "Funciones para crear rangos:"
   ]
  },
  {
   "cell_type": "code",
   "execution_count": null,
   "metadata": {},
   "outputs": [],
   "source": [
    "display(np.arange(start=0, stop=5, step=0.5)) # genera un arreglo con saltos de 0,5\n",
    "display(np.linspace(start=0, stop=10,num=11)) # genera un arreglo con el 11 particiones entre intervalos [0 y 10]\n",
    "display(np.logspace(start=0, stop=1,num=11)) # similar a linspace, pero logarítmico"
   ]
  },
  {
   "cell_type": "markdown",
   "metadata": {},
   "source": [
    "Se puede usar  **meshgrid** para crear arreglos de coordenadas"
   ]
  },
  {
   "cell_type": "code",
   "execution_count": null,
   "metadata": {
    "scrolled": true
   },
   "outputs": [],
   "source": [
    "x = np.arange(3)\n",
    "X, Y = np.meshgrid(x, x)\n",
    "display(X)\n",
    "display(Y)\n"
   ]
  },
  {
   "cell_type": "markdown",
   "metadata": {},
   "source": [
    "Ojo con el tamaño de los arreglos, un arreglo unidimensional puede ser:\n",
    "- Vector adimensional\n",
    "- Vector columna\n",
    "- Vector fila"
   ]
  },
  {
   "cell_type": "code",
   "execution_count": null,
   "metadata": {},
   "outputs": [],
   "source": [
    "A = np.array([0,1,2,3,4]) # Vector adimensional\n",
    "display(A.shape)\n",
    "A = np.array([[0],[1],[2],[3],[4]]) # Vector columna\n",
    "display(A.shape)\n",
    "A = np.array([[0,1,2,3,4]]) # Vector fila\n",
    "display(A.shape)"
   ]
  },
  {
   "cell_type": "markdown",
   "metadata": {},
   "source": [
    "Se puede agregar una dimensión a un arreglo usando **newaxis**.    \n",
    "Podemos usarlo para convertir un vector adimensional en fila o columna."
   ]
  },
  {
   "cell_type": "code",
   "execution_count": null,
   "metadata": {
    "scrolled": true
   },
   "outputs": [],
   "source": [
    "A = np.array([0,1,2,3,4])\n",
    "display(A.shape)\n",
    "display(A[:, np.newaxis].shape)\n",
    "display(A[np.newaxis, : ].shape)"
   ]
  },
  {
   "cell_type": "markdown",
   "metadata": {},
   "source": [
    "#### Manipulación de matrices y vectores\n",
    "Operaciones para modificar la forma de un arreglo: **reshape**, **tile**, **repeat**."
   ]
  },
  {
   "cell_type": "code",
   "execution_count": null,
   "metadata": {},
   "outputs": [],
   "source": []
  },
  {
   "cell_type": "markdown",
   "metadata": {},
   "source": [
    "## 6. Inteligencia Artificial "
   ]
  },
  {
   "cell_type": "code",
   "execution_count": null,
   "metadata": {},
   "outputs": [],
   "source": []
  },
  {
   "cell_type": "markdown",
   "metadata": {},
   "source": [
    "libraries like: scipy, matplotlib, numpy, pandas, django?? then ML->DL\n"
   ]
  }
 ],
 "metadata": {
  "kernelspec": {
   "display_name": "Python 3",
   "language": "python",
   "name": "python3"
  },
  "language_info": {
   "codemirror_mode": {
    "name": "ipython",
    "version": 3
   },
   "file_extension": ".py",
   "mimetype": "text/x-python",
   "name": "python",
   "nbconvert_exporter": "python",
   "pygments_lexer": "ipython3",
   "version": "3.8.5"
  }
 },
 "nbformat": 4,
 "nbformat_minor": 4
}
