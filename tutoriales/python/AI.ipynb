{
 "cells": [
  {
   "cell_type": "markdown",
   "metadata": {},
   "source": [
    "# Deep Learning"
   ]
  },
  {
   "cell_type": "markdown",
   "metadata": {},
   "source": [
    "Basado en [deeplearningbook.org](https://www.deeplearningbook.org).\n",
    "\n",
    "## Tabla de contenidos\n",
    "1. Introducción\n",
    "2. Álgebra lineal\n",
    "3. Probabilidad y teoría de la información\n",
    "4. Computación numérica\n",
    "5. Machine learning \n",
    "6. Redes de feedforward profundas\n",
    "7. Regularización para el aprendizaje profundo\n",
    "8. Optimización para entrenar modelos profundos\n",
    "9. Redes convolucionales \n",
    "10. Modelamiento secuencial: Redes recurrentes y recursivas\n",
    "11. Metodología práctica\n",
    "12. Aplicaciones \n",
    "13. Modelos de factor lineal\n",
    "14. Autoencoders\n",
    "15. Aprendizaje de representación\n",
    "16. and more..."
   ]
  },
  {
   "cell_type": "markdown",
   "metadata": {},
   "source": [
    "# 1. Introducción\n",
    "\n",
    "La inteligencia artificial (AI) es un campo próspero con muchas aplicaciones prácticas y temas de investigación activos. Se busca un software inteligente para automatizar el trabajo de rutina, comprender el habla o las imágenes, hacer diagnósticos en medicina y apoyar la investigación científica básica.\n",
    "\n",
    "El verdadero desafío para la inteligencia artificial es resolver las tareas que son fáciles de resolver, pero difíciles de describir formalmente, problemas que resolvemos intuitivamente, o de forma automática, como reconocer ciertas palabras habladas, caras o imágenes. En un principio, estos problemas se intentaron resolver al a"
   ]
  }
 ],
 "metadata": {
  "kernelspec": {
   "display_name": "Python 3",
   "language": "python",
   "name": "python3"
  },
  "language_info": {
   "codemirror_mode": {
    "name": "ipython",
    "version": 3
   },
   "file_extension": ".py",
   "mimetype": "text/x-python",
   "name": "python",
   "nbconvert_exporter": "python",
   "pygments_lexer": "ipython3",
   "version": "3.8.5"
  }
 },
 "nbformat": 4,
 "nbformat_minor": 4
}
